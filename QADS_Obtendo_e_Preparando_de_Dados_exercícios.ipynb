{
  "nbformat": 4,
  "nbformat_minor": 0,
  "metadata": {
    "kernelspec": {
      "name": "python3",
      "display_name": "Python 3"
    },
    "language_info": {
      "name": "python",
      "version": "3.6.6",
      "mimetype": "text/x-python",
      "codemirror_mode": {
        "name": "ipython",
        "version": 3
      },
      "pygments_lexer": "ipython3",
      "nbconvert_exporter": "python",
      "file_extension": ".py"
    },
    "colab": {
      "name": "QADS Obtendo e Preparando de Dados - exercícios.ipynb",
      "provenance": []
    }
  },
  "cells": [
    {
      "cell_type": "markdown",
      "metadata": {
        "azdata_cell_guid": "f1681fb2-a9a5-4082-8ec0-323114bdfb17",
        "id": "cikvwonftNot"
      },
      "source": [
        "![](https://www.qads.com.br/img/QADS.png)\n",
        "\n",
        "#  Exercícios do módulo de Obtenção e Preparação de Dados\n",
        "\n",
        "Remis Balaniuk, PhD"
      ]
    },
    {
      "cell_type": "markdown",
      "metadata": {
        "azdata_cell_guid": "aedefbba-8a02-4bdb-af5f-e4179b490167",
        "id": "1aEGijL6sF0Z"
      },
      "source": [
        "# Flat files\n",
        "\n",
        "Obtenha os dados abertos das [viagens realizadas a serviço no Portal daTransparência](!http://www.portaltransparencia.gov.br/download-de-dados/viagens), processe as colunas normalizando atributos textuais e convertendo os demais para os tipos corretos e ao final salve o(s) dataframe(s) em disco usando o Pickle."
      ]
    },
    {
      "cell_type": "markdown",
      "metadata": {
        "id": "-52_0KZl3AXB"
      },
      "source": [
        "Download do csv do portal da transparência"
      ]
    },
    {
      "cell_type": "code",
      "metadata": {
        "colab": {
          "base_uri": "https://localhost:8080/"
        },
        "id": "VyWSefxvio6m",
        "outputId": "c7d8eaac-bba4-4c77-bdf4-3b9326b35ec0"
      },
      "source": [
        "import requests \n",
        "import zipfile\n",
        "import os\n",
        "\n",
        "from google.colab import drive\n",
        "\n",
        "def download_url(url, save_path, chunk_size=128):\n",
        "    r = requests.get(url, stream=True)\n",
        "    with open(save_path, 'wb') as fd:\n",
        "        for chunk in r.iter_content(chunk_size=chunk_size):\n",
        "            fd.write(chunk)\n",
        "\n",
        "drive.mount('/content/drive')\n",
        "\n",
        "%cd /content/drive/MyDrive/'Academia QADS'/'Obtendo e Preparando dados'/\n",
        "\n",
        "\n",
        "if not os.path.exists(\"transparencia.zip\"):\n",
        "  download_url(\"http://www.portaltransparencia.gov.br/download-de-dados/viagens/2021\", 'transparencia.zip' )\n",
        "\n",
        "  with zipfile.ZipFile(\"transparencia.zip\", 'r') as zip_ref:\n",
        "      zip_ref.extract(\"2021_Viagem.csv\")"
      ],
      "execution_count": 1,
      "outputs": [
        {
          "output_type": "stream",
          "text": [
            "Drive already mounted at /content/drive; to attempt to forcibly remount, call drive.mount(\"/content/drive\", force_remount=True).\n",
            "/content/drive/MyDrive/Academia QADS/Obtendo e Preparando dados\n"
          ],
          "name": "stdout"
        }
      ]
    },
    {
      "cell_type": "markdown",
      "metadata": {
        "id": "7SzOMRTb3Fqq"
      },
      "source": [
        "Leitura do arquivo de viagens e tratamento do nome das colunas"
      ]
    },
    {
      "cell_type": "code",
      "metadata": {
        "id": "8fPg_lKOlGox"
      },
      "source": [
        "import pandas as pd\n",
        "import unicodedata\n",
        "import re\n",
        "from typing import List\n",
        "\n",
        "df = pd.read_csv(\"2021_Viagem.csv\", sep=\";\", encoding=\"ISO8859-1\")\n",
        "\n",
        "def convert_to_snake_case_variable(input : List[str] ) -> List[str]:\n",
        "  output = []\n",
        "  for item in input: \n",
        "    item = re.sub(r'[\\(\\)\\-]', \"\", item)\n",
        "    item = re.sub(r'\\s+', \"_\", item)\n",
        "    item = unicodedata.normalize(\"NFKD\", item.lower()).encode('ascii', errors='ignore').decode('utf-8')\n",
        "    output.append(item)\n",
        "  return output\n",
        "\n",
        "df.columns = pd.Index(convert_to_snake_case_variable(df.columns.to_list()))"
      ],
      "execution_count": 2,
      "outputs": []
    },
    {
      "cell_type": "markdown",
      "metadata": {
        "id": "obvVJXql3JAT"
      },
      "source": [
        "Exemplo dos dados a partir do topo do dataframe"
      ]
    },
    {
      "cell_type": "code",
      "metadata": {
        "colab": {
          "base_uri": "https://localhost:8080/",
          "height": 165
        },
        "id": "lewLbGYfs3Gl",
        "outputId": "5bd81588-cde5-4e7b-e2ae-4738df19ee6d"
      },
      "source": [
        "df.head(1)"
      ],
      "execution_count": 3,
      "outputs": [
        {
          "output_type": "execute_result",
          "data": {
            "text/html": [
              "<div>\n",
              "<style scoped>\n",
              "    .dataframe tbody tr th:only-of-type {\n",
              "        vertical-align: middle;\n",
              "    }\n",
              "\n",
              "    .dataframe tbody tr th {\n",
              "        vertical-align: top;\n",
              "    }\n",
              "\n",
              "    .dataframe thead th {\n",
              "        text-align: right;\n",
              "    }\n",
              "</style>\n",
              "<table border=\"1\" class=\"dataframe\">\n",
              "  <thead>\n",
              "    <tr style=\"text-align: right;\">\n",
              "      <th></th>\n",
              "      <th>identificador_do_processo_de_viagem</th>\n",
              "      <th>numero_da_proposta_pcdp</th>\n",
              "      <th>situacao</th>\n",
              "      <th>viagem_urgente</th>\n",
              "      <th>justificativa_urgencia_viagem</th>\n",
              "      <th>codigo_do_orgao_superior</th>\n",
              "      <th>nome_do_orgao_superior</th>\n",
              "      <th>codigo_orgao_solicitante</th>\n",
              "      <th>nome_orgao_solicitante</th>\n",
              "      <th>cpf_viajante</th>\n",
              "      <th>nome</th>\n",
              "      <th>cargo</th>\n",
              "      <th>funcao</th>\n",
              "      <th>descricao_funcao</th>\n",
              "      <th>periodo_data_de_inicio</th>\n",
              "      <th>periodo_data_de_fim</th>\n",
              "      <th>destinos</th>\n",
              "      <th>motivo</th>\n",
              "      <th>valor_diarias</th>\n",
              "      <th>valor_passagens</th>\n",
              "      <th>valor_outros_gastos</th>\n",
              "    </tr>\n",
              "  </thead>\n",
              "  <tbody>\n",
              "    <tr>\n",
              "      <th>0</th>\n",
              "      <td>16829271</td>\n",
              "      <td>000163/21</td>\n",
              "      <td>Realizada</td>\n",
              "      <td>SIM</td>\n",
              "      <td>A viagem estva programada para ser realizda em...</td>\n",
              "      <td>36000</td>\n",
              "      <td>Ministério da Saúde</td>\n",
              "      <td>36211</td>\n",
              "      <td>Fundação Nacional de Saúde</td>\n",
              "      <td>***.980.641-**</td>\n",
              "      <td>VILIDIANA MORAES MOURA</td>\n",
              "      <td>ENGENHEIRO</td>\n",
              "      <td>FCT-03</td>\n",
              "      <td>Função Comissionada Técnica</td>\n",
              "      <td>03/02/2021</td>\n",
              "      <td>04/02/2021</td>\n",
              "      <td>Nova Brasilândia/MT</td>\n",
              "      <td>Visita técnica no municipio de Nova Brasilãndi...</td>\n",
              "      <td>223,86</td>\n",
              "      <td>0,00</td>\n",
              "      <td>0,00</td>\n",
              "    </tr>\n",
              "  </tbody>\n",
              "</table>\n",
              "</div>"
            ],
            "text/plain": [
              "   identificador_do_processo_de_viagem  ... valor_outros_gastos\n",
              "0                             16829271  ...                0,00\n",
              "\n",
              "[1 rows x 21 columns]"
            ]
          },
          "metadata": {
            "tags": []
          },
          "execution_count": 3
        }
      ]
    },
    {
      "cell_type": "markdown",
      "metadata": {
        "id": "PGUEdRM83PgK"
      },
      "source": [
        "Tipos de dados do dataframe"
      ]
    },
    {
      "cell_type": "code",
      "metadata": {
        "colab": {
          "base_uri": "https://localhost:8080/"
        },
        "id": "MFopwJnT060V",
        "outputId": "3d9f2882-d47a-4794-a1cd-b0e8ec82a676"
      },
      "source": [
        "df.dtypes"
      ],
      "execution_count": 4,
      "outputs": [
        {
          "output_type": "execute_result",
          "data": {
            "text/plain": [
              "identificador_do_processo_de_viagem     int64\n",
              "numero_da_proposta_pcdp                object\n",
              "situacao                               object\n",
              "viagem_urgente                         object\n",
              "justificativa_urgencia_viagem          object\n",
              "codigo_do_orgao_superior                int64\n",
              "nome_do_orgao_superior                 object\n",
              "codigo_orgao_solicitante                int64\n",
              "nome_orgao_solicitante                 object\n",
              "cpf_viajante                           object\n",
              "nome                                   object\n",
              "cargo                                  object\n",
              "funcao                                 object\n",
              "descricao_funcao                       object\n",
              "periodo_data_de_inicio                 object\n",
              "periodo_data_de_fim                    object\n",
              "destinos                               object\n",
              "motivo                                 object\n",
              "valor_diarias                          object\n",
              "valor_passagens                        object\n",
              "valor_outros_gastos                    object\n",
              "dtype: object"
            ]
          },
          "metadata": {
            "tags": []
          },
          "execution_count": 4
        }
      ]
    },
    {
      "cell_type": "markdown",
      "metadata": {
        "id": "bxVEz3UY5KGA"
      },
      "source": [
        "Funções para auxiliar na verificação dos tipos de dados"
      ]
    },
    {
      "cell_type": "code",
      "metadata": {
        "id": "BLMSjyZq1Gbf"
      },
      "source": [
        "def category(series):\n",
        "    unique_count = series.nunique(dropna=False)\n",
        "    total_count = len(series)\n",
        "    if pd.api.types.is_numeric_dtype(series):\n",
        "        return 'Numérico'\n",
        "    elif pd.api.types.is_datetime64_dtype(series):\n",
        "        return 'Data'\n",
        "    elif unique_count==total_count:\n",
        "        return 'Texto'\n",
        "    else:\n",
        "        return 'Categórico'\n",
        "\n",
        "def categories(df):\n",
        "    return {c: category(df[c]) for c in df.columns}"
      ],
      "execution_count": 5,
      "outputs": []
    },
    {
      "cell_type": "markdown",
      "metadata": {
        "id": "4NBf9YLQ5SHE"
      },
      "source": [
        "Tipos de dados no momento"
      ]
    },
    {
      "cell_type": "code",
      "metadata": {
        "colab": {
          "base_uri": "https://localhost:8080/"
        },
        "id": "BfXivqxv1HYV",
        "outputId": "6c751e97-dade-4598-deac-c2ae44a25ff9"
      },
      "source": [
        "categories(df)"
      ],
      "execution_count": 6,
      "outputs": [
        {
          "output_type": "execute_result",
          "data": {
            "text/plain": [
              "{'cargo': 'Categórico',\n",
              " 'codigo_do_orgao_superior': 'Numérico',\n",
              " 'codigo_orgao_solicitante': 'Numérico',\n",
              " 'cpf_viajante': 'Categórico',\n",
              " 'descricao_funcao': 'Categórico',\n",
              " 'destinos': 'Categórico',\n",
              " 'funcao': 'Categórico',\n",
              " 'identificador_do_processo_de_viagem': 'Numérico',\n",
              " 'justificativa_urgencia_viagem': 'Categórico',\n",
              " 'motivo': 'Categórico',\n",
              " 'nome': 'Categórico',\n",
              " 'nome_do_orgao_superior': 'Categórico',\n",
              " 'nome_orgao_solicitante': 'Categórico',\n",
              " 'numero_da_proposta_pcdp': 'Categórico',\n",
              " 'periodo_data_de_fim': 'Categórico',\n",
              " 'periodo_data_de_inicio': 'Categórico',\n",
              " 'situacao': 'Categórico',\n",
              " 'valor_diarias': 'Categórico',\n",
              " 'valor_outros_gastos': 'Categórico',\n",
              " 'valor_passagens': 'Categórico',\n",
              " 'viagem_urgente': 'Categórico'}"
            ]
          },
          "metadata": {
            "tags": []
          },
          "execution_count": 6
        }
      ]
    },
    {
      "cell_type": "markdown",
      "metadata": {
        "id": "EXdF8OLXkeTX"
      },
      "source": [
        "Função para normalizar dados textuais"
      ]
    },
    {
      "cell_type": "code",
      "metadata": {
        "id": "dHn3jjXL5fMD"
      },
      "source": [
        "import unicodedata\n",
        "\n",
        "def normalize(string):\n",
        "    return unicodedata.normalize(\"NFKD\", str(string)).encode('ascii', errors='ignore').decode('utf-8')"
      ],
      "execution_count": 7,
      "outputs": []
    },
    {
      "cell_type": "markdown",
      "metadata": {
        "id": "OaK6pDXQkkeb"
      },
      "source": [
        "Análise da coluna Identificador do processo de viagem: dados inteiros já normalizados"
      ]
    },
    {
      "cell_type": "code",
      "metadata": {
        "colab": {
          "base_uri": "https://localhost:8080/"
        },
        "id": "C86aCItG1R6Y",
        "outputId": "1be219ce-06d6-4b91-9691-67b5f639c4b0"
      },
      "source": [
        "df.identificador_do_processo_de_viagem.sample(5)"
      ],
      "execution_count": 8,
      "outputs": [
        {
          "output_type": "execute_result",
          "data": {
            "text/plain": [
              "47324     17335551\n",
              "40824     17326230\n",
              "55485     17346999\n",
              "135354    17468359\n",
              "64672     17359644\n",
              "Name: identificador_do_processo_de_viagem, dtype: int64"
            ]
          },
          "metadata": {
            "tags": []
          },
          "execution_count": 8
        }
      ]
    },
    {
      "cell_type": "markdown",
      "metadata": {
        "id": "6_DVfJ8Uk9Pp"
      },
      "source": [
        "Análise da coluna número da proposta PCDP: dados textuais a serem normalizados "
      ]
    },
    {
      "cell_type": "code",
      "metadata": {
        "colab": {
          "base_uri": "https://localhost:8080/"
        },
        "id": "lyJ_qMAAX1Aw",
        "outputId": "93a39089-c256-4a2a-c476-1a47ff184222"
      },
      "source": [
        "df.numero_da_proposta_pcdp.sample(5)"
      ],
      "execution_count": 9,
      "outputs": [
        {
          "output_type": "execute_result",
          "data": {
            "text/plain": [
              "1088           000113/21\n",
              "5919     Informações pro\n",
              "25912    Informações pro\n",
              "46403    Informações pro\n",
              "78785          001399/21\n",
              "Name: numero_da_proposta_pcdp, dtype: object"
            ]
          },
          "metadata": {
            "tags": []
          },
          "execution_count": 9
        }
      ]
    },
    {
      "cell_type": "code",
      "metadata": {
        "id": "oG9yfUUwX6zd"
      },
      "source": [
        "df.numero_da_proposta_pcdp = df.numero_da_proposta_pcdp.apply(normalize)"
      ],
      "execution_count": 10,
      "outputs": []
    },
    {
      "cell_type": "markdown",
      "metadata": {
        "id": "mekMlX5OlBfD"
      },
      "source": [
        "Análise da coluna situação: dados textuais a serem normalizados"
      ]
    },
    {
      "cell_type": "code",
      "metadata": {
        "colab": {
          "base_uri": "https://localhost:8080/"
        },
        "id": "b3vjTHJ9YFpc",
        "outputId": "94212796-c272-4299-c0c5-b8f036d41cca"
      },
      "source": [
        "df.situacao.sample(5)"
      ],
      "execution_count": 11,
      "outputs": [
        {
          "output_type": "execute_result",
          "data": {
            "text/plain": [
              "67147         Realizada\n",
              "3157          Realizada\n",
              "100657        Realizada\n",
              "46234     Não realizada\n",
              "52675         Realizada\n",
              "Name: situacao, dtype: object"
            ]
          },
          "metadata": {
            "tags": []
          },
          "execution_count": 11
        }
      ]
    },
    {
      "cell_type": "code",
      "metadata": {
        "id": "S5yBGNZ1YK49"
      },
      "source": [
        "df.situacao = df.situacao.apply(normalize)"
      ],
      "execution_count": 12,
      "outputs": []
    },
    {
      "cell_type": "markdown",
      "metadata": {
        "id": "AZPWZf11m1o8"
      },
      "source": [
        "Análise da coluna viagem urgente: dados textuais a serem normalizados"
      ]
    },
    {
      "cell_type": "code",
      "metadata": {
        "colab": {
          "base_uri": "https://localhost:8080/"
        },
        "id": "GELt3KMFYQSa",
        "outputId": "f1462765-531c-4a11-ba2b-38bcbe7e465d"
      },
      "source": [
        "df.viagem_urgente.sample(5)"
      ],
      "execution_count": 13,
      "outputs": [
        {
          "output_type": "execute_result",
          "data": {
            "text/plain": [
              "53352    NÃO\n",
              "37875    SIM\n",
              "61545    NÃO\n",
              "85420    NÃO\n",
              "49932    SIM\n",
              "Name: viagem_urgente, dtype: object"
            ]
          },
          "metadata": {
            "tags": []
          },
          "execution_count": 13
        }
      ]
    },
    {
      "cell_type": "code",
      "metadata": {
        "id": "LbhCowngYbji"
      },
      "source": [
        "df.viagem_urgente = df.viagem_urgente.apply(normalize)"
      ],
      "execution_count": 14,
      "outputs": []
    },
    {
      "cell_type": "markdown",
      "metadata": {
        "id": "mVG-4aazm7Vb"
      },
      "source": [
        "Análise da coluna justificativa de urgência de viagem: dados textuais a serem normalizados"
      ]
    },
    {
      "cell_type": "code",
      "metadata": {
        "colab": {
          "base_uri": "https://localhost:8080/"
        },
        "id": "3l9u5yWZYhsl",
        "outputId": "e73dfb74-81be-4faf-9287-4ccd62be9eb9"
      },
      "source": [
        "df.justificativa_urgencia_viagem.sample(5)"
      ],
      "execution_count": 15,
      "outputs": [
        {
          "output_type": "execute_result",
          "data": {
            "text/plain": [
              "25838     Informação protegida por sigilo nos termos da ...\n",
              "75884     Informação protegida por sigilo nos termos da ...\n",
              "20344     Informação protegida por sigilo nos termos da ...\n",
              "131007                                       Sem informação\n",
              "100465    Informação protegida por sigilo nos termos da ...\n",
              "Name: justificativa_urgencia_viagem, dtype: object"
            ]
          },
          "metadata": {
            "tags": []
          },
          "execution_count": 15
        }
      ]
    },
    {
      "cell_type": "code",
      "metadata": {
        "id": "qMPmPdiwYtun"
      },
      "source": [
        "df.justificativa_urgencia_viagem = df.justificativa_urgencia_viagem.apply(normalize)"
      ],
      "execution_count": 16,
      "outputs": []
    },
    {
      "cell_type": "markdown",
      "metadata": {
        "id": "Lh4Wdoq6nJOl"
      },
      "source": [
        "Análise da coluna código do orgão superior: dados inteiros já normalizados"
      ]
    },
    {
      "cell_type": "code",
      "metadata": {
        "colab": {
          "base_uri": "https://localhost:8080/"
        },
        "id": "Kpb4Yp2jZlQO",
        "outputId": "f1ecdb7d-530e-4d3b-af2c-2ab08ea1322e"
      },
      "source": [
        "df.codigo_do_orgao_superior.sample(5) "
      ],
      "execution_count": 17,
      "outputs": [
        {
          "output_type": "execute_result",
          "data": {
            "text/plain": [
              "28466     30000\n",
              "146899    20000\n",
              "2150      52000\n",
              "142954    39000\n",
              "65798     26000\n",
              "Name: codigo_do_orgao_superior, dtype: int64"
            ]
          },
          "metadata": {
            "tags": []
          },
          "execution_count": 17
        }
      ]
    },
    {
      "cell_type": "markdown",
      "metadata": {
        "id": "i_zmESOPnapL"
      },
      "source": [
        "Análise da coluna nome do orgão superior: dados textuais a serem normalizados"
      ]
    },
    {
      "cell_type": "code",
      "metadata": {
        "colab": {
          "base_uri": "https://localhost:8080/"
        },
        "id": "KPpGoJQ9Zpgs",
        "outputId": "8218b6c4-03e3-4092-ef25-e1aae08cdc63"
      },
      "source": [
        "df.nome_do_orgao_superior.sample(5)"
      ],
      "execution_count": 18,
      "outputs": [
        {
          "output_type": "execute_result",
          "data": {
            "text/plain": [
              "110999    Ministério da Agricultura, Pecuária e Abasteci...\n",
              "72869                                  Ministério da Defesa\n",
              "40840             Ministério da Justiça e Segurança Pública\n",
              "116961                               Ministério da Educação\n",
              "21851                                   Ministério da Saúde\n",
              "Name: nome_do_orgao_superior, dtype: object"
            ]
          },
          "metadata": {
            "tags": []
          },
          "execution_count": 18
        }
      ]
    },
    {
      "cell_type": "code",
      "metadata": {
        "id": "jyNyPTrAZ_l3"
      },
      "source": [
        "df.nome_do_orgao_superior = df.nome_do_orgao_superior.apply(normalize)"
      ],
      "execution_count": 19,
      "outputs": []
    },
    {
      "cell_type": "markdown",
      "metadata": {
        "id": "jT4_3q2wn_NV"
      },
      "source": [
        "Análise da coluna código do orgão solicitante: dados inteiros já normalizados"
      ]
    },
    {
      "cell_type": "code",
      "metadata": {
        "colab": {
          "base_uri": "https://localhost:8080/"
        },
        "id": "ImCvlshuaLYm",
        "outputId": "003471aa-670a-4cd1-b838-0bb83484617d"
      },
      "source": [
        "df.codigo_orgao_solicitante.sample(5)"
      ],
      "execution_count": 20,
      "outputs": [
        {
          "output_type": "execute_result",
          "data": {
            "text/plain": [
              "19150     52121\n",
              "79812     20000\n",
              "58512        -1\n",
              "104425    39000\n",
              "41911     20000\n",
              "Name: codigo_orgao_solicitante, dtype: int64"
            ]
          },
          "metadata": {
            "tags": []
          },
          "execution_count": 20
        }
      ]
    },
    {
      "cell_type": "markdown",
      "metadata": {
        "id": "c0U57Re8oR-k"
      },
      "source": [
        "Análise da coluna nome do orgão solicitante: dados textuais a serem normalizados"
      ]
    },
    {
      "cell_type": "code",
      "metadata": {
        "colab": {
          "base_uri": "https://localhost:8080/"
        },
        "id": "qI2ftryFafSG",
        "outputId": "3d8008f5-0aa0-4cb2-d1e5-d84047c311d1"
      },
      "source": [
        "df.nome_orgao_solicitante.sample(5)"
      ],
      "execution_count": 21,
      "outputs": [
        {
          "output_type": "execute_result",
          "data": {
            "text/plain": [
              "46816                     Comando do Exército\n",
              "135521        Departamento de Polícia Federal\n",
              "133548                    Comando do Exército\n",
              "138577                         Sem informação\n",
              "99998     Companhia Nacional de Abastecimento\n",
              "Name: nome_orgao_solicitante, dtype: object"
            ]
          },
          "metadata": {
            "tags": []
          },
          "execution_count": 21
        }
      ]
    },
    {
      "cell_type": "code",
      "metadata": {
        "id": "NKjJNSMtaoFl"
      },
      "source": [
        "df.nome_orgao_solicitante = df.nome_orgao_solicitante.apply(normalize)"
      ],
      "execution_count": 22,
      "outputs": []
    },
    {
      "cell_type": "markdown",
      "metadata": {
        "id": "ISZQWGEpoe6F"
      },
      "source": [
        "Análise da coluna CPF do viajante: dados textuais a serem normalizados"
      ]
    },
    {
      "cell_type": "code",
      "metadata": {
        "colab": {
          "base_uri": "https://localhost:8080/"
        },
        "id": "Ks4X0rcXa4Bd",
        "outputId": "0ff94bd9-252f-42ec-8802-dd49ee0f8002"
      },
      "source": [
        "df.cpf_viajante.sample(5)"
      ],
      "execution_count": 23,
      "outputs": [
        {
          "output_type": "execute_result",
          "data": {
            "text/plain": [
              "133785       ID005500312\n",
              "89898        ID002500217\n",
              "1626      ***.702.064-**\n",
              "125323       ID005800236\n",
              "90382     ***.589.299-**\n",
              "Name: cpf_viajante, dtype: object"
            ]
          },
          "metadata": {
            "tags": []
          },
          "execution_count": 23
        }
      ]
    },
    {
      "cell_type": "code",
      "metadata": {
        "id": "1OKNwsoebI6T"
      },
      "source": [
        "df.cpf_viajante = df.cpf_viajante.apply(normalize)"
      ],
      "execution_count": 24,
      "outputs": []
    },
    {
      "cell_type": "markdown",
      "metadata": {
        "id": "NnVxo37Hopqf"
      },
      "source": [
        "Análise da coluna nome: dados textuais a serem normalizados"
      ]
    },
    {
      "cell_type": "code",
      "metadata": {
        "colab": {
          "base_uri": "https://localhost:8080/"
        },
        "id": "XHDMVqvZbPuI",
        "outputId": "4882f3d2-9226-4f4a-8720-8f4e9012e350"
      },
      "source": [
        "df.nome.sample(5)"
      ],
      "execution_count": 25,
      "outputs": [
        {
          "output_type": "execute_result",
          "data": {
            "text/plain": [
              "68899                      WALLEX SANTOS DE LIMA\n",
              "58931     CARLOS ADRIANO FERREIRA BENTES RIBEIRO\n",
              "51012                        CARLA MIOTO NICIANI\n",
              "147293              JESSICA HELLEN CARDOSO LOPES\n",
              "79978                  CASSIANO PEDRO DOS SANTOS\n",
              "Name: nome, dtype: object"
            ]
          },
          "metadata": {
            "tags": []
          },
          "execution_count": 25
        }
      ]
    },
    {
      "cell_type": "code",
      "metadata": {
        "id": "83dgiI9UbZ0H"
      },
      "source": [
        "df.nome = df.nome.apply(normalize)"
      ],
      "execution_count": 26,
      "outputs": []
    },
    {
      "cell_type": "markdown",
      "metadata": {
        "id": "6Gs9bcptqwUW"
      },
      "source": [
        "Análise da coluna cargo: dados textuais a serem normalizados"
      ]
    },
    {
      "cell_type": "code",
      "metadata": {
        "colab": {
          "base_uri": "https://localhost:8080/"
        },
        "id": "OQjMfpOObfjE",
        "outputId": "9245b27c-99e4-45a5-957c-03e5b1302813"
      },
      "source": [
        "df.cargo.sample(5)"
      ],
      "execution_count": 27,
      "outputs": [
        {
          "output_type": "execute_result",
          "data": {
            "text/plain": [
              "130370    Informações protegidas por sigilo\n",
              "26386                                   NaN\n",
              "82950                AUXILIAR DE SANEAMENTO\n",
              "107528             TECNICO EM ELETROTECNICA\n",
              "50845     Informações protegidas por sigilo\n",
              "Name: cargo, dtype: object"
            ]
          },
          "metadata": {
            "tags": []
          },
          "execution_count": 27
        }
      ]
    },
    {
      "cell_type": "code",
      "metadata": {
        "id": "DinSPwX9bq02"
      },
      "source": [
        "df.cargo = df.cargo.apply(normalize)"
      ],
      "execution_count": 28,
      "outputs": []
    },
    {
      "cell_type": "markdown",
      "metadata": {
        "id": "Hjt1u0sFq3u6"
      },
      "source": [
        "Análise da coluna função: dados textuais a serem normalizados"
      ]
    },
    {
      "cell_type": "code",
      "metadata": {
        "colab": {
          "base_uri": "https://localhost:8080/"
        },
        "id": "y7V15QU9buOY",
        "outputId": "27227628-e59f-41a6-a599-5aa4238bc466"
      },
      "source": [
        "df.funcao.sample(5)"
      ],
      "execution_count": 29,
      "outputs": [
        {
          "output_type": "execute_result",
          "data": {
            "text/plain": [
              "131308            -1\n",
              "87111             -1\n",
              "113139       CD-0001\n",
              "144968      DAS-1021\n",
              "147029    OfSuperior\n",
              "Name: funcao, dtype: object"
            ]
          },
          "metadata": {
            "tags": []
          },
          "execution_count": 29
        }
      ]
    },
    {
      "cell_type": "code",
      "metadata": {
        "id": "C5nsjMOkb6CI"
      },
      "source": [
        "df.funcao = df.funcao.apply(normalize)"
      ],
      "execution_count": 30,
      "outputs": []
    },
    {
      "cell_type": "markdown",
      "metadata": {
        "id": "yHZnY_lmq71d"
      },
      "source": [
        "Análise da coluna descrição da função: dados textuais a serem normalizados"
      ]
    },
    {
      "cell_type": "code",
      "metadata": {
        "colab": {
          "base_uri": "https://localhost:8080/"
        },
        "id": "tmkrY-RFb_yp",
        "outputId": "b06eb4d6-a5a4-43e0-d500-52f6febfdddc"
      },
      "source": [
        "df.descricao_funcao.sample(5)"
      ],
      "execution_count": 31,
      "outputs": [
        {
          "output_type": "execute_result",
          "data": {
            "text/plain": [
              "131045    Informações protegidas por sigilo\n",
              "68130                            Suboficial\n",
              "47720                         Não Informado\n",
              "130882    Informações protegidas por sigilo\n",
              "133469        Cargo Comissionado de Direção\n",
              "Name: descricao_funcao, dtype: object"
            ]
          },
          "metadata": {
            "tags": []
          },
          "execution_count": 31
        }
      ]
    },
    {
      "cell_type": "code",
      "metadata": {
        "id": "4nsMV8EEcdSz"
      },
      "source": [
        "df.descricao_funcao = df.descricao_funcao.apply(normalize)"
      ],
      "execution_count": 32,
      "outputs": []
    },
    {
      "cell_type": "markdown",
      "metadata": {
        "id": "qvzvKdT7rB8F"
      },
      "source": [
        "Análise da coluna período da data de inicio: dados que precisam ser convertidos para formato data"
      ]
    },
    {
      "cell_type": "code",
      "metadata": {
        "colab": {
          "base_uri": "https://localhost:8080/"
        },
        "id": "zDuHdl5tciyK",
        "outputId": "9dbba920-49e2-4ddd-a380-62d4ba25105b"
      },
      "source": [
        "df.periodo_data_de_inicio.head(5)"
      ],
      "execution_count": 33,
      "outputs": [
        {
          "output_type": "execute_result",
          "data": {
            "text/plain": [
              "0    03/02/2021\n",
              "1    11/05/2021\n",
              "2    23/02/2021\n",
              "3    24/04/2021\n",
              "4    04/01/2021\n",
              "Name: periodo_data_de_inicio, dtype: object"
            ]
          },
          "metadata": {
            "tags": []
          },
          "execution_count": 33
        }
      ]
    },
    {
      "cell_type": "code",
      "metadata": {
        "id": "WQ2bpiA9c8WK"
      },
      "source": [
        "df.periodo_data_de_inicio = pd.to_datetime(df.periodo_data_de_inicio, format=\"%d/%m/%Y\")"
      ],
      "execution_count": 34,
      "outputs": []
    },
    {
      "cell_type": "markdown",
      "metadata": {
        "id": "oyp-GUDVrQlC"
      },
      "source": [
        "Análise da coluna período da data de fim: dados que precisam ser convertidos para data "
      ]
    },
    {
      "cell_type": "code",
      "metadata": {
        "colab": {
          "base_uri": "https://localhost:8080/"
        },
        "id": "kTosZvGadyiV",
        "outputId": "cafc2d28-4a9c-42c6-d811-4459697ff84d"
      },
      "source": [
        "df.periodo_data_de_fim.head(5)"
      ],
      "execution_count": 35,
      "outputs": [
        {
          "output_type": "execute_result",
          "data": {
            "text/plain": [
              "0    04/02/2021\n",
              "1    16/05/2021\n",
              "2    23/02/2021\n",
              "3    28/04/2021\n",
              "4    04/01/2021\n",
              "Name: periodo_data_de_fim, dtype: object"
            ]
          },
          "metadata": {
            "tags": []
          },
          "execution_count": 35
        }
      ]
    },
    {
      "cell_type": "code",
      "metadata": {
        "id": "6aCPyVIZd-AR"
      },
      "source": [
        "df.periodo_data_de_fim = pd.to_datetime(df.periodo_data_de_fim, format=\"%d/%m/%Y\")"
      ],
      "execution_count": 36,
      "outputs": []
    },
    {
      "cell_type": "markdown",
      "metadata": {
        "id": "jas98miwrgnU"
      },
      "source": [
        "Análise da coluna destino: dados textuais a serem normalizados"
      ]
    },
    {
      "cell_type": "code",
      "metadata": {
        "colab": {
          "base_uri": "https://localhost:8080/"
        },
        "id": "8Q9_WAwNeIi3",
        "outputId": "f80dbe49-b763-40e0-d230-420d9e23057f"
      },
      "source": [
        "df.destinos.sample(5)"
      ],
      "execution_count": 37,
      "outputs": [
        {
          "output_type": "execute_result",
          "data": {
            "text/plain": [
              "138797               Queluz/SP, Miracatu/SP\n",
              "34124                      Florianópolis/SC\n",
              "88004                            Caracol/MS\n",
              "65981                             Itajaí/SC\n",
              "98381     Informações protegidas por sigilo\n",
              "Name: destinos, dtype: object"
            ]
          },
          "metadata": {
            "tags": []
          },
          "execution_count": 37
        }
      ]
    },
    {
      "cell_type": "code",
      "metadata": {
        "id": "2YAo706_eXoo"
      },
      "source": [
        "df.destinos = df.destinos.apply(normalize)"
      ],
      "execution_count": 38,
      "outputs": []
    },
    {
      "cell_type": "markdown",
      "metadata": {
        "id": "QjnBhP_7rmJ-"
      },
      "source": [
        "Análise da coluna motivo: dados textuais a serem normalizados"
      ]
    },
    {
      "cell_type": "code",
      "metadata": {
        "colab": {
          "base_uri": "https://localhost:8080/"
        },
        "id": "SYAkvs6HerEG",
        "outputId": "d33c28ce-dc62-43ca-f4a5-3d69420f75b2"
      },
      "source": [
        "df.motivo.sample(5)"
      ],
      "execution_count": 39,
      "outputs": [
        {
          "output_type": "execute_result",
          "data": {
            "text/plain": [
              "40144     Participação em reunião do NUREP (Núcleo Regio...\n",
              "124684    OS n. 2165/GUARNAE-CT/2021 - PARTICIPAR COMO P...\n",
              "1410      Informação protegida por sigilo nos termos da ...\n",
              "137711    Participar de Visita ao entreposto de Contagem...\n",
              "59462     Informação protegida por sigilo nos termos da ...\n",
              "Name: motivo, dtype: object"
            ]
          },
          "metadata": {
            "tags": []
          },
          "execution_count": 39
        }
      ]
    },
    {
      "cell_type": "code",
      "metadata": {
        "id": "REL6lkLmeuoE"
      },
      "source": [
        "df.motivo = df.motivo.apply(normalize)"
      ],
      "execution_count": 40,
      "outputs": []
    },
    {
      "cell_type": "markdown",
      "metadata": {
        "id": "yPAo8H7EsnPD"
      },
      "source": [
        "Análise da coluna valor diárias: dados que precisam ser convertidos para float"
      ]
    },
    {
      "cell_type": "code",
      "metadata": {
        "colab": {
          "base_uri": "https://localhost:8080/"
        },
        "id": "EhQvar5Be1fS",
        "outputId": "ccde467f-b6d4-44ad-8c95-369a785874b5"
      },
      "source": [
        "df.valor_diarias.head(5)"
      ],
      "execution_count": 41,
      "outputs": [
        {
          "output_type": "execute_result",
          "data": {
            "text/plain": [
              "0    223,86\n",
              "1      0,00\n",
              "2      0,00\n",
              "3      0,00\n",
              "4      0,00\n",
              "Name: valor_diarias, dtype: object"
            ]
          },
          "metadata": {
            "tags": []
          },
          "execution_count": 41
        }
      ]
    },
    {
      "cell_type": "code",
      "metadata": {
        "id": "ungxnCH0e-R5"
      },
      "source": [
        "def convert_brazil_string_to_float(x):\n",
        "  return float(x.replace(\",\", \".\"))\n",
        "\n",
        "df.valor_diarias = df.valor_diarias.apply(convert_brazil_string_to_float)"
      ],
      "execution_count": 42,
      "outputs": []
    },
    {
      "cell_type": "markdown",
      "metadata": {
        "id": "ymscrmQDsuwT"
      },
      "source": [
        "Análise da coluna valor de passagens: dados que precisam ser convertidos para float"
      ]
    },
    {
      "cell_type": "code",
      "metadata": {
        "colab": {
          "base_uri": "https://localhost:8080/"
        },
        "id": "Sb-MisMzfh8t",
        "outputId": "7c74f653-1212-4c78-9fdf-9511b3017fac"
      },
      "source": [
        "df.valor_passagens.sample(5)"
      ],
      "execution_count": 43,
      "outputs": [
        {
          "output_type": "execute_result",
          "data": {
            "text/plain": [
              "127719       0,00\n",
              "88529        0,00\n",
              "10938     3995,73\n",
              "136723       0,00\n",
              "1405      1753,10\n",
              "Name: valor_passagens, dtype: object"
            ]
          },
          "metadata": {
            "tags": []
          },
          "execution_count": 43
        }
      ]
    },
    {
      "cell_type": "code",
      "metadata": {
        "id": "0HCY0JDQgCQt"
      },
      "source": [
        "df.valor_passagens = df.valor_passagens.apply(convert_brazil_string_to_float)"
      ],
      "execution_count": 44,
      "outputs": []
    },
    {
      "cell_type": "markdown",
      "metadata": {
        "id": "8r24rstRs2jV"
      },
      "source": [
        "Análise da coluna valor outros gastos: dados que precisam ser convertidos para float"
      ]
    },
    {
      "cell_type": "code",
      "metadata": {
        "colab": {
          "base_uri": "https://localhost:8080/"
        },
        "id": "tr5J-LQVgVGR",
        "outputId": "4df4ec75-0a99-4ac0-828a-e988225692f2"
      },
      "source": [
        "df.valor_outros_gastos.sample(5)"
      ],
      "execution_count": 45,
      "outputs": [
        {
          "output_type": "execute_result",
          "data": {
            "text/plain": [
              "146638    0,00\n",
              "105423    0,00\n",
              "54727     0,00\n",
              "101138    0,00\n",
              "91354     0,00\n",
              "Name: valor_outros_gastos, dtype: object"
            ]
          },
          "metadata": {
            "tags": []
          },
          "execution_count": 45
        }
      ]
    },
    {
      "cell_type": "code",
      "metadata": {
        "id": "yDfnzKkXgZE5"
      },
      "source": [
        "df.valor_outros_gastos = df.valor_outros_gastos.apply(convert_brazil_string_to_float)"
      ],
      "execution_count": 46,
      "outputs": []
    },
    {
      "cell_type": "markdown",
      "metadata": {
        "id": "WDqKMcIjugmc"
      },
      "source": [
        "Categorias após tratamento das colunas"
      ]
    },
    {
      "cell_type": "code",
      "metadata": {
        "colab": {
          "base_uri": "https://localhost:8080/"
        },
        "id": "5XrlZjXptL-O",
        "outputId": "015ba3c1-e658-4e6a-f983-0a7a5c34ecb3"
      },
      "source": [
        "categories(df)"
      ],
      "execution_count": 47,
      "outputs": [
        {
          "output_type": "execute_result",
          "data": {
            "text/plain": [
              "{'cargo': 'Categórico',\n",
              " 'codigo_do_orgao_superior': 'Numérico',\n",
              " 'codigo_orgao_solicitante': 'Numérico',\n",
              " 'cpf_viajante': 'Categórico',\n",
              " 'descricao_funcao': 'Categórico',\n",
              " 'destinos': 'Categórico',\n",
              " 'funcao': 'Categórico',\n",
              " 'identificador_do_processo_de_viagem': 'Numérico',\n",
              " 'justificativa_urgencia_viagem': 'Categórico',\n",
              " 'motivo': 'Categórico',\n",
              " 'nome': 'Categórico',\n",
              " 'nome_do_orgao_superior': 'Categórico',\n",
              " 'nome_orgao_solicitante': 'Categórico',\n",
              " 'numero_da_proposta_pcdp': 'Categórico',\n",
              " 'periodo_data_de_fim': 'Data',\n",
              " 'periodo_data_de_inicio': 'Data',\n",
              " 'situacao': 'Categórico',\n",
              " 'valor_diarias': 'Numérico',\n",
              " 'valor_outros_gastos': 'Numérico',\n",
              " 'valor_passagens': 'Numérico',\n",
              " 'viagem_urgente': 'Categórico'}"
            ]
          },
          "metadata": {
            "tags": []
          },
          "execution_count": 47
        }
      ]
    },
    {
      "cell_type": "code",
      "metadata": {
        "id": "c9bHKi35hgJh"
      },
      "source": [
        "df.to_pickle(\"2021_Viagem_tratado.pkl\")"
      ],
      "execution_count": 48,
      "outputs": []
    },
    {
      "cell_type": "markdown",
      "metadata": {
        "azdata_cell_guid": "c3af58d0-fc30-4f61-95fb-5adcb826746e",
        "id": "W944tXGutNox"
      },
      "source": [
        "# Expressões regulares\n",
        "\n",
        "Escreva as expressões regulares solicitadas. Cada exercício possui um conjunto de testes que deve ser completamente validado pela expressão regular. Cada teste possui registros onde expera-se um *match* da expressão regular, enquanto outros registros não devem apresentar nenhum *match*. Faça o exercício para que todos os registros do teste fiquem com a marca de correto (em verde). Para os exercícios, não utilize expressões regulares com mais de 80 caracteres.\n",
        "\n"
      ]
    },
    {
      "cell_type": "markdown",
      "metadata": {
        "id": "YpuAgDHU3aOU"
      },
      "source": [
        "Para esse exercício você precisará baixar o arquivo zipado \"exerciciosRegex\" disponibilizado na pasta QADS em (https://drive.google.com/drive/folders/1sUeC2VYx93ZXi3tKCJarUTVvq_7C2ECI?usp=sharing), descompactar esse arquivo e copiar todo o conteúdo em uma pasta do seu Google drive (contém um diretório chamado \"exercicios\" e um arquivo chamado re_jupyter.py). Em seguida você deve montar seu Google Drive aqui no Colab e acessar a pasta onde copiou esse conteúdo ."
      ]
    },
    {
      "cell_type": "code",
      "metadata": {
        "colab": {
          "base_uri": "https://localhost:8080/"
        },
        "id": "mg4YE6jT23RA",
        "outputId": "8b88092b-4f5f-49d2-e6e8-e7aafc9fdd7d"
      },
      "source": [
        "from google.colab import drive\n",
        "drive.mount('/content/drive')"
      ],
      "execution_count": 49,
      "outputs": [
        {
          "output_type": "stream",
          "text": [
            "Drive already mounted at /content/drive; to attempt to forcibly remount, call drive.mount(\"/content/drive\", force_remount=True).\n"
          ],
          "name": "stdout"
        }
      ]
    },
    {
      "cell_type": "code",
      "metadata": {
        "colab": {
          "base_uri": "https://localhost:8080/"
        },
        "id": "sELj0UKy3J-M",
        "outputId": "67919689-9d76-40af-a71c-317abe14a280"
      },
      "source": [
        "%cd /content/drive/MyDrive/'Academia QADS'/'Obtendo e Preparando dados'/exerciciosRegex/"
      ],
      "execution_count": 50,
      "outputs": [
        {
          "output_type": "stream",
          "text": [
            "/content/drive/MyDrive/Academia QADS/Obtendo e Preparando dados/exerciciosRegex\n"
          ],
          "name": "stdout"
        }
      ]
    },
    {
      "cell_type": "code",
      "metadata": {
        "colab": {
          "base_uri": "https://localhost:8080/"
        },
        "id": "81creo-n6Sjo",
        "outputId": "d465e3d8-a881-4e73-db9d-a9992f57e66e"
      },
      "source": [
        "%ls"
      ],
      "execution_count": 51,
      "outputs": [
        {
          "output_type": "stream",
          "text": [
            "\u001b[0m\u001b[01;34mexercicios\u001b[0m/  \u001b[01;34m__pycache__\u001b[0m/  re_jupyter.py\n"
          ],
          "name": "stdout"
        }
      ]
    },
    {
      "cell_type": "code",
      "metadata": {
        "azdata_cell_guid": "62a07945-3b1c-49f6-858f-fadea69a1de1",
        "id": "46yzP36ptNoz"
      },
      "source": [
        "import imp\n",
        "import re_jupyter\n",
        "imp.reload(re_jupyter)\n",
        "\n",
        "from re_jupyter import exercicio"
      ],
      "execution_count": 52,
      "outputs": []
    },
    {
      "cell_type": "markdown",
      "metadata": {
        "azdata_cell_guid": "962cae2c-8e07-4d92-8bcd-4e20a6c5f87a",
        "id": "xzhgHcBKtNo0"
      },
      "source": [
        "Uma letra `a` imediatamente seguida por uma ou mais letras `b`"
      ]
    },
    {
      "cell_type": "code",
      "metadata": {
        "scrolled": false,
        "azdata_cell_guid": "80721b75-4967-4676-a9f5-592f65e869d4",
        "id": "P7QVttcRtNo1",
        "colab": {
          "base_uri": "https://localhost:8080/",
          "height": 255
        },
        "outputId": "94de30a9-d2c6-49a1-9b58-2bdefa42fd77"
      },
      "source": [
        "exercicio(1, r'(ab+)')"
      ],
      "execution_count": 53,
      "outputs": [
        {
          "output_type": "display_data",
          "data": {
            "text/html": [
              "<style>.certo {background-image: url('data:image/png;base64,iVBORw0KGgoAAAANSUhEUgAAABAAAAAQCAYAAAAf8/9hAAAABHNCSVQICAgIfAhkiAAAAAlwSFlzAAALEwAACxMBAJqcGAAAAgBJREFUOI2lkz1oU1EUx3/nvpcmNqWlNIoKFkFsXKrSOCkoDi6iVOwgCEWLiyBaTKuLdhP8ACkoig5iqoM4SDGDq2uLxUHFptWhHQTF1gzlNc27ufc6tHk0NMTBs917zu9/vu6F/zSpd7lvcnC/VeqUCF1Y61Aya8WOf8k8+NRQIDOVTYXGjImnjtdN51y+omXg68HRPxsEMlPZlHaVj4i3o1HJ1rk5iSd6Pu+9UwRQVceK1m/+BQMokZ2USq+jM0DPxFDGi/mHG4EnWjM0q/hq2Z461v3hanckEOrycCN4oP0o2S0nub31LLLWtQv1UCTglPRUg5MqHmWqwv0dR6hYw6v59zhc1XUAwAcQZxMALSrBvW39WGe5/vMlZ9oORfBIYYwJNYesjc06NkUCzthFoDNuPFpJsL25g1znJVJ+Wy3sRzNHtF2IWjAr5h3AIgGXC0/4UVog5behbYWb0zkmvFoYwJZ0PhIgKI1WgrJBoNiiuVJ4ynzwi5HpF0z684hXC+ulsl4uh49g3UNK5y/caNqcvCUxDxy4pTIkYxtgFxrC38HwTO+z+zUCOKQrf/5xrD150WtuqrtOE4SY4vLDQu/zQWR1HRs+U3r8XJ943l2VbNolvkIQrDboQH8TY67Nns69XR9f9zfikD3j/budeGlx4sS6mem+3Pdq1vX2FyOryD82RGIbAAAAAElFTkSuQmCC'); background-size: cover; height: 16px; width: 16px}.errado {background-image: url('data:image/png;base64,iVBORw0KGgoAAAANSUhEUgAAABAAAAAQCAYAAAAf8/9hAAAABHNCSVQICAgIfAhkiAAAAAlwSFlzAAALEwAACxMBAJqcGAAAAjNJREFUOI2lk01IVFEYhp9zznUcnUnH/Bk3WhCVFEFZbiwUAxeZlCJFWERBgZsIqRatWhuRi0BtFS1bSGQYlBLISD8EgbWwv0VFxlijThOpd+6ce1o49zrh4KZ3+XHe53u/j+/Af0rkK35ra9ythOgwmG0gDYIPUnC/+uHkm3UBM+3NFZC5KxFt+cCuNiNa67O1T17MrwHMtDdX4DqvpZQ160XOGPPZRdRvGp1cAJA+PeMMe2ZRXrl21mzNEmKzMPqeV5cAXw4f2GtZsgmAso2o60PIjhOr5s5uVN8glEQAKJCq9evRpl0AFkDGsS8HAoUrEecSzN8ZJNrTC1JiDFhdJ4kP3CCSXEDJlamdJfsScMYCcJH1XjdLSkITj/mhLKrOXwBg9nY/G2LjKKVWUxn2+QkMBHPnLVQKK1QMxgAQKQ4hc8wArqTIB2jXnQNqffqR4wSPnSY+1A9AdU8vGcvCjA77gLR2Ez5gydGPIkH2ALilEaxDncQHbxKOjQEQBypPnUPHxpGpXwD8yaRHIHsHYw115TWl4dnSYFC5xvBTKMq0QyAb29aapApQZTRCQMpOO9/TdlXLxFRSArS+ejeXWLSv2VojhSCK65u9nURZMS9rTWJx+WrLxFTST5BdpIjt3zEQDYV7SgIB8imVTpP4vXSr8fnbiwLMPwBPTxt3dhUp1RcuKNjipUhrTWrZ/mijrxx8Nv0g933e32hAxBrqtrpKbTcCI1z3ffPL6U9e11z9Bai+yG1sATfvAAAAAElFTkSuQmCC'); background-size: cover; height: 16px; width: 16px}</style><table><tr><td><div class=\"certo\"/></td><td style=\"text-align:left;\"><b><mark style=\"background-color:#ffff40;padding-left:0px;padding-right:0px\">ab</mark></b>\n",
              "</pre></td></tr>\n",
              "<tr><td><div class=\"certo\"/></td><td style=\"text-align:left;\"><b><mark style=\"background-color:#ffff40;padding-left:0px;padding-right:0px\">abb</mark></b>\n",
              "</pre></td></tr>\n",
              "<tr><td><div class=\"certo\"/></td><td style=\"text-align:left;\"><b><mark style=\"background-color:#ffff40;padding-left:0px;padding-right:0px\">abbbbbbbbb</mark></b>\n",
              "</pre></td></tr>\n",
              "<tr><td><div class=\"certo\"/></td><td style=\"text-align:left;\">cbaa<b><mark style=\"background-color:#ffff40;padding-left:0px;padding-right:0px\">abb</mark></b>\n",
              "</pre></td></tr>\n",
              "<tr><td><div class=\"certo\"/></td><td style=\"text-align:left;\"><b><mark style=\"background-color:#ffff40;padding-left:0px;padding-right:0px\">ab</mark></b>a\n",
              "</pre></td></tr><tr><td><div class=\"certo\"/></td><td style=\"text-align:left;\"><div style=\"color:#808080\">a\n",
              "&#9;(sem ocorrências)</div></td></tr>\n",
              "<tr><td><div class=\"certo\"/></td><td style=\"text-align:left;\"><div style=\"color:#808080\">baa\n",
              "&#9;(sem ocorrências)</div></td></tr>\n",
              "<tr><td><div class=\"certo\"/></td><td style=\"text-align:left;\"><div style=\"color:#808080\">ba\n",
              "&#9;(sem ocorrências)</div></td></tr>\n",
              "<tr><td><div class=\"certo\"/></td><td style=\"text-align:left;\"><div style=\"color:#808080\">cba\n",
              "&#9;(sem ocorrências)</div></td></tr>\n",
              "<tr><td><div class=\"certo\"/></td><td style=\"text-align:left;\"><div style=\"color:#808080\">cbaaa\n",
              "&#9;(sem ocorrências)</div></td></tr>\n",
              "<tr><td><div class=\"certo\"/></td><td style=\"text-align:left;\"><div style=\"color:#808080\">ba\n",
              "&#9;(sem ocorrências)</div></td></tr>\n",
              "<tr><td><div class=\"certo\"/></td><td style=\"text-align:left;\"><div style=\"color:#808080\">baa\n",
              "&#9;(sem ocorrências)</div></td></tr></table>"
            ],
            "text/plain": [
              "<IPython.core.display.HTML object>"
            ]
          },
          "metadata": {
            "tags": []
          }
        }
      ]
    },
    {
      "cell_type": "markdown",
      "metadata": {
        "azdata_cell_guid": "8204861f-77af-4f39-a0e3-570bf2adc45a",
        "id": "AYAOP402tNo3"
      },
      "source": [
        "Uma palavra de 6 letras que inicia com a letra `z`"
      ]
    },
    {
      "cell_type": "code",
      "metadata": {
        "azdata_cell_guid": "a1bff8fb-b4bb-4482-9245-726ef89dad7f",
        "id": "GCvOMKTxtNo4",
        "colab": {
          "base_uri": "https://localhost:8080/",
          "height": 354
        },
        "outputId": "b726ccac-58d8-4605-ee16-4330470d19aa"
      },
      "source": [
        "exercicio(2, r'\\bz\\w{5}\\b')"
      ],
      "execution_count": 54,
      "outputs": [
        {
          "output_type": "display_data",
          "data": {
            "text/html": [
              "<style>.certo {background-image: url('data:image/png;base64,iVBORw0KGgoAAAANSUhEUgAAABAAAAAQCAYAAAAf8/9hAAAABHNCSVQICAgIfAhkiAAAAAlwSFlzAAALEwAACxMBAJqcGAAAAgBJREFUOI2lkz1oU1EUx3/nvpcmNqWlNIoKFkFsXKrSOCkoDi6iVOwgCEWLiyBaTKuLdhP8ACkoig5iqoM4SDGDq2uLxUHFptWhHQTF1gzlNc27ufc6tHk0NMTBs917zu9/vu6F/zSpd7lvcnC/VeqUCF1Y61Aya8WOf8k8+NRQIDOVTYXGjImnjtdN51y+omXg68HRPxsEMlPZlHaVj4i3o1HJ1rk5iSd6Pu+9UwRQVceK1m/+BQMokZ2USq+jM0DPxFDGi/mHG4EnWjM0q/hq2Z461v3hanckEOrycCN4oP0o2S0nub31LLLWtQv1UCTglPRUg5MqHmWqwv0dR6hYw6v59zhc1XUAwAcQZxMALSrBvW39WGe5/vMlZ9oORfBIYYwJNYesjc06NkUCzthFoDNuPFpJsL25g1znJVJ+Wy3sRzNHtF2IWjAr5h3AIgGXC0/4UVog5behbYWb0zkmvFoYwJZ0PhIgKI1WgrJBoNiiuVJ4ynzwi5HpF0z684hXC+ulsl4uh49g3UNK5y/caNqcvCUxDxy4pTIkYxtgFxrC38HwTO+z+zUCOKQrf/5xrD150WtuqrtOE4SY4vLDQu/zQWR1HRs+U3r8XJ943l2VbNolvkIQrDboQH8TY67Nns69XR9f9zfikD3j/budeGlx4sS6mem+3Pdq1vX2FyOryD82RGIbAAAAAElFTkSuQmCC'); background-size: cover; height: 16px; width: 16px}.errado {background-image: url('data:image/png;base64,iVBORw0KGgoAAAANSUhEUgAAABAAAAAQCAYAAAAf8/9hAAAABHNCSVQICAgIfAhkiAAAAAlwSFlzAAALEwAACxMBAJqcGAAAAjNJREFUOI2lk01IVFEYhp9zznUcnUnH/Bk3WhCVFEFZbiwUAxeZlCJFWERBgZsIqRatWhuRi0BtFS1bSGQYlBLISD8EgbWwv0VFxlijThOpd+6ce1o49zrh4KZ3+XHe53u/j+/Af0rkK35ra9ythOgwmG0gDYIPUnC/+uHkm3UBM+3NFZC5KxFt+cCuNiNa67O1T17MrwHMtDdX4DqvpZQ160XOGPPZRdRvGp1cAJA+PeMMe2ZRXrl21mzNEmKzMPqeV5cAXw4f2GtZsgmAso2o60PIjhOr5s5uVN8glEQAKJCq9evRpl0AFkDGsS8HAoUrEecSzN8ZJNrTC1JiDFhdJ4kP3CCSXEDJlamdJfsScMYCcJH1XjdLSkITj/mhLKrOXwBg9nY/G2LjKKVWUxn2+QkMBHPnLVQKK1QMxgAQKQ4hc8wArqTIB2jXnQNqffqR4wSPnSY+1A9AdU8vGcvCjA77gLR2Ez5gydGPIkH2ALilEaxDncQHbxKOjQEQBypPnUPHxpGpXwD8yaRHIHsHYw115TWl4dnSYFC5xvBTKMq0QyAb29aapApQZTRCQMpOO9/TdlXLxFRSArS+ejeXWLSv2VojhSCK65u9nURZMS9rTWJx+WrLxFTST5BdpIjt3zEQDYV7SgIB8imVTpP4vXSr8fnbiwLMPwBPTxt3dhUp1RcuKNjipUhrTWrZ/mijrxx8Nv0g933e32hAxBrqtrpKbTcCI1z3ffPL6U9e11z9Bai+yG1sATfvAAAAAElFTkSuQmCC'); background-size: cover; height: 16px; width: 16px}</style><table><tr><td><div class=\"certo\"/></td><td style=\"text-align:left;\"><b><mark style=\"background-color:#ffff40;padding-left:0px;padding-right:0px\">zangas</mark></b>\n",
              "</pre></td></tr>\n",
              "<tr><td><div class=\"certo\"/></td><td style=\"text-align:left;\"><b><mark style=\"background-color:#ffff40;padding-left:0px;padding-right:0px\">zangas</mark></b>&nbsp;espaço\n",
              "</pre></td></tr>\n",
              "<tr><td><div class=\"certo\"/></td><td style=\"text-align:left;\"><b><mark style=\"background-color:#ffff40;padding-left:0px;padding-right:0px\">zéfiro</mark></b>\n",
              "</pre></td></tr>\n",
              "<tr><td><div class=\"certo\"/></td><td style=\"text-align:left;\">segundo&nbsp;<b><mark style=\"background-color:#ffff40;padding-left:0px;padding-right:0px\">zéfiro</mark></b>&nbsp;\n",
              "</pre></td></tr><tr><td><div class=\"certo\"/></td><td style=\"text-align:left;\"><div style=\"color:#808080\">zelo\n",
              "&#9;(sem ocorrências)</div></td></tr>\n",
              "<tr><td><div class=\"certo\"/></td><td style=\"text-align:left;\"><div style=\"color:#808080\">zelos\n",
              "&#9;(sem ocorrências)</div></td></tr>\n",
              "<tr><td><div class=\"certo\"/></td><td style=\"text-align:left;\"><div style=\"color:#808080\">zangada\n",
              "&#9;(sem ocorrências)</div></td></tr>\n",
              "<tr><td><div class=\"certo\"/></td><td style=\"text-align:left;\"><div style=\"color:#808080\">zangados\n",
              "&#9;(sem ocorrências)</div></td></tr>\n",
              "<tr><td><div class=\"certo\"/></td><td style=\"text-align:left;\"><div style=\"color:#808080\">azul\n",
              "&#9;(sem ocorrências)</div></td></tr>\n",
              "<tr><td><div class=\"certo\"/></td><td style=\"text-align:left;\"><div style=\"color:#808080\">aziago\n",
              "&#9;(sem ocorrências)</div></td></tr>\n",
              "<tr><td><div class=\"certo\"/></td><td style=\"text-align:left;\"><div style=\"color:#808080\">azougue\n",
              "&#9;(sem ocorrências)</div></td></tr>\n",
              "<tr><td><div class=\"certo\"/></td><td style=\"text-align:left;\"><div style=\"color:#808080\">faziam\n",
              "&#9;(sem ocorrências)</div></td></tr>\n",
              "<tr><td><div class=\"certo\"/></td><td style=\"text-align:left;\"><div style=\"color:#808080\">fazendas\n",
              "&#9;(sem ocorrências)</div></td></tr>\n",
              "<tr><td><div class=\"certo\"/></td><td style=\"text-align:left;\"><div style=\"color:#808080\">talvez\n",
              "&#9;(sem ocorrências)</div></td></tr>\n",
              "<tr><td><div class=\"certo\"/></td><td style=\"text-align:left;\"><div style=\"color:#808080\">robustez\n",
              "&#9;(sem ocorrências)</div></td></tr>\n",
              "<tr><td><div class=\"certo\"/></td><td style=\"text-align:left;\"><div style=\"color:#808080\">chafariz\n",
              "&#9;(sem ocorrências)</div></td></tr>\n",
              "<tr><td><div class=\"certo\"/></td><td style=\"text-align:left;\"><div style=\"color:#808080\">luz\n",
              "&#9;(sem ocorrências)</div></td></tr></table>"
            ],
            "text/plain": [
              "<IPython.core.display.HTML object>"
            ]
          },
          "metadata": {
            "tags": []
          }
        }
      ]
    },
    {
      "cell_type": "markdown",
      "metadata": {
        "azdata_cell_guid": "435592a8-1eae-4f5a-bcc7-67e76051778b",
        "id": "QXQhZII9tNo5"
      },
      "source": [
        "Uma palavra com 8 a 10 letras que termine com a letra 'z'"
      ]
    },
    {
      "cell_type": "code",
      "metadata": {
        "scrolled": false,
        "azdata_cell_guid": "efca1822-8e30-4d56-bc9f-f8dabab1ed69",
        "id": "VFHka0zBtNo6",
        "colab": {
          "base_uri": "https://localhost:8080/",
          "height": 314
        },
        "outputId": "3797aa36-9678-4487-f2d0-0bad1d7bba16"
      },
      "source": [
        "exercicio(3, r'\\b\\w{7,9}z\\b')"
      ],
      "execution_count": 55,
      "outputs": [
        {
          "output_type": "display_data",
          "data": {
            "text/html": [
              "<style>.certo {background-image: url('data:image/png;base64,iVBORw0KGgoAAAANSUhEUgAAABAAAAAQCAYAAAAf8/9hAAAABHNCSVQICAgIfAhkiAAAAAlwSFlzAAALEwAACxMBAJqcGAAAAgBJREFUOI2lkz1oU1EUx3/nvpcmNqWlNIoKFkFsXKrSOCkoDi6iVOwgCEWLiyBaTKuLdhP8ACkoig5iqoM4SDGDq2uLxUHFptWhHQTF1gzlNc27ufc6tHk0NMTBs917zu9/vu6F/zSpd7lvcnC/VeqUCF1Y61Aya8WOf8k8+NRQIDOVTYXGjImnjtdN51y+omXg68HRPxsEMlPZlHaVj4i3o1HJ1rk5iSd6Pu+9UwRQVceK1m/+BQMokZ2USq+jM0DPxFDGi/mHG4EnWjM0q/hq2Z461v3hanckEOrycCN4oP0o2S0nub31LLLWtQv1UCTglPRUg5MqHmWqwv0dR6hYw6v59zhc1XUAwAcQZxMALSrBvW39WGe5/vMlZ9oORfBIYYwJNYesjc06NkUCzthFoDNuPFpJsL25g1znJVJ+Wy3sRzNHtF2IWjAr5h3AIgGXC0/4UVog5behbYWb0zkmvFoYwJZ0PhIgKI1WgrJBoNiiuVJ4ynzwi5HpF0z684hXC+ulsl4uh49g3UNK5y/caNqcvCUxDxy4pTIkYxtgFxrC38HwTO+z+zUCOKQrf/5xrD150WtuqrtOE4SY4vLDQu/zQWR1HRs+U3r8XJ943l2VbNolvkIQrDboQH8TY67Nns69XR9f9zfikD3j/budeGlx4sS6mem+3Pdq1vX2FyOryD82RGIbAAAAAElFTkSuQmCC'); background-size: cover; height: 16px; width: 16px}.errado {background-image: url('data:image/png;base64,iVBORw0KGgoAAAANSUhEUgAAABAAAAAQCAYAAAAf8/9hAAAABHNCSVQICAgIfAhkiAAAAAlwSFlzAAALEwAACxMBAJqcGAAAAjNJREFUOI2lk01IVFEYhp9zznUcnUnH/Bk3WhCVFEFZbiwUAxeZlCJFWERBgZsIqRatWhuRi0BtFS1bSGQYlBLISD8EgbWwv0VFxlijThOpd+6ce1o49zrh4KZ3+XHe53u/j+/Af0rkK35ra9ythOgwmG0gDYIPUnC/+uHkm3UBM+3NFZC5KxFt+cCuNiNa67O1T17MrwHMtDdX4DqvpZQ160XOGPPZRdRvGp1cAJA+PeMMe2ZRXrl21mzNEmKzMPqeV5cAXw4f2GtZsgmAso2o60PIjhOr5s5uVN8glEQAKJCq9evRpl0AFkDGsS8HAoUrEecSzN8ZJNrTC1JiDFhdJ4kP3CCSXEDJlamdJfsScMYCcJH1XjdLSkITj/mhLKrOXwBg9nY/G2LjKKVWUxn2+QkMBHPnLVQKK1QMxgAQKQ4hc8wArqTIB2jXnQNqffqR4wSPnSY+1A9AdU8vGcvCjA77gLR2Ez5gydGPIkH2ALilEaxDncQHbxKOjQEQBypPnUPHxpGpXwD8yaRHIHsHYw115TWl4dnSYFC5xvBTKMq0QyAb29aapApQZTRCQMpOO9/TdlXLxFRSArS+ejeXWLSv2VojhSCK65u9nURZMS9rTWJx+WrLxFTST5BdpIjt3zEQDYV7SgIB8imVTpP4vXSr8fnbiwLMPwBPTxt3dhUp1RcuKNjipUhrTWrZ/mijrxx8Nv0g933e32hAxBrqtrpKbTcCI1z3ffPL6U9e11z9Bai+yG1sATfvAAAAAElFTkSuQmCC'); background-size: cover; height: 16px; width: 16px}</style><table><tr><td><div class=\"certo\"/></td><td style=\"text-align:left;\"><b><mark style=\"background-color:#ffff40;padding-left:0px;padding-right:0px\">robustez</mark></b>\n",
              "</pre></td></tr>\n",
              "<tr><td><div class=\"certo\"/></td><td style=\"text-align:left;\">espaço&nbsp;<b><mark style=\"background-color:#ffff40;padding-left:0px;padding-right:0px\">robustez</mark></b>\n",
              "</pre></td></tr>\n",
              "<tr><td><div class=\"certo\"/></td><td style=\"text-align:left;\"><b><mark style=\"background-color:#ffff40;padding-left:0px;padding-right:0px\">chafariz</mark></b>\n",
              "</pre></td></tr>\n",
              "<tr><td><div class=\"certo\"/></td><td style=\"text-align:left;\">antes&nbsp;<b><mark style=\"background-color:#ffff40;padding-left:0px;padding-right:0px\">chafariz</mark></b>&nbsp;depois\n",
              "</pre></td></tr>\n",
              "<tr><td><div class=\"certo\"/></td><td style=\"text-align:left;\"><b><mark style=\"background-color:#ffff40;padding-left:0px;padding-right:0px\">vetustez</mark></b>\n",
              "</pre></td></tr>\n",
              "<tr><td><div class=\"certo\"/></td><td style=\"text-align:left;\"><b><mark style=\"background-color:#ffff40;padding-left:0px;padding-right:0px\">placidez</mark></b>\n",
              "</pre></td></tr>\n",
              "<tr><td><div class=\"certo\"/></td><td style=\"text-align:left;\"><b><mark style=\"background-color:#ffff40;padding-left:0px;padding-right:0px\">insensatez</mark></b>\n",
              "</pre></td></tr>\n",
              "<tr><td><div class=\"certo\"/></td><td style=\"text-align:left;\"><b><mark style=\"background-color:#ffff40;padding-left:0px;padding-right:0px\">gravidez</mark></b>\n",
              "</pre></td></tr>\n",
              "<tr><td><div class=\"certo\"/></td><td style=\"text-align:left;\"><b><mark style=\"background-color:#ffff40;padding-left:0px;padding-right:0px\">invalidez</mark></b>\n",
              "</pre></td></tr><tr><td><div class=\"certo\"/></td><td style=\"text-align:left;\"><div style=\"color:#808080\">luz\n",
              "&#9;(sem ocorrências)</div></td></tr>\n",
              "<tr><td><div class=\"certo\"/></td><td style=\"text-align:left;\"><div style=\"color:#808080\">talvez\n",
              "&#9;(sem ocorrências)</div></td></tr>\n",
              "<tr><td><div class=\"certo\"/></td><td style=\"text-align:left;\"><div style=\"color:#808080\">antestalvezjunto\n",
              "&#9;(sem ocorrências)</div></td></tr>\n",
              "<tr><td><div class=\"certo\"/></td><td style=\"text-align:left;\"><div style=\"color:#808080\">robustezjunto\n",
              "&#9;(sem ocorrências)</div></td></tr>\n",
              "<tr><td><div class=\"certo\"/></td><td style=\"text-align:left;\"><div style=\"color:#808080\">antesrobustez\n",
              "&#9;(sem ocorrências)</div></td></tr>\n",
              "<tr><td><div class=\"certo\"/></td><td style=\"text-align:left;\"><div style=\"color:#808080\">antesrobustezjunto\n",
              "&#9;(sem ocorrências)</div></td></tr></table>"
            ],
            "text/plain": [
              "<IPython.core.display.HTML object>"
            ]
          },
          "metadata": {
            "tags": []
          }
        }
      ]
    },
    {
      "cell_type": "markdown",
      "metadata": {
        "azdata_cell_guid": "e7491b58-ce32-4ab6-8d3b-efd997b64d16",
        "id": "WCwhJqb5tNo8"
      },
      "source": [
        "3 dígitos consecutivos"
      ]
    },
    {
      "cell_type": "code",
      "metadata": {
        "azdata_cell_guid": "9392b7b3-1cce-4e79-8591-25d53f5fcf90",
        "id": "TOf0S1N8tNo9",
        "colab": {
          "base_uri": "https://localhost:8080/",
          "height": 294
        },
        "outputId": "492765c2-89c2-4723-ad48-f4e352de640e"
      },
      "source": [
        "exercicio(4, r'\\d{3}')"
      ],
      "execution_count": 56,
      "outputs": [
        {
          "output_type": "display_data",
          "data": {
            "text/html": [
              "<style>.certo {background-image: url('data:image/png;base64,iVBORw0KGgoAAAANSUhEUgAAABAAAAAQCAYAAAAf8/9hAAAABHNCSVQICAgIfAhkiAAAAAlwSFlzAAALEwAACxMBAJqcGAAAAgBJREFUOI2lkz1oU1EUx3/nvpcmNqWlNIoKFkFsXKrSOCkoDi6iVOwgCEWLiyBaTKuLdhP8ACkoig5iqoM4SDGDq2uLxUHFptWhHQTF1gzlNc27ufc6tHk0NMTBs917zu9/vu6F/zSpd7lvcnC/VeqUCF1Y61Aya8WOf8k8+NRQIDOVTYXGjImnjtdN51y+omXg68HRPxsEMlPZlHaVj4i3o1HJ1rk5iSd6Pu+9UwRQVceK1m/+BQMokZ2USq+jM0DPxFDGi/mHG4EnWjM0q/hq2Z461v3hanckEOrycCN4oP0o2S0nub31LLLWtQv1UCTglPRUg5MqHmWqwv0dR6hYw6v59zhc1XUAwAcQZxMALSrBvW39WGe5/vMlZ9oORfBIYYwJNYesjc06NkUCzthFoDNuPFpJsL25g1znJVJ+Wy3sRzNHtF2IWjAr5h3AIgGXC0/4UVog5behbYWb0zkmvFoYwJZ0PhIgKI1WgrJBoNiiuVJ4ynzwi5HpF0z684hXC+ulsl4uh49g3UNK5y/caNqcvCUxDxy4pTIkYxtgFxrC38HwTO+z+zUCOKQrf/5xrD150WtuqrtOE4SY4vLDQu/zQWR1HRs+U3r8XJ943l2VbNolvkIQrDboQH8TY67Nns69XR9f9zfikD3j/budeGlx4sS6mem+3Pdq1vX2FyOryD82RGIbAAAAAElFTkSuQmCC'); background-size: cover; height: 16px; width: 16px}.errado {background-image: url('data:image/png;base64,iVBORw0KGgoAAAANSUhEUgAAABAAAAAQCAYAAAAf8/9hAAAABHNCSVQICAgIfAhkiAAAAAlwSFlzAAALEwAACxMBAJqcGAAAAjNJREFUOI2lk01IVFEYhp9zznUcnUnH/Bk3WhCVFEFZbiwUAxeZlCJFWERBgZsIqRatWhuRi0BtFS1bSGQYlBLISD8EgbWwv0VFxlijThOpd+6ce1o49zrh4KZ3+XHe53u/j+/Af0rkK35ra9ythOgwmG0gDYIPUnC/+uHkm3UBM+3NFZC5KxFt+cCuNiNa67O1T17MrwHMtDdX4DqvpZQ160XOGPPZRdRvGp1cAJA+PeMMe2ZRXrl21mzNEmKzMPqeV5cAXw4f2GtZsgmAso2o60PIjhOr5s5uVN8glEQAKJCq9evRpl0AFkDGsS8HAoUrEecSzN8ZJNrTC1JiDFhdJ4kP3CCSXEDJlamdJfsScMYCcJH1XjdLSkITj/mhLKrOXwBg9nY/G2LjKKVWUxn2+QkMBHPnLVQKK1QMxgAQKQ4hc8wArqTIB2jXnQNqffqR4wSPnSY+1A9AdU8vGcvCjA77gLR2Ez5gydGPIkH2ALilEaxDncQHbxKOjQEQBypPnUPHxpGpXwD8yaRHIHsHYw115TWl4dnSYFC5xvBTKMq0QyAb29aapApQZTRCQMpOO9/TdlXLxFRSArS+ejeXWLSv2VojhSCK65u9nURZMS9rTWJx+WrLxFTST5BdpIjt3zEQDYV7SgIB8imVTpP4vXSr8fnbiwLMPwBPTxt3dhUp1RcuKNjipUhrTWrZ/mijrxx8Nv0g933e32hAxBrqtrpKbTcCI1z3ffPL6U9e11z9Bai+yG1sATfvAAAAAElFTkSuQmCC'); background-size: cover; height: 16px; width: 16px}</style><table><tr><td><div class=\"certo\"/></td><td style=\"text-align:left;\"><b><mark style=\"background-color:#ffff40;padding-left:0px;padding-right:0px\">040</mark></b>&nbsp;inicia&nbsp;com&nbsp;zero\n",
              "</pre></td></tr>\n",
              "<tr><td><div class=\"certo\"/></td><td style=\"text-align:left;\"><b><mark style=\"background-color:#ffff40;padding-left:0px;padding-right:0px\">056</mark></b>&nbsp;de&nbsp;novo\n",
              "</pre></td></tr>\n",
              "<tr><td><div class=\"certo\"/></td><td style=\"text-align:left;\"><b><mark style=\"background-color:#ffff40;padding-left:0px;padding-right:0px\">100</mark></b>&nbsp;cem\n",
              "</pre></td></tr>\n",
              "<tr><td><div class=\"certo\"/></td><td style=\"text-align:left;\"><b><mark style=\"background-color:#ffff40;padding-left:0px;padding-right:0px\">789</mark></b>&nbsp;789&nbsp;789\n",
              "</pre></td></tr>\n",
              "<tr><td><div class=\"certo\"/></td><td style=\"text-align:left;\"><b><mark style=\"background-color:#ffff40;padding-left:0px;padding-right:0px\">010</mark></b>1&nbsp;binário\n",
              "</pre></td></tr>\n",
              "<tr><td><div class=\"certo\"/></td><td style=\"text-align:left;\"><b><mark style=\"background-color:#ffff40;padding-left:0px;padding-right:0px\">000</mark></b>x&nbsp;termina&nbsp;em&nbsp;x\n",
              "</pre></td></tr>\n",
              "<tr><td><div class=\"certo\"/></td><td style=\"text-align:left;\">ano&nbsp;de&nbsp;<b><mark style=\"background-color:#ffff40;padding-left:0px;padding-right:0px\">198</mark></b>4\n",
              "</pre></td></tr>\n",
              "<tr><td><div class=\"certo\"/></td><td style=\"text-align:left;\">data&nbsp;01/01/<b><mark style=\"background-color:#ffff40;padding-left:0px;padding-right:0px\">201</mark></b>8\n",
              "</pre></td></tr><tr><td><div class=\"certo\"/></td><td style=\"text-align:left;\"><div style=\"color:#808080\">zero&nbsp;0\n",
              "&#9;(sem ocorrências)</div></td></tr>\n",
              "<tr><td><div class=\"certo\"/></td><td style=\"text-align:left;\"><div style=\"color:#808080\">dígito&nbsp;1\n",
              "&#9;(sem ocorrências)</div></td></tr>\n",
              "<tr><td><div class=\"certo\"/></td><td style=\"text-align:left;\"><div style=\"color:#808080\">vinte&nbsp;20\n",
              "&#9;(sem ocorrências)</div></td></tr>\n",
              "<tr><td><div class=\"certo\"/></td><td style=\"text-align:left;\"><div style=\"color:#808080\">inicia&nbsp;com&nbsp;zero&nbsp;03\n",
              "&#9;(sem ocorrências)</div></td></tr>\n",
              "<tr><td><div class=\"certo\"/></td><td style=\"text-align:left;\"><div style=\"color:#808080\">03&nbsp;também&nbsp;tem&nbsp;zero\n",
              "&#9;(sem ocorrências)</div></td></tr>\n",
              "<tr><td><div class=\"certo\"/></td><td style=\"text-align:left;\"><div style=\"color:#808080\">sem&nbsp;dígitos\n",
              "&#9;(sem ocorrências)</div></td></tr></table>"
            ],
            "text/plain": [
              "<IPython.core.display.HTML object>"
            ]
          },
          "metadata": {
            "tags": []
          }
        }
      ]
    },
    {
      "cell_type": "markdown",
      "metadata": {
        "azdata_cell_guid": "ba65471c-37ad-47ce-9a9e-9a450484c255",
        "id": "HDHt7Rj2tNo9"
      },
      "source": [
        "Um número inteiro com 2, 3 ou 4 dígitos, sendo que o primeiro dígito não pode ser zero"
      ]
    },
    {
      "cell_type": "code",
      "metadata": {
        "azdata_cell_guid": "eba2a1e4-d3c0-426f-829b-63083efa1f30",
        "id": "i6If-wq-tNo-",
        "colab": {
          "base_uri": "https://localhost:8080/",
          "height": 314
        },
        "outputId": "a70a7760-bd7e-46dd-906a-ec7275b80de4"
      },
      "source": [
        "exercicio(5, r'\\b[1-9]\\d{1,3}\\b')"
      ],
      "execution_count": 57,
      "outputs": [
        {
          "output_type": "display_data",
          "data": {
            "text/html": [
              "<style>.certo {background-image: url('data:image/png;base64,iVBORw0KGgoAAAANSUhEUgAAABAAAAAQCAYAAAAf8/9hAAAABHNCSVQICAgIfAhkiAAAAAlwSFlzAAALEwAACxMBAJqcGAAAAgBJREFUOI2lkz1oU1EUx3/nvpcmNqWlNIoKFkFsXKrSOCkoDi6iVOwgCEWLiyBaTKuLdhP8ACkoig5iqoM4SDGDq2uLxUHFptWhHQTF1gzlNc27ufc6tHk0NMTBs917zu9/vu6F/zSpd7lvcnC/VeqUCF1Y61Aya8WOf8k8+NRQIDOVTYXGjImnjtdN51y+omXg68HRPxsEMlPZlHaVj4i3o1HJ1rk5iSd6Pu+9UwRQVceK1m/+BQMokZ2USq+jM0DPxFDGi/mHG4EnWjM0q/hq2Z461v3hanckEOrycCN4oP0o2S0nub31LLLWtQv1UCTglPRUg5MqHmWqwv0dR6hYw6v59zhc1XUAwAcQZxMALSrBvW39WGe5/vMlZ9oORfBIYYwJNYesjc06NkUCzthFoDNuPFpJsL25g1znJVJ+Wy3sRzNHtF2IWjAr5h3AIgGXC0/4UVog5behbYWb0zkmvFoYwJZ0PhIgKI1WgrJBoNiiuVJ4ynzwi5HpF0z684hXC+ulsl4uh49g3UNK5y/caNqcvCUxDxy4pTIkYxtgFxrC38HwTO+z+zUCOKQrf/5xrD150WtuqrtOE4SY4vLDQu/zQWR1HRs+U3r8XJ943l2VbNolvkIQrDboQH8TY67Nns69XR9f9zfikD3j/budeGlx4sS6mem+3Pdq1vX2FyOryD82RGIbAAAAAElFTkSuQmCC'); background-size: cover; height: 16px; width: 16px}.errado {background-image: url('data:image/png;base64,iVBORw0KGgoAAAANSUhEUgAAABAAAAAQCAYAAAAf8/9hAAAABHNCSVQICAgIfAhkiAAAAAlwSFlzAAALEwAACxMBAJqcGAAAAjNJREFUOI2lk01IVFEYhp9zznUcnUnH/Bk3WhCVFEFZbiwUAxeZlCJFWERBgZsIqRatWhuRi0BtFS1bSGQYlBLISD8EgbWwv0VFxlijThOpd+6ce1o49zrh4KZ3+XHe53u/j+/Af0rkK35ra9ythOgwmG0gDYIPUnC/+uHkm3UBM+3NFZC5KxFt+cCuNiNa67O1T17MrwHMtDdX4DqvpZQ160XOGPPZRdRvGp1cAJA+PeMMe2ZRXrl21mzNEmKzMPqeV5cAXw4f2GtZsgmAso2o60PIjhOr5s5uVN8glEQAKJCq9evRpl0AFkDGsS8HAoUrEecSzN8ZJNrTC1JiDFhdJ4kP3CCSXEDJlamdJfsScMYCcJH1XjdLSkITj/mhLKrOXwBg9nY/G2LjKKVWUxn2+QkMBHPnLVQKK1QMxgAQKQ4hc8wArqTIB2jXnQNqffqR4wSPnSY+1A9AdU8vGcvCjA77gLR2Ez5gydGPIkH2ALilEaxDncQHbxKOjQEQBypPnUPHxpGpXwD8yaRHIHsHYw115TWl4dnSYFC5xvBTKMq0QyAb29aapApQZTRCQMpOO9/TdlXLxFRSArS+ejeXWLSv2VojhSCK65u9nURZMS9rTWJx+WrLxFTST5BdpIjt3zEQDYV7SgIB8imVTpP4vXSr8fnbiwLMPwBPTxt3dhUp1RcuKNjipUhrTWrZ/mijrxx8Nv0g933e32hAxBrqtrpKbTcCI1z3ffPL6U9e11z9Bai+yG1sATfvAAAAAElFTkSuQmCC'); background-size: cover; height: 16px; width: 16px}</style><table><tr><td><div class=\"certo\"/></td><td style=\"text-align:left;\">vinte&nbsp;<b><mark style=\"background-color:#ffff40;padding-left:0px;padding-right:0px\">20</mark></b>\n",
              "</pre></td></tr>\n",
              "<tr><td><div class=\"certo\"/></td><td style=\"text-align:left;\"><b><mark style=\"background-color:#ffff40;padding-left:0px;padding-right:0px\">100</mark></b>&nbsp;cem\n",
              "</pre></td></tr>\n",
              "<tr><td><div class=\"certo\"/></td><td style=\"text-align:left;\"><b><mark style=\"background-color:#ffff40;padding-left:0px;padding-right:0px\">789</mark></b>&nbsp;789&nbsp;789\n",
              "</pre></td></tr>\n",
              "<tr><td><div class=\"certo\"/></td><td style=\"text-align:left;\">ano&nbsp;de&nbsp;<b><mark style=\"background-color:#ffff40;padding-left:0px;padding-right:0px\">1984</mark></b>\n",
              "</pre></td></tr>\n",
              "<tr><td><div class=\"certo\"/></td><td style=\"text-align:left;\">data&nbsp;01/01/<b><mark style=\"background-color:#ffff40;padding-left:0px;padding-right:0px\">2018</mark></b>\n",
              "</pre></td></tr><tr><td><div class=\"certo\"/></td><td style=\"text-align:left;\"><div style=\"color:#808080\">zero&nbsp;0\n",
              "&#9;(sem ocorrências)</div></td></tr>\n",
              "<tr><td><div class=\"certo\"/></td><td style=\"text-align:left;\"><div style=\"color:#808080\">dígito&nbsp;1\n",
              "&#9;(sem ocorrências)</div></td></tr>\n",
              "<tr><td><div class=\"certo\"/></td><td style=\"text-align:left;\"><div style=\"color:#808080\">inicia&nbsp;com&nbsp;zero&nbsp;03\n",
              "&#9;(sem ocorrências)</div></td></tr>\n",
              "<tr><td><div class=\"certo\"/></td><td style=\"text-align:left;\"><div style=\"color:#808080\">03&nbsp;também&nbsp;tem&nbsp;zero\n",
              "&#9;(sem ocorrências)</div></td></tr>\n",
              "<tr><td><div class=\"certo\"/></td><td style=\"text-align:left;\"><div style=\"color:#808080\">040&nbsp;inicia&nbsp;com&nbsp;zero\n",
              "&#9;(sem ocorrências)</div></td></tr>\n",
              "<tr><td><div class=\"certo\"/></td><td style=\"text-align:left;\"><div style=\"color:#808080\">056&nbsp;de&nbsp;novo\n",
              "&#9;(sem ocorrências)</div></td></tr>\n",
              "<tr><td><div class=\"certo\"/></td><td style=\"text-align:left;\"><div style=\"color:#808080\">0101&nbsp;binário\n",
              "&#9;(sem ocorrências)</div></td></tr>\n",
              "<tr><td><div class=\"certo\"/></td><td style=\"text-align:left;\"><div style=\"color:#808080\">000x&nbsp;termina&nbsp;em&nbsp;x\n",
              "&#9;(sem ocorrências)</div></td></tr>\n",
              "<tr><td><div class=\"certo\"/></td><td style=\"text-align:left;\"><div style=\"color:#808080\">isso&nbsp;não&nbsp;é&nbsp;um&nbsp;número&nbsp;válido&nbsp;1000abc\n",
              "&#9;(sem ocorrências)</div></td></tr>\n",
              "<tr><td><div class=\"certo\"/></td><td style=\"text-align:left;\"><div style=\"color:#808080\">y1000&nbsp;isso&nbsp;também&nbsp;não&nbsp;é&nbsp;um&nbsp;número&nbsp;válido\n",
              "&#9;(sem ocorrências)</div></td></tr></table>"
            ],
            "text/plain": [
              "<IPython.core.display.HTML object>"
            ]
          },
          "metadata": {
            "tags": []
          }
        }
      ]
    },
    {
      "cell_type": "markdown",
      "metadata": {
        "azdata_cell_guid": "488b7d49-fd37-4e2a-a8f9-c6284e9699fa",
        "id": "s2a1M17etNo-"
      },
      "source": [
        "Uma palavra de mais de dois caracteres que inicie com um dígito e termine com uma letra"
      ]
    },
    {
      "cell_type": "code",
      "metadata": {
        "azdata_cell_guid": "d1ca60b6-8917-40ad-8119-6136f01385fb",
        "id": "zckPX48qtNo_",
        "colab": {
          "base_uri": "https://localhost:8080/",
          "height": 235
        },
        "outputId": "7641d2c7-509e-4a68-b76a-02c05789811e"
      },
      "source": [
        "exercicio(6, r'\\b\\d[\\d\\w]+[^\\d\\s]\\b')"
      ],
      "execution_count": 111,
      "outputs": [
        {
          "output_type": "display_data",
          "data": {
            "text/html": [
              "<style>.certo {background-image: url('data:image/png;base64,iVBORw0KGgoAAAANSUhEUgAAABAAAAAQCAYAAAAf8/9hAAAABHNCSVQICAgIfAhkiAAAAAlwSFlzAAALEwAACxMBAJqcGAAAAgBJREFUOI2lkz1oU1EUx3/nvpcmNqWlNIoKFkFsXKrSOCkoDi6iVOwgCEWLiyBaTKuLdhP8ACkoig5iqoM4SDGDq2uLxUHFptWhHQTF1gzlNc27ufc6tHk0NMTBs917zu9/vu6F/zSpd7lvcnC/VeqUCF1Y61Aya8WOf8k8+NRQIDOVTYXGjImnjtdN51y+omXg68HRPxsEMlPZlHaVj4i3o1HJ1rk5iSd6Pu+9UwRQVceK1m/+BQMokZ2USq+jM0DPxFDGi/mHG4EnWjM0q/hq2Z461v3hanckEOrycCN4oP0o2S0nub31LLLWtQv1UCTglPRUg5MqHmWqwv0dR6hYw6v59zhc1XUAwAcQZxMALSrBvW39WGe5/vMlZ9oORfBIYYwJNYesjc06NkUCzthFoDNuPFpJsL25g1znJVJ+Wy3sRzNHtF2IWjAr5h3AIgGXC0/4UVog5behbYWb0zkmvFoYwJZ0PhIgKI1WgrJBoNiiuVJ4ynzwi5HpF0z684hXC+ulsl4uh49g3UNK5y/caNqcvCUxDxy4pTIkYxtgFxrC38HwTO+z+zUCOKQrf/5xrD150WtuqrtOE4SY4vLDQu/zQWR1HRs+U3r8XJ943l2VbNolvkIQrDboQH8TY67Nns69XR9f9zfikD3j/budeGlx4sS6mem+3Pdq1vX2FyOryD82RGIbAAAAAElFTkSuQmCC'); background-size: cover; height: 16px; width: 16px}.errado {background-image: url('data:image/png;base64,iVBORw0KGgoAAAANSUhEUgAAABAAAAAQCAYAAAAf8/9hAAAABHNCSVQICAgIfAhkiAAAAAlwSFlzAAALEwAACxMBAJqcGAAAAjNJREFUOI2lk01IVFEYhp9zznUcnUnH/Bk3WhCVFEFZbiwUAxeZlCJFWERBgZsIqRatWhuRi0BtFS1bSGQYlBLISD8EgbWwv0VFxlijThOpd+6ce1o49zrh4KZ3+XHe53u/j+/Af0rkK35ra9ythOgwmG0gDYIPUnC/+uHkm3UBM+3NFZC5KxFt+cCuNiNa67O1T17MrwHMtDdX4DqvpZQ160XOGPPZRdRvGp1cAJA+PeMMe2ZRXrl21mzNEmKzMPqeV5cAXw4f2GtZsgmAso2o60PIjhOr5s5uVN8glEQAKJCq9evRpl0AFkDGsS8HAoUrEecSzN8ZJNrTC1JiDFhdJ4kP3CCSXEDJlamdJfsScMYCcJH1XjdLSkITj/mhLKrOXwBg9nY/G2LjKKVWUxn2+QkMBHPnLVQKK1QMxgAQKQ4hc8wArqTIB2jXnQNqffqR4wSPnSY+1A9AdU8vGcvCjA77gLR2Ez5gydGPIkH2ALilEaxDncQHbxKOjQEQBypPnUPHxpGpXwD8yaRHIHsHYw115TWl4dnSYFC5xvBTKMq0QyAb29aapApQZTRCQMpOO9/TdlXLxFRSArS+ejeXWLSv2VojhSCK65u9nURZMS9rTWJx+WrLxFTST5BdpIjt3zEQDYV7SgIB8imVTpP4vXSr8fnbiwLMPwBPTxt3dhUp1RcuKNjipUhrTWrZ/mijrxx8Nv0g933e32hAxBrqtrpKbTcCI1z3ffPL6U9e11z9Bai+yG1sATfvAAAAAElFTkSuQmCC'); background-size: cover; height: 16px; width: 16px}</style><table><tr><td><div class=\"certo\"/></td><td style=\"text-align:left;\">parágrafo&nbsp;<b><mark style=\"background-color:#ffff40;padding-left:0px;padding-right:0px\">11b</mark></b>\n",
              "</pre></td></tr>\n",
              "<tr><td><div class=\"certo\"/></td><td style=\"text-align:left;\"><b><mark style=\"background-color:#ffff40;padding-left:0px;padding-right:0px\">1111111b</mark></b>\n",
              "</pre></td></tr>\n",
              "<tr><td><div class=\"certo\"/></td><td style=\"text-align:left;\"><b><mark style=\"background-color:#ffff40;padding-left:0px;padding-right:0px\">1bbbbbbb</mark></b>\n",
              "</pre></td></tr>\n",
              "<tr><td><div class=\"certo\"/></td><td style=\"text-align:left;\"><b><mark style=\"background-color:#ffff40;padding-left:0px;padding-right:0px\">1b1b1b1b</mark></b>\n",
              "</pre></td></tr><tr><td><div class=\"certo\"/></td><td style=\"text-align:left;\"><div style=\"color:#808080\">teste&nbsp;1a\n",
              "&#9;(sem ocorrências)</div></td></tr>\n",
              "<tr><td><div class=\"certo\"/></td><td style=\"text-align:left;\"><div style=\"color:#808080\">dígitos&nbsp;113&nbsp;total\n",
              "&#9;(sem ocorrências)</div></td></tr>\n",
              "<tr><td><div class=\"certo\"/></td><td style=\"text-align:left;\"><div style=\"color:#808080\">soma&nbsp;quando&nbsp;3a\n",
              "&#9;(sem ocorrências)</div></td></tr>\n",
              "<tr><td><div class=\"certo\"/></td><td style=\"text-align:left;\"><div style=\"color:#808080\">bb1bbbbb11b\n",
              "&#9;(sem ocorrências)</div></td></tr>\n",
              "<tr><td><div class=\"certo\"/></td><td style=\"text-align:left;\"><div style=\"color:#808080\">b1b1b1b1\n",
              "&#9;(sem ocorrências)</div></td></tr>\n",
              "<tr><td><div class=\"certo\"/></td><td style=\"text-align:left;\"><div style=\"color:#808080\">111\n",
              "&#9;(sem ocorrências)</div></td></tr>\n",
              "<tr><td><div class=\"certo\"/></td><td style=\"text-align:left;\"><div style=\"color:#808080\">1a1\n",
              "&#9;(sem ocorrências)</div></td></tr></table>"
            ],
            "text/plain": [
              "<IPython.core.display.HTML object>"
            ]
          },
          "metadata": {
            "tags": []
          }
        }
      ]
    },
    {
      "cell_type": "markdown",
      "metadata": {
        "azdata_cell_guid": "d17783a3-2e7a-46cc-a0e3-5f270dc357ac",
        "id": "RsPzCKYstNo_"
      },
      "source": [
        "Uma palavra seguida de um espaço seguido de um sequência de um ou mais dígitos"
      ]
    },
    {
      "cell_type": "code",
      "metadata": {
        "azdata_cell_guid": "6c0119f2-2859-481c-b9ab-90f99c4239f0",
        "id": "VvDPJofttNo_",
        "colab": {
          "base_uri": "https://localhost:8080/",
          "height": 156
        },
        "outputId": "f3e3080a-993b-4633-fef3-c5004a202562"
      },
      "source": [
        "exercicio(7, r'\\w+\\s\\d+')"
      ],
      "execution_count": 59,
      "outputs": [
        {
          "output_type": "display_data",
          "data": {
            "text/html": [
              "<style>.certo {background-image: url('data:image/png;base64,iVBORw0KGgoAAAANSUhEUgAAABAAAAAQCAYAAAAf8/9hAAAABHNCSVQICAgIfAhkiAAAAAlwSFlzAAALEwAACxMBAJqcGAAAAgBJREFUOI2lkz1oU1EUx3/nvpcmNqWlNIoKFkFsXKrSOCkoDi6iVOwgCEWLiyBaTKuLdhP8ACkoig5iqoM4SDGDq2uLxUHFptWhHQTF1gzlNc27ufc6tHk0NMTBs917zu9/vu6F/zSpd7lvcnC/VeqUCF1Y61Aya8WOf8k8+NRQIDOVTYXGjImnjtdN51y+omXg68HRPxsEMlPZlHaVj4i3o1HJ1rk5iSd6Pu+9UwRQVceK1m/+BQMokZ2USq+jM0DPxFDGi/mHG4EnWjM0q/hq2Z461v3hanckEOrycCN4oP0o2S0nub31LLLWtQv1UCTglPRUg5MqHmWqwv0dR6hYw6v59zhc1XUAwAcQZxMALSrBvW39WGe5/vMlZ9oORfBIYYwJNYesjc06NkUCzthFoDNuPFpJsL25g1znJVJ+Wy3sRzNHtF2IWjAr5h3AIgGXC0/4UVog5behbYWb0zkmvFoYwJZ0PhIgKI1WgrJBoNiiuVJ4ynzwi5HpF0z684hXC+ulsl4uh49g3UNK5y/caNqcvCUxDxy4pTIkYxtgFxrC38HwTO+z+zUCOKQrf/5xrD150WtuqrtOE4SY4vLDQu/zQWR1HRs+U3r8XJ943l2VbNolvkIQrDboQH8TY67Nns69XR9f9zfikD3j/budeGlx4sS6mem+3Pdq1vX2FyOryD82RGIbAAAAAElFTkSuQmCC'); background-size: cover; height: 16px; width: 16px}.errado {background-image: url('data:image/png;base64,iVBORw0KGgoAAAANSUhEUgAAABAAAAAQCAYAAAAf8/9hAAAABHNCSVQICAgIfAhkiAAAAAlwSFlzAAALEwAACxMBAJqcGAAAAjNJREFUOI2lk01IVFEYhp9zznUcnUnH/Bk3WhCVFEFZbiwUAxeZlCJFWERBgZsIqRatWhuRi0BtFS1bSGQYlBLISD8EgbWwv0VFxlijThOpd+6ce1o49zrh4KZ3+XHe53u/j+/Af0rkK35ra9ythOgwmG0gDYIPUnC/+uHkm3UBM+3NFZC5KxFt+cCuNiNa67O1T17MrwHMtDdX4DqvpZQ160XOGPPZRdRvGp1cAJA+PeMMe2ZRXrl21mzNEmKzMPqeV5cAXw4f2GtZsgmAso2o60PIjhOr5s5uVN8glEQAKJCq9evRpl0AFkDGsS8HAoUrEecSzN8ZJNrTC1JiDFhdJ4kP3CCSXEDJlamdJfsScMYCcJH1XjdLSkITj/mhLKrOXwBg9nY/G2LjKKVWUxn2+QkMBHPnLVQKK1QMxgAQKQ4hc8wArqTIB2jXnQNqffqR4wSPnSY+1A9AdU8vGcvCjA77gLR2Ez5gydGPIkH2ALilEaxDncQHbxKOjQEQBypPnUPHxpGpXwD8yaRHIHsHYw115TWl4dnSYFC5xvBTKMq0QyAb29aapApQZTRCQMpOO9/TdlXLxFRSArS+ejeXWLSv2VojhSCK65u9nURZMS9rTWJx+WrLxFTST5BdpIjt3zEQDYV7SgIB8imVTpP4vXSr8fnbiwLMPwBPTxt3dhUp1RcuKNjipUhrTWrZ/mijrxx8Nv0g933e32hAxBrqtrpKbTcCI1z3ffPL6U9e11z9Bai+yG1sATfvAAAAAElFTkSuQmCC'); background-size: cover; height: 16px; width: 16px}</style><table><tr><td><div class=\"certo\"/></td><td style=\"text-align:left;\"><b><mark style=\"background-color:#ffff40;padding-left:0px;padding-right:0px\">teste&nbsp;1234</mark></b>\n",
              "</pre></td></tr>\n",
              "<tr><td><div class=\"certo\"/></td><td style=\"text-align:left;\"><b><mark style=\"background-color:#ffff40;padding-left:0px;padding-right:0px\">parágrafo&nbsp;12345</mark></b>\n",
              "</pre></td></tr>\n",
              "<tr><td><div class=\"certo\"/></td><td style=\"text-align:left;\"><b><mark style=\"background-color:#ffff40;padding-left:0px;padding-right:0px\">letra&nbsp;1</mark></b>\n",
              "</pre></td></tr>\n",
              "<tr><td><div class=\"certo\"/></td><td style=\"text-align:left;\">a&nbsp;<b><mark style=\"background-color:#ffff40;padding-left:0px;padding-right:0px\">b&nbsp;1</mark></b>&nbsp;c\n",
              "</pre></td></tr>\n",
              "<tr><td><div class=\"certo\"/></td><td style=\"text-align:left;\"><b><mark style=\"background-color:#ffff40;padding-left:0px;padding-right:0px\">cc&nbsp;11</mark></b>&nbsp;a\n",
              "</pre></td></tr>\n",
              "<tr><td><div class=\"certo\"/></td><td style=\"text-align:left;\"><b><mark style=\"background-color:#ffff40;padding-left:0px;padding-right:0px\">1&nbsp;1</mark></b>\n",
              "</pre></td></tr><tr><td><div class=\"certo\"/></td><td style=\"text-align:left;\"><div style=\"color:#808080\">dois&nbsp;espaços&nbsp;não&nbsp;pode&nbsp;&nbsp;2\n",
              "&#9;(sem ocorrências)</div></td></tr></table>"
            ],
            "text/plain": [
              "<IPython.core.display.HTML object>"
            ]
          },
          "metadata": {
            "tags": []
          }
        }
      ]
    },
    {
      "cell_type": "markdown",
      "metadata": {
        "azdata_cell_guid": "1140f3bf-4518-4752-8ded-db6a7a09cc99",
        "id": "YOs6DR1EtNo_"
      },
      "source": [
        "Um dia da semana: segunda-feira, terça-feira, quarta-feira, quinta-feira, sexta-feira. Adicionalmente, permita a escrita dos dias da semana com espaço no lugar do hífen ou com as palavras unidas (ex.: quartafeira e quinta feira)."
      ]
    },
    {
      "cell_type": "code",
      "metadata": {
        "azdata_cell_guid": "99b42ff2-b7c2-48ac-b515-cf139c17f73a",
        "id": "MgRoc_iTtNpA",
        "colab": {
          "base_uri": "https://localhost:8080/",
          "height": 294
        },
        "outputId": "4b96c4e0-98f9-4eb4-e15e-8dbeb8074142"
      },
      "source": [
        "exercicio(8, r'segunda[-\\s]?feira|\\bterça[-\\s]?feira|quarta[-\\s]?feira|quinta[-\\s]?feira|^sexta[-\\s]?feira')"
      ],
      "execution_count": 60,
      "outputs": [
        {
          "output_type": "display_data",
          "data": {
            "text/html": [
              "<style>.certo {background-image: url('data:image/png;base64,iVBORw0KGgoAAAANSUhEUgAAABAAAAAQCAYAAAAf8/9hAAAABHNCSVQICAgIfAhkiAAAAAlwSFlzAAALEwAACxMBAJqcGAAAAgBJREFUOI2lkz1oU1EUx3/nvpcmNqWlNIoKFkFsXKrSOCkoDi6iVOwgCEWLiyBaTKuLdhP8ACkoig5iqoM4SDGDq2uLxUHFptWhHQTF1gzlNc27ufc6tHk0NMTBs917zu9/vu6F/zSpd7lvcnC/VeqUCF1Y61Aya8WOf8k8+NRQIDOVTYXGjImnjtdN51y+omXg68HRPxsEMlPZlHaVj4i3o1HJ1rk5iSd6Pu+9UwRQVceK1m/+BQMokZ2USq+jM0DPxFDGi/mHG4EnWjM0q/hq2Z461v3hanckEOrycCN4oP0o2S0nub31LLLWtQv1UCTglPRUg5MqHmWqwv0dR6hYw6v59zhc1XUAwAcQZxMALSrBvW39WGe5/vMlZ9oORfBIYYwJNYesjc06NkUCzthFoDNuPFpJsL25g1znJVJ+Wy3sRzNHtF2IWjAr5h3AIgGXC0/4UVog5behbYWb0zkmvFoYwJZ0PhIgKI1WgrJBoNiiuVJ4ynzwi5HpF0z684hXC+ulsl4uh49g3UNK5y/caNqcvCUxDxy4pTIkYxtgFxrC38HwTO+z+zUCOKQrf/5xrD150WtuqrtOE4SY4vLDQu/zQWR1HRs+U3r8XJ943l2VbNolvkIQrDboQH8TY67Nns69XR9f9zfikD3j/budeGlx4sS6mem+3Pdq1vX2FyOryD82RGIbAAAAAElFTkSuQmCC'); background-size: cover; height: 16px; width: 16px}.errado {background-image: url('data:image/png;base64,iVBORw0KGgoAAAANSUhEUgAAABAAAAAQCAYAAAAf8/9hAAAABHNCSVQICAgIfAhkiAAAAAlwSFlzAAALEwAACxMBAJqcGAAAAjNJREFUOI2lk01IVFEYhp9zznUcnUnH/Bk3WhCVFEFZbiwUAxeZlCJFWERBgZsIqRatWhuRi0BtFS1bSGQYlBLISD8EgbWwv0VFxlijThOpd+6ce1o49zrh4KZ3+XHe53u/j+/Af0rkK35ra9ythOgwmG0gDYIPUnC/+uHkm3UBM+3NFZC5KxFt+cCuNiNa67O1T17MrwHMtDdX4DqvpZQ160XOGPPZRdRvGp1cAJA+PeMMe2ZRXrl21mzNEmKzMPqeV5cAXw4f2GtZsgmAso2o60PIjhOr5s5uVN8glEQAKJCq9evRpl0AFkDGsS8HAoUrEecSzN8ZJNrTC1JiDFhdJ4kP3CCSXEDJlamdJfsScMYCcJH1XjdLSkITj/mhLKrOXwBg9nY/G2LjKKVWUxn2+QkMBHPnLVQKK1QMxgAQKQ4hc8wArqTIB2jXnQNqffqR4wSPnSY+1A9AdU8vGcvCjA77gLR2Ez5gydGPIkH2ALilEaxDncQHbxKOjQEQBypPnUPHxpGpXwD8yaRHIHsHYw115TWl4dnSYFC5xvBTKMq0QyAb29aapApQZTRCQMpOO9/TdlXLxFRSArS+ejeXWLSv2VojhSCK65u9nURZMS9rTWJx+WrLxFTST5BdpIjt3zEQDYV7SgIB8imVTpP4vXSr8fnbiwLMPwBPTxt3dhUp1RcuKNjipUhrTWrZ/mijrxx8Nv0g933e32hAxBrqtrpKbTcCI1z3ffPL6U9e11z9Bai+yG1sATfvAAAAAElFTkSuQmCC'); background-size: cover; height: 16px; width: 16px}</style><table><tr><td><div class=\"certo\"/></td><td style=\"text-align:left;\">hoje&nbsp;é&nbsp;<b><mark style=\"background-color:#ffff40;padding-left:0px;padding-right:0px\">segunda-feira</mark></b>\n",
              "</pre></td></tr>\n",
              "<tr><td><div class=\"certo\"/></td><td style=\"text-align:left;\">amanhã&nbsp;será&nbsp;<b><mark style=\"background-color:#ffff40;padding-left:0px;padding-right:0px\">terça&nbsp;feira</mark></b>\n",
              "</pre></td></tr>\n",
              "<tr><td><div class=\"certo\"/></td><td style=\"text-align:left;\"><b><mark style=\"background-color:#ffff40;padding-left:0px;padding-right:0px\">quartafeira</mark></b>&nbsp;já&nbsp;passou\n",
              "</pre></td></tr>\n",
              "<tr><td><div class=\"certo\"/></td><td style=\"text-align:left;\"><b><mark style=\"background-color:#ffff40;padding-left:0px;padding-right:0px\">quinta-feira</mark></b>&nbsp;foi&nbsp;dia&nbsp;3\n",
              "</pre></td></tr>\n",
              "<tr><td><div class=\"certo\"/></td><td style=\"text-align:left;\"><b><mark style=\"background-color:#ffff40;padding-left:0px;padding-right:0px\">sextafeira</mark></b>&nbsp;\n",
              "</pre></td></tr><tr><td><div class=\"certo\"/></td><td style=\"text-align:left;\"><div style=\"color:#808080\">sábado&nbsp;feriado\n",
              "&#9;(sem ocorrências)</div></td></tr>\n",
              "<tr><td><div class=\"certo\"/></td><td style=\"text-align:left;\"><div style=\"color:#808080\">domingo&nbsp;feriado\n",
              "&#9;(sem ocorrências)</div></td></tr>\n",
              "<tr><td><div class=\"certo\"/></td><td style=\"text-align:left;\"><div style=\"color:#808080\">2a&nbsp;feira&nbsp;internacional\n",
              "&#9;(sem ocorrências)</div></td></tr>\n",
              "<tr><td><div class=\"certo\"/></td><td style=\"text-align:left;\"><div style=\"color:#808080\">sexta_feira\n",
              "&#9;(sem ocorrências)</div></td></tr>\n",
              "<tr><td><div class=\"certo\"/></td><td style=\"text-align:left;\"><div style=\"color:#808080\">quinta.feira\n",
              "&#9;(sem ocorrências)</div></td></tr>\n",
              "<tr><td><div class=\"certo\"/></td><td style=\"text-align:left;\"><div style=\"color:#808080\">domingues\n",
              "&#9;(sem ocorrências)</div></td></tr>\n",
              "<tr><td><div class=\"certo\"/></td><td style=\"text-align:left;\"><div style=\"color:#808080\">asextafeira\n",
              "&#9;(sem ocorrências)</div></td></tr>\n",
              "<tr><td><div class=\"certo\"/></td><td style=\"text-align:left;\"><div style=\"color:#808080\">abterça-feira\n",
              "&#9;(sem ocorrências)</div></td></tr>\n",
              "<tr><td><div class=\"certo\"/></td><td style=\"text-align:left;\"><div style=\"color:#808080\">terças-feiras&nbsp;não&nbsp;vale&nbsp;plural\n",
              "&#9;(sem ocorrências)</div></td></tr></table>"
            ],
            "text/plain": [
              "<IPython.core.display.HTML object>"
            ]
          },
          "metadata": {
            "tags": []
          }
        }
      ]
    },
    {
      "cell_type": "markdown",
      "metadata": {
        "azdata_cell_guid": "52e8e6f2-50de-440e-8723-a963ae97254d",
        "id": "YOPvIVYNtNpA"
      },
      "source": [
        "Uma URL no formato: http://www.&lt;dominio&gt;.com.br/&lt;arquivo&gt;.html. O &lt;arquivo&gt; e o &lt;domínio&gt; somente podem contar letras de a a z (minúscula ou maiúsculas), dígitos e os sinais _ e -."
      ]
    },
    {
      "cell_type": "code",
      "metadata": {
        "azdata_cell_guid": "26b3b1d7-61bb-4712-9763-24390b2a1172",
        "id": "q6ZfiQ5otNpA",
        "colab": {
          "base_uri": "https://localhost:8080/",
          "height": 255
        },
        "outputId": "31edfab5-e986-449e-aaf0-33567086b50b"
      },
      "source": [
        "exercicio(9, r'http://www\\.[\\w\\d_-]+.com\\.br/[\\w\\d_-]+\\.html')"
      ],
      "execution_count": 61,
      "outputs": [
        {
          "output_type": "display_data",
          "data": {
            "text/html": [
              "<style>.certo {background-image: url('data:image/png;base64,iVBORw0KGgoAAAANSUhEUgAAABAAAAAQCAYAAAAf8/9hAAAABHNCSVQICAgIfAhkiAAAAAlwSFlzAAALEwAACxMBAJqcGAAAAgBJREFUOI2lkz1oU1EUx3/nvpcmNqWlNIoKFkFsXKrSOCkoDi6iVOwgCEWLiyBaTKuLdhP8ACkoig5iqoM4SDGDq2uLxUHFptWhHQTF1gzlNc27ufc6tHk0NMTBs917zu9/vu6F/zSpd7lvcnC/VeqUCF1Y61Aya8WOf8k8+NRQIDOVTYXGjImnjtdN51y+omXg68HRPxsEMlPZlHaVj4i3o1HJ1rk5iSd6Pu+9UwRQVceK1m/+BQMokZ2USq+jM0DPxFDGi/mHG4EnWjM0q/hq2Z461v3hanckEOrycCN4oP0o2S0nub31LLLWtQv1UCTglPRUg5MqHmWqwv0dR6hYw6v59zhc1XUAwAcQZxMALSrBvW39WGe5/vMlZ9oORfBIYYwJNYesjc06NkUCzthFoDNuPFpJsL25g1znJVJ+Wy3sRzNHtF2IWjAr5h3AIgGXC0/4UVog5behbYWb0zkmvFoYwJZ0PhIgKI1WgrJBoNiiuVJ4ynzwi5HpF0z684hXC+ulsl4uh49g3UNK5y/caNqcvCUxDxy4pTIkYxtgFxrC38HwTO+z+zUCOKQrf/5xrD150WtuqrtOE4SY4vLDQu/zQWR1HRs+U3r8XJ943l2VbNolvkIQrDboQH8TY67Nns69XR9f9zfikD3j/budeGlx4sS6mem+3Pdq1vX2FyOryD82RGIbAAAAAElFTkSuQmCC'); background-size: cover; height: 16px; width: 16px}.errado {background-image: url('data:image/png;base64,iVBORw0KGgoAAAANSUhEUgAAABAAAAAQCAYAAAAf8/9hAAAABHNCSVQICAgIfAhkiAAAAAlwSFlzAAALEwAACxMBAJqcGAAAAjNJREFUOI2lk01IVFEYhp9zznUcnUnH/Bk3WhCVFEFZbiwUAxeZlCJFWERBgZsIqRatWhuRi0BtFS1bSGQYlBLISD8EgbWwv0VFxlijThOpd+6ce1o49zrh4KZ3+XHe53u/j+/Af0rkK35ra9ythOgwmG0gDYIPUnC/+uHkm3UBM+3NFZC5KxFt+cCuNiNa67O1T17MrwHMtDdX4DqvpZQ160XOGPPZRdRvGp1cAJA+PeMMe2ZRXrl21mzNEmKzMPqeV5cAXw4f2GtZsgmAso2o60PIjhOr5s5uVN8glEQAKJCq9evRpl0AFkDGsS8HAoUrEecSzN8ZJNrTC1JiDFhdJ4kP3CCSXEDJlamdJfsScMYCcJH1XjdLSkITj/mhLKrOXwBg9nY/G2LjKKVWUxn2+QkMBHPnLVQKK1QMxgAQKQ4hc8wArqTIB2jXnQNqffqR4wSPnSY+1A9AdU8vGcvCjA77gLR2Ez5gydGPIkH2ALilEaxDncQHbxKOjQEQBypPnUPHxpGpXwD8yaRHIHsHYw115TWl4dnSYFC5xvBTKMq0QyAb29aapApQZTRCQMpOO9/TdlXLxFRSArS+ejeXWLSv2VojhSCK65u9nURZMS9rTWJx+WrLxFTST5BdpIjt3zEQDYV7SgIB8imVTpP4vXSr8fnbiwLMPwBPTxt3dhUp1RcuKNjipUhrTWrZ/mijrxx8Nv0g933e32hAxBrqtrpKbTcCI1z3ffPL6U9e11z9Bai+yG1sATfvAAAAAElFTkSuQmCC'); background-size: cover; height: 16px; width: 16px}</style><table><tr><td><div class=\"certo\"/></td><td style=\"text-align:left;\"><b><mark style=\"background-color:#ffff40;padding-left:0px;padding-right:0px\">http://www.google.com.br/index.html</mark></b>\n",
              "</pre></td></tr>\n",
              "<tr><td><div class=\"certo\"/></td><td style=\"text-align:left;\"><b><mark style=\"background-color:#ffff40;padding-left:0px;padding-right:0px\">http://www.terra.com.br/underline_1.html</mark></b>\n",
              "</pre></td></tr>\n",
              "<tr><td><div class=\"certo\"/></td><td style=\"text-align:left;\"><b><mark style=\"background-color:#ffff40;padding-left:0px;padding-right:0px\">http://www.teste-novo.com.br/hiFen-1.html</mark></b>\n",
              "</pre></td></tr><tr><td><div class=\"certo\"/></td><td style=\"text-align:left;\"><div style=\"color:#808080\">http://www.google.com/index.html\n",
              "&#9;(sem ocorrências)</div></td></tr>\n",
              "<tr><td><div class=\"certo\"/></td><td style=\"text-align:left;\"><div style=\"color:#808080\">http://uol.com.br/teste.html\n",
              "&#9;(sem ocorrências)</div></td></tr>\n",
              "<tr><td><div class=\"certo\"/></td><td style=\"text-align:left;\"><div style=\"color:#808080\">http://bol.com.br/nao/podem/existir/barras.html\n",
              "&#9;(sem ocorrências)</div></td></tr>\n",
              "<tr><td><div class=\"certo\"/></td><td style=\"text-align:left;\"><div style=\"color:#808080\">https://www.google.com/https/também/nao/pode.html\n",
              "&#9;(sem ocorrências)</div></td></tr>\n",
              "<tr><td><div class=\"certo\"/></td><td style=\"text-align:left;\"><div style=\"color:#808080\">http://www.teste_velha.com.br/111-html\n",
              "&#9;(sem ocorrências)</div></td></tr>\n",
              "<tr><td><div class=\"certo\"/></td><td style=\"text-align:left;\"><div style=\"color:#808080\">http://www-testevelho.com-br/111.html\n",
              "&#9;(sem ocorrências)</div></td></tr>\n",
              "<tr><td><div class=\"certo\"/></td><td style=\"text-align:left;\"><div style=\"color:#808080\">http://www..com-br/1.html\n",
              "&#9;(sem ocorrências)</div></td></tr>\n",
              "<tr><td><div class=\"certo\"/></td><td style=\"text-align:left;\"><div style=\"color:#808080\">http://www.com-br/2.html\n",
              "&#9;(sem ocorrências)</div></td></tr>\n",
              "<tr><td><div class=\"certo\"/></td><td style=\"text-align:left;\"><div style=\"color:#808080\">http://www...com-br/3.html\n",
              "&#9;(sem ocorrências)</div></td></tr></table>"
            ],
            "text/plain": [
              "<IPython.core.display.HTML object>"
            ]
          },
          "metadata": {
            "tags": []
          }
        }
      ]
    },
    {
      "cell_type": "markdown",
      "metadata": {
        "azdata_cell_guid": "939b1c09-e93c-4fc3-815a-1c18329f6b16",
        "id": "uDR9pqR5tNpB"
      },
      "source": [
        "Duas palavras unidas pelas preposições 'de', 'do', 'da', 'dos' ou 'das'. As palavras somente podem conter letras e elas são separadas por um ou mais espaços."
      ]
    },
    {
      "cell_type": "code",
      "metadata": {
        "azdata_cell_guid": "f7bf3a82-385d-400b-8b21-a937262dd9a1",
        "id": "qVIN3c3WtNpB",
        "colab": {
          "base_uri": "https://localhost:8080/",
          "height": 294
        },
        "outputId": "f1ea1057-4153-4bcc-caeb-5641059e3edf"
      },
      "source": [
        "exercicio(10, r'\\w+\\s+d[eoa]s?\\s+\\w+')"
      ],
      "execution_count": 62,
      "outputs": [
        {
          "output_type": "display_data",
          "data": {
            "text/html": [
              "<style>.certo {background-image: url('data:image/png;base64,iVBORw0KGgoAAAANSUhEUgAAABAAAAAQCAYAAAAf8/9hAAAABHNCSVQICAgIfAhkiAAAAAlwSFlzAAALEwAACxMBAJqcGAAAAgBJREFUOI2lkz1oU1EUx3/nvpcmNqWlNIoKFkFsXKrSOCkoDi6iVOwgCEWLiyBaTKuLdhP8ACkoig5iqoM4SDGDq2uLxUHFptWhHQTF1gzlNc27ufc6tHk0NMTBs917zu9/vu6F/zSpd7lvcnC/VeqUCF1Y61Aya8WOf8k8+NRQIDOVTYXGjImnjtdN51y+omXg68HRPxsEMlPZlHaVj4i3o1HJ1rk5iSd6Pu+9UwRQVceK1m/+BQMokZ2USq+jM0DPxFDGi/mHG4EnWjM0q/hq2Z461v3hanckEOrycCN4oP0o2S0nub31LLLWtQv1UCTglPRUg5MqHmWqwv0dR6hYw6v59zhc1XUAwAcQZxMALSrBvW39WGe5/vMlZ9oORfBIYYwJNYesjc06NkUCzthFoDNuPFpJsL25g1znJVJ+Wy3sRzNHtF2IWjAr5h3AIgGXC0/4UVog5behbYWb0zkmvFoYwJZ0PhIgKI1WgrJBoNiiuVJ4ynzwi5HpF0z684hXC+ulsl4uh49g3UNK5y/caNqcvCUxDxy4pTIkYxtgFxrC38HwTO+z+zUCOKQrf/5xrD150WtuqrtOE4SY4vLDQu/zQWR1HRs+U3r8XJ943l2VbNolvkIQrDboQH8TY67Nns69XR9f9zfikD3j/budeGlx4sS6mem+3Pdq1vX2FyOryD82RGIbAAAAAElFTkSuQmCC'); background-size: cover; height: 16px; width: 16px}.errado {background-image: url('data:image/png;base64,iVBORw0KGgoAAAANSUhEUgAAABAAAAAQCAYAAAAf8/9hAAAABHNCSVQICAgIfAhkiAAAAAlwSFlzAAALEwAACxMBAJqcGAAAAjNJREFUOI2lk01IVFEYhp9zznUcnUnH/Bk3WhCVFEFZbiwUAxeZlCJFWERBgZsIqRatWhuRi0BtFS1bSGQYlBLISD8EgbWwv0VFxlijThOpd+6ce1o49zrh4KZ3+XHe53u/j+/Af0rkK35ra9ythOgwmG0gDYIPUnC/+uHkm3UBM+3NFZC5KxFt+cCuNiNa67O1T17MrwHMtDdX4DqvpZQ160XOGPPZRdRvGp1cAJA+PeMMe2ZRXrl21mzNEmKzMPqeV5cAXw4f2GtZsgmAso2o60PIjhOr5s5uVN8glEQAKJCq9evRpl0AFkDGsS8HAoUrEecSzN8ZJNrTC1JiDFhdJ4kP3CCSXEDJlamdJfsScMYCcJH1XjdLSkITj/mhLKrOXwBg9nY/G2LjKKVWUxn2+QkMBHPnLVQKK1QMxgAQKQ4hc8wArqTIB2jXnQNqffqR4wSPnSY+1A9AdU8vGcvCjA77gLR2Ez5gydGPIkH2ALilEaxDncQHbxKOjQEQBypPnUPHxpGpXwD8yaRHIHsHYw115TWl4dnSYFC5xvBTKMq0QyAb29aapApQZTRCQMpOO9/TdlXLxFRSArS+ejeXWLSv2VojhSCK65u9nURZMS9rTWJx+WrLxFTST5BdpIjt3zEQDYV7SgIB8imVTpP4vXSr8fnbiwLMPwBPTxt3dhUp1RcuKNjipUhrTWrZ/mijrxx8Nv0g933e32hAxBrqtrpKbTcCI1z3ffPL6U9e11z9Bai+yG1sATfvAAAAAElFTkSuQmCC'); background-size: cover; height: 16px; width: 16px}</style><table><tr><td><div class=\"certo\"/></td><td style=\"text-align:left;\"><b><mark style=\"background-color:#ffff40;padding-left:0px;padding-right:0px\">Olhos&nbsp;do&nbsp;mundo</mark></b>,&nbsp;\n",
              "</pre></td></tr>\n",
              "<tr><td><div class=\"certo\"/></td><td style=\"text-align:left;\"><b><mark style=\"background-color:#ffff40;padding-left:0px;padding-right:0px\">zelos&nbsp;do&nbsp;marido</mark></b>,&nbsp;\n",
              "</pre></td></tr>\n",
              "<tr><td><div class=\"certo\"/></td><td style=\"text-align:left;\"><b><mark style=\"background-color:#ffff40;padding-left:0px;padding-right:0px\">morte&nbsp;do&nbsp;Viegas</mark></b>,&nbsp;\n",
              "</pre></td></tr>\n",
              "<tr><td><div class=\"certo\"/></td><td style=\"text-align:left;\">uma&nbsp;<b><mark style=\"background-color:#ffff40;padding-left:0px;padding-right:0px\">vertigem&nbsp;de&nbsp;cabriolas</mark></b>\n",
              "</pre></td></tr>\n",
              "<tr><td><div class=\"certo\"/></td><td style=\"text-align:left;\">&nbsp;<b><mark style=\"background-color:#ffff40;padding-left:0px;padding-right:0px\">descendente&nbsp;do&nbsp;cavalo</mark></b>&nbsp;de&nbsp;Aquiles\n",
              "</pre></td></tr>\n",
              "<tr><td><div class=\"certo\"/></td><td style=\"text-align:left;\">a&nbsp;minha&nbsp;<b><mark style=\"background-color:#ffff40;padding-left:0px;padding-right:0px\">teoria&nbsp;das&nbsp;edições</mark></b>&nbsp;humanas\n",
              "</pre></td></tr>\n",
              "<tr><td><div class=\"certo\"/></td><td style=\"text-align:left;\">me&nbsp;pareceu&nbsp;entrar&nbsp;na&nbsp;<b><mark style=\"background-color:#ffff40;padding-left:0px;padding-right:0px\">região&nbsp;dos&nbsp;gelos</mark></b>&nbsp;eternos\n",
              "</pre></td></tr><tr><td><div class=\"certo\"/></td><td style=\"text-align:left;\"><div style=\"color:#808080\">Esta&nbsp;idéia,&nbsp;\n",
              "&#9;(sem ocorrências)</div></td></tr>\n",
              "<tr><td><div class=\"certo\"/></td><td style=\"text-align:left;\"><div style=\"color:#808080\">rútila&nbsp;e&nbsp;grande,&nbsp;\n",
              "&#9;(sem ocorrências)</div></td></tr>\n",
              "<tr><td><div class=\"certo\"/></td><td style=\"text-align:left;\"><div style=\"color:#808080\">trajada&nbsp;ao&nbsp;bizarro,&nbsp;\n",
              "&#9;(sem ocorrências)</div></td></tr>\n",
              "<tr><td><div class=\"certo\"/></td><td style=\"text-align:left;\"><div style=\"color:#808080\">como&nbsp;diria&nbsp;o&nbsp;Padre&nbsp;Bernardes,\n",
              "&#9;(sem ocorrências)</div></td></tr>\n",
              "<tr><td><div class=\"certo\"/></td><td style=\"text-align:left;\"><div style=\"color:#808080\">e&nbsp;eu&nbsp;deixei-me&nbsp;estar\n",
              "&#9;(sem ocorrências)</div></td></tr>\n",
              "<tr><td><div class=\"certo\"/></td><td style=\"text-align:left;\"><div style=\"color:#808080\">com&nbsp;os&nbsp;olhos&nbsp;nela,\n",
              "&#9;(sem ocorrências)</div></td></tr>\n",
              "<tr><td><div class=\"certo\"/></td><td style=\"text-align:left;\"><div style=\"color:#808080\">a&nbsp;achar-lhe&nbsp;graça.\n",
              "&#9;(sem ocorrências)</div></td></tr></table>"
            ],
            "text/plain": [
              "<IPython.core.display.HTML object>"
            ]
          },
          "metadata": {
            "tags": []
          }
        }
      ]
    },
    {
      "cell_type": "markdown",
      "metadata": {
        "azdata_cell_guid": "9d91b467-9ae3-495f-be18-3eb1c024a061",
        "id": "pwN1ear5tNpB"
      },
      "source": [
        "Uma palavra de no mínimo 3 letras e com TODAS as letras maiúsculas"
      ]
    },
    {
      "cell_type": "code",
      "metadata": {
        "azdata_cell_guid": "904d494f-9347-44f1-8dd1-6e278e57d255",
        "id": "dXKo0QHrtNpC",
        "colab": {
          "base_uri": "https://localhost:8080/",
          "height": 354
        },
        "outputId": "c56895c3-2880-4b18-cebe-2272ca37c77e"
      },
      "source": [
        "exercicio(11, r'\\b[A-ZÓÉ]{3,}\\b')"
      ],
      "execution_count": 63,
      "outputs": [
        {
          "output_type": "display_data",
          "data": {
            "text/html": [
              "<style>.certo {background-image: url('data:image/png;base64,iVBORw0KGgoAAAANSUhEUgAAABAAAAAQCAYAAAAf8/9hAAAABHNCSVQICAgIfAhkiAAAAAlwSFlzAAALEwAACxMBAJqcGAAAAgBJREFUOI2lkz1oU1EUx3/nvpcmNqWlNIoKFkFsXKrSOCkoDi6iVOwgCEWLiyBaTKuLdhP8ACkoig5iqoM4SDGDq2uLxUHFptWhHQTF1gzlNc27ufc6tHk0NMTBs917zu9/vu6F/zSpd7lvcnC/VeqUCF1Y61Aya8WOf8k8+NRQIDOVTYXGjImnjtdN51y+omXg68HRPxsEMlPZlHaVj4i3o1HJ1rk5iSd6Pu+9UwRQVceK1m/+BQMokZ2USq+jM0DPxFDGi/mHG4EnWjM0q/hq2Z461v3hanckEOrycCN4oP0o2S0nub31LLLWtQv1UCTglPRUg5MqHmWqwv0dR6hYw6v59zhc1XUAwAcQZxMALSrBvW39WGe5/vMlZ9oORfBIYYwJNYesjc06NkUCzthFoDNuPFpJsL25g1znJVJ+Wy3sRzNHtF2IWjAr5h3AIgGXC0/4UVog5behbYWb0zkmvFoYwJZ0PhIgKI1WgrJBoNiiuVJ4ynzwi5HpF0z684hXC+ulsl4uh49g3UNK5y/caNqcvCUxDxy4pTIkYxtgFxrC38HwTO+z+zUCOKQrf/5xrD150WtuqrtOE4SY4vLDQu/zQWR1HRs+U3r8XJ943l2VbNolvkIQrDboQH8TY67Nns69XR9f9zfikD3j/budeGlx4sS6mem+3Pdq1vX2FyOryD82RGIbAAAAAElFTkSuQmCC'); background-size: cover; height: 16px; width: 16px}.errado {background-image: url('data:image/png;base64,iVBORw0KGgoAAAANSUhEUgAAABAAAAAQCAYAAAAf8/9hAAAABHNCSVQICAgIfAhkiAAAAAlwSFlzAAALEwAACxMBAJqcGAAAAjNJREFUOI2lk01IVFEYhp9zznUcnUnH/Bk3WhCVFEFZbiwUAxeZlCJFWERBgZsIqRatWhuRi0BtFS1bSGQYlBLISD8EgbWwv0VFxlijThOpd+6ce1o49zrh4KZ3+XHe53u/j+/Af0rkK35ra9ythOgwmG0gDYIPUnC/+uHkm3UBM+3NFZC5KxFt+cCuNiNa67O1T17MrwHMtDdX4DqvpZQ160XOGPPZRdRvGp1cAJA+PeMMe2ZRXrl21mzNEmKzMPqeV5cAXw4f2GtZsgmAso2o60PIjhOr5s5uVN8glEQAKJCq9evRpl0AFkDGsS8HAoUrEecSzN8ZJNrTC1JiDFhdJ4kP3CCSXEDJlamdJfsScMYCcJH1XjdLSkITj/mhLKrOXwBg9nY/G2LjKKVWUxn2+QkMBHPnLVQKK1QMxgAQKQ4hc8wArqTIB2jXnQNqffqR4wSPnSY+1A9AdU8vGcvCjA77gLR2Ez5gydGPIkH2ALilEaxDncQHbxKOjQEQBypPnUPHxpGpXwD8yaRHIHsHYw115TWl4dnSYFC5xvBTKMq0QyAb29aapApQZTRCQMpOO9/TdlXLxFRSArS+ejeXWLSv2VojhSCK65u9nURZMS9rTWJx+WrLxFTST5BdpIjt3zEQDYV7SgIB8imVTpP4vXSr8fnbiwLMPwBPTxt3dhUp1RcuKNjipUhrTWrZ/mijrxx8Nv0g933e32hAxBrqtrpKbTcCI1z3ffPL6U9e11z9Bai+yG1sATfvAAAAAElFTkSuQmCC'); background-size: cover; height: 16px; width: 16px}</style><table><tr><td><div class=\"certo\"/></td><td style=\"text-align:left;\"><b><mark style=\"background-color:#ffff40;padding-left:0px;padding-right:0px\">ALBERTO</mark></b>&nbsp;YOUSSEF,&nbsp;brasileiro,&nbsp;casado,&nbsp;filho&nbsp;de&nbsp;Kalim&nbsp;Youssef&nbsp;e&nbsp;Antonieta&nbsp;Youssef\n",
              "</pre></td></tr>\n",
              "<tr><td><div class=\"certo\"/></td><td style=\"text-align:left;\"><b><mark style=\"background-color:#ffff40;padding-left:0px;padding-right:0px\">PAULO</mark></b>&nbsp;ROBERTO&nbsp;COSTA,&nbsp;ex-Diretor&nbsp;de&nbsp;Abastecimento&nbsp;da&nbsp;PETROBRAS\n",
              "</pre></td></tr>\n",
              "<tr><td><div class=\"certo\"/></td><td style=\"text-align:left;\"><b><mark style=\"background-color:#ffff40;padding-left:0px;padding-right:0px\">WALDOMIRO</mark></b>&nbsp;DE&nbsp;OLIVEIRA,&nbsp;conhecido&nbsp;“Bom&nbsp;Velhinho”\n",
              "</pre></td></tr>\n",
              "<tr><td><div class=\"certo\"/></td><td style=\"text-align:left;\"><b><mark style=\"background-color:#ffff40;padding-left:0px;padding-right:0px\">JOSÉ</mark></b>&nbsp;ALDEMÁRIO&nbsp;PINHEIRO&nbsp;FILHO,&nbsp;vulgo&nbsp;“Léo&nbsp;Pinheiro”,\n",
              "</pre></td></tr>\n",
              "<tr><td><div class=\"certo\"/></td><td style=\"text-align:left;\"><b><mark style=\"background-color:#ffff40;padding-left:0px;padding-right:0px\">AGENOR</mark></b>&nbsp;FRANKLIN&nbsp;MAGALHÃES&nbsp;MEDEIROS,&nbsp;brasileiro\n",
              "</pre></td></tr>\n",
              "<tr><td><div class=\"certo\"/></td><td style=\"text-align:left;\">empreiteiras&nbsp;<b><mark style=\"background-color:#ffff40;padding-left:0px;padding-right:0px\">ODEBRECHT</mark></b>\n",
              "</pre></td></tr>\n",
              "<tr><td><div class=\"certo\"/></td><td style=\"text-align:left;\">integrantes&nbsp;do&nbsp;Grupo&nbsp;<b><mark style=\"background-color:#ffff40;padding-left:0px;padding-right:0px\">OAS</mark></b>\n",
              "</pre></td></tr>\n",
              "<tr><td><div class=\"certo\"/></td><td style=\"text-align:left;\">empresa&nbsp;<b><mark style=\"background-color:#ffff40;padding-left:0px;padding-right:0px\">GFD</mark></b>&nbsp;INVESTIMENTOS\n",
              "</pre></td></tr>\n",
              "<tr><td><div class=\"certo\"/></td><td style=\"text-align:left;\">conforme&nbsp;já&nbsp;apurado&nbsp;pelo&nbsp;<b><mark style=\"background-color:#ffff40;padding-left:0px;padding-right:0px\">TCU</mark></b>\n",
              "</pre></td></tr>\n",
              "<tr><td><div class=\"certo\"/></td><td style=\"text-align:left;\">no&nbsp;caso&nbsp;das&nbsp;empresas&nbsp;MO&nbsp;Consultoria,&nbsp;Empreiteira&nbsp;Rigidez&nbsp;e&nbsp;<b><mark style=\"background-color:#ffff40;padding-left:0px;padding-right:0px\">RCI</mark></b>&nbsp;Software\n",
              "</pre></td></tr>\n",
              "<tr><td><div class=\"certo\"/></td><td style=\"text-align:left;\"><b><mark style=\"background-color:#ffff40;padding-left:0px;padding-right:0px\">RELATÓRIO</mark></b>&nbsp;DE&nbsp;TENDÊNCIAs\n",
              "</pre></td></tr>\n",
              "<tr><td><div class=\"certo\"/></td><td style=\"text-align:left;\">três&nbsp;<b><mark style=\"background-color:#ffff40;padding-left:0px;padding-right:0px\">AOS</mark></b>&nbsp;númeROS</pre></td></tr><tr><td><div class=\"certo\"/></td><td style=\"text-align:left;\"><div style=\"color:#808080\">Texto&nbsp;aleATOrio\n",
              "&#9;(sem ocorrências)</div></td></tr>\n",
              "<tr><td><div class=\"certo\"/></td><td style=\"text-align:left;\"><div style=\"color:#808080\">CoNdUtAs&nbsp;ileGAIS\n",
              "&#9;(sem ocorrências)</div></td></tr>\n",
              "<tr><td><div class=\"certo\"/></td><td style=\"text-align:left;\"><div style=\"color:#808080\">rELATÓRIO&nbsp;DE&nbsp;TENDÊNCIAs\n",
              "&#9;(sem ocorrências)</div></td></tr>\n",
              "<tr><td><div class=\"certo\"/></td><td style=\"text-align:left;\"><div style=\"color:#808080\">a&nbsp;BE&nbsp;c\n",
              "&#9;(sem ocorrências)</div></td></tr>\n",
              "<tr><td><div class=\"certo\"/></td><td style=\"text-align:left;\"><div style=\"color:#808080\">duas&nbsp;DE&nbsp;palavras\n",
              "&#9;(sem ocorrências)</div></td></tr></table>"
            ],
            "text/plain": [
              "<IPython.core.display.HTML object>"
            ]
          },
          "metadata": {
            "tags": []
          }
        }
      ]
    },
    {
      "cell_type": "markdown",
      "metadata": {
        "azdata_cell_guid": "61f855da-cb67-4933-af79-a28abd2195bb",
        "id": "khXboY40tNpC"
      },
      "source": [
        "Duas palavras consecutivas, de no mínimo 2 letras cada, com TODAS as letras maiúsculas"
      ]
    },
    {
      "cell_type": "code",
      "metadata": {
        "azdata_cell_guid": "36d37f06-0d99-4cb5-94b7-7b5f3996abef",
        "id": "G_iS4xpttNpC",
        "colab": {
          "base_uri": "https://localhost:8080/",
          "height": 413
        },
        "outputId": "f4f290ed-722e-4244-95a8-c60aa7c3c935"
      },
      "source": [
        "exercicio(12, r'\\b[A-ZÁÓÉÊ]{2,}\\s+[A-ZÁÓÉÊ]{2,}\\b')"
      ],
      "execution_count": 64,
      "outputs": [
        {
          "output_type": "display_data",
          "data": {
            "text/html": [
              "<style>.certo {background-image: url('data:image/png;base64,iVBORw0KGgoAAAANSUhEUgAAABAAAAAQCAYAAAAf8/9hAAAABHNCSVQICAgIfAhkiAAAAAlwSFlzAAALEwAACxMBAJqcGAAAAgBJREFUOI2lkz1oU1EUx3/nvpcmNqWlNIoKFkFsXKrSOCkoDi6iVOwgCEWLiyBaTKuLdhP8ACkoig5iqoM4SDGDq2uLxUHFptWhHQTF1gzlNc27ufc6tHk0NMTBs917zu9/vu6F/zSpd7lvcnC/VeqUCF1Y61Aya8WOf8k8+NRQIDOVTYXGjImnjtdN51y+omXg68HRPxsEMlPZlHaVj4i3o1HJ1rk5iSd6Pu+9UwRQVceK1m/+BQMokZ2USq+jM0DPxFDGi/mHG4EnWjM0q/hq2Z461v3hanckEOrycCN4oP0o2S0nub31LLLWtQv1UCTglPRUg5MqHmWqwv0dR6hYw6v59zhc1XUAwAcQZxMALSrBvW39WGe5/vMlZ9oORfBIYYwJNYesjc06NkUCzthFoDNuPFpJsL25g1znJVJ+Wy3sRzNHtF2IWjAr5h3AIgGXC0/4UVog5behbYWb0zkmvFoYwJZ0PhIgKI1WgrJBoNiiuVJ4ynzwi5HpF0z684hXC+ulsl4uh49g3UNK5y/caNqcvCUxDxy4pTIkYxtgFxrC38HwTO+z+zUCOKQrf/5xrD150WtuqrtOE4SY4vLDQu/zQWR1HRs+U3r8XJ943l2VbNolvkIQrDboQH8TY67Nns69XR9f9zfikD3j/budeGlx4sS6mem+3Pdq1vX2FyOryD82RGIbAAAAAElFTkSuQmCC'); background-size: cover; height: 16px; width: 16px}.errado {background-image: url('data:image/png;base64,iVBORw0KGgoAAAANSUhEUgAAABAAAAAQCAYAAAAf8/9hAAAABHNCSVQICAgIfAhkiAAAAAlwSFlzAAALEwAACxMBAJqcGAAAAjNJREFUOI2lk01IVFEYhp9zznUcnUnH/Bk3WhCVFEFZbiwUAxeZlCJFWERBgZsIqRatWhuRi0BtFS1bSGQYlBLISD8EgbWwv0VFxlijThOpd+6ce1o49zrh4KZ3+XHe53u/j+/Af0rkK35ra9ythOgwmG0gDYIPUnC/+uHkm3UBM+3NFZC5KxFt+cCuNiNa67O1T17MrwHMtDdX4DqvpZQ160XOGPPZRdRvGp1cAJA+PeMMe2ZRXrl21mzNEmKzMPqeV5cAXw4f2GtZsgmAso2o60PIjhOr5s5uVN8glEQAKJCq9evRpl0AFkDGsS8HAoUrEecSzN8ZJNrTC1JiDFhdJ4kP3CCSXEDJlamdJfsScMYCcJH1XjdLSkITj/mhLKrOXwBg9nY/G2LjKKVWUxn2+QkMBHPnLVQKK1QMxgAQKQ4hc8wArqTIB2jXnQNqffqR4wSPnSY+1A9AdU8vGcvCjA77gLR2Ez5gydGPIkH2ALilEaxDncQHbxKOjQEQBypPnUPHxpGpXwD8yaRHIHsHYw115TWl4dnSYFC5xvBTKMq0QyAb29aapApQZTRCQMpOO9/TdlXLxFRSArS+ejeXWLSv2VojhSCK65u9nURZMS9rTWJx+WrLxFTST5BdpIjt3zEQDYV7SgIB8imVTpP4vXSr8fnbiwLMPwBPTxt3dhUp1RcuKNjipUhrTWrZ/mijrxx8Nv0g933e32hAxBrqtrpKbTcCI1z3ffPL6U9e11z9Bai+yG1sATfvAAAAAElFTkSuQmCC'); background-size: cover; height: 16px; width: 16px}</style><table><tr><td><div class=\"certo\"/></td><td style=\"text-align:left;\"><b><mark style=\"background-color:#ffff40;padding-left:0px;padding-right:0px\">ALBERTO&nbsp;YOUSSEF</mark></b>,&nbsp;brasileiro,&nbsp;casado,&nbsp;filho&nbsp;de&nbsp;Kalim&nbsp;Youssef&nbsp;e&nbsp;Antonieta&nbsp;Youssef\n",
              "</pre></td></tr>\n",
              "<tr><td><div class=\"certo\"/></td><td style=\"text-align:left;\"><b><mark style=\"background-color:#ffff40;padding-left:0px;padding-right:0px\">PAULO&nbsp;ROBERTO</mark></b>&nbsp;COSTA,&nbsp;ex-Diretor&nbsp;de&nbsp;Abastecimento&nbsp;da&nbsp;PETROBRAS\n",
              "</pre></td></tr>\n",
              "<tr><td><div class=\"certo\"/></td><td style=\"text-align:left;\"><b><mark style=\"background-color:#ffff40;padding-left:0px;padding-right:0px\">WALDOMIRO&nbsp;DE</mark></b>&nbsp;OLIVEIRA,&nbsp;conhecido&nbsp;“Bom&nbsp;Velhinho”\n",
              "</pre></td></tr>\n",
              "<tr><td><div class=\"certo\"/></td><td style=\"text-align:left;\"><b><mark style=\"background-color:#ffff40;padding-left:0px;padding-right:0px\">JOSÉ&nbsp;ALDEMÁRIO</mark></b>&nbsp;PINHEIRO&nbsp;FILHO,&nbsp;vulgo&nbsp;“Léo&nbsp;Pinheiro”,\n",
              "</pre></td></tr>\n",
              "<tr><td><div class=\"certo\"/></td><td style=\"text-align:left;\"><b><mark style=\"background-color:#ffff40;padding-left:0px;padding-right:0px\">AGENOR&nbsp;FRANKLIN</mark></b>&nbsp;MAGALHÃES&nbsp;MEDEIROS,&nbsp;brasileiro\n",
              "</pre></td></tr>\n",
              "<tr><td><div class=\"certo\"/></td><td style=\"text-align:left;\">empresa&nbsp;<b><mark style=\"background-color:#ffff40;padding-left:0px;padding-right:0px\">GFD&nbsp;INVESTIMENTOS</mark></b>\n",
              "</pre></td></tr>\n",
              "<tr><td><div class=\"certo\"/></td><td style=\"text-align:left;\"><b><mark style=\"background-color:#ffff40;padding-left:0px;padding-right:0px\">RELATÓRIO&nbsp;DE</mark></b>&nbsp;TENDÊNCIAs\n",
              "</pre></td></tr>\n",
              "<tr><td><div class=\"certo\"/></td><td style=\"text-align:left;\"><b><mark style=\"background-color:#ffff40;padding-left:0px;padding-right:0px\">VARIOS&nbsp;&nbsp;&nbsp;ESPACOS</mark></b>\n",
              "</pre></td></tr><tr><td><div class=\"certo\"/></td><td style=\"text-align:left;\"><div style=\"color:#808080\">empreiteiras&nbsp;ODEBRECHT\n",
              "&#9;(sem ocorrências)</div></td></tr>\n",
              "<tr><td><div class=\"certo\"/></td><td style=\"text-align:left;\"><div style=\"color:#808080\">integrantes&nbsp;do&nbsp;Grupo&nbsp;OAS\n",
              "&#9;(sem ocorrências)</div></td></tr>\n",
              "<tr><td><div class=\"certo\"/></td><td style=\"text-align:left;\"><div style=\"color:#808080\">conforme&nbsp;já&nbsp;apurado&nbsp;pelo&nbsp;TCU\n",
              "&#9;(sem ocorrências)</div></td></tr>\n",
              "<tr><td><div class=\"certo\"/></td><td style=\"text-align:left;\"><div style=\"color:#808080\">no&nbsp;caso&nbsp;das&nbsp;empresas&nbsp;MO&nbsp;Consultoria,&nbsp;Empreiteira&nbsp;Rigidez&nbsp;e&nbsp;RCI&nbsp;Software\n",
              "&#9;(sem ocorrências)</div></td></tr>\n",
              "<tr><td><div class=\"certo\"/></td><td style=\"text-align:left;\"><div style=\"color:#808080\">Texto&nbsp;aleATOrio\n",
              "&#9;(sem ocorrências)</div></td></tr>\n",
              "<tr><td><div class=\"certo\"/></td><td style=\"text-align:left;\"><div style=\"color:#808080\">CoNdUtAs&nbsp;ileGAIS\n",
              "&#9;(sem ocorrências)</div></td></tr>\n",
              "<tr><td><div class=\"certo\"/></td><td style=\"text-align:left;\"><div style=\"color:#808080\">rELATÓRIO&nbsp;DE&nbsp;TENDÊNCIAs\n",
              "&#9;(sem ocorrências)</div></td></tr>\n",
              "<tr><td><div class=\"certo\"/></td><td style=\"text-align:left;\"><div style=\"color:#808080\">a&nbsp;BE&nbsp;c\n",
              "&#9;(sem ocorrências)</div></td></tr>\n",
              "<tr><td><div class=\"certo\"/></td><td style=\"text-align:left;\"><div style=\"color:#808080\">TESTE&nbsp;A&nbsp;TESTE\n",
              "&#9;(sem ocorrências)</div></td></tr>\n",
              "<tr><td><div class=\"certo\"/></td><td style=\"text-align:left;\"><div style=\"color:#808080\">A&nbsp;BE&nbsp;C&nbsp;DE\n",
              "&#9;(sem ocorrências)</div></td></tr>\n",
              "<tr><td><div class=\"certo\"/></td><td style=\"text-align:left;\"><div style=\"color:#808080\">duas&nbsp;DE&nbsp;palavras\n",
              "&#9;(sem ocorrências)</div></td></tr>\n",
              "<tr><td><div class=\"certo\"/></td><td style=\"text-align:left;\"><div style=\"color:#808080\">três&nbsp;AOS&nbsp;númeROS&#9;(sem ocorrências)</div></td></tr></table>"
            ],
            "text/plain": [
              "<IPython.core.display.HTML object>"
            ]
          },
          "metadata": {
            "tags": []
          }
        }
      ]
    },
    {
      "cell_type": "markdown",
      "metadata": {
        "azdata_cell_guid": "a3d97365-40b5-40af-81fc-ac45b0a579d9",
        "id": "9i8Mz37XtNpC"
      },
      "source": [
        "Duas ou mais palavras consecutivas com todas as letras maiúsculas. Cada palavra pode possuir qualquer quantidade de letras."
      ]
    },
    {
      "cell_type": "code",
      "metadata": {
        "azdata_cell_guid": "55c88d65-ad1b-4b5b-a982-c6548c42d192",
        "id": "pzRWh72ltNpD",
        "colab": {
          "base_uri": "https://localhost:8080/",
          "height": 433
        },
        "outputId": "7c08ad43-6abf-40a8-c549-bebb4b5aa0b2"
      },
      "source": [
        "exercicio(13, r'\\b[A-ZÓÉ]+\\s+[A-ZÁ]+\\b(\\s[A-ZÃÊ]+)?(\\s[A-Z]+)?\\b')"
      ],
      "execution_count": 65,
      "outputs": [
        {
          "output_type": "display_data",
          "data": {
            "text/html": [
              "<style>.certo {background-image: url('data:image/png;base64,iVBORw0KGgoAAAANSUhEUgAAABAAAAAQCAYAAAAf8/9hAAAABHNCSVQICAgIfAhkiAAAAAlwSFlzAAALEwAACxMBAJqcGAAAAgBJREFUOI2lkz1oU1EUx3/nvpcmNqWlNIoKFkFsXKrSOCkoDi6iVOwgCEWLiyBaTKuLdhP8ACkoig5iqoM4SDGDq2uLxUHFptWhHQTF1gzlNc27ufc6tHk0NMTBs917zu9/vu6F/zSpd7lvcnC/VeqUCF1Y61Aya8WOf8k8+NRQIDOVTYXGjImnjtdN51y+omXg68HRPxsEMlPZlHaVj4i3o1HJ1rk5iSd6Pu+9UwRQVceK1m/+BQMokZ2USq+jM0DPxFDGi/mHG4EnWjM0q/hq2Z461v3hanckEOrycCN4oP0o2S0nub31LLLWtQv1UCTglPRUg5MqHmWqwv0dR6hYw6v59zhc1XUAwAcQZxMALSrBvW39WGe5/vMlZ9oORfBIYYwJNYesjc06NkUCzthFoDNuPFpJsL25g1znJVJ+Wy3sRzNHtF2IWjAr5h3AIgGXC0/4UVog5behbYWb0zkmvFoYwJZ0PhIgKI1WgrJBoNiiuVJ4ynzwi5HpF0z684hXC+ulsl4uh49g3UNK5y/caNqcvCUxDxy4pTIkYxtgFxrC38HwTO+z+zUCOKQrf/5xrD150WtuqrtOE4SY4vLDQu/zQWR1HRs+U3r8XJ943l2VbNolvkIQrDboQH8TY67Nns69XR9f9zfikD3j/budeGlx4sS6mem+3Pdq1vX2FyOryD82RGIbAAAAAElFTkSuQmCC'); background-size: cover; height: 16px; width: 16px}.errado {background-image: url('data:image/png;base64,iVBORw0KGgoAAAANSUhEUgAAABAAAAAQCAYAAAAf8/9hAAAABHNCSVQICAgIfAhkiAAAAAlwSFlzAAALEwAACxMBAJqcGAAAAjNJREFUOI2lk01IVFEYhp9zznUcnUnH/Bk3WhCVFEFZbiwUAxeZlCJFWERBgZsIqRatWhuRi0BtFS1bSGQYlBLISD8EgbWwv0VFxlijThOpd+6ce1o49zrh4KZ3+XHe53u/j+/Af0rkK35ra9ythOgwmG0gDYIPUnC/+uHkm3UBM+3NFZC5KxFt+cCuNiNa67O1T17MrwHMtDdX4DqvpZQ160XOGPPZRdRvGp1cAJA+PeMMe2ZRXrl21mzNEmKzMPqeV5cAXw4f2GtZsgmAso2o60PIjhOr5s5uVN8glEQAKJCq9evRpl0AFkDGsS8HAoUrEecSzN8ZJNrTC1JiDFhdJ4kP3CCSXEDJlamdJfsScMYCcJH1XjdLSkITj/mhLKrOXwBg9nY/G2LjKKVWUxn2+QkMBHPnLVQKK1QMxgAQKQ4hc8wArqTIB2jXnQNqffqR4wSPnSY+1A9AdU8vGcvCjA77gLR2Ez5gydGPIkH2ALilEaxDncQHbxKOjQEQBypPnUPHxpGpXwD8yaRHIHsHYw115TWl4dnSYFC5xvBTKMq0QyAb29aapApQZTRCQMpOO9/TdlXLxFRSArS+ejeXWLSv2VojhSCK65u9nURZMS9rTWJx+WrLxFTST5BdpIjt3zEQDYV7SgIB8imVTpP4vXSr8fnbiwLMPwBPTxt3dhUp1RcuKNjipUhrTWrZ/mijrxx8Nv0g933e32hAxBrqtrpKbTcCI1z3ffPL6U9e11z9Bai+yG1sATfvAAAAAElFTkSuQmCC'); background-size: cover; height: 16px; width: 16px}</style><table><tr><td><div class=\"certo\"/></td><td style=\"text-align:left;\"><b><mark style=\"background-color:#ffff40;padding-left:0px;padding-right:0px\">ALBERTO&nbsp;YOUSSEF</mark></b>,&nbsp;brasileiro,&nbsp;casado,&nbsp;filho&nbsp;de&nbsp;Kalim&nbsp;Youssef&nbsp;e&nbsp;Antonieta&nbsp;Youssef\n",
              "</pre></td></tr>\n",
              "<tr><td><div class=\"certo\"/></td><td style=\"text-align:left;\"><b><mark style=\"background-color:#ffff40;padding-left:0px;padding-right:0px\">PAULO&nbsp;ROBERTO&nbsp;COSTA</mark></b>,&nbsp;ex-Diretor&nbsp;de&nbsp;Abastecimento&nbsp;da&nbsp;PETROBRAS\n",
              "</pre></td></tr>\n",
              "<tr><td><div class=\"certo\"/></td><td style=\"text-align:left;\"><b><mark style=\"background-color:#ffff40;padding-left:0px;padding-right:0px\">WALDOMIRO&nbsp;DE&nbsp;OLIVEIRA</mark></b>,&nbsp;conhecido&nbsp;“Bom&nbsp;Velhinho”\n",
              "</pre></td></tr>\n",
              "<tr><td><div class=\"certo\"/></td><td style=\"text-align:left;\"><b><mark style=\"background-color:#ffff40;padding-left:0px;padding-right:0px\">JOSÉ&nbsp;ALDEMÁRIO&nbsp;PINHEIRO&nbsp;FILHO</mark></b>,&nbsp;vulgo&nbsp;“Léo&nbsp;Pinheiro”,\n",
              "</pre></td></tr>\n",
              "<tr><td><div class=\"certo\"/></td><td style=\"text-align:left;\"><b><mark style=\"background-color:#ffff40;padding-left:0px;padding-right:0px\">AGENOR&nbsp;FRANKLIN&nbsp;MAGALHÃES&nbsp;MEDEIROS</mark></b>,&nbsp;brasileiro\n",
              "</pre></td></tr>\n",
              "<tr><td><div class=\"certo\"/></td><td style=\"text-align:left;\">empresa&nbsp;<b><mark style=\"background-color:#ffff40;padding-left:0px;padding-right:0px\">GFD&nbsp;INVESTIMENTOS</mark></b>\n",
              "</pre></td></tr>\n",
              "<tr><td><div class=\"certo\"/></td><td style=\"text-align:left;\"><b><mark style=\"background-color:#ffff40;padding-left:0px;padding-right:0px\">RELATÓRIO&nbsp;DE</mark></b>&nbsp;TENDÊNCIAs\n",
              "</pre></td></tr>\n",
              "<tr><td><div class=\"certo\"/></td><td style=\"text-align:left;\"><b><mark style=\"background-color:#ffff40;padding-left:0px;padding-right:0px\">TESTE&nbsp;A&nbsp;TESTE</mark></b>\n",
              "</pre></td></tr>\n",
              "<tr><td><div class=\"certo\"/></td><td style=\"text-align:left;\"><b><mark style=\"background-color:#ffff40;padding-left:0px;padding-right:0px\">A&nbsp;BE&nbsp;C&nbsp;DE</mark></b>\n",
              "</pre></td></tr>\n",
              "<tr><td><div class=\"certo\"/></td><td style=\"text-align:left;\"><b><mark style=\"background-color:#ffff40;padding-left:0px;padding-right:0px\">VARIOS&nbsp;&nbsp;&nbsp;ESPACOS</mark></b>\n",
              "</pre></td></tr><tr><td><div class=\"certo\"/></td><td style=\"text-align:left;\"><div style=\"color:#808080\">empreiteiras&nbsp;ODEBRECHT\n",
              "&#9;(sem ocorrências)</div></td></tr>\n",
              "<tr><td><div class=\"certo\"/></td><td style=\"text-align:left;\"><div style=\"color:#808080\">integrantes&nbsp;do&nbsp;Grupo&nbsp;OAS\n",
              "&#9;(sem ocorrências)</div></td></tr>\n",
              "<tr><td><div class=\"certo\"/></td><td style=\"text-align:left;\"><div style=\"color:#808080\">conforme&nbsp;já&nbsp;apurado&nbsp;pelo&nbsp;TCU\n",
              "&#9;(sem ocorrências)</div></td></tr>\n",
              "<tr><td><div class=\"certo\"/></td><td style=\"text-align:left;\"><div style=\"color:#808080\">no&nbsp;caso&nbsp;das&nbsp;empresas&nbsp;MO&nbsp;Consultoria,&nbsp;Empreiteira&nbsp;Rigidez&nbsp;e&nbsp;RCI&nbsp;Software\n",
              "&#9;(sem ocorrências)</div></td></tr>\n",
              "<tr><td><div class=\"certo\"/></td><td style=\"text-align:left;\"><div style=\"color:#808080\">Texto&nbsp;aleATOrio\n",
              "&#9;(sem ocorrências)</div></td></tr>\n",
              "<tr><td><div class=\"certo\"/></td><td style=\"text-align:left;\"><div style=\"color:#808080\">CoNdUtAs&nbsp;ileGAIS\n",
              "&#9;(sem ocorrências)</div></td></tr>\n",
              "<tr><td><div class=\"certo\"/></td><td style=\"text-align:left;\"><div style=\"color:#808080\">rELATÓRIO&nbsp;DE&nbsp;TENDÊNCIAs\n",
              "&#9;(sem ocorrências)</div></td></tr>\n",
              "<tr><td><div class=\"certo\"/></td><td style=\"text-align:left;\"><div style=\"color:#808080\">a&nbsp;BE&nbsp;c\n",
              "&#9;(sem ocorrências)</div></td></tr>\n",
              "<tr><td><div class=\"certo\"/></td><td style=\"text-align:left;\"><div style=\"color:#808080\">varios&nbsp;&nbsp;&nbsp;&nbsp;&nbsp;espacos\n",
              "&#9;(sem ocorrências)</div></td></tr>\n",
              "<tr><td><div class=\"certo\"/></td><td style=\"text-align:left;\"><div style=\"color:#808080\">duas&nbsp;DE&nbsp;palavras\n",
              "&#9;(sem ocorrências)</div></td></tr>\n",
              "<tr><td><div class=\"certo\"/></td><td style=\"text-align:left;\"><div style=\"color:#808080\">três&nbsp;AOS&nbsp;númeROS&#9;(sem ocorrências)</div></td></tr></table>"
            ],
            "text/plain": [
              "<IPython.core.display.HTML object>"
            ]
          },
          "metadata": {
            "tags": []
          }
        }
      ]
    },
    {
      "cell_type": "markdown",
      "metadata": {
        "azdata_cell_guid": "c70e262f-fcb0-4f3e-9dcf-89ceb264804a",
        "id": "3Yw3xUSVtNpD"
      },
      "source": [
        "Uma linha contendo exatamente um endereço [IP](https://en.wikipedia.org/wiki/IP_address). ex.: 127.0.0.1, 192.168.0.254. Um IP é formado por exatamente 4 números separados por pontos. Cada número possui no máximo 3 dígitos."
      ]
    },
    {
      "cell_type": "code",
      "metadata": {
        "azdata_cell_guid": "676d6e01-75d0-4d91-9866-1ebca1aaa5f7",
        "id": "fU0x-WdftNpD",
        "colab": {
          "base_uri": "https://localhost:8080/",
          "height": 452
        },
        "outputId": "990325b9-0894-41c7-e3d2-99ea9064f102"
      },
      "source": [
        "exercicio(14, r'^\\d{1,3}\\.\\d{1,3}\\.\\d{1,3}\\.\\d{1,3}$')"
      ],
      "execution_count": 66,
      "outputs": [
        {
          "output_type": "display_data",
          "data": {
            "text/html": [
              "<style>.certo {background-image: url('data:image/png;base64,iVBORw0KGgoAAAANSUhEUgAAABAAAAAQCAYAAAAf8/9hAAAABHNCSVQICAgIfAhkiAAAAAlwSFlzAAALEwAACxMBAJqcGAAAAgBJREFUOI2lkz1oU1EUx3/nvpcmNqWlNIoKFkFsXKrSOCkoDi6iVOwgCEWLiyBaTKuLdhP8ACkoig5iqoM4SDGDq2uLxUHFptWhHQTF1gzlNc27ufc6tHk0NMTBs917zu9/vu6F/zSpd7lvcnC/VeqUCF1Y61Aya8WOf8k8+NRQIDOVTYXGjImnjtdN51y+omXg68HRPxsEMlPZlHaVj4i3o1HJ1rk5iSd6Pu+9UwRQVceK1m/+BQMokZ2USq+jM0DPxFDGi/mHG4EnWjM0q/hq2Z461v3hanckEOrycCN4oP0o2S0nub31LLLWtQv1UCTglPRUg5MqHmWqwv0dR6hYw6v59zhc1XUAwAcQZxMALSrBvW39WGe5/vMlZ9oORfBIYYwJNYesjc06NkUCzthFoDNuPFpJsL25g1znJVJ+Wy3sRzNHtF2IWjAr5h3AIgGXC0/4UVog5behbYWb0zkmvFoYwJZ0PhIgKI1WgrJBoNiiuVJ4ynzwi5HpF0z684hXC+ulsl4uh49g3UNK5y/caNqcvCUxDxy4pTIkYxtgFxrC38HwTO+z+zUCOKQrf/5xrD150WtuqrtOE4SY4vLDQu/zQWR1HRs+U3r8XJ943l2VbNolvkIQrDboQH8TY67Nns69XR9f9zfikD3j/budeGlx4sS6mem+3Pdq1vX2FyOryD82RGIbAAAAAElFTkSuQmCC'); background-size: cover; height: 16px; width: 16px}.errado {background-image: url('data:image/png;base64,iVBORw0KGgoAAAANSUhEUgAAABAAAAAQCAYAAAAf8/9hAAAABHNCSVQICAgIfAhkiAAAAAlwSFlzAAALEwAACxMBAJqcGAAAAjNJREFUOI2lk01IVFEYhp9zznUcnUnH/Bk3WhCVFEFZbiwUAxeZlCJFWERBgZsIqRatWhuRi0BtFS1bSGQYlBLISD8EgbWwv0VFxlijThOpd+6ce1o49zrh4KZ3+XHe53u/j+/Af0rkK35ra9ythOgwmG0gDYIPUnC/+uHkm3UBM+3NFZC5KxFt+cCuNiNa67O1T17MrwHMtDdX4DqvpZQ160XOGPPZRdRvGp1cAJA+PeMMe2ZRXrl21mzNEmKzMPqeV5cAXw4f2GtZsgmAso2o60PIjhOr5s5uVN8glEQAKJCq9evRpl0AFkDGsS8HAoUrEecSzN8ZJNrTC1JiDFhdJ4kP3CCSXEDJlamdJfsScMYCcJH1XjdLSkITj/mhLKrOXwBg9nY/G2LjKKVWUxn2+QkMBHPnLVQKK1QMxgAQKQ4hc8wArqTIB2jXnQNqffqR4wSPnSY+1A9AdU8vGcvCjA77gLR2Ez5gydGPIkH2ALilEaxDncQHbxKOjQEQBypPnUPHxpGpXwD8yaRHIHsHYw115TWl4dnSYFC5xvBTKMq0QyAb29aapApQZTRCQMpOO9/TdlXLxFRSArS+ejeXWLSv2VojhSCK65u9nURZMS9rTWJx+WrLxFTST5BdpIjt3zEQDYV7SgIB8imVTpP4vXSr8fnbiwLMPwBPTxt3dhUp1RcuKNjipUhrTWrZ/mijrxx8Nv0g933e32hAxBrqtrpKbTcCI1z3ffPL6U9e11z9Bai+yG1sATfvAAAAAElFTkSuQmCC'); background-size: cover; height: 16px; width: 16px}</style><table><tr><td><div class=\"certo\"/></td><td style=\"text-align:left;\"><b><mark style=\"background-color:#ffff40;padding-left:0px;padding-right:0px\">127.0.0.1</mark></b>\n",
              "</pre></td></tr>\n",
              "<tr><td><div class=\"certo\"/></td><td style=\"text-align:left;\"><b><mark style=\"background-color:#ffff40;padding-left:0px;padding-right:0px\">192.168.0.254</mark></b>\n",
              "</pre></td></tr>\n",
              "<tr><td><div class=\"certo\"/></td><td style=\"text-align:left;\"><b><mark style=\"background-color:#ffff40;padding-left:0px;padding-right:0px\">10.11.10.11</mark></b>\n",
              "</pre></td></tr>\n",
              "<tr><td><div class=\"certo\"/></td><td style=\"text-align:left;\"><b><mark style=\"background-color:#ffff40;padding-left:0px;padding-right:0px\">127.127.127.127</mark></b></pre></td></tr><tr><td><div class=\"certo\"/></td><td style=\"text-align:left;\"><div style=\"color:#808080\">9999.0.0.1\n",
              "&#9;(sem ocorrências)</div></td></tr>\n",
              "<tr><td><div class=\"certo\"/></td><td style=\"text-align:left;\"><div style=\"color:#808080\">127404041\n",
              "&#9;(sem ocorrências)</div></td></tr>\n",
              "<tr><td><div class=\"certo\"/></td><td style=\"text-align:left;\"><div style=\"color:#808080\">a127.0.0.1\n",
              "&#9;(sem ocorrências)</div></td></tr>\n",
              "<tr><td><div class=\"certo\"/></td><td style=\"text-align:left;\"><div style=\"color:#808080\">127.a.a.1\n",
              "&#9;(sem ocorrências)</div></td></tr>\n",
              "<tr><td><div class=\"certo\"/></td><td style=\"text-align:left;\"><div style=\"color:#808080\">127.0.0.1a\n",
              "&#9;(sem ocorrências)</div></td></tr>\n",
              "<tr><td><div class=\"certo\"/></td><td style=\"text-align:left;\"><div style=\"color:#808080\">xxx.yyy.zzz.www\n",
              "&#9;(sem ocorrências)</div></td></tr>\n",
              "<tr><td><div class=\"certo\"/></td><td style=\"text-align:left;\"><div style=\"color:#808080\">0.0.0.a\n",
              "&#9;(sem ocorrências)</div></td></tr>\n",
              "<tr><td><div class=\"certo\"/></td><td style=\"text-align:left;\"><div style=\"color:#808080\">127.0.0.1.0\n",
              "&#9;(sem ocorrências)</div></td></tr>\n",
              "<tr><td><div class=\"certo\"/></td><td style=\"text-align:left;\"><div style=\"color:#808080\">palavra\n",
              "&#9;(sem ocorrências)</div></td></tr>\n",
              "<tr><td><div class=\"certo\"/></td><td style=\"text-align:left;\"><div style=\"color:#808080\">0.1.2.\n",
              "&#9;(sem ocorrências)</div></td></tr>\n",
              "<tr><td><div class=\"certo\"/></td><td style=\"text-align:left;\"><div style=\"color:#808080\">.0.1.2\n",
              "&#9;(sem ocorrências)</div></td></tr>\n",
              "<tr><td><div class=\"certo\"/></td><td style=\"text-align:left;\"><div style=\"color:#808080\">.0.1.2.\n",
              "&#9;(sem ocorrências)</div></td></tr>\n",
              "<tr><td><div class=\"certo\"/></td><td style=\"text-align:left;\"><div style=\"color:#808080\">.0.1.2.3.\n",
              "&#9;(sem ocorrências)</div></td></tr>\n",
              "<tr><td><div class=\"certo\"/></td><td style=\"text-align:left;\"><div style=\"color:#808080\">.0.1.2.3.4.\n",
              "&#9;(sem ocorrências)</div></td></tr>\n",
              "<tr><td><div class=\"certo\"/></td><td style=\"text-align:left;\"><div style=\"color:#808080\">0.1.2.3.4.\n",
              "&#9;(sem ocorrências)</div></td></tr>\n",
              "<tr><td><div class=\"certo\"/></td><td style=\"text-align:left;\"><div style=\"color:#808080\">.0.1.2.3.4\n",
              "&#9;(sem ocorrências)</div></td></tr>\n",
              "<tr><td><div class=\"certo\"/></td><td style=\"text-align:left;\"><div style=\"color:#808080\">0.1.2.3.4\n",
              "&#9;(sem ocorrências)</div></td></tr>\n",
              "<tr><td><div class=\"certo\"/></td><td style=\"text-align:left;\"><div style=\"color:#808080\">a0.1.2.3b\n",
              "&#9;(sem ocorrências)</div></td></tr></table>"
            ],
            "text/plain": [
              "<IPython.core.display.HTML object>"
            ]
          },
          "metadata": {
            "tags": []
          }
        }
      ]
    },
    {
      "cell_type": "markdown",
      "metadata": {
        "azdata_cell_guid": "3f9015bc-0c9a-4d80-a157-03bd67084beb",
        "id": "8CUb9D8QtNpD"
      },
      "source": [
        "Uma linha contendo exatamente um CPF com separador de milhares e hífen."
      ]
    },
    {
      "cell_type": "code",
      "metadata": {
        "azdata_cell_guid": "56beee36-28e8-493b-a8d7-6a859a82efe3",
        "id": "aMLwTIjDtNpD",
        "colab": {
          "base_uri": "https://localhost:8080/",
          "height": 373
        },
        "outputId": "aed60a7f-368a-412e-df13-84ae666e9348"
      },
      "source": [
        "exercicio(15, r'^\\d{3}\\.\\d{3}\\.\\d{3}\\-\\d{2}$')"
      ],
      "execution_count": 67,
      "outputs": [
        {
          "output_type": "display_data",
          "data": {
            "text/html": [
              "<style>.certo {background-image: url('data:image/png;base64,iVBORw0KGgoAAAANSUhEUgAAABAAAAAQCAYAAAAf8/9hAAAABHNCSVQICAgIfAhkiAAAAAlwSFlzAAALEwAACxMBAJqcGAAAAgBJREFUOI2lkz1oU1EUx3/nvpcmNqWlNIoKFkFsXKrSOCkoDi6iVOwgCEWLiyBaTKuLdhP8ACkoig5iqoM4SDGDq2uLxUHFptWhHQTF1gzlNc27ufc6tHk0NMTBs917zu9/vu6F/zSpd7lvcnC/VeqUCF1Y61Aya8WOf8k8+NRQIDOVTYXGjImnjtdN51y+omXg68HRPxsEMlPZlHaVj4i3o1HJ1rk5iSd6Pu+9UwRQVceK1m/+BQMokZ2USq+jM0DPxFDGi/mHG4EnWjM0q/hq2Z461v3hanckEOrycCN4oP0o2S0nub31LLLWtQv1UCTglPRUg5MqHmWqwv0dR6hYw6v59zhc1XUAwAcQZxMALSrBvW39WGe5/vMlZ9oORfBIYYwJNYesjc06NkUCzthFoDNuPFpJsL25g1znJVJ+Wy3sRzNHtF2IWjAr5h3AIgGXC0/4UVog5behbYWb0zkmvFoYwJZ0PhIgKI1WgrJBoNiiuVJ4ynzwi5HpF0z684hXC+ulsl4uh49g3UNK5y/caNqcvCUxDxy4pTIkYxtgFxrC38HwTO+z+zUCOKQrf/5xrD150WtuqrtOE4SY4vLDQu/zQWR1HRs+U3r8XJ943l2VbNolvkIQrDboQH8TY67Nns69XR9f9zfikD3j/budeGlx4sS6mem+3Pdq1vX2FyOryD82RGIbAAAAAElFTkSuQmCC'); background-size: cover; height: 16px; width: 16px}.errado {background-image: url('data:image/png;base64,iVBORw0KGgoAAAANSUhEUgAAABAAAAAQCAYAAAAf8/9hAAAABHNCSVQICAgIfAhkiAAAAAlwSFlzAAALEwAACxMBAJqcGAAAAjNJREFUOI2lk01IVFEYhp9zznUcnUnH/Bk3WhCVFEFZbiwUAxeZlCJFWERBgZsIqRatWhuRi0BtFS1bSGQYlBLISD8EgbWwv0VFxlijThOpd+6ce1o49zrh4KZ3+XHe53u/j+/Af0rkK35ra9ythOgwmG0gDYIPUnC/+uHkm3UBM+3NFZC5KxFt+cCuNiNa67O1T17MrwHMtDdX4DqvpZQ160XOGPPZRdRvGp1cAJA+PeMMe2ZRXrl21mzNEmKzMPqeV5cAXw4f2GtZsgmAso2o60PIjhOr5s5uVN8glEQAKJCq9evRpl0AFkDGsS8HAoUrEecSzN8ZJNrTC1JiDFhdJ4kP3CCSXEDJlamdJfsScMYCcJH1XjdLSkITj/mhLKrOXwBg9nY/G2LjKKVWUxn2+QkMBHPnLVQKK1QMxgAQKQ4hc8wArqTIB2jXnQNqffqR4wSPnSY+1A9AdU8vGcvCjA77gLR2Ez5gydGPIkH2ALilEaxDncQHbxKOjQEQBypPnUPHxpGpXwD8yaRHIHsHYw115TWl4dnSYFC5xvBTKMq0QyAb29aapApQZTRCQMpOO9/TdlXLxFRSArS+ejeXWLSv2VojhSCK65u9nURZMS9rTWJx+WrLxFTST5BdpIjt3zEQDYV7SgIB8imVTpP4vXSr8fnbiwLMPwBPTxt3dhUp1RcuKNjipUhrTWrZ/mijrxx8Nv0g933e32hAxBrqtrpKbTcCI1z3ffPL6U9e11z9Bai+yG1sATfvAAAAAElFTkSuQmCC'); background-size: cover; height: 16px; width: 16px}</style><table><tr><td><div class=\"certo\"/></td><td style=\"text-align:left;\"><b><mark style=\"background-color:#ffff40;padding-left:0px;padding-right:0px\">000.000.000-00</mark></b>\n",
              "</pre></td></tr>\n",
              "<tr><td><div class=\"certo\"/></td><td style=\"text-align:left;\"><b><mark style=\"background-color:#ffff40;padding-left:0px;padding-right:0px\">111.111.111-11</mark></b>\n",
              "</pre></td></tr><tr><td><div class=\"certo\"/></td><td style=\"text-align:left;\"><div style=\"color:#808080\">0111.111.111-11\n",
              "&#9;(sem ocorrências)</div></td></tr>\n",
              "<tr><td><div class=\"certo\"/></td><td style=\"text-align:left;\"><div style=\"color:#808080\">111.111.111-110\n",
              "&#9;(sem ocorrências)</div></td></tr>\n",
              "<tr><td><div class=\"certo\"/></td><td style=\"text-align:left;\"><div style=\"color:#808080\">111.0111.0111-11\n",
              "&#9;(sem ocorrências)</div></td></tr>\n",
              "<tr><td><div class=\"certo\"/></td><td style=\"text-align:left;\"><div style=\"color:#808080\">11101110111-11\n",
              "&#9;(sem ocorrências)</div></td></tr>\n",
              "<tr><td><div class=\"certo\"/></td><td style=\"text-align:left;\"><div style=\"color:#808080\">111.111.111111\n",
              "&#9;(sem ocorrências)</div></td></tr>\n",
              "<tr><td><div class=\"certo\"/></td><td style=\"text-align:left;\"><div style=\"color:#808080\">1110110111111\n",
              "&#9;(sem ocorrências)</div></td></tr>\n",
              "<tr><td><div class=\"certo\"/></td><td style=\"text-align:left;\"><div style=\"color:#808080\">111011011111\n",
              "&#9;(sem ocorrências)</div></td></tr>\n",
              "<tr><td><div class=\"certo\"/></td><td style=\"text-align:left;\"><div style=\"color:#808080\">11101101111\n",
              "&#9;(sem ocorrências)</div></td></tr>\n",
              "<tr><td><div class=\"certo\"/></td><td style=\"text-align:left;\"><div style=\"color:#808080\">1110110111\n",
              "&#9;(sem ocorrências)</div></td></tr>\n",
              "<tr><td><div class=\"certo\"/></td><td style=\"text-align:left;\"><div style=\"color:#808080\">111011011\n",
              "&#9;(sem ocorrências)</div></td></tr>\n",
              "<tr><td><div class=\"certo\"/></td><td style=\"text-align:left;\"><div style=\"color:#808080\">.111011011-11\n",
              "&#9;(sem ocorrências)</div></td></tr>\n",
              "<tr><td><div class=\"certo\"/></td><td style=\"text-align:left;\"><div style=\"color:#808080\">..111011011-11\n",
              "&#9;(sem ocorrências)</div></td></tr>\n",
              "<tr><td><div class=\"certo\"/></td><td style=\"text-align:left;\"><div style=\"color:#808080\">...111011011-11\n",
              "&#9;(sem ocorrências)</div></td></tr>\n",
              "<tr><td><div class=\"certo\"/></td><td style=\"text-align:left;\"><div style=\"color:#808080\">..1.11011011-11\n",
              "&#9;(sem ocorrências)</div></td></tr>\n",
              "<tr><td><div class=\"certo\"/></td><td style=\"text-align:left;\"><div style=\"color:#808080\">.1.1.1011011-11\n",
              "&#9;(sem ocorrências)</div></td></tr>\n",
              "<tr><td><div class=\"certo\"/></td><td style=\"text-align:left;\"><div style=\"color:#808080\">1.1.1.011011-11&#9;(sem ocorrências)</div></td></tr></table>"
            ],
            "text/plain": [
              "<IPython.core.display.HTML object>"
            ]
          },
          "metadata": {
            "tags": []
          }
        }
      ]
    },
    {
      "cell_type": "markdown",
      "metadata": {
        "azdata_cell_guid": "fd21c8d2-308b-4db7-83fe-6ad9076b6298",
        "id": "qeXYBPaJtNpE"
      },
      "source": [
        "Uma linha contendo exatamente um CPF com separador de milhares opcional e hífen opcional."
      ]
    },
    {
      "cell_type": "code",
      "metadata": {
        "azdata_cell_guid": "42035130-c153-4283-8eb3-2508d256a9b6",
        "id": "37zxOFQ0tNpE",
        "colab": {
          "base_uri": "https://localhost:8080/",
          "height": 413
        },
        "outputId": "5dc8adbf-f5e4-454a-abb6-6606db2d6f39"
      },
      "source": [
        "exercicio(16, r'^\\d{3}\\.?\\d{3}\\.?\\d{3}\\-?\\d{2}$')"
      ],
      "execution_count": 68,
      "outputs": [
        {
          "output_type": "display_data",
          "data": {
            "text/html": [
              "<style>.certo {background-image: url('data:image/png;base64,iVBORw0KGgoAAAANSUhEUgAAABAAAAAQCAYAAAAf8/9hAAAABHNCSVQICAgIfAhkiAAAAAlwSFlzAAALEwAACxMBAJqcGAAAAgBJREFUOI2lkz1oU1EUx3/nvpcmNqWlNIoKFkFsXKrSOCkoDi6iVOwgCEWLiyBaTKuLdhP8ACkoig5iqoM4SDGDq2uLxUHFptWhHQTF1gzlNc27ufc6tHk0NMTBs917zu9/vu6F/zSpd7lvcnC/VeqUCF1Y61Aya8WOf8k8+NRQIDOVTYXGjImnjtdN51y+omXg68HRPxsEMlPZlHaVj4i3o1HJ1rk5iSd6Pu+9UwRQVceK1m/+BQMokZ2USq+jM0DPxFDGi/mHG4EnWjM0q/hq2Z461v3hanckEOrycCN4oP0o2S0nub31LLLWtQv1UCTglPRUg5MqHmWqwv0dR6hYw6v59zhc1XUAwAcQZxMALSrBvW39WGe5/vMlZ9oORfBIYYwJNYesjc06NkUCzthFoDNuPFpJsL25g1znJVJ+Wy3sRzNHtF2IWjAr5h3AIgGXC0/4UVog5behbYWb0zkmvFoYwJZ0PhIgKI1WgrJBoNiiuVJ4ynzwi5HpF0z684hXC+ulsl4uh49g3UNK5y/caNqcvCUxDxy4pTIkYxtgFxrC38HwTO+z+zUCOKQrf/5xrD150WtuqrtOE4SY4vLDQu/zQWR1HRs+U3r8XJ943l2VbNolvkIQrDboQH8TY67Nns69XR9f9zfikD3j/budeGlx4sS6mem+3Pdq1vX2FyOryD82RGIbAAAAAElFTkSuQmCC'); background-size: cover; height: 16px; width: 16px}.errado {background-image: url('data:image/png;base64,iVBORw0KGgoAAAANSUhEUgAAABAAAAAQCAYAAAAf8/9hAAAABHNCSVQICAgIfAhkiAAAAAlwSFlzAAALEwAACxMBAJqcGAAAAjNJREFUOI2lk01IVFEYhp9zznUcnUnH/Bk3WhCVFEFZbiwUAxeZlCJFWERBgZsIqRatWhuRi0BtFS1bSGQYlBLISD8EgbWwv0VFxlijThOpd+6ce1o49zrh4KZ3+XHe53u/j+/Af0rkK35ra9ythOgwmG0gDYIPUnC/+uHkm3UBM+3NFZC5KxFt+cCuNiNa67O1T17MrwHMtDdX4DqvpZQ160XOGPPZRdRvGp1cAJA+PeMMe2ZRXrl21mzNEmKzMPqeV5cAXw4f2GtZsgmAso2o60PIjhOr5s5uVN8glEQAKJCq9evRpl0AFkDGsS8HAoUrEecSzN8ZJNrTC1JiDFhdJ4kP3CCSXEDJlamdJfsScMYCcJH1XjdLSkITj/mhLKrOXwBg9nY/G2LjKKVWUxn2+QkMBHPnLVQKK1QMxgAQKQ4hc8wArqTIB2jXnQNqffqR4wSPnSY+1A9AdU8vGcvCjA77gLR2Ez5gydGPIkH2ALilEaxDncQHbxKOjQEQBypPnUPHxpGpXwD8yaRHIHsHYw115TWl4dnSYFC5xvBTKMq0QyAb29aapApQZTRCQMpOO9/TdlXLxFRSArS+ejeXWLSv2VojhSCK65u9nURZMS9rTWJx+WrLxFTST5BdpIjt3zEQDYV7SgIB8imVTpP4vXSr8fnbiwLMPwBPTxt3dhUp1RcuKNjipUhrTWrZ/mijrxx8Nv0g933e32hAxBrqtrpKbTcCI1z3ffPL6U9e11z9Bai+yG1sATfvAAAAAElFTkSuQmCC'); background-size: cover; height: 16px; width: 16px}</style><table><tr><td><div class=\"certo\"/></td><td style=\"text-align:left;\"><b><mark style=\"background-color:#ffff40;padding-left:0px;padding-right:0px\">000.000.000-00</mark></b>\n",
              "</pre></td></tr>\n",
              "<tr><td><div class=\"certo\"/></td><td style=\"text-align:left;\"><b><mark style=\"background-color:#ffff40;padding-left:0px;padding-right:0px\">111.111.111-11</mark></b>\n",
              "</pre></td></tr>\n",
              "<tr><td><div class=\"certo\"/></td><td style=\"text-align:left;\"><b><mark style=\"background-color:#ffff40;padding-left:0px;padding-right:0px\">111111.111-11</mark></b>\n",
              "</pre></td></tr>\n",
              "<tr><td><div class=\"certo\"/></td><td style=\"text-align:left;\"><b><mark style=\"background-color:#ffff40;padding-left:0px;padding-right:0px\">111.111111-11</mark></b>\n",
              "</pre></td></tr>\n",
              "<tr><td><div class=\"certo\"/></td><td style=\"text-align:left;\"><b><mark style=\"background-color:#ffff40;padding-left:0px;padding-right:0px\">11101101111</mark></b>\n",
              "</pre></td></tr><tr><td><div class=\"certo\"/></td><td style=\"text-align:left;\"><div style=\"color:#808080\">0111.111.111-11\n",
              "&#9;(sem ocorrências)</div></td></tr>\n",
              "<tr><td><div class=\"certo\"/></td><td style=\"text-align:left;\"><div style=\"color:#808080\">111.111.111-110\n",
              "&#9;(sem ocorrências)</div></td></tr>\n",
              "<tr><td><div class=\"certo\"/></td><td style=\"text-align:left;\"><div style=\"color:#808080\">111.0111.0111-11\n",
              "&#9;(sem ocorrências)</div></td></tr>\n",
              "<tr><td><div class=\"certo\"/></td><td style=\"text-align:left;\"><div style=\"color:#808080\">11101110111-11\n",
              "&#9;(sem ocorrências)</div></td></tr>\n",
              "<tr><td><div class=\"certo\"/></td><td style=\"text-align:left;\"><div style=\"color:#808080\">111.111.111111\n",
              "&#9;(sem ocorrências)</div></td></tr>\n",
              "<tr><td><div class=\"certo\"/></td><td style=\"text-align:left;\"><div style=\"color:#808080\">1110110111111\n",
              "&#9;(sem ocorrências)</div></td></tr>\n",
              "<tr><td><div class=\"certo\"/></td><td style=\"text-align:left;\"><div style=\"color:#808080\">111011011111\n",
              "&#9;(sem ocorrências)</div></td></tr>\n",
              "<tr><td><div class=\"certo\"/></td><td style=\"text-align:left;\"><div style=\"color:#808080\">1110110111\n",
              "&#9;(sem ocorrências)</div></td></tr>\n",
              "<tr><td><div class=\"certo\"/></td><td style=\"text-align:left;\"><div style=\"color:#808080\">111011011\n",
              "&#9;(sem ocorrências)</div></td></tr>\n",
              "<tr><td><div class=\"certo\"/></td><td style=\"text-align:left;\"><div style=\"color:#808080\">.111011011-11\n",
              "&#9;(sem ocorrências)</div></td></tr>\n",
              "<tr><td><div class=\"certo\"/></td><td style=\"text-align:left;\"><div style=\"color:#808080\">..111011011-11\n",
              "&#9;(sem ocorrências)</div></td></tr>\n",
              "<tr><td><div class=\"certo\"/></td><td style=\"text-align:left;\"><div style=\"color:#808080\">...111011011-11\n",
              "&#9;(sem ocorrências)</div></td></tr>\n",
              "<tr><td><div class=\"certo\"/></td><td style=\"text-align:left;\"><div style=\"color:#808080\">..1.11011011-11\n",
              "&#9;(sem ocorrências)</div></td></tr>\n",
              "<tr><td><div class=\"certo\"/></td><td style=\"text-align:left;\"><div style=\"color:#808080\">.1.1.1011011-11\n",
              "&#9;(sem ocorrências)</div></td></tr>\n",
              "<tr><td><div class=\"certo\"/></td><td style=\"text-align:left;\"><div style=\"color:#808080\">1.1.1.011011-11&#9;(sem ocorrências)</div></td></tr></table>"
            ],
            "text/plain": [
              "<IPython.core.display.HTML object>"
            ]
          },
          "metadata": {
            "tags": []
          }
        }
      ]
    },
    {
      "cell_type": "markdown",
      "metadata": {
        "azdata_cell_guid": "e3609c01-ae52-44bd-a092-d35714526482",
        "id": "z_9fnLrptNpE"
      },
      "source": [
        "Uma linha contendo exatamente um CNPJ com separador de milhares, barra e hífen."
      ]
    },
    {
      "cell_type": "code",
      "metadata": {
        "azdata_cell_guid": "e3c33cd9-c7ef-455a-94b5-5493c0b9aa8c",
        "id": "PKqvcgG0tNpE",
        "colab": {
          "base_uri": "https://localhost:8080/",
          "height": 274
        },
        "outputId": "deea158c-aa8a-4b92-f60f-b6bb94d677ab"
      },
      "source": [
        "exercicio(17, r'^\\d{2}\\.\\d{3}\\.\\d{3}\\/\\d{4}\\-\\d{2}$')"
      ],
      "execution_count": 69,
      "outputs": [
        {
          "output_type": "display_data",
          "data": {
            "text/html": [
              "<style>.certo {background-image: url('data:image/png;base64,iVBORw0KGgoAAAANSUhEUgAAABAAAAAQCAYAAAAf8/9hAAAABHNCSVQICAgIfAhkiAAAAAlwSFlzAAALEwAACxMBAJqcGAAAAgBJREFUOI2lkz1oU1EUx3/nvpcmNqWlNIoKFkFsXKrSOCkoDi6iVOwgCEWLiyBaTKuLdhP8ACkoig5iqoM4SDGDq2uLxUHFptWhHQTF1gzlNc27ufc6tHk0NMTBs917zu9/vu6F/zSpd7lvcnC/VeqUCF1Y61Aya8WOf8k8+NRQIDOVTYXGjImnjtdN51y+omXg68HRPxsEMlPZlHaVj4i3o1HJ1rk5iSd6Pu+9UwRQVceK1m/+BQMokZ2USq+jM0DPxFDGi/mHG4EnWjM0q/hq2Z461v3hanckEOrycCN4oP0o2S0nub31LLLWtQv1UCTglPRUg5MqHmWqwv0dR6hYw6v59zhc1XUAwAcQZxMALSrBvW39WGe5/vMlZ9oORfBIYYwJNYesjc06NkUCzthFoDNuPFpJsL25g1znJVJ+Wy3sRzNHtF2IWjAr5h3AIgGXC0/4UVog5behbYWb0zkmvFoYwJZ0PhIgKI1WgrJBoNiiuVJ4ynzwi5HpF0z684hXC+ulsl4uh49g3UNK5y/caNqcvCUxDxy4pTIkYxtgFxrC38HwTO+z+zUCOKQrf/5xrD150WtuqrtOE4SY4vLDQu/zQWR1HRs+U3r8XJ943l2VbNolvkIQrDboQH8TY67Nns69XR9f9zfikD3j/budeGlx4sS6mem+3Pdq1vX2FyOryD82RGIbAAAAAElFTkSuQmCC'); background-size: cover; height: 16px; width: 16px}.errado {background-image: url('data:image/png;base64,iVBORw0KGgoAAAANSUhEUgAAABAAAAAQCAYAAAAf8/9hAAAABHNCSVQICAgIfAhkiAAAAAlwSFlzAAALEwAACxMBAJqcGAAAAjNJREFUOI2lk01IVFEYhp9zznUcnUnH/Bk3WhCVFEFZbiwUAxeZlCJFWERBgZsIqRatWhuRi0BtFS1bSGQYlBLISD8EgbWwv0VFxlijThOpd+6ce1o49zrh4KZ3+XHe53u/j+/Af0rkK35ra9ythOgwmG0gDYIPUnC/+uHkm3UBM+3NFZC5KxFt+cCuNiNa67O1T17MrwHMtDdX4DqvpZQ160XOGPPZRdRvGp1cAJA+PeMMe2ZRXrl21mzNEmKzMPqeV5cAXw4f2GtZsgmAso2o60PIjhOr5s5uVN8glEQAKJCq9evRpl0AFkDGsS8HAoUrEecSzN8ZJNrTC1JiDFhdJ4kP3CCSXEDJlamdJfsScMYCcJH1XjdLSkITj/mhLKrOXwBg9nY/G2LjKKVWUxn2+QkMBHPnLVQKK1QMxgAQKQ4hc8wArqTIB2jXnQNqffqR4wSPnSY+1A9AdU8vGcvCjA77gLR2Ez5gydGPIkH2ALilEaxDncQHbxKOjQEQBypPnUPHxpGpXwD8yaRHIHsHYw115TWl4dnSYFC5xvBTKMq0QyAb29aapApQZTRCQMpOO9/TdlXLxFRSArS+ejeXWLSv2VojhSCK65u9nURZMS9rTWJx+WrLxFTST5BdpIjt3zEQDYV7SgIB8imVTpP4vXSr8fnbiwLMPwBPTxt3dhUp1RcuKNjipUhrTWrZ/mijrxx8Nv0g933e32hAxBrqtrpKbTcCI1z3ffPL6U9e11z9Bai+yG1sATfvAAAAAElFTkSuQmCC'); background-size: cover; height: 16px; width: 16px}</style><table><tr><td><div class=\"certo\"/></td><td style=\"text-align:left;\"><b><mark style=\"background-color:#ffff40;padding-left:0px;padding-right:0px\">00.000.000/0001-00</mark></b>\n",
              "</pre></td></tr><tr><td><div class=\"certo\"/></td><td style=\"text-align:left;\"><div style=\"color:#808080\">xx.000.000/0001-xx\n",
              "&#9;(sem ocorrências)</div></td></tr>\n",
              "<tr><td><div class=\"certo\"/></td><td style=\"text-align:left;\"><div style=\"color:#808080\">0011001000/0001-00\n",
              "&#9;(sem ocorrências)</div></td></tr>\n",
              "<tr><td><div class=\"certo\"/></td><td style=\"text-align:left;\"><div style=\"color:#808080\">00.000.00010001-00\n",
              "&#9;(sem ocorrências)</div></td></tr>\n",
              "<tr><td><div class=\"certo\"/></td><td style=\"text-align:left;\"><div style=\"color:#808080\">00.000.000/0001100\n",
              "&#9;(sem ocorrências)</div></td></tr>\n",
              "<tr><td><div class=\"certo\"/></td><td style=\"text-align:left;\"><div style=\"color:#808080\">00000.000/0001-00\n",
              "&#9;(sem ocorrências)</div></td></tr>\n",
              "<tr><td><div class=\"certo\"/></td><td style=\"text-align:left;\"><div style=\"color:#808080\">00000000/0001-00\n",
              "&#9;(sem ocorrências)</div></td></tr>\n",
              "<tr><td><div class=\"certo\"/></td><td style=\"text-align:left;\"><div style=\"color:#808080\">000000000001-00\n",
              "&#9;(sem ocorrências)</div></td></tr>\n",
              "<tr><td><div class=\"certo\"/></td><td style=\"text-align:left;\"><div style=\"color:#808080\">00000000000100\n",
              "&#9;(sem ocorrências)</div></td></tr>\n",
              "<tr><td><div class=\"certo\"/></td><td style=\"text-align:left;\"><div style=\"color:#808080\">x00000000000100\n",
              "&#9;(sem ocorrências)</div></td></tr>\n",
              "<tr><td><div class=\"certo\"/></td><td style=\"text-align:left;\"><div style=\"color:#808080\">00000000000100x\n",
              "&#9;(sem ocorrências)</div></td></tr>\n",
              "<tr><td><div class=\"certo\"/></td><td style=\"text-align:left;\"><div style=\"color:#808080\">00x000.000000100\n",
              "&#9;(sem ocorrências)</div></td></tr>\n",
              "<tr><td><div class=\"certo\"/></td><td style=\"text-align:left;\"><div style=\"color:#808080\">00x000.0000001-00&#9;(sem ocorrências)</div></td></tr></table>"
            ],
            "text/plain": [
              "<IPython.core.display.HTML object>"
            ]
          },
          "metadata": {
            "tags": []
          }
        }
      ]
    },
    {
      "cell_type": "markdown",
      "metadata": {
        "azdata_cell_guid": "bd9367b2-6add-4870-8282-4baaeba292e7",
        "id": "ZNnhGCGItNpE"
      },
      "source": [
        "Uma linha contendo exatamente um CNPJ com separador de milhares opcional, barra opcional e hífen opcional."
      ]
    },
    {
      "cell_type": "code",
      "metadata": {
        "azdata_cell_guid": "dd04dd12-3ec0-438e-bf98-6d51f6923090",
        "id": "pJ9d5jEUtNpF",
        "colab": {
          "base_uri": "https://localhost:8080/",
          "height": 274
        },
        "outputId": "579693cc-3d35-44f5-dea8-1c5d3bcc05b2"
      },
      "source": [
        "exercicio(18, r'^\\d{2}\\.?\\d{3}\\.?\\d{3}\\/?\\d{4}\\-?\\d{2}$')"
      ],
      "execution_count": 70,
      "outputs": [
        {
          "output_type": "display_data",
          "data": {
            "text/html": [
              "<style>.certo {background-image: url('data:image/png;base64,iVBORw0KGgoAAAANSUhEUgAAABAAAAAQCAYAAAAf8/9hAAAABHNCSVQICAgIfAhkiAAAAAlwSFlzAAALEwAACxMBAJqcGAAAAgBJREFUOI2lkz1oU1EUx3/nvpcmNqWlNIoKFkFsXKrSOCkoDi6iVOwgCEWLiyBaTKuLdhP8ACkoig5iqoM4SDGDq2uLxUHFptWhHQTF1gzlNc27ufc6tHk0NMTBs917zu9/vu6F/zSpd7lvcnC/VeqUCF1Y61Aya8WOf8k8+NRQIDOVTYXGjImnjtdN51y+omXg68HRPxsEMlPZlHaVj4i3o1HJ1rk5iSd6Pu+9UwRQVceK1m/+BQMokZ2USq+jM0DPxFDGi/mHG4EnWjM0q/hq2Z461v3hanckEOrycCN4oP0o2S0nub31LLLWtQv1UCTglPRUg5MqHmWqwv0dR6hYw6v59zhc1XUAwAcQZxMALSrBvW39WGe5/vMlZ9oORfBIYYwJNYesjc06NkUCzthFoDNuPFpJsL25g1znJVJ+Wy3sRzNHtF2IWjAr5h3AIgGXC0/4UVog5behbYWb0zkmvFoYwJZ0PhIgKI1WgrJBoNiiuVJ4ynzwi5HpF0z684hXC+ulsl4uh49g3UNK5y/caNqcvCUxDxy4pTIkYxtgFxrC38HwTO+z+zUCOKQrf/5xrD150WtuqrtOE4SY4vLDQu/zQWR1HRs+U3r8XJ943l2VbNolvkIQrDboQH8TY67Nns69XR9f9zfikD3j/budeGlx4sS6mem+3Pdq1vX2FyOryD82RGIbAAAAAElFTkSuQmCC'); background-size: cover; height: 16px; width: 16px}.errado {background-image: url('data:image/png;base64,iVBORw0KGgoAAAANSUhEUgAAABAAAAAQCAYAAAAf8/9hAAAABHNCSVQICAgIfAhkiAAAAAlwSFlzAAALEwAACxMBAJqcGAAAAjNJREFUOI2lk01IVFEYhp9zznUcnUnH/Bk3WhCVFEFZbiwUAxeZlCJFWERBgZsIqRatWhuRi0BtFS1bSGQYlBLISD8EgbWwv0VFxlijThOpd+6ce1o49zrh4KZ3+XHe53u/j+/Af0rkK35ra9ythOgwmG0gDYIPUnC/+uHkm3UBM+3NFZC5KxFt+cCuNiNa67O1T17MrwHMtDdX4DqvpZQ160XOGPPZRdRvGp1cAJA+PeMMe2ZRXrl21mzNEmKzMPqeV5cAXw4f2GtZsgmAso2o60PIjhOr5s5uVN8glEQAKJCq9evRpl0AFkDGsS8HAoUrEecSzN8ZJNrTC1JiDFhdJ4kP3CCSXEDJlamdJfsScMYCcJH1XjdLSkITj/mhLKrOXwBg9nY/G2LjKKVWUxn2+QkMBHPnLVQKK1QMxgAQKQ4hc8wArqTIB2jXnQNqffqR4wSPnSY+1A9AdU8vGcvCjA77gLR2Ez5gydGPIkH2ALilEaxDncQHbxKOjQEQBypPnUPHxpGpXwD8yaRHIHsHYw115TWl4dnSYFC5xvBTKMq0QyAb29aapApQZTRCQMpOO9/TdlXLxFRSArS+ejeXWLSv2VojhSCK65u9nURZMS9rTWJx+WrLxFTST5BdpIjt3zEQDYV7SgIB8imVTpP4vXSr8fnbiwLMPwBPTxt3dhUp1RcuKNjipUhrTWrZ/mijrxx8Nv0g933e32hAxBrqtrpKbTcCI1z3ffPL6U9e11z9Bai+yG1sATfvAAAAAElFTkSuQmCC'); background-size: cover; height: 16px; width: 16px}</style><table><tr><td><div class=\"certo\"/></td><td style=\"text-align:left;\"><b><mark style=\"background-color:#ffff40;padding-left:0px;padding-right:0px\">00.000.000/0001-00</mark></b>\n",
              "</pre></td></tr>\n",
              "<tr><td><div class=\"certo\"/></td><td style=\"text-align:left;\"><b><mark style=\"background-color:#ffff40;padding-left:0px;padding-right:0px\">00000.000/0001-00</mark></b>\n",
              "</pre></td></tr>\n",
              "<tr><td><div class=\"certo\"/></td><td style=\"text-align:left;\"><b><mark style=\"background-color:#ffff40;padding-left:0px;padding-right:0px\">00000000/0001-00</mark></b>\n",
              "</pre></td></tr>\n",
              "<tr><td><div class=\"certo\"/></td><td style=\"text-align:left;\"><b><mark style=\"background-color:#ffff40;padding-left:0px;padding-right:0px\">000000000001-00</mark></b>\n",
              "</pre></td></tr>\n",
              "<tr><td><div class=\"certo\"/></td><td style=\"text-align:left;\"><b><mark style=\"background-color:#ffff40;padding-left:0px;padding-right:0px\">00000000000100</mark></b>\n",
              "</pre></td></tr><tr><td><div class=\"certo\"/></td><td style=\"text-align:left;\"><div style=\"color:#808080\">xx.000.000/0001-xx\n",
              "&#9;(sem ocorrências)</div></td></tr>\n",
              "<tr><td><div class=\"certo\"/></td><td style=\"text-align:left;\"><div style=\"color:#808080\">0011001000/0001-00\n",
              "&#9;(sem ocorrências)</div></td></tr>\n",
              "<tr><td><div class=\"certo\"/></td><td style=\"text-align:left;\"><div style=\"color:#808080\">00.000.00010001-00\n",
              "&#9;(sem ocorrências)</div></td></tr>\n",
              "<tr><td><div class=\"certo\"/></td><td style=\"text-align:left;\"><div style=\"color:#808080\">00.000.000/0001100\n",
              "&#9;(sem ocorrências)</div></td></tr>\n",
              "<tr><td><div class=\"certo\"/></td><td style=\"text-align:left;\"><div style=\"color:#808080\">x00000000000100\n",
              "&#9;(sem ocorrências)</div></td></tr>\n",
              "<tr><td><div class=\"certo\"/></td><td style=\"text-align:left;\"><div style=\"color:#808080\">00000000000100x\n",
              "&#9;(sem ocorrências)</div></td></tr>\n",
              "<tr><td><div class=\"certo\"/></td><td style=\"text-align:left;\"><div style=\"color:#808080\">00x000.000000100\n",
              "&#9;(sem ocorrências)</div></td></tr>\n",
              "<tr><td><div class=\"certo\"/></td><td style=\"text-align:left;\"><div style=\"color:#808080\">00x000.0000001-00&#9;(sem ocorrências)</div></td></tr></table>"
            ],
            "text/plain": [
              "<IPython.core.display.HTML object>"
            ]
          },
          "metadata": {
            "tags": []
          }
        }
      ]
    },
    {
      "cell_type": "markdown",
      "metadata": {
        "azdata_cell_guid": "a0c6958b-aa8a-45cf-8ef9-fbb020039a11",
        "id": "-5cvif0StNpF"
      },
      "source": [
        "Uma linha contendo exatamente um CEP com separador de milhares e hífen"
      ]
    },
    {
      "cell_type": "code",
      "metadata": {
        "azdata_cell_guid": "541768d1-4c21-4a8a-aade-97f2e66fff3d",
        "id": "AuPpjOXctNpF",
        "colab": {
          "base_uri": "https://localhost:8080/",
          "height": 255
        },
        "outputId": "e524b4a9-5fae-4d6f-ba32-0d9a51d6ad97"
      },
      "source": [
        "exercicio(19, r'^\\d{2}\\.\\d{3}\\-\\d{3}')"
      ],
      "execution_count": 71,
      "outputs": [
        {
          "output_type": "display_data",
          "data": {
            "text/html": [
              "<style>.certo {background-image: url('data:image/png;base64,iVBORw0KGgoAAAANSUhEUgAAABAAAAAQCAYAAAAf8/9hAAAABHNCSVQICAgIfAhkiAAAAAlwSFlzAAALEwAACxMBAJqcGAAAAgBJREFUOI2lkz1oU1EUx3/nvpcmNqWlNIoKFkFsXKrSOCkoDi6iVOwgCEWLiyBaTKuLdhP8ACkoig5iqoM4SDGDq2uLxUHFptWhHQTF1gzlNc27ufc6tHk0NMTBs917zu9/vu6F/zSpd7lvcnC/VeqUCF1Y61Aya8WOf8k8+NRQIDOVTYXGjImnjtdN51y+omXg68HRPxsEMlPZlHaVj4i3o1HJ1rk5iSd6Pu+9UwRQVceK1m/+BQMokZ2USq+jM0DPxFDGi/mHG4EnWjM0q/hq2Z461v3hanckEOrycCN4oP0o2S0nub31LLLWtQv1UCTglPRUg5MqHmWqwv0dR6hYw6v59zhc1XUAwAcQZxMALSrBvW39WGe5/vMlZ9oORfBIYYwJNYesjc06NkUCzthFoDNuPFpJsL25g1znJVJ+Wy3sRzNHtF2IWjAr5h3AIgGXC0/4UVog5behbYWb0zkmvFoYwJZ0PhIgKI1WgrJBoNiiuVJ4ynzwi5HpF0z684hXC+ulsl4uh49g3UNK5y/caNqcvCUxDxy4pTIkYxtgFxrC38HwTO+z+zUCOKQrf/5xrD150WtuqrtOE4SY4vLDQu/zQWR1HRs+U3r8XJ943l2VbNolvkIQrDboQH8TY67Nns69XR9f9zfikD3j/budeGlx4sS6mem+3Pdq1vX2FyOryD82RGIbAAAAAElFTkSuQmCC'); background-size: cover; height: 16px; width: 16px}.errado {background-image: url('data:image/png;base64,iVBORw0KGgoAAAANSUhEUgAAABAAAAAQCAYAAAAf8/9hAAAABHNCSVQICAgIfAhkiAAAAAlwSFlzAAALEwAACxMBAJqcGAAAAjNJREFUOI2lk01IVFEYhp9zznUcnUnH/Bk3WhCVFEFZbiwUAxeZlCJFWERBgZsIqRatWhuRi0BtFS1bSGQYlBLISD8EgbWwv0VFxlijThOpd+6ce1o49zrh4KZ3+XHe53u/j+/Af0rkK35ra9ythOgwmG0gDYIPUnC/+uHkm3UBM+3NFZC5KxFt+cCuNiNa67O1T17MrwHMtDdX4DqvpZQ160XOGPPZRdRvGp1cAJA+PeMMe2ZRXrl21mzNEmKzMPqeV5cAXw4f2GtZsgmAso2o60PIjhOr5s5uVN8glEQAKJCq9evRpl0AFkDGsS8HAoUrEecSzN8ZJNrTC1JiDFhdJ4kP3CCSXEDJlamdJfsScMYCcJH1XjdLSkITj/mhLKrOXwBg9nY/G2LjKKVWUxn2+QkMBHPnLVQKK1QMxgAQKQ4hc8wArqTIB2jXnQNqffqR4wSPnSY+1A9AdU8vGcvCjA77gLR2Ez5gydGPIkH2ALilEaxDncQHbxKOjQEQBypPnUPHxpGpXwD8yaRHIHsHYw115TWl4dnSYFC5xvBTKMq0QyAb29aapApQZTRCQMpOO9/TdlXLxFRSArS+ejeXWLSv2VojhSCK65u9nURZMS9rTWJx+WrLxFTST5BdpIjt3zEQDYV7SgIB8imVTpP4vXSr8fnbiwLMPwBPTxt3dhUp1RcuKNjipUhrTWrZ/mijrxx8Nv0g933e32hAxBrqtrpKbTcCI1z3ffPL6U9e11z9Bai+yG1sATfvAAAAAElFTkSuQmCC'); background-size: cover; height: 16px; width: 16px}</style><table><tr><td><div class=\"certo\"/></td><td style=\"text-align:left;\"><b><mark style=\"background-color:#ffff40;padding-left:0px;padding-right:0px\">70.000-000</mark></b>\n",
              "</pre></td></tr><tr><td><div class=\"certo\"/></td><td style=\"text-align:left;\"><div style=\"color:#808080\">7a.aaa-aaa\n",
              "&#9;(sem ocorrências)</div></td></tr>\n",
              "<tr><td><div class=\"certo\"/></td><td style=\"text-align:left;\"><div style=\"color:#808080\">7000000000\n",
              "&#9;(sem ocorrências)</div></td></tr>\n",
              "<tr><td><div class=\"certo\"/></td><td style=\"text-align:left;\"><div style=\"color:#808080\">70000-000\n",
              "&#9;(sem ocorrências)</div></td></tr>\n",
              "<tr><td><div class=\"certo\"/></td><td style=\"text-align:left;\"><div style=\"color:#808080\">700000000\n",
              "&#9;(sem ocorrências)</div></td></tr>\n",
              "<tr><td><div class=\"certo\"/></td><td style=\"text-align:left;\"><div style=\"color:#808080\">70000000\n",
              "&#9;(sem ocorrências)</div></td></tr>\n",
              "<tr><td><div class=\"certo\"/></td><td style=\"text-align:left;\"><div style=\"color:#808080\">7000000\n",
              "&#9;(sem ocorrências)</div></td></tr>\n",
              "<tr><td><div class=\"certo\"/></td><td style=\"text-align:left;\"><div style=\"color:#808080\">700000\n",
              "&#9;(sem ocorrências)</div></td></tr>\n",
              "<tr><td><div class=\"certo\"/></td><td style=\"text-align:left;\"><div style=\"color:#808080\">70000\n",
              "&#9;(sem ocorrências)</div></td></tr>\n",
              "<tr><td><div class=\"certo\"/></td><td style=\"text-align:left;\"><div style=\"color:#808080\">7000\n",
              "&#9;(sem ocorrências)</div></td></tr>\n",
              "<tr><td><div class=\"certo\"/></td><td style=\"text-align:left;\"><div style=\"color:#808080\">70000aaa\n",
              "&#9;(sem ocorrências)</div></td></tr>\n",
              "<tr><td><div class=\"certo\"/></td><td style=\"text-align:left;\"><div style=\"color:#808080\">aaa70000&#9;(sem ocorrências)</div></td></tr></table>"
            ],
            "text/plain": [
              "<IPython.core.display.HTML object>"
            ]
          },
          "metadata": {
            "tags": []
          }
        }
      ]
    },
    {
      "cell_type": "markdown",
      "metadata": {
        "azdata_cell_guid": "262f8816-9925-4aee-8ae7-dcb168ca3cf9",
        "id": "ZBpmJXWltNpF"
      },
      "source": [
        "Uma linha contendo exatamente um CEP com separador de milhares opcional e hífen opcional"
      ]
    },
    {
      "cell_type": "code",
      "metadata": {
        "azdata_cell_guid": "698d6615-a805-41e0-b195-15eb1903b430",
        "id": "4VSoofXRtNpF",
        "colab": {
          "base_uri": "https://localhost:8080/",
          "height": 255
        },
        "outputId": "9b47e3d8-a028-4c55-f01f-97ad9a8d4c51"
      },
      "source": [
        "exercicio(20, r'^\\d{2}\\.?\\d{3}\\-?\\d{3}$')"
      ],
      "execution_count": 72,
      "outputs": [
        {
          "output_type": "display_data",
          "data": {
            "text/html": [
              "<style>.certo {background-image: url('data:image/png;base64,iVBORw0KGgoAAAANSUhEUgAAABAAAAAQCAYAAAAf8/9hAAAABHNCSVQICAgIfAhkiAAAAAlwSFlzAAALEwAACxMBAJqcGAAAAgBJREFUOI2lkz1oU1EUx3/nvpcmNqWlNIoKFkFsXKrSOCkoDi6iVOwgCEWLiyBaTKuLdhP8ACkoig5iqoM4SDGDq2uLxUHFptWhHQTF1gzlNc27ufc6tHk0NMTBs917zu9/vu6F/zSpd7lvcnC/VeqUCF1Y61Aya8WOf8k8+NRQIDOVTYXGjImnjtdN51y+omXg68HRPxsEMlPZlHaVj4i3o1HJ1rk5iSd6Pu+9UwRQVceK1m/+BQMokZ2USq+jM0DPxFDGi/mHG4EnWjM0q/hq2Z461v3hanckEOrycCN4oP0o2S0nub31LLLWtQv1UCTglPRUg5MqHmWqwv0dR6hYw6v59zhc1XUAwAcQZxMALSrBvW39WGe5/vMlZ9oORfBIYYwJNYesjc06NkUCzthFoDNuPFpJsL25g1znJVJ+Wy3sRzNHtF2IWjAr5h3AIgGXC0/4UVog5behbYWb0zkmvFoYwJZ0PhIgKI1WgrJBoNiiuVJ4ynzwi5HpF0z684hXC+ulsl4uh49g3UNK5y/caNqcvCUxDxy4pTIkYxtgFxrC38HwTO+z+zUCOKQrf/5xrD150WtuqrtOE4SY4vLDQu/zQWR1HRs+U3r8XJ943l2VbNolvkIQrDboQH8TY67Nns69XR9f9zfikD3j/budeGlx4sS6mem+3Pdq1vX2FyOryD82RGIbAAAAAElFTkSuQmCC'); background-size: cover; height: 16px; width: 16px}.errado {background-image: url('data:image/png;base64,iVBORw0KGgoAAAANSUhEUgAAABAAAAAQCAYAAAAf8/9hAAAABHNCSVQICAgIfAhkiAAAAAlwSFlzAAALEwAACxMBAJqcGAAAAjNJREFUOI2lk01IVFEYhp9zznUcnUnH/Bk3WhCVFEFZbiwUAxeZlCJFWERBgZsIqRatWhuRi0BtFS1bSGQYlBLISD8EgbWwv0VFxlijThOpd+6ce1o49zrh4KZ3+XHe53u/j+/Af0rkK35ra9ythOgwmG0gDYIPUnC/+uHkm3UBM+3NFZC5KxFt+cCuNiNa67O1T17MrwHMtDdX4DqvpZQ160XOGPPZRdRvGp1cAJA+PeMMe2ZRXrl21mzNEmKzMPqeV5cAXw4f2GtZsgmAso2o60PIjhOr5s5uVN8glEQAKJCq9evRpl0AFkDGsS8HAoUrEecSzN8ZJNrTC1JiDFhdJ4kP3CCSXEDJlamdJfsScMYCcJH1XjdLSkITj/mhLKrOXwBg9nY/G2LjKKVWUxn2+QkMBHPnLVQKK1QMxgAQKQ4hc8wArqTIB2jXnQNqffqR4wSPnSY+1A9AdU8vGcvCjA77gLR2Ez5gydGPIkH2ALilEaxDncQHbxKOjQEQBypPnUPHxpGpXwD8yaRHIHsHYw115TWl4dnSYFC5xvBTKMq0QyAb29aapApQZTRCQMpOO9/TdlXLxFRSArS+ejeXWLSv2VojhSCK65u9nURZMS9rTWJx+WrLxFTST5BdpIjt3zEQDYV7SgIB8imVTpP4vXSr8fnbiwLMPwBPTxt3dhUp1RcuKNjipUhrTWrZ/mijrxx8Nv0g933e32hAxBrqtrpKbTcCI1z3ffPL6U9e11z9Bai+yG1sATfvAAAAAElFTkSuQmCC'); background-size: cover; height: 16px; width: 16px}</style><table><tr><td><div class=\"certo\"/></td><td style=\"text-align:left;\"><b><mark style=\"background-color:#ffff40;padding-left:0px;padding-right:0px\">70.000-000</mark></b>\n",
              "</pre></td></tr>\n",
              "<tr><td><div class=\"certo\"/></td><td style=\"text-align:left;\"><b><mark style=\"background-color:#ffff40;padding-left:0px;padding-right:0px\">70000-000</mark></b>\n",
              "</pre></td></tr>\n",
              "<tr><td><div class=\"certo\"/></td><td style=\"text-align:left;\"><b><mark style=\"background-color:#ffff40;padding-left:0px;padding-right:0px\">70000000</mark></b>\n",
              "</pre></td></tr><tr><td><div class=\"certo\"/></td><td style=\"text-align:left;\"><div style=\"color:#808080\">7a.aaa-aaa\n",
              "&#9;(sem ocorrências)</div></td></tr>\n",
              "<tr><td><div class=\"certo\"/></td><td style=\"text-align:left;\"><div style=\"color:#808080\">7000000000\n",
              "&#9;(sem ocorrências)</div></td></tr>\n",
              "<tr><td><div class=\"certo\"/></td><td style=\"text-align:left;\"><div style=\"color:#808080\">700000000\n",
              "&#9;(sem ocorrências)</div></td></tr>\n",
              "<tr><td><div class=\"certo\"/></td><td style=\"text-align:left;\"><div style=\"color:#808080\">7000000\n",
              "&#9;(sem ocorrências)</div></td></tr>\n",
              "<tr><td><div class=\"certo\"/></td><td style=\"text-align:left;\"><div style=\"color:#808080\">700000\n",
              "&#9;(sem ocorrências)</div></td></tr>\n",
              "<tr><td><div class=\"certo\"/></td><td style=\"text-align:left;\"><div style=\"color:#808080\">70000\n",
              "&#9;(sem ocorrências)</div></td></tr>\n",
              "<tr><td><div class=\"certo\"/></td><td style=\"text-align:left;\"><div style=\"color:#808080\">7000\n",
              "&#9;(sem ocorrências)</div></td></tr>\n",
              "<tr><td><div class=\"certo\"/></td><td style=\"text-align:left;\"><div style=\"color:#808080\">70000aaa\n",
              "&#9;(sem ocorrências)</div></td></tr>\n",
              "<tr><td><div class=\"certo\"/></td><td style=\"text-align:left;\"><div style=\"color:#808080\">aaa70000&#9;(sem ocorrências)</div></td></tr></table>"
            ],
            "text/plain": [
              "<IPython.core.display.HTML object>"
            ]
          },
          "metadata": {
            "tags": []
          }
        }
      ]
    },
    {
      "cell_type": "markdown",
      "metadata": {
        "azdata_cell_guid": "2461a0a2-24fc-4df5-8be8-e60b4c8cd46b",
        "id": "YmxyYoIitNpF"
      },
      "source": [
        "Uma linha contendo exatamente um telefone no formato (xx)xxxx-xxxx."
      ]
    },
    {
      "cell_type": "code",
      "metadata": {
        "azdata_cell_guid": "945c6146-7d03-4e71-af38-bd20e43739ee",
        "id": "KjJ2DDTNtNpG",
        "colab": {
          "base_uri": "https://localhost:8080/",
          "height": 156
        },
        "outputId": "b93ee125-f18c-443e-9505-f7b75bf7bf80"
      },
      "source": [
        "exercicio(21, r'^\\(\\d{2}\\)\\d{4}\\-\\d{4}$')"
      ],
      "execution_count": 73,
      "outputs": [
        {
          "output_type": "display_data",
          "data": {
            "text/html": [
              "<style>.certo {background-image: url('data:image/png;base64,iVBORw0KGgoAAAANSUhEUgAAABAAAAAQCAYAAAAf8/9hAAAABHNCSVQICAgIfAhkiAAAAAlwSFlzAAALEwAACxMBAJqcGAAAAgBJREFUOI2lkz1oU1EUx3/nvpcmNqWlNIoKFkFsXKrSOCkoDi6iVOwgCEWLiyBaTKuLdhP8ACkoig5iqoM4SDGDq2uLxUHFptWhHQTF1gzlNc27ufc6tHk0NMTBs917zu9/vu6F/zSpd7lvcnC/VeqUCF1Y61Aya8WOf8k8+NRQIDOVTYXGjImnjtdN51y+omXg68HRPxsEMlPZlHaVj4i3o1HJ1rk5iSd6Pu+9UwRQVceK1m/+BQMokZ2USq+jM0DPxFDGi/mHG4EnWjM0q/hq2Z461v3hanckEOrycCN4oP0o2S0nub31LLLWtQv1UCTglPRUg5MqHmWqwv0dR6hYw6v59zhc1XUAwAcQZxMALSrBvW39WGe5/vMlZ9oORfBIYYwJNYesjc06NkUCzthFoDNuPFpJsL25g1znJVJ+Wy3sRzNHtF2IWjAr5h3AIgGXC0/4UVog5behbYWb0zkmvFoYwJZ0PhIgKI1WgrJBoNiiuVJ4ynzwi5HpF0z684hXC+ulsl4uh49g3UNK5y/caNqcvCUxDxy4pTIkYxtgFxrC38HwTO+z+zUCOKQrf/5xrD150WtuqrtOE4SY4vLDQu/zQWR1HRs+U3r8XJ943l2VbNolvkIQrDboQH8TY67Nns69XR9f9zfikD3j/budeGlx4sS6mem+3Pdq1vX2FyOryD82RGIbAAAAAElFTkSuQmCC'); background-size: cover; height: 16px; width: 16px}.errado {background-image: url('data:image/png;base64,iVBORw0KGgoAAAANSUhEUgAAABAAAAAQCAYAAAAf8/9hAAAABHNCSVQICAgIfAhkiAAAAAlwSFlzAAALEwAACxMBAJqcGAAAAjNJREFUOI2lk01IVFEYhp9zznUcnUnH/Bk3WhCVFEFZbiwUAxeZlCJFWERBgZsIqRatWhuRi0BtFS1bSGQYlBLISD8EgbWwv0VFxlijThOpd+6ce1o49zrh4KZ3+XHe53u/j+/Af0rkK35ra9ythOgwmG0gDYIPUnC/+uHkm3UBM+3NFZC5KxFt+cCuNiNa67O1T17MrwHMtDdX4DqvpZQ160XOGPPZRdRvGp1cAJA+PeMMe2ZRXrl21mzNEmKzMPqeV5cAXw4f2GtZsgmAso2o60PIjhOr5s5uVN8glEQAKJCq9evRpl0AFkDGsS8HAoUrEecSzN8ZJNrTC1JiDFhdJ4kP3CCSXEDJlamdJfsScMYCcJH1XjdLSkITj/mhLKrOXwBg9nY/G2LjKKVWUxn2+QkMBHPnLVQKK1QMxgAQKQ4hc8wArqTIB2jXnQNqffqR4wSPnSY+1A9AdU8vGcvCjA77gLR2Ez5gydGPIkH2ALilEaxDncQHbxKOjQEQBypPnUPHxpGpXwD8yaRHIHsHYw115TWl4dnSYFC5xvBTKMq0QyAb29aapApQZTRCQMpOO9/TdlXLxFRSArS+ejeXWLSv2VojhSCK65u9nURZMS9rTWJx+WrLxFTST5BdpIjt3zEQDYV7SgIB8imVTpP4vXSr8fnbiwLMPwBPTxt3dhUp1RcuKNjipUhrTWrZ/mijrxx8Nv0g933e32hAxBrqtrpKbTcCI1z3ffPL6U9e11z9Bai+yG1sATfvAAAAAElFTkSuQmCC'); background-size: cover; height: 16px; width: 16px}</style><table><tr><td><div class=\"certo\"/></td><td style=\"text-align:left;\"><b><mark style=\"background-color:#ffff40;padding-left:0px;padding-right:0px\">(61)3316-0000</mark></b>\n",
              "</pre></td></tr><tr><td><div class=\"certo\"/></td><td style=\"text-align:left;\"><div style=\"color:#808080\">3316-0000\n",
              "&#9;(sem ocorrências)</div></td></tr>\n",
              "<tr><td><div class=\"certo\"/></td><td style=\"text-align:left;\"><div style=\"color:#808080\">x61x3316x0000\n",
              "&#9;(sem ocorrências)</div></td></tr>\n",
              "<tr><td><div class=\"certo\"/></td><td style=\"text-align:left;\"><div style=\"color:#808080\">(61)3316x0000\n",
              "&#9;(sem ocorrências)</div></td></tr>\n",
              "<tr><td><div class=\"certo\"/></td><td style=\"text-align:left;\"><div style=\"color:#808080\">((61)3316-00006\n",
              "&#9;(sem ocorrências)</div></td></tr>\n",
              "<tr><td><div class=\"certo\"/></td><td style=\"text-align:left;\"><div style=\"color:#808080\">77(61)3316x000077\n",
              "&#9;(sem ocorrências)</div></td></tr>\n",
              "<tr><td><div class=\"certo\"/></td><td style=\"text-align:left;\"><div style=\"color:#808080\">(77)(61)3316-00007&#9;(sem ocorrências)</div></td></tr></table>"
            ],
            "text/plain": [
              "<IPython.core.display.HTML object>"
            ]
          },
          "metadata": {
            "tags": []
          }
        }
      ]
    },
    {
      "cell_type": "markdown",
      "metadata": {
        "azdata_cell_guid": "4e611973-d21b-40d9-aabb-b2a30f797144",
        "id": "UeYGOfh7tNpG"
      },
      "source": [
        "Uma linha contendo exatamente um telefone no formato (xx)xxxx-xxxx ou xxxx-xxxx (sem DDD)."
      ]
    },
    {
      "cell_type": "code",
      "metadata": {
        "azdata_cell_guid": "2573e1d5-0ae9-476a-8418-6e51c8aa24e6",
        "id": "QMqsb3lPtNpG",
        "colab": {
          "base_uri": "https://localhost:8080/",
          "height": 156
        },
        "outputId": "d6feb34c-3511-4a3d-bbf0-cbb373b780ef"
      },
      "source": [
        "exercicio(22, r'^\\(\\d{2}\\)\\d{4}\\-\\d{4}|^\\d{4}\\-\\d{4}')"
      ],
      "execution_count": 74,
      "outputs": [
        {
          "output_type": "display_data",
          "data": {
            "text/html": [
              "<style>.certo {background-image: url('data:image/png;base64,iVBORw0KGgoAAAANSUhEUgAAABAAAAAQCAYAAAAf8/9hAAAABHNCSVQICAgIfAhkiAAAAAlwSFlzAAALEwAACxMBAJqcGAAAAgBJREFUOI2lkz1oU1EUx3/nvpcmNqWlNIoKFkFsXKrSOCkoDi6iVOwgCEWLiyBaTKuLdhP8ACkoig5iqoM4SDGDq2uLxUHFptWhHQTF1gzlNc27ufc6tHk0NMTBs917zu9/vu6F/zSpd7lvcnC/VeqUCF1Y61Aya8WOf8k8+NRQIDOVTYXGjImnjtdN51y+omXg68HRPxsEMlPZlHaVj4i3o1HJ1rk5iSd6Pu+9UwRQVceK1m/+BQMokZ2USq+jM0DPxFDGi/mHG4EnWjM0q/hq2Z461v3hanckEOrycCN4oP0o2S0nub31LLLWtQv1UCTglPRUg5MqHmWqwv0dR6hYw6v59zhc1XUAwAcQZxMALSrBvW39WGe5/vMlZ9oORfBIYYwJNYesjc06NkUCzthFoDNuPFpJsL25g1znJVJ+Wy3sRzNHtF2IWjAr5h3AIgGXC0/4UVog5behbYWb0zkmvFoYwJZ0PhIgKI1WgrJBoNiiuVJ4ynzwi5HpF0z684hXC+ulsl4uh49g3UNK5y/caNqcvCUxDxy4pTIkYxtgFxrC38HwTO+z+zUCOKQrf/5xrD150WtuqrtOE4SY4vLDQu/zQWR1HRs+U3r8XJ943l2VbNolvkIQrDboQH8TY67Nns69XR9f9zfikD3j/budeGlx4sS6mem+3Pdq1vX2FyOryD82RGIbAAAAAElFTkSuQmCC'); background-size: cover; height: 16px; width: 16px}.errado {background-image: url('data:image/png;base64,iVBORw0KGgoAAAANSUhEUgAAABAAAAAQCAYAAAAf8/9hAAAABHNCSVQICAgIfAhkiAAAAAlwSFlzAAALEwAACxMBAJqcGAAAAjNJREFUOI2lk01IVFEYhp9zznUcnUnH/Bk3WhCVFEFZbiwUAxeZlCJFWERBgZsIqRatWhuRi0BtFS1bSGQYlBLISD8EgbWwv0VFxlijThOpd+6ce1o49zrh4KZ3+XHe53u/j+/Af0rkK35ra9ythOgwmG0gDYIPUnC/+uHkm3UBM+3NFZC5KxFt+cCuNiNa67O1T17MrwHMtDdX4DqvpZQ160XOGPPZRdRvGp1cAJA+PeMMe2ZRXrl21mzNEmKzMPqeV5cAXw4f2GtZsgmAso2o60PIjhOr5s5uVN8glEQAKJCq9evRpl0AFkDGsS8HAoUrEecSzN8ZJNrTC1JiDFhdJ4kP3CCSXEDJlamdJfsScMYCcJH1XjdLSkITj/mhLKrOXwBg9nY/G2LjKKVWUxn2+QkMBHPnLVQKK1QMxgAQKQ4hc8wArqTIB2jXnQNqffqR4wSPnSY+1A9AdU8vGcvCjA77gLR2Ez5gydGPIkH2ALilEaxDncQHbxKOjQEQBypPnUPHxpGpXwD8yaRHIHsHYw115TWl4dnSYFC5xvBTKMq0QyAb29aapApQZTRCQMpOO9/TdlXLxFRSArS+ejeXWLSv2VojhSCK65u9nURZMS9rTWJx+WrLxFTST5BdpIjt3zEQDYV7SgIB8imVTpP4vXSr8fnbiwLMPwBPTxt3dhUp1RcuKNjipUhrTWrZ/mijrxx8Nv0g933e32hAxBrqtrpKbTcCI1z3ffPL6U9e11z9Bai+yG1sATfvAAAAAElFTkSuQmCC'); background-size: cover; height: 16px; width: 16px}</style><table><tr><td><div class=\"certo\"/></td><td style=\"text-align:left;\"><b><mark style=\"background-color:#ffff40;padding-left:0px;padding-right:0px\">(61)3316-0000</mark></b>\n",
              "</pre></td></tr>\n",
              "<tr><td><div class=\"certo\"/></td><td style=\"text-align:left;\"><b><mark style=\"background-color:#ffff40;padding-left:0px;padding-right:0px\">3316-0000</mark></b>\n",
              "</pre></td></tr><tr><td><div class=\"certo\"/></td><td style=\"text-align:left;\"><div style=\"color:#808080\">x61x3316x0000\n",
              "&#9;(sem ocorrências)</div></td></tr>\n",
              "<tr><td><div class=\"certo\"/></td><td style=\"text-align:left;\"><div style=\"color:#808080\">(61)3316x0000\n",
              "&#9;(sem ocorrências)</div></td></tr>\n",
              "<tr><td><div class=\"certo\"/></td><td style=\"text-align:left;\"><div style=\"color:#808080\">((61)3316-00006\n",
              "&#9;(sem ocorrências)</div></td></tr>\n",
              "<tr><td><div class=\"certo\"/></td><td style=\"text-align:left;\"><div style=\"color:#808080\">77(61)3316x000077\n",
              "&#9;(sem ocorrências)</div></td></tr>\n",
              "<tr><td><div class=\"certo\"/></td><td style=\"text-align:left;\"><div style=\"color:#808080\">(77)(61)3316-00007&#9;(sem ocorrências)</div></td></tr></table>"
            ],
            "text/plain": [
              "<IPython.core.display.HTML object>"
            ]
          },
          "metadata": {
            "tags": []
          }
        }
      ]
    },
    {
      "cell_type": "markdown",
      "metadata": {
        "id": "s38Zh8I4t7UM"
      },
      "source": [
        "# JSON\n",
        "\n",
        "Usando a API do Banco Central, descrita em https://www.bcb.gov.br/conteudo/dadosabertos/BCBDepin/gnastportal-dados-abertostaxas-de-cambio---todos-os-boletins-diarios.pdf, escreva uma função que apresente ao usuário as moedas disponíveis para cotação, peça a ele que escolha uma ou mais, peça que o usuário escolha uma data inicial e uma data final, obtenha as cotações para as moedas selecionadas no período, armazene num dataframe e ao final salve o dataframe no disco usando o Pickle."
      ]
    },
    {
      "cell_type": "markdown",
      "metadata": {
        "id": "pxYd-2uq9LUv"
      },
      "source": [
        "# HTML, JSON e REGEX\n",
        "\n",
        "Crie um extrator de contratos a partir da seção 3 do Diário Oficial da União, obtendo as informações da página (link e texto) e por meio de expressões regulares extraia o nome do contratante, CNPJ e nome do contratado. Coloque o resultado num dataframe e salve em disco com o Pickle."
      ]
    }
  ]
}