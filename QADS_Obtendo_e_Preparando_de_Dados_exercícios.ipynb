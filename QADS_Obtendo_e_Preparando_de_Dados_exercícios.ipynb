{
  "nbformat": 4,
  "nbformat_minor": 0,
  "metadata": {
    "kernelspec": {
      "name": "python3",
      "display_name": "Python 3"
    },
    "language_info": {
      "name": "python",
      "version": "3.6.6",
      "mimetype": "text/x-python",
      "codemirror_mode": {
        "name": "ipython",
        "version": 3
      },
      "pygments_lexer": "ipython3",
      "nbconvert_exporter": "python",
      "file_extension": ".py"
    },
    "colab": {
      "name": "QADS Obtendo e Preparando de Dados - exercícios.ipynb",
      "provenance": []
    }
  },
  "cells": [
    {
      "cell_type": "markdown",
      "metadata": {
        "azdata_cell_guid": "f1681fb2-a9a5-4082-8ec0-323114bdfb17",
        "id": "cikvwonftNot"
      },
      "source": [
        "![](https://www.qads.com.br/img/QADS.png)\n",
        "\n",
        "#  Exercícios do módulo de Obtenção e Preparação de Dados\n",
        "\n",
        "Remis Balaniuk, PhD"
      ]
    },
    {
      "cell_type": "markdown",
      "metadata": {
        "azdata_cell_guid": "aedefbba-8a02-4bdb-af5f-e4179b490167",
        "id": "1aEGijL6sF0Z"
      },
      "source": [
        "# Flat files\n",
        "\n",
        "Obtenha os dados abertos das [viagens realizadas a serviço no Portal daTransparência](!http://www.portaltransparencia.gov.br/download-de-dados/viagens), processe as colunas normalizando atributos textuais e convertendo os demais para os tipos corretos e ao final salve o(s) dataframe(s) em disco usando o Pickle."
      ]
    },
    {
      "cell_type": "markdown",
      "metadata": {
        "azdata_cell_guid": "c3af58d0-fc30-4f61-95fb-5adcb826746e",
        "id": "W944tXGutNox"
      },
      "source": [
        "# Expressões regulares\n",
        "\n",
        "Escreva as expressões regulares solicitadas. Cada exercício possui um conjunto de testes que deve ser completamente validado pela expressão regular. Cada teste possui registros onde expera-se um *match* da expressão regular, enquanto outros registros não devem apresentar nenhum *match*. Faça o exercício para que todos os registros do teste fiquem com a marca de correto (em verde). Para os exercícios, não utilize expressões regulares com mais de 80 caracteres.\n",
        "\n"
      ]
    },
    {
      "cell_type": "markdown",
      "metadata": {
        "id": "YpuAgDHU3aOU"
      },
      "source": [
        "Para esse exercício você precisará baixar o arquivo zipado \"exerciciosRegex\" disponibilizado na pasta QADS em (https://drive.google.com/drive/folders/1sUeC2VYx93ZXi3tKCJarUTVvq_7C2ECI?usp=sharing), descompactar esse arquivo e copiar todo o conteúdo em uma pasta do seu Google drive (contém um diretório chamado \"exercicios\" e um arquivo chamado re_jupyter.py). Em seguida você deve montar seu Google Drive aqui no Colab e acessar a pasta onde copiou esse conteúdo ."
      ]
    },
    {
      "cell_type": "code",
      "metadata": {
        "colab": {
          "base_uri": "https://localhost:8080/"
        },
        "id": "mg4YE6jT23RA",
        "outputId": "df356a4a-5d50-4d92-d910-e98d3b5ae397"
      },
      "source": [
        "from google.colab import drive\n",
        "drive.mount('/content/drive')"
      ],
      "execution_count": null,
      "outputs": [
        {
          "output_type": "stream",
          "text": [
            "Drive already mounted at /content/drive; to attempt to forcibly remount, call drive.mount(\"/content/drive\", force_remount=True).\n"
          ],
          "name": "stdout"
        }
      ]
    },
    {
      "cell_type": "code",
      "metadata": {
        "colab": {
          "base_uri": "https://localhost:8080/"
        },
        "id": "sELj0UKy3J-M",
        "outputId": "2e8d8c44-6a13-4e76-f488-606ce9e6e45c"
      },
      "source": [
        "%cd drive/MyDrive/QADS"
      ],
      "execution_count": null,
      "outputs": [
        {
          "output_type": "stream",
          "text": [
            "/content/drive/MyDrive/QADS\n"
          ],
          "name": "stdout"
        }
      ]
    },
    {
      "cell_type": "code",
      "metadata": {
        "colab": {
          "base_uri": "https://localhost:8080/",
          "height": 35
        },
        "id": "81creo-n6Sjo",
        "outputId": "04f96b80-014d-4c78-a9e2-0b032eecef5a"
      },
      "source": [
        "%pwd"
      ],
      "execution_count": null,
      "outputs": [
        {
          "output_type": "execute_result",
          "data": {
            "application/vnd.google.colaboratory.intrinsic+json": {
              "type": "string"
            },
            "text/plain": [
              "'/content/drive/MyDrive/QADS'"
            ]
          },
          "metadata": {
            "tags": []
          },
          "execution_count": 4
        }
      ]
    },
    {
      "cell_type": "code",
      "metadata": {
        "azdata_cell_guid": "62a07945-3b1c-49f6-858f-fadea69a1de1",
        "id": "46yzP36ptNoz"
      },
      "source": [
        "import imp\n",
        "import re_jupyter\n",
        "imp.reload(re_jupyter)\n",
        "\n",
        "from re_jupyter import exercicio"
      ],
      "execution_count": null,
      "outputs": []
    },
    {
      "cell_type": "markdown",
      "metadata": {
        "azdata_cell_guid": "962cae2c-8e07-4d92-8bcd-4e20a6c5f87a",
        "id": "xzhgHcBKtNo0"
      },
      "source": [
        "Uma letra `a` imediatamente seguida por uma ou mais letras `b`"
      ]
    },
    {
      "cell_type": "code",
      "metadata": {
        "scrolled": false,
        "azdata_cell_guid": "80721b75-4967-4676-a9f5-592f65e869d4",
        "id": "P7QVttcRtNo1",
        "outputId": "5e7bfd21-513d-4357-fe8c-21a29868b196"
      },
      "source": [
        "exercicio(1, r'')"
      ],
      "execution_count": null,
      "outputs": [
        {
          "output_type": "display_data",
          "data": {
            "text/html": [
              "<style>.certo {background-image: url('data:image/png;base64,iVBORw0KGgoAAAANSUhEUgAAABAAAAAQCAYAAAAf8/9hAAAABHNCSVQICAgIfAhkiAAAAAlwSFlzAAALEwAACxMBAJqcGAAAAgBJREFUOI2lkz1oU1EUx3/nvpcmNqWlNIoKFkFsXKrSOCkoDi6iVOwgCEWLiyBaTKuLdhP8ACkoig5iqoM4SDGDq2uLxUHFptWhHQTF1gzlNc27ufc6tHk0NMTBs917zu9/vu6F/zSpd7lvcnC/VeqUCF1Y61Aya8WOf8k8+NRQIDOVTYXGjImnjtdN51y+omXg68HRPxsEMlPZlHaVj4i3o1HJ1rk5iSd6Pu+9UwRQVceK1m/+BQMokZ2USq+jM0DPxFDGi/mHG4EnWjM0q/hq2Z461v3hanckEOrycCN4oP0o2S0nub31LLLWtQv1UCTglPRUg5MqHmWqwv0dR6hYw6v59zhc1XUAwAcQZxMALSrBvW39WGe5/vMlZ9oORfBIYYwJNYesjc06NkUCzthFoDNuPFpJsL25g1znJVJ+Wy3sRzNHtF2IWjAr5h3AIgGXC0/4UVog5behbYWb0zkmvFoYwJZ0PhIgKI1WgrJBoNiiuVJ4ynzwi5HpF0z684hXC+ulsl4uh49g3UNK5y/caNqcvCUxDxy4pTIkYxtgFxrC38HwTO+z+zUCOKQrf/5xrD150WtuqrtOE4SY4vLDQu/zQWR1HRs+U3r8XJ943l2VbNolvkIQrDboQH8TY67Nns69XR9f9zfikD3j/budeGlx4sS6mem+3Pdq1vX2FyOryD82RGIbAAAAAElFTkSuQmCC'); background-size: cover; height: 16px; width: 16px}.errado {background-image: url('data:image/png;base64,iVBORw0KGgoAAAANSUhEUgAAABAAAAAQCAYAAAAf8/9hAAAABHNCSVQICAgIfAhkiAAAAAlwSFlzAAALEwAACxMBAJqcGAAAAjNJREFUOI2lk01IVFEYhp9zznUcnUnH/Bk3WhCVFEFZbiwUAxeZlCJFWERBgZsIqRatWhuRi0BtFS1bSGQYlBLISD8EgbWwv0VFxlijThOpd+6ce1o49zrh4KZ3+XHe53u/j+/Af0rkK35ra9ythOgwmG0gDYIPUnC/+uHkm3UBM+3NFZC5KxFt+cCuNiNa67O1T17MrwHMtDdX4DqvpZQ160XOGPPZRdRvGp1cAJA+PeMMe2ZRXrl21mzNEmKzMPqeV5cAXw4f2GtZsgmAso2o60PIjhOr5s5uVN8glEQAKJCq9evRpl0AFkDGsS8HAoUrEecSzN8ZJNrTC1JiDFhdJ4kP3CCSXEDJlamdJfsScMYCcJH1XjdLSkITj/mhLKrOXwBg9nY/G2LjKKVWUxn2+QkMBHPnLVQKK1QMxgAQKQ4hc8wArqTIB2jXnQNqffqR4wSPnSY+1A9AdU8vGcvCjA77gLR2Ez5gydGPIkH2ALilEaxDncQHbxKOjQEQBypPnUPHxpGpXwD8yaRHIHsHYw115TWl4dnSYFC5xvBTKMq0QyAb29aapApQZTRCQMpOO9/TdlXLxFRSArS+ejeXWLSv2VojhSCK65u9nURZMS9rTWJx+WrLxFTST5BdpIjt3zEQDYV7SgIB8imVTpP4vXSr8fnbiwLMPwBPTxt3dhUp1RcuKNjipUhrTWrZ/mijrxx8Nv0g933e32hAxBrqtrpKbTcCI1z3ffPL6U9e11z9Bai+yG1sATfvAAAAAElFTkSuQmCC'); background-size: cover; height: 16px; width: 16px}</style><table><tr><td><div class=\"errado\"/></td><td style=\"text-align:left;\"><b><mark style=\"background-color:#ffff40;padding-left:0px;padding-right:0px\"></mark></b>ab\n",
              "</pre></td></tr>\n",
              "<tr><td><div class=\"errado\"/></td><td style=\"text-align:left;\"><b><mark style=\"background-color:#ffff40;padding-left:0px;padding-right:0px\"></mark></b>abb\n",
              "</pre></td></tr>\n",
              "<tr><td><div class=\"errado\"/></td><td style=\"text-align:left;\"><b><mark style=\"background-color:#ffff40;padding-left:0px;padding-right:0px\"></mark></b>abbbbbbbbb\n",
              "</pre></td></tr>\n",
              "<tr><td><div class=\"errado\"/></td><td style=\"text-align:left;\"><b><mark style=\"background-color:#ffff40;padding-left:0px;padding-right:0px\"></mark></b>cbaaabb\n",
              "</pre></td></tr>\n",
              "<tr><td><div class=\"errado\"/></td><td style=\"text-align:left;\"><b><mark style=\"background-color:#ffff40;padding-left:0px;padding-right:0px\"></mark></b>aba\n",
              "</pre></td></tr><tr><td><div class=\"errado\"/></td><td style=\"text-align:left;\"><b><mark style=\"background-color:#ffff40;padding-left:0px;padding-right:0px\"></mark></b>a\n",
              "</pre></td></tr>\n",
              "<tr><td><div class=\"errado\"/></td><td style=\"text-align:left;\"><b><mark style=\"background-color:#ffff40;padding-left:0px;padding-right:0px\"></mark></b>baa\n",
              "</pre></td></tr>\n",
              "<tr><td><div class=\"errado\"/></td><td style=\"text-align:left;\"><b><mark style=\"background-color:#ffff40;padding-left:0px;padding-right:0px\"></mark></b>ba\n",
              "</pre></td></tr>\n",
              "<tr><td><div class=\"errado\"/></td><td style=\"text-align:left;\"><b><mark style=\"background-color:#ffff40;padding-left:0px;padding-right:0px\"></mark></b>cba\n",
              "</pre></td></tr>\n",
              "<tr><td><div class=\"errado\"/></td><td style=\"text-align:left;\"><b><mark style=\"background-color:#ffff40;padding-left:0px;padding-right:0px\"></mark></b>cbaaa\n",
              "</pre></td></tr>\n",
              "<tr><td><div class=\"errado\"/></td><td style=\"text-align:left;\"><b><mark style=\"background-color:#ffff40;padding-left:0px;padding-right:0px\"></mark></b>ba\n",
              "</pre></td></tr>\n",
              "<tr><td><div class=\"errado\"/></td><td style=\"text-align:left;\"><b><mark style=\"background-color:#ffff40;padding-left:0px;padding-right:0px\"></mark></b>baa\n",
              "</pre></td></tr></table>"
            ],
            "text/plain": [
              "<IPython.core.display.HTML object>"
            ]
          },
          "metadata": {
            "tags": []
          }
        }
      ]
    },
    {
      "cell_type": "markdown",
      "metadata": {
        "azdata_cell_guid": "8204861f-77af-4f39-a0e3-570bf2adc45a",
        "id": "AYAOP402tNo3"
      },
      "source": [
        "Uma palavra de 6 letras que inicia com a letra `z`"
      ]
    },
    {
      "cell_type": "code",
      "metadata": {
        "azdata_cell_guid": "a1bff8fb-b4bb-4482-9245-726ef89dad7f",
        "id": "GCvOMKTxtNo4",
        "outputId": "61f76f63-5a5f-4bb3-c747-9ccdcb6b4ce2"
      },
      "source": [
        "exercicio(2, r'')"
      ],
      "execution_count": null,
      "outputs": [
        {
          "output_type": "display_data",
          "data": {
            "text/html": [
              "<style>.certo {background-image: url('data:image/png;base64,iVBORw0KGgoAAAANSUhEUgAAABAAAAAQCAYAAAAf8/9hAAAABHNCSVQICAgIfAhkiAAAAAlwSFlzAAALEwAACxMBAJqcGAAAAgBJREFUOI2lkz1oU1EUx3/nvpcmNqWlNIoKFkFsXKrSOCkoDi6iVOwgCEWLiyBaTKuLdhP8ACkoig5iqoM4SDGDq2uLxUHFptWhHQTF1gzlNc27ufc6tHk0NMTBs917zu9/vu6F/zSpd7lvcnC/VeqUCF1Y61Aya8WOf8k8+NRQIDOVTYXGjImnjtdN51y+omXg68HRPxsEMlPZlHaVj4i3o1HJ1rk5iSd6Pu+9UwRQVceK1m/+BQMokZ2USq+jM0DPxFDGi/mHG4EnWjM0q/hq2Z461v3hanckEOrycCN4oP0o2S0nub31LLLWtQv1UCTglPRUg5MqHmWqwv0dR6hYw6v59zhc1XUAwAcQZxMALSrBvW39WGe5/vMlZ9oORfBIYYwJNYesjc06NkUCzthFoDNuPFpJsL25g1znJVJ+Wy3sRzNHtF2IWjAr5h3AIgGXC0/4UVog5behbYWb0zkmvFoYwJZ0PhIgKI1WgrJBoNiiuVJ4ynzwi5HpF0z684hXC+ulsl4uh49g3UNK5y/caNqcvCUxDxy4pTIkYxtgFxrC38HwTO+z+zUCOKQrf/5xrD150WtuqrtOE4SY4vLDQu/zQWR1HRs+U3r8XJ943l2VbNolvkIQrDboQH8TY67Nns69XR9f9zfikD3j/budeGlx4sS6mem+3Pdq1vX2FyOryD82RGIbAAAAAElFTkSuQmCC'); background-size: cover; height: 16px; width: 16px}.errado {background-image: url('data:image/png;base64,iVBORw0KGgoAAAANSUhEUgAAABAAAAAQCAYAAAAf8/9hAAAABHNCSVQICAgIfAhkiAAAAAlwSFlzAAALEwAACxMBAJqcGAAAAjNJREFUOI2lk01IVFEYhp9zznUcnUnH/Bk3WhCVFEFZbiwUAxeZlCJFWERBgZsIqRatWhuRi0BtFS1bSGQYlBLISD8EgbWwv0VFxlijThOpd+6ce1o49zrh4KZ3+XHe53u/j+/Af0rkK35ra9ythOgwmG0gDYIPUnC/+uHkm3UBM+3NFZC5KxFt+cCuNiNa67O1T17MrwHMtDdX4DqvpZQ160XOGPPZRdRvGp1cAJA+PeMMe2ZRXrl21mzNEmKzMPqeV5cAXw4f2GtZsgmAso2o60PIjhOr5s5uVN8glEQAKJCq9evRpl0AFkDGsS8HAoUrEecSzN8ZJNrTC1JiDFhdJ4kP3CCSXEDJlamdJfsScMYCcJH1XjdLSkITj/mhLKrOXwBg9nY/G2LjKKVWUxn2+QkMBHPnLVQKK1QMxgAQKQ4hc8wArqTIB2jXnQNqffqR4wSPnSY+1A9AdU8vGcvCjA77gLR2Ez5gydGPIkH2ALilEaxDncQHbxKOjQEQBypPnUPHxpGpXwD8yaRHIHsHYw115TWl4dnSYFC5xvBTKMq0QyAb29aapApQZTRCQMpOO9/TdlXLxFRSArS+ejeXWLSv2VojhSCK65u9nURZMS9rTWJx+WrLxFTST5BdpIjt3zEQDYV7SgIB8imVTpP4vXSr8fnbiwLMPwBPTxt3dhUp1RcuKNjipUhrTWrZ/mijrxx8Nv0g933e32hAxBrqtrpKbTcCI1z3ffPL6U9e11z9Bai+yG1sATfvAAAAAElFTkSuQmCC'); background-size: cover; height: 16px; width: 16px}</style><table><tr><td><div class=\"errado\"/></td><td style=\"text-align:left;\"><b><mark style=\"background-color:#ffff40;padding-left:0px;padding-right:0px\"></mark></b>zangas\n",
              "</pre></td></tr>\n",
              "<tr><td><div class=\"errado\"/></td><td style=\"text-align:left;\"><b><mark style=\"background-color:#ffff40;padding-left:0px;padding-right:0px\"></mark></b>zangas&nbsp;espaço\n",
              "</pre></td></tr>\n",
              "<tr><td><div class=\"errado\"/></td><td style=\"text-align:left;\"><b><mark style=\"background-color:#ffff40;padding-left:0px;padding-right:0px\"></mark></b>zéfiro\n",
              "</pre></td></tr>\n",
              "<tr><td><div class=\"errado\"/></td><td style=\"text-align:left;\"><b><mark style=\"background-color:#ffff40;padding-left:0px;padding-right:0px\"></mark></b>segundo&nbsp;zéfiro&nbsp;\n",
              "</pre></td></tr><tr><td><div class=\"errado\"/></td><td style=\"text-align:left;\"><b><mark style=\"background-color:#ffff40;padding-left:0px;padding-right:0px\"></mark></b>zelo\n",
              "</pre></td></tr>\n",
              "<tr><td><div class=\"errado\"/></td><td style=\"text-align:left;\"><b><mark style=\"background-color:#ffff40;padding-left:0px;padding-right:0px\"></mark></b>zelos\n",
              "</pre></td></tr>\n",
              "<tr><td><div class=\"errado\"/></td><td style=\"text-align:left;\"><b><mark style=\"background-color:#ffff40;padding-left:0px;padding-right:0px\"></mark></b>zangada\n",
              "</pre></td></tr>\n",
              "<tr><td><div class=\"errado\"/></td><td style=\"text-align:left;\"><b><mark style=\"background-color:#ffff40;padding-left:0px;padding-right:0px\"></mark></b>zangados\n",
              "</pre></td></tr>\n",
              "<tr><td><div class=\"errado\"/></td><td style=\"text-align:left;\"><b><mark style=\"background-color:#ffff40;padding-left:0px;padding-right:0px\"></mark></b>azul\n",
              "</pre></td></tr>\n",
              "<tr><td><div class=\"errado\"/></td><td style=\"text-align:left;\"><b><mark style=\"background-color:#ffff40;padding-left:0px;padding-right:0px\"></mark></b>aziago\n",
              "</pre></td></tr>\n",
              "<tr><td><div class=\"errado\"/></td><td style=\"text-align:left;\"><b><mark style=\"background-color:#ffff40;padding-left:0px;padding-right:0px\"></mark></b>azougue\n",
              "</pre></td></tr>\n",
              "<tr><td><div class=\"errado\"/></td><td style=\"text-align:left;\"><b><mark style=\"background-color:#ffff40;padding-left:0px;padding-right:0px\"></mark></b>faziam\n",
              "</pre></td></tr>\n",
              "<tr><td><div class=\"errado\"/></td><td style=\"text-align:left;\"><b><mark style=\"background-color:#ffff40;padding-left:0px;padding-right:0px\"></mark></b>fazendas\n",
              "</pre></td></tr>\n",
              "<tr><td><div class=\"errado\"/></td><td style=\"text-align:left;\"><b><mark style=\"background-color:#ffff40;padding-left:0px;padding-right:0px\"></mark></b>talvez\n",
              "</pre></td></tr>\n",
              "<tr><td><div class=\"errado\"/></td><td style=\"text-align:left;\"><b><mark style=\"background-color:#ffff40;padding-left:0px;padding-right:0px\"></mark></b>robustez\n",
              "</pre></td></tr>\n",
              "<tr><td><div class=\"errado\"/></td><td style=\"text-align:left;\"><b><mark style=\"background-color:#ffff40;padding-left:0px;padding-right:0px\"></mark></b>chafariz\n",
              "</pre></td></tr>\n",
              "<tr><td><div class=\"errado\"/></td><td style=\"text-align:left;\"><b><mark style=\"background-color:#ffff40;padding-left:0px;padding-right:0px\"></mark></b>luz\n",
              "</pre></td></tr></table>"
            ],
            "text/plain": [
              "<IPython.core.display.HTML object>"
            ]
          },
          "metadata": {
            "tags": []
          }
        }
      ]
    },
    {
      "cell_type": "markdown",
      "metadata": {
        "azdata_cell_guid": "435592a8-1eae-4f5a-bcc7-67e76051778b",
        "id": "QXQhZII9tNo5"
      },
      "source": [
        "Uma palavra com 8 a 10 letras que termine com a letra 'z'"
      ]
    },
    {
      "cell_type": "code",
      "metadata": {
        "scrolled": false,
        "azdata_cell_guid": "efca1822-8e30-4d56-bc9f-f8dabab1ed69",
        "id": "VFHka0zBtNo6",
        "outputId": "4bde4e81-987b-48d1-e1fb-18a959c4853b"
      },
      "source": [
        "exercicio(3, r'')"
      ],
      "execution_count": null,
      "outputs": [
        {
          "output_type": "display_data",
          "data": {
            "text/html": [
              "<style>.certo {background-image: url('data:image/png;base64,iVBORw0KGgoAAAANSUhEUgAAABAAAAAQCAYAAAAf8/9hAAAABHNCSVQICAgIfAhkiAAAAAlwSFlzAAALEwAACxMBAJqcGAAAAgBJREFUOI2lkz1oU1EUx3/nvpcmNqWlNIoKFkFsXKrSOCkoDi6iVOwgCEWLiyBaTKuLdhP8ACkoig5iqoM4SDGDq2uLxUHFptWhHQTF1gzlNc27ufc6tHk0NMTBs917zu9/vu6F/zSpd7lvcnC/VeqUCF1Y61Aya8WOf8k8+NRQIDOVTYXGjImnjtdN51y+omXg68HRPxsEMlPZlHaVj4i3o1HJ1rk5iSd6Pu+9UwRQVceK1m/+BQMokZ2USq+jM0DPxFDGi/mHG4EnWjM0q/hq2Z461v3hanckEOrycCN4oP0o2S0nub31LLLWtQv1UCTglPRUg5MqHmWqwv0dR6hYw6v59zhc1XUAwAcQZxMALSrBvW39WGe5/vMlZ9oORfBIYYwJNYesjc06NkUCzthFoDNuPFpJsL25g1znJVJ+Wy3sRzNHtF2IWjAr5h3AIgGXC0/4UVog5behbYWb0zkmvFoYwJZ0PhIgKI1WgrJBoNiiuVJ4ynzwi5HpF0z684hXC+ulsl4uh49g3UNK5y/caNqcvCUxDxy4pTIkYxtgFxrC38HwTO+z+zUCOKQrf/5xrD150WtuqrtOE4SY4vLDQu/zQWR1HRs+U3r8XJ943l2VbNolvkIQrDboQH8TY67Nns69XR9f9zfikD3j/budeGlx4sS6mem+3Pdq1vX2FyOryD82RGIbAAAAAElFTkSuQmCC'); background-size: cover; height: 16px; width: 16px}.errado {background-image: url('data:image/png;base64,iVBORw0KGgoAAAANSUhEUgAAABAAAAAQCAYAAAAf8/9hAAAABHNCSVQICAgIfAhkiAAAAAlwSFlzAAALEwAACxMBAJqcGAAAAjNJREFUOI2lk01IVFEYhp9zznUcnUnH/Bk3WhCVFEFZbiwUAxeZlCJFWERBgZsIqRatWhuRi0BtFS1bSGQYlBLISD8EgbWwv0VFxlijThOpd+6ce1o49zrh4KZ3+XHe53u/j+/Af0rkK35ra9ythOgwmG0gDYIPUnC/+uHkm3UBM+3NFZC5KxFt+cCuNiNa67O1T17MrwHMtDdX4DqvpZQ160XOGPPZRdRvGp1cAJA+PeMMe2ZRXrl21mzNEmKzMPqeV5cAXw4f2GtZsgmAso2o60PIjhOr5s5uVN8glEQAKJCq9evRpl0AFkDGsS8HAoUrEecSzN8ZJNrTC1JiDFhdJ4kP3CCSXEDJlamdJfsScMYCcJH1XjdLSkITj/mhLKrOXwBg9nY/G2LjKKVWUxn2+QkMBHPnLVQKK1QMxgAQKQ4hc8wArqTIB2jXnQNqffqR4wSPnSY+1A9AdU8vGcvCjA77gLR2Ez5gydGPIkH2ALilEaxDncQHbxKOjQEQBypPnUPHxpGpXwD8yaRHIHsHYw115TWl4dnSYFC5xvBTKMq0QyAb29aapApQZTRCQMpOO9/TdlXLxFRSArS+ejeXWLSv2VojhSCK65u9nURZMS9rTWJx+WrLxFTST5BdpIjt3zEQDYV7SgIB8imVTpP4vXSr8fnbiwLMPwBPTxt3dhUp1RcuKNjipUhrTWrZ/mijrxx8Nv0g933e32hAxBrqtrpKbTcCI1z3ffPL6U9e11z9Bai+yG1sATfvAAAAAElFTkSuQmCC'); background-size: cover; height: 16px; width: 16px}</style><table><tr><td><div class=\"errado\"/></td><td style=\"text-align:left;\"><b><mark style=\"background-color:#ffff40;padding-left:0px;padding-right:0px\"></mark></b>robustez\n",
              "</pre></td></tr>\n",
              "<tr><td><div class=\"errado\"/></td><td style=\"text-align:left;\"><b><mark style=\"background-color:#ffff40;padding-left:0px;padding-right:0px\"></mark></b>espaço&nbsp;robustez\n",
              "</pre></td></tr>\n",
              "<tr><td><div class=\"errado\"/></td><td style=\"text-align:left;\"><b><mark style=\"background-color:#ffff40;padding-left:0px;padding-right:0px\"></mark></b>chafariz\n",
              "</pre></td></tr>\n",
              "<tr><td><div class=\"errado\"/></td><td style=\"text-align:left;\"><b><mark style=\"background-color:#ffff40;padding-left:0px;padding-right:0px\"></mark></b>antes&nbsp;chafariz&nbsp;depois\n",
              "</pre></td></tr>\n",
              "<tr><td><div class=\"errado\"/></td><td style=\"text-align:left;\"><b><mark style=\"background-color:#ffff40;padding-left:0px;padding-right:0px\"></mark></b>vetustez\n",
              "</pre></td></tr>\n",
              "<tr><td><div class=\"errado\"/></td><td style=\"text-align:left;\"><b><mark style=\"background-color:#ffff40;padding-left:0px;padding-right:0px\"></mark></b>placidez\n",
              "</pre></td></tr>\n",
              "<tr><td><div class=\"errado\"/></td><td style=\"text-align:left;\"><b><mark style=\"background-color:#ffff40;padding-left:0px;padding-right:0px\"></mark></b>insensatez\n",
              "</pre></td></tr>\n",
              "<tr><td><div class=\"errado\"/></td><td style=\"text-align:left;\"><b><mark style=\"background-color:#ffff40;padding-left:0px;padding-right:0px\"></mark></b>gravidez\n",
              "</pre></td></tr>\n",
              "<tr><td><div class=\"errado\"/></td><td style=\"text-align:left;\"><b><mark style=\"background-color:#ffff40;padding-left:0px;padding-right:0px\"></mark></b>invalidez\n",
              "</pre></td></tr><tr><td><div class=\"errado\"/></td><td style=\"text-align:left;\"><b><mark style=\"background-color:#ffff40;padding-left:0px;padding-right:0px\"></mark></b>luz\n",
              "</pre></td></tr>\n",
              "<tr><td><div class=\"errado\"/></td><td style=\"text-align:left;\"><b><mark style=\"background-color:#ffff40;padding-left:0px;padding-right:0px\"></mark></b>talvez\n",
              "</pre></td></tr>\n",
              "<tr><td><div class=\"errado\"/></td><td style=\"text-align:left;\"><b><mark style=\"background-color:#ffff40;padding-left:0px;padding-right:0px\"></mark></b>antestalvezjunto\n",
              "</pre></td></tr>\n",
              "<tr><td><div class=\"errado\"/></td><td style=\"text-align:left;\"><b><mark style=\"background-color:#ffff40;padding-left:0px;padding-right:0px\"></mark></b>robustezjunto\n",
              "</pre></td></tr>\n",
              "<tr><td><div class=\"errado\"/></td><td style=\"text-align:left;\"><b><mark style=\"background-color:#ffff40;padding-left:0px;padding-right:0px\"></mark></b>antesrobustez\n",
              "</pre></td></tr>\n",
              "<tr><td><div class=\"errado\"/></td><td style=\"text-align:left;\"><b><mark style=\"background-color:#ffff40;padding-left:0px;padding-right:0px\"></mark></b>antesrobustezjunto\n",
              "</pre></td></tr></table>"
            ],
            "text/plain": [
              "<IPython.core.display.HTML object>"
            ]
          },
          "metadata": {
            "tags": []
          }
        }
      ]
    },
    {
      "cell_type": "markdown",
      "metadata": {
        "azdata_cell_guid": "e7491b58-ce32-4ab6-8d3b-efd997b64d16",
        "id": "WCwhJqb5tNo8"
      },
      "source": [
        "3 dígitos consecutivos"
      ]
    },
    {
      "cell_type": "code",
      "metadata": {
        "azdata_cell_guid": "9392b7b3-1cce-4e79-8591-25d53f5fcf90",
        "id": "TOf0S1N8tNo9",
        "outputId": "718a11bf-5709-41d6-d04f-bdde44f3acce"
      },
      "source": [
        "exercicio(4, r'')"
      ],
      "execution_count": null,
      "outputs": [
        {
          "output_type": "display_data",
          "data": {
            "text/html": [
              "<style>.certo {background-image: url('data:image/png;base64,iVBORw0KGgoAAAANSUhEUgAAABAAAAAQCAYAAAAf8/9hAAAABHNCSVQICAgIfAhkiAAAAAlwSFlzAAALEwAACxMBAJqcGAAAAgBJREFUOI2lkz1oU1EUx3/nvpcmNqWlNIoKFkFsXKrSOCkoDi6iVOwgCEWLiyBaTKuLdhP8ACkoig5iqoM4SDGDq2uLxUHFptWhHQTF1gzlNc27ufc6tHk0NMTBs917zu9/vu6F/zSpd7lvcnC/VeqUCF1Y61Aya8WOf8k8+NRQIDOVTYXGjImnjtdN51y+omXg68HRPxsEMlPZlHaVj4i3o1HJ1rk5iSd6Pu+9UwRQVceK1m/+BQMokZ2USq+jM0DPxFDGi/mHG4EnWjM0q/hq2Z461v3hanckEOrycCN4oP0o2S0nub31LLLWtQv1UCTglPRUg5MqHmWqwv0dR6hYw6v59zhc1XUAwAcQZxMALSrBvW39WGe5/vMlZ9oORfBIYYwJNYesjc06NkUCzthFoDNuPFpJsL25g1znJVJ+Wy3sRzNHtF2IWjAr5h3AIgGXC0/4UVog5behbYWb0zkmvFoYwJZ0PhIgKI1WgrJBoNiiuVJ4ynzwi5HpF0z684hXC+ulsl4uh49g3UNK5y/caNqcvCUxDxy4pTIkYxtgFxrC38HwTO+z+zUCOKQrf/5xrD150WtuqrtOE4SY4vLDQu/zQWR1HRs+U3r8XJ943l2VbNolvkIQrDboQH8TY67Nns69XR9f9zfikD3j/budeGlx4sS6mem+3Pdq1vX2FyOryD82RGIbAAAAAElFTkSuQmCC'); background-size: cover; height: 16px; width: 16px}.errado {background-image: url('data:image/png;base64,iVBORw0KGgoAAAANSUhEUgAAABAAAAAQCAYAAAAf8/9hAAAABHNCSVQICAgIfAhkiAAAAAlwSFlzAAALEwAACxMBAJqcGAAAAjNJREFUOI2lk01IVFEYhp9zznUcnUnH/Bk3WhCVFEFZbiwUAxeZlCJFWERBgZsIqRatWhuRi0BtFS1bSGQYlBLISD8EgbWwv0VFxlijThOpd+6ce1o49zrh4KZ3+XHe53u/j+/Af0rkK35ra9ythOgwmG0gDYIPUnC/+uHkm3UBM+3NFZC5KxFt+cCuNiNa67O1T17MrwHMtDdX4DqvpZQ160XOGPPZRdRvGp1cAJA+PeMMe2ZRXrl21mzNEmKzMPqeV5cAXw4f2GtZsgmAso2o60PIjhOr5s5uVN8glEQAKJCq9evRpl0AFkDGsS8HAoUrEecSzN8ZJNrTC1JiDFhdJ4kP3CCSXEDJlamdJfsScMYCcJH1XjdLSkITj/mhLKrOXwBg9nY/G2LjKKVWUxn2+QkMBHPnLVQKK1QMxgAQKQ4hc8wArqTIB2jXnQNqffqR4wSPnSY+1A9AdU8vGcvCjA77gLR2Ez5gydGPIkH2ALilEaxDncQHbxKOjQEQBypPnUPHxpGpXwD8yaRHIHsHYw115TWl4dnSYFC5xvBTKMq0QyAb29aapApQZTRCQMpOO9/TdlXLxFRSArS+ejeXWLSv2VojhSCK65u9nURZMS9rTWJx+WrLxFTST5BdpIjt3zEQDYV7SgIB8imVTpP4vXSr8fnbiwLMPwBPTxt3dhUp1RcuKNjipUhrTWrZ/mijrxx8Nv0g933e32hAxBrqtrpKbTcCI1z3ffPL6U9e11z9Bai+yG1sATfvAAAAAElFTkSuQmCC'); background-size: cover; height: 16px; width: 16px}</style><table><tr><td><div class=\"errado\"/></td><td style=\"text-align:left;\"><b><mark style=\"background-color:#ffff40;padding-left:0px;padding-right:0px\"></mark></b>040&nbsp;inicia&nbsp;com&nbsp;zero\n",
              "</pre></td></tr>\n",
              "<tr><td><div class=\"errado\"/></td><td style=\"text-align:left;\"><b><mark style=\"background-color:#ffff40;padding-left:0px;padding-right:0px\"></mark></b>056&nbsp;de&nbsp;novo\n",
              "</pre></td></tr>\n",
              "<tr><td><div class=\"errado\"/></td><td style=\"text-align:left;\"><b><mark style=\"background-color:#ffff40;padding-left:0px;padding-right:0px\"></mark></b>100&nbsp;cem\n",
              "</pre></td></tr>\n",
              "<tr><td><div class=\"errado\"/></td><td style=\"text-align:left;\"><b><mark style=\"background-color:#ffff40;padding-left:0px;padding-right:0px\"></mark></b>789&nbsp;789&nbsp;789\n",
              "</pre></td></tr>\n",
              "<tr><td><div class=\"errado\"/></td><td style=\"text-align:left;\"><b><mark style=\"background-color:#ffff40;padding-left:0px;padding-right:0px\"></mark></b>0101&nbsp;binário\n",
              "</pre></td></tr>\n",
              "<tr><td><div class=\"errado\"/></td><td style=\"text-align:left;\"><b><mark style=\"background-color:#ffff40;padding-left:0px;padding-right:0px\"></mark></b>000x&nbsp;termina&nbsp;em&nbsp;x\n",
              "</pre></td></tr>\n",
              "<tr><td><div class=\"errado\"/></td><td style=\"text-align:left;\"><b><mark style=\"background-color:#ffff40;padding-left:0px;padding-right:0px\"></mark></b>ano&nbsp;de&nbsp;1984\n",
              "</pre></td></tr>\n",
              "<tr><td><div class=\"errado\"/></td><td style=\"text-align:left;\"><b><mark style=\"background-color:#ffff40;padding-left:0px;padding-right:0px\"></mark></b>data&nbsp;01/01/2018\n",
              "</pre></td></tr><tr><td><div class=\"errado\"/></td><td style=\"text-align:left;\"><b><mark style=\"background-color:#ffff40;padding-left:0px;padding-right:0px\"></mark></b>zero&nbsp;0\n",
              "</pre></td></tr>\n",
              "<tr><td><div class=\"errado\"/></td><td style=\"text-align:left;\"><b><mark style=\"background-color:#ffff40;padding-left:0px;padding-right:0px\"></mark></b>dígito&nbsp;1\n",
              "</pre></td></tr>\n",
              "<tr><td><div class=\"errado\"/></td><td style=\"text-align:left;\"><b><mark style=\"background-color:#ffff40;padding-left:0px;padding-right:0px\"></mark></b>vinte&nbsp;20\n",
              "</pre></td></tr>\n",
              "<tr><td><div class=\"errado\"/></td><td style=\"text-align:left;\"><b><mark style=\"background-color:#ffff40;padding-left:0px;padding-right:0px\"></mark></b>inicia&nbsp;com&nbsp;zero&nbsp;03\n",
              "</pre></td></tr>\n",
              "<tr><td><div class=\"errado\"/></td><td style=\"text-align:left;\"><b><mark style=\"background-color:#ffff40;padding-left:0px;padding-right:0px\"></mark></b>03&nbsp;também&nbsp;tem&nbsp;zero\n",
              "</pre></td></tr>\n",
              "<tr><td><div class=\"errado\"/></td><td style=\"text-align:left;\"><b><mark style=\"background-color:#ffff40;padding-left:0px;padding-right:0px\"></mark></b>sem&nbsp;dígitos\n",
              "</pre></td></tr></table>"
            ],
            "text/plain": [
              "<IPython.core.display.HTML object>"
            ]
          },
          "metadata": {
            "tags": []
          }
        }
      ]
    },
    {
      "cell_type": "markdown",
      "metadata": {
        "azdata_cell_guid": "ba65471c-37ad-47ce-9a9e-9a450484c255",
        "id": "HDHt7Rj2tNo9"
      },
      "source": [
        "Um número inteiro com 2, 3 ou 4 dígitos, sendo que o primeiro dígito não pode ser zero"
      ]
    },
    {
      "cell_type": "code",
      "metadata": {
        "azdata_cell_guid": "eba2a1e4-d3c0-426f-829b-63083efa1f30",
        "id": "i6If-wq-tNo-",
        "outputId": "e1b2fbd5-a2c4-449d-a240-17026adaea08"
      },
      "source": [
        "exercicio(5, r'')"
      ],
      "execution_count": null,
      "outputs": [
        {
          "output_type": "display_data",
          "data": {
            "text/html": [
              "<style>.certo {background-image: url('data:image/png;base64,iVBORw0KGgoAAAANSUhEUgAAABAAAAAQCAYAAAAf8/9hAAAABHNCSVQICAgIfAhkiAAAAAlwSFlzAAALEwAACxMBAJqcGAAAAgBJREFUOI2lkz1oU1EUx3/nvpcmNqWlNIoKFkFsXKrSOCkoDi6iVOwgCEWLiyBaTKuLdhP8ACkoig5iqoM4SDGDq2uLxUHFptWhHQTF1gzlNc27ufc6tHk0NMTBs917zu9/vu6F/zSpd7lvcnC/VeqUCF1Y61Aya8WOf8k8+NRQIDOVTYXGjImnjtdN51y+omXg68HRPxsEMlPZlHaVj4i3o1HJ1rk5iSd6Pu+9UwRQVceK1m/+BQMokZ2USq+jM0DPxFDGi/mHG4EnWjM0q/hq2Z461v3hanckEOrycCN4oP0o2S0nub31LLLWtQv1UCTglPRUg5MqHmWqwv0dR6hYw6v59zhc1XUAwAcQZxMALSrBvW39WGe5/vMlZ9oORfBIYYwJNYesjc06NkUCzthFoDNuPFpJsL25g1znJVJ+Wy3sRzNHtF2IWjAr5h3AIgGXC0/4UVog5behbYWb0zkmvFoYwJZ0PhIgKI1WgrJBoNiiuVJ4ynzwi5HpF0z684hXC+ulsl4uh49g3UNK5y/caNqcvCUxDxy4pTIkYxtgFxrC38HwTO+z+zUCOKQrf/5xrD150WtuqrtOE4SY4vLDQu/zQWR1HRs+U3r8XJ943l2VbNolvkIQrDboQH8TY67Nns69XR9f9zfikD3j/budeGlx4sS6mem+3Pdq1vX2FyOryD82RGIbAAAAAElFTkSuQmCC'); background-size: cover; height: 16px; width: 16px}.errado {background-image: url('data:image/png;base64,iVBORw0KGgoAAAANSUhEUgAAABAAAAAQCAYAAAAf8/9hAAAABHNCSVQICAgIfAhkiAAAAAlwSFlzAAALEwAACxMBAJqcGAAAAjNJREFUOI2lk01IVFEYhp9zznUcnUnH/Bk3WhCVFEFZbiwUAxeZlCJFWERBgZsIqRatWhuRi0BtFS1bSGQYlBLISD8EgbWwv0VFxlijThOpd+6ce1o49zrh4KZ3+XHe53u/j+/Af0rkK35ra9ythOgwmG0gDYIPUnC/+uHkm3UBM+3NFZC5KxFt+cCuNiNa67O1T17MrwHMtDdX4DqvpZQ160XOGPPZRdRvGp1cAJA+PeMMe2ZRXrl21mzNEmKzMPqeV5cAXw4f2GtZsgmAso2o60PIjhOr5s5uVN8glEQAKJCq9evRpl0AFkDGsS8HAoUrEecSzN8ZJNrTC1JiDFhdJ4kP3CCSXEDJlamdJfsScMYCcJH1XjdLSkITj/mhLKrOXwBg9nY/G2LjKKVWUxn2+QkMBHPnLVQKK1QMxgAQKQ4hc8wArqTIB2jXnQNqffqR4wSPnSY+1A9AdU8vGcvCjA77gLR2Ez5gydGPIkH2ALilEaxDncQHbxKOjQEQBypPnUPHxpGpXwD8yaRHIHsHYw115TWl4dnSYFC5xvBTKMq0QyAb29aapApQZTRCQMpOO9/TdlXLxFRSArS+ejeXWLSv2VojhSCK65u9nURZMS9rTWJx+WrLxFTST5BdpIjt3zEQDYV7SgIB8imVTpP4vXSr8fnbiwLMPwBPTxt3dhUp1RcuKNjipUhrTWrZ/mijrxx8Nv0g933e32hAxBrqtrpKbTcCI1z3ffPL6U9e11z9Bai+yG1sATfvAAAAAElFTkSuQmCC'); background-size: cover; height: 16px; width: 16px}</style><table><tr><td><div class=\"errado\"/></td><td style=\"text-align:left;\"><b><mark style=\"background-color:#ffff40;padding-left:0px;padding-right:0px\"></mark></b>vinte&nbsp;20\n",
              "</pre></td></tr>\n",
              "<tr><td><div class=\"errado\"/></td><td style=\"text-align:left;\"><b><mark style=\"background-color:#ffff40;padding-left:0px;padding-right:0px\"></mark></b>100&nbsp;cem\n",
              "</pre></td></tr>\n",
              "<tr><td><div class=\"errado\"/></td><td style=\"text-align:left;\"><b><mark style=\"background-color:#ffff40;padding-left:0px;padding-right:0px\"></mark></b>789&nbsp;789&nbsp;789\n",
              "</pre></td></tr>\n",
              "<tr><td><div class=\"errado\"/></td><td style=\"text-align:left;\"><b><mark style=\"background-color:#ffff40;padding-left:0px;padding-right:0px\"></mark></b>ano&nbsp;de&nbsp;1984\n",
              "</pre></td></tr>\n",
              "<tr><td><div class=\"errado\"/></td><td style=\"text-align:left;\"><b><mark style=\"background-color:#ffff40;padding-left:0px;padding-right:0px\"></mark></b>data&nbsp;01/01/2018\n",
              "</pre></td></tr><tr><td><div class=\"errado\"/></td><td style=\"text-align:left;\"><b><mark style=\"background-color:#ffff40;padding-left:0px;padding-right:0px\"></mark></b>zero&nbsp;0\n",
              "</pre></td></tr>\n",
              "<tr><td><div class=\"errado\"/></td><td style=\"text-align:left;\"><b><mark style=\"background-color:#ffff40;padding-left:0px;padding-right:0px\"></mark></b>dígito&nbsp;1\n",
              "</pre></td></tr>\n",
              "<tr><td><div class=\"errado\"/></td><td style=\"text-align:left;\"><b><mark style=\"background-color:#ffff40;padding-left:0px;padding-right:0px\"></mark></b>inicia&nbsp;com&nbsp;zero&nbsp;03\n",
              "</pre></td></tr>\n",
              "<tr><td><div class=\"errado\"/></td><td style=\"text-align:left;\"><b><mark style=\"background-color:#ffff40;padding-left:0px;padding-right:0px\"></mark></b>03&nbsp;também&nbsp;tem&nbsp;zero\n",
              "</pre></td></tr>\n",
              "<tr><td><div class=\"errado\"/></td><td style=\"text-align:left;\"><b><mark style=\"background-color:#ffff40;padding-left:0px;padding-right:0px\"></mark></b>040&nbsp;inicia&nbsp;com&nbsp;zero\n",
              "</pre></td></tr>\n",
              "<tr><td><div class=\"errado\"/></td><td style=\"text-align:left;\"><b><mark style=\"background-color:#ffff40;padding-left:0px;padding-right:0px\"></mark></b>056&nbsp;de&nbsp;novo\n",
              "</pre></td></tr>\n",
              "<tr><td><div class=\"errado\"/></td><td style=\"text-align:left;\"><b><mark style=\"background-color:#ffff40;padding-left:0px;padding-right:0px\"></mark></b>0101&nbsp;binário\n",
              "</pre></td></tr>\n",
              "<tr><td><div class=\"errado\"/></td><td style=\"text-align:left;\"><b><mark style=\"background-color:#ffff40;padding-left:0px;padding-right:0px\"></mark></b>000x&nbsp;termina&nbsp;em&nbsp;x\n",
              "</pre></td></tr>\n",
              "<tr><td><div class=\"errado\"/></td><td style=\"text-align:left;\"><b><mark style=\"background-color:#ffff40;padding-left:0px;padding-right:0px\"></mark></b>isso&nbsp;não&nbsp;é&nbsp;um&nbsp;número&nbsp;válido&nbsp;1000abc\n",
              "</pre></td></tr>\n",
              "<tr><td><div class=\"errado\"/></td><td style=\"text-align:left;\"><b><mark style=\"background-color:#ffff40;padding-left:0px;padding-right:0px\"></mark></b>y1000&nbsp;isso&nbsp;também&nbsp;não&nbsp;é&nbsp;um&nbsp;número&nbsp;válido\n",
              "</pre></td></tr></table>"
            ],
            "text/plain": [
              "<IPython.core.display.HTML object>"
            ]
          },
          "metadata": {
            "tags": []
          }
        }
      ]
    },
    {
      "cell_type": "markdown",
      "metadata": {
        "azdata_cell_guid": "488b7d49-fd37-4e2a-a8f9-c6284e9699fa",
        "id": "s2a1M17etNo-"
      },
      "source": [
        "Uma palavra que inicie com um dígito e termine com um letra"
      ]
    },
    {
      "cell_type": "code",
      "metadata": {
        "azdata_cell_guid": "d1ca60b6-8917-40ad-8119-6136f01385fb",
        "id": "zckPX48qtNo_",
        "outputId": "2a030278-780e-4bbf-a2ad-94206fe674bc"
      },
      "source": [
        "exercicio(6, r'')"
      ],
      "execution_count": null,
      "outputs": [
        {
          "output_type": "display_data",
          "data": {
            "text/html": [
              "<style>.certo {background-image: url('data:image/png;base64,iVBORw0KGgoAAAANSUhEUgAAABAAAAAQCAYAAAAf8/9hAAAABHNCSVQICAgIfAhkiAAAAAlwSFlzAAALEwAACxMBAJqcGAAAAgBJREFUOI2lkz1oU1EUx3/nvpcmNqWlNIoKFkFsXKrSOCkoDi6iVOwgCEWLiyBaTKuLdhP8ACkoig5iqoM4SDGDq2uLxUHFptWhHQTF1gzlNc27ufc6tHk0NMTBs917zu9/vu6F/zSpd7lvcnC/VeqUCF1Y61Aya8WOf8k8+NRQIDOVTYXGjImnjtdN51y+omXg68HRPxsEMlPZlHaVj4i3o1HJ1rk5iSd6Pu+9UwRQVceK1m/+BQMokZ2USq+jM0DPxFDGi/mHG4EnWjM0q/hq2Z461v3hanckEOrycCN4oP0o2S0nub31LLLWtQv1UCTglPRUg5MqHmWqwv0dR6hYw6v59zhc1XUAwAcQZxMALSrBvW39WGe5/vMlZ9oORfBIYYwJNYesjc06NkUCzthFoDNuPFpJsL25g1znJVJ+Wy3sRzNHtF2IWjAr5h3AIgGXC0/4UVog5behbYWb0zkmvFoYwJZ0PhIgKI1WgrJBoNiiuVJ4ynzwi5HpF0z684hXC+ulsl4uh49g3UNK5y/caNqcvCUxDxy4pTIkYxtgFxrC38HwTO+z+zUCOKQrf/5xrD150WtuqrtOE4SY4vLDQu/zQWR1HRs+U3r8XJ943l2VbNolvkIQrDboQH8TY67Nns69XR9f9zfikD3j/budeGlx4sS6mem+3Pdq1vX2FyOryD82RGIbAAAAAElFTkSuQmCC'); background-size: cover; height: 16px; width: 16px}.errado {background-image: url('data:image/png;base64,iVBORw0KGgoAAAANSUhEUgAAABAAAAAQCAYAAAAf8/9hAAAABHNCSVQICAgIfAhkiAAAAAlwSFlzAAALEwAACxMBAJqcGAAAAjNJREFUOI2lk01IVFEYhp9zznUcnUnH/Bk3WhCVFEFZbiwUAxeZlCJFWERBgZsIqRatWhuRi0BtFS1bSGQYlBLISD8EgbWwv0VFxlijThOpd+6ce1o49zrh4KZ3+XHe53u/j+/Af0rkK35ra9ythOgwmG0gDYIPUnC/+uHkm3UBM+3NFZC5KxFt+cCuNiNa67O1T17MrwHMtDdX4DqvpZQ160XOGPPZRdRvGp1cAJA+PeMMe2ZRXrl21mzNEmKzMPqeV5cAXw4f2GtZsgmAso2o60PIjhOr5s5uVN8glEQAKJCq9evRpl0AFkDGsS8HAoUrEecSzN8ZJNrTC1JiDFhdJ4kP3CCSXEDJlamdJfsScMYCcJH1XjdLSkITj/mhLKrOXwBg9nY/G2LjKKVWUxn2+QkMBHPnLVQKK1QMxgAQKQ4hc8wArqTIB2jXnQNqffqR4wSPnSY+1A9AdU8vGcvCjA77gLR2Ez5gydGPIkH2ALilEaxDncQHbxKOjQEQBypPnUPHxpGpXwD8yaRHIHsHYw115TWl4dnSYFC5xvBTKMq0QyAb29aapApQZTRCQMpOO9/TdlXLxFRSArS+ejeXWLSv2VojhSCK65u9nURZMS9rTWJx+WrLxFTST5BdpIjt3zEQDYV7SgIB8imVTpP4vXSr8fnbiwLMPwBPTxt3dhUp1RcuKNjipUhrTWrZ/mijrxx8Nv0g933e32hAxBrqtrpKbTcCI1z3ffPL6U9e11z9Bai+yG1sATfvAAAAAElFTkSuQmCC'); background-size: cover; height: 16px; width: 16px}</style><table><tr><td><div class=\"errado\"/></td><td style=\"text-align:left;\"><b><mark style=\"background-color:#ffff40;padding-left:0px;padding-right:0px\"></mark></b>parágrafo&nbsp;11b\n",
              "</pre></td></tr>\n",
              "<tr><td><div class=\"errado\"/></td><td style=\"text-align:left;\"><b><mark style=\"background-color:#ffff40;padding-left:0px;padding-right:0px\"></mark></b>1111111b\n",
              "</pre></td></tr>\n",
              "<tr><td><div class=\"errado\"/></td><td style=\"text-align:left;\"><b><mark style=\"background-color:#ffff40;padding-left:0px;padding-right:0px\"></mark></b>1bbbbbbb\n",
              "</pre></td></tr>\n",
              "<tr><td><div class=\"errado\"/></td><td style=\"text-align:left;\"><b><mark style=\"background-color:#ffff40;padding-left:0px;padding-right:0px\"></mark></b>1b1b1b1b\n",
              "</pre></td></tr><tr><td><div class=\"errado\"/></td><td style=\"text-align:left;\"><b><mark style=\"background-color:#ffff40;padding-left:0px;padding-right:0px\"></mark></b>teste&nbsp;1a\n",
              "</pre></td></tr>\n",
              "<tr><td><div class=\"errado\"/></td><td style=\"text-align:left;\"><b><mark style=\"background-color:#ffff40;padding-left:0px;padding-right:0px\"></mark></b>dígitos&nbsp;113&nbsp;total\n",
              "</pre></td></tr>\n",
              "<tr><td><div class=\"errado\"/></td><td style=\"text-align:left;\"><b><mark style=\"background-color:#ffff40;padding-left:0px;padding-right:0px\"></mark></b>soma&nbsp;quando&nbsp;3a\n",
              "</pre></td></tr>\n",
              "<tr><td><div class=\"errado\"/></td><td style=\"text-align:left;\"><b><mark style=\"background-color:#ffff40;padding-left:0px;padding-right:0px\"></mark></b>bb1bbbbb11b\n",
              "</pre></td></tr>\n",
              "<tr><td><div class=\"errado\"/></td><td style=\"text-align:left;\"><b><mark style=\"background-color:#ffff40;padding-left:0px;padding-right:0px\"></mark></b>b1b1b1b1\n",
              "</pre></td></tr>\n",
              "<tr><td><div class=\"errado\"/></td><td style=\"text-align:left;\"><b><mark style=\"background-color:#ffff40;padding-left:0px;padding-right:0px\"></mark></b>111\n",
              "</pre></td></tr>\n",
              "<tr><td><div class=\"errado\"/></td><td style=\"text-align:left;\"><b><mark style=\"background-color:#ffff40;padding-left:0px;padding-right:0px\"></mark></b>1a1\n",
              "</pre></td></tr></table>"
            ],
            "text/plain": [
              "<IPython.core.display.HTML object>"
            ]
          },
          "metadata": {
            "tags": []
          }
        }
      ]
    },
    {
      "cell_type": "markdown",
      "metadata": {
        "azdata_cell_guid": "d17783a3-2e7a-46cc-a0e3-5f270dc357ac",
        "id": "RsPzCKYstNo_"
      },
      "source": [
        "Uma palavra seguida de um espaço seguido de um sequência de um ou mais dígitos"
      ]
    },
    {
      "cell_type": "code",
      "metadata": {
        "azdata_cell_guid": "6c0119f2-2859-481c-b9ab-90f99c4239f0",
        "id": "VvDPJofttNo_",
        "outputId": "c74ba789-c566-48ca-c634-ed8bcda94b3c"
      },
      "source": [
        "exercicio(7, r'')"
      ],
      "execution_count": null,
      "outputs": [
        {
          "output_type": "display_data",
          "data": {
            "text/html": [
              "<style>.certo {background-image: url('data:image/png;base64,iVBORw0KGgoAAAANSUhEUgAAABAAAAAQCAYAAAAf8/9hAAAABHNCSVQICAgIfAhkiAAAAAlwSFlzAAALEwAACxMBAJqcGAAAAgBJREFUOI2lkz1oU1EUx3/nvpcmNqWlNIoKFkFsXKrSOCkoDi6iVOwgCEWLiyBaTKuLdhP8ACkoig5iqoM4SDGDq2uLxUHFptWhHQTF1gzlNc27ufc6tHk0NMTBs917zu9/vu6F/zSpd7lvcnC/VeqUCF1Y61Aya8WOf8k8+NRQIDOVTYXGjImnjtdN51y+omXg68HRPxsEMlPZlHaVj4i3o1HJ1rk5iSd6Pu+9UwRQVceK1m/+BQMokZ2USq+jM0DPxFDGi/mHG4EnWjM0q/hq2Z461v3hanckEOrycCN4oP0o2S0nub31LLLWtQv1UCTglPRUg5MqHmWqwv0dR6hYw6v59zhc1XUAwAcQZxMALSrBvW39WGe5/vMlZ9oORfBIYYwJNYesjc06NkUCzthFoDNuPFpJsL25g1znJVJ+Wy3sRzNHtF2IWjAr5h3AIgGXC0/4UVog5behbYWb0zkmvFoYwJZ0PhIgKI1WgrJBoNiiuVJ4ynzwi5HpF0z684hXC+ulsl4uh49g3UNK5y/caNqcvCUxDxy4pTIkYxtgFxrC38HwTO+z+zUCOKQrf/5xrD150WtuqrtOE4SY4vLDQu/zQWR1HRs+U3r8XJ943l2VbNolvkIQrDboQH8TY67Nns69XR9f9zfikD3j/budeGlx4sS6mem+3Pdq1vX2FyOryD82RGIbAAAAAElFTkSuQmCC'); background-size: cover; height: 16px; width: 16px}.errado {background-image: url('data:image/png;base64,iVBORw0KGgoAAAANSUhEUgAAABAAAAAQCAYAAAAf8/9hAAAABHNCSVQICAgIfAhkiAAAAAlwSFlzAAALEwAACxMBAJqcGAAAAjNJREFUOI2lk01IVFEYhp9zznUcnUnH/Bk3WhCVFEFZbiwUAxeZlCJFWERBgZsIqRatWhuRi0BtFS1bSGQYlBLISD8EgbWwv0VFxlijThOpd+6ce1o49zrh4KZ3+XHe53u/j+/Af0rkK35ra9ythOgwmG0gDYIPUnC/+uHkm3UBM+3NFZC5KxFt+cCuNiNa67O1T17MrwHMtDdX4DqvpZQ160XOGPPZRdRvGp1cAJA+PeMMe2ZRXrl21mzNEmKzMPqeV5cAXw4f2GtZsgmAso2o60PIjhOr5s5uVN8glEQAKJCq9evRpl0AFkDGsS8HAoUrEecSzN8ZJNrTC1JiDFhdJ4kP3CCSXEDJlamdJfsScMYCcJH1XjdLSkITj/mhLKrOXwBg9nY/G2LjKKVWUxn2+QkMBHPnLVQKK1QMxgAQKQ4hc8wArqTIB2jXnQNqffqR4wSPnSY+1A9AdU8vGcvCjA77gLR2Ez5gydGPIkH2ALilEaxDncQHbxKOjQEQBypPnUPHxpGpXwD8yaRHIHsHYw115TWl4dnSYFC5xvBTKMq0QyAb29aapApQZTRCQMpOO9/TdlXLxFRSArS+ejeXWLSv2VojhSCK65u9nURZMS9rTWJx+WrLxFTST5BdpIjt3zEQDYV7SgIB8imVTpP4vXSr8fnbiwLMPwBPTxt3dhUp1RcuKNjipUhrTWrZ/mijrxx8Nv0g933e32hAxBrqtrpKbTcCI1z3ffPL6U9e11z9Bai+yG1sATfvAAAAAElFTkSuQmCC'); background-size: cover; height: 16px; width: 16px}</style><table><tr><td><div class=\"errado\"/></td><td style=\"text-align:left;\"><b><mark style=\"background-color:#ffff40;padding-left:0px;padding-right:0px\"></mark></b>teste&nbsp;1234\n",
              "</pre></td></tr>\n",
              "<tr><td><div class=\"errado\"/></td><td style=\"text-align:left;\"><b><mark style=\"background-color:#ffff40;padding-left:0px;padding-right:0px\"></mark></b>parágrafo&nbsp;12345\n",
              "</pre></td></tr>\n",
              "<tr><td><div class=\"errado\"/></td><td style=\"text-align:left;\"><b><mark style=\"background-color:#ffff40;padding-left:0px;padding-right:0px\"></mark></b>letra&nbsp;1\n",
              "</pre></td></tr>\n",
              "<tr><td><div class=\"errado\"/></td><td style=\"text-align:left;\"><b><mark style=\"background-color:#ffff40;padding-left:0px;padding-right:0px\"></mark></b>a&nbsp;b&nbsp;1&nbsp;c\n",
              "</pre></td></tr>\n",
              "<tr><td><div class=\"errado\"/></td><td style=\"text-align:left;\"><b><mark style=\"background-color:#ffff40;padding-left:0px;padding-right:0px\"></mark></b>cc&nbsp;11&nbsp;a\n",
              "</pre></td></tr>\n",
              "<tr><td><div class=\"errado\"/></td><td style=\"text-align:left;\"><b><mark style=\"background-color:#ffff40;padding-left:0px;padding-right:0px\"></mark></b>1&nbsp;1\n",
              "</pre></td></tr><tr><td><div class=\"errado\"/></td><td style=\"text-align:left;\"><b><mark style=\"background-color:#ffff40;padding-left:0px;padding-right:0px\"></mark></b>dois&nbsp;espaços&nbsp;não&nbsp;pode&nbsp;&nbsp;2\n",
              "</pre></td></tr></table>"
            ],
            "text/plain": [
              "<IPython.core.display.HTML object>"
            ]
          },
          "metadata": {
            "tags": []
          }
        }
      ]
    },
    {
      "cell_type": "markdown",
      "metadata": {
        "azdata_cell_guid": "1140f3bf-4518-4752-8ded-db6a7a09cc99",
        "id": "YOs6DR1EtNo_"
      },
      "source": [
        "Um dia da semana: segunda-feira, terça-feira, quarta-feira, quinta-feira, sexta-feira. Adicionalmente, permita a escrita dos dias da semana com espaço no lugar do hífen ou com as palavras unidas (ex.: quartafeira e quinta feira)."
      ]
    },
    {
      "cell_type": "code",
      "metadata": {
        "azdata_cell_guid": "99b42ff2-b7c2-48ac-b515-cf139c17f73a",
        "id": "MgRoc_iTtNpA",
        "outputId": "93b36c0e-c67e-4a67-8514-02c7880d7080"
      },
      "source": [
        "exercicio(8, r'')"
      ],
      "execution_count": null,
      "outputs": [
        {
          "output_type": "display_data",
          "data": {
            "text/html": [
              "<style>.certo {background-image: url('data:image/png;base64,iVBORw0KGgoAAAANSUhEUgAAABAAAAAQCAYAAAAf8/9hAAAABHNCSVQICAgIfAhkiAAAAAlwSFlzAAALEwAACxMBAJqcGAAAAgBJREFUOI2lkz1oU1EUx3/nvpcmNqWlNIoKFkFsXKrSOCkoDi6iVOwgCEWLiyBaTKuLdhP8ACkoig5iqoM4SDGDq2uLxUHFptWhHQTF1gzlNc27ufc6tHk0NMTBs917zu9/vu6F/zSpd7lvcnC/VeqUCF1Y61Aya8WOf8k8+NRQIDOVTYXGjImnjtdN51y+omXg68HRPxsEMlPZlHaVj4i3o1HJ1rk5iSd6Pu+9UwRQVceK1m/+BQMokZ2USq+jM0DPxFDGi/mHG4EnWjM0q/hq2Z461v3hanckEOrycCN4oP0o2S0nub31LLLWtQv1UCTglPRUg5MqHmWqwv0dR6hYw6v59zhc1XUAwAcQZxMALSrBvW39WGe5/vMlZ9oORfBIYYwJNYesjc06NkUCzthFoDNuPFpJsL25g1znJVJ+Wy3sRzNHtF2IWjAr5h3AIgGXC0/4UVog5behbYWb0zkmvFoYwJZ0PhIgKI1WgrJBoNiiuVJ4ynzwi5HpF0z684hXC+ulsl4uh49g3UNK5y/caNqcvCUxDxy4pTIkYxtgFxrC38HwTO+z+zUCOKQrf/5xrD150WtuqrtOE4SY4vLDQu/zQWR1HRs+U3r8XJ943l2VbNolvkIQrDboQH8TY67Nns69XR9f9zfikD3j/budeGlx4sS6mem+3Pdq1vX2FyOryD82RGIbAAAAAElFTkSuQmCC'); background-size: cover; height: 16px; width: 16px}.errado {background-image: url('data:image/png;base64,iVBORw0KGgoAAAANSUhEUgAAABAAAAAQCAYAAAAf8/9hAAAABHNCSVQICAgIfAhkiAAAAAlwSFlzAAALEwAACxMBAJqcGAAAAjNJREFUOI2lk01IVFEYhp9zznUcnUnH/Bk3WhCVFEFZbiwUAxeZlCJFWERBgZsIqRatWhuRi0BtFS1bSGQYlBLISD8EgbWwv0VFxlijThOpd+6ce1o49zrh4KZ3+XHe53u/j+/Af0rkK35ra9ythOgwmG0gDYIPUnC/+uHkm3UBM+3NFZC5KxFt+cCuNiNa67O1T17MrwHMtDdX4DqvpZQ160XOGPPZRdRvGp1cAJA+PeMMe2ZRXrl21mzNEmKzMPqeV5cAXw4f2GtZsgmAso2o60PIjhOr5s5uVN8glEQAKJCq9evRpl0AFkDGsS8HAoUrEecSzN8ZJNrTC1JiDFhdJ4kP3CCSXEDJlamdJfsScMYCcJH1XjdLSkITj/mhLKrOXwBg9nY/G2LjKKVWUxn2+QkMBHPnLVQKK1QMxgAQKQ4hc8wArqTIB2jXnQNqffqR4wSPnSY+1A9AdU8vGcvCjA77gLR2Ez5gydGPIkH2ALilEaxDncQHbxKOjQEQBypPnUPHxpGpXwD8yaRHIHsHYw115TWl4dnSYFC5xvBTKMq0QyAb29aapApQZTRCQMpOO9/TdlXLxFRSArS+ejeXWLSv2VojhSCK65u9nURZMS9rTWJx+WrLxFTST5BdpIjt3zEQDYV7SgIB8imVTpP4vXSr8fnbiwLMPwBPTxt3dhUp1RcuKNjipUhrTWrZ/mijrxx8Nv0g933e32hAxBrqtrpKbTcCI1z3ffPL6U9e11z9Bai+yG1sATfvAAAAAElFTkSuQmCC'); background-size: cover; height: 16px; width: 16px}</style><table><tr><td><div class=\"errado\"/></td><td style=\"text-align:left;\"><b><mark style=\"background-color:#ffff40;padding-left:0px;padding-right:0px\"></mark></b>hoje&nbsp;é&nbsp;segunda-feira\n",
              "</pre></td></tr>\n",
              "<tr><td><div class=\"errado\"/></td><td style=\"text-align:left;\"><b><mark style=\"background-color:#ffff40;padding-left:0px;padding-right:0px\"></mark></b>amanhã&nbsp;será&nbsp;terça&nbsp;feira\n",
              "</pre></td></tr>\n",
              "<tr><td><div class=\"errado\"/></td><td style=\"text-align:left;\"><b><mark style=\"background-color:#ffff40;padding-left:0px;padding-right:0px\"></mark></b>quartafeira&nbsp;já&nbsp;passou\n",
              "</pre></td></tr>\n",
              "<tr><td><div class=\"errado\"/></td><td style=\"text-align:left;\"><b><mark style=\"background-color:#ffff40;padding-left:0px;padding-right:0px\"></mark></b>quinta-feira&nbsp;foi&nbsp;dia&nbsp;3\n",
              "</pre></td></tr>\n",
              "<tr><td><div class=\"errado\"/></td><td style=\"text-align:left;\"><b><mark style=\"background-color:#ffff40;padding-left:0px;padding-right:0px\"></mark></b>sextafeira&nbsp;\n",
              "</pre></td></tr><tr><td><div class=\"errado\"/></td><td style=\"text-align:left;\"><b><mark style=\"background-color:#ffff40;padding-left:0px;padding-right:0px\"></mark></b>sábado&nbsp;feriado\n",
              "</pre></td></tr>\n",
              "<tr><td><div class=\"errado\"/></td><td style=\"text-align:left;\"><b><mark style=\"background-color:#ffff40;padding-left:0px;padding-right:0px\"></mark></b>domingo&nbsp;feriado\n",
              "</pre></td></tr>\n",
              "<tr><td><div class=\"errado\"/></td><td style=\"text-align:left;\"><b><mark style=\"background-color:#ffff40;padding-left:0px;padding-right:0px\"></mark></b>2a&nbsp;feira&nbsp;internacional\n",
              "</pre></td></tr>\n",
              "<tr><td><div class=\"errado\"/></td><td style=\"text-align:left;\"><b><mark style=\"background-color:#ffff40;padding-left:0px;padding-right:0px\"></mark></b>sexta_feira\n",
              "</pre></td></tr>\n",
              "<tr><td><div class=\"errado\"/></td><td style=\"text-align:left;\"><b><mark style=\"background-color:#ffff40;padding-left:0px;padding-right:0px\"></mark></b>quinta.feira\n",
              "</pre></td></tr>\n",
              "<tr><td><div class=\"errado\"/></td><td style=\"text-align:left;\"><b><mark style=\"background-color:#ffff40;padding-left:0px;padding-right:0px\"></mark></b>domingues\n",
              "</pre></td></tr>\n",
              "<tr><td><div class=\"errado\"/></td><td style=\"text-align:left;\"><b><mark style=\"background-color:#ffff40;padding-left:0px;padding-right:0px\"></mark></b>asextafeira\n",
              "</pre></td></tr>\n",
              "<tr><td><div class=\"errado\"/></td><td style=\"text-align:left;\"><b><mark style=\"background-color:#ffff40;padding-left:0px;padding-right:0px\"></mark></b>abterça-feira\n",
              "</pre></td></tr>\n",
              "<tr><td><div class=\"errado\"/></td><td style=\"text-align:left;\"><b><mark style=\"background-color:#ffff40;padding-left:0px;padding-right:0px\"></mark></b>terças-feiras&nbsp;não&nbsp;vale&nbsp;plural\n",
              "</pre></td></tr></table>"
            ],
            "text/plain": [
              "<IPython.core.display.HTML object>"
            ]
          },
          "metadata": {
            "tags": []
          }
        }
      ]
    },
    {
      "cell_type": "markdown",
      "metadata": {
        "azdata_cell_guid": "52e8e6f2-50de-440e-8723-a963ae97254d",
        "id": "YOPvIVYNtNpA"
      },
      "source": [
        "Uma URL no formato: http://www.&lt;dominio&gt;.com.br/&lt;arquivo&gt;.html. O &lt;arquivo&gt; e o &lt;domínio&gt; somente podem contar letras de a a z (minúscula ou maiúsculas), dígitos e os sinais _ e -."
      ]
    },
    {
      "cell_type": "code",
      "metadata": {
        "azdata_cell_guid": "26b3b1d7-61bb-4712-9763-24390b2a1172",
        "id": "q6ZfiQ5otNpA",
        "outputId": "a485e8a8-a852-4173-8f21-51e4cb02f901"
      },
      "source": [
        "exercicio(9, r'')"
      ],
      "execution_count": null,
      "outputs": [
        {
          "output_type": "display_data",
          "data": {
            "text/html": [
              "<style>.certo {background-image: url('data:image/png;base64,iVBORw0KGgoAAAANSUhEUgAAABAAAAAQCAYAAAAf8/9hAAAABHNCSVQICAgIfAhkiAAAAAlwSFlzAAALEwAACxMBAJqcGAAAAgBJREFUOI2lkz1oU1EUx3/nvpcmNqWlNIoKFkFsXKrSOCkoDi6iVOwgCEWLiyBaTKuLdhP8ACkoig5iqoM4SDGDq2uLxUHFptWhHQTF1gzlNc27ufc6tHk0NMTBs917zu9/vu6F/zSpd7lvcnC/VeqUCF1Y61Aya8WOf8k8+NRQIDOVTYXGjImnjtdN51y+omXg68HRPxsEMlPZlHaVj4i3o1HJ1rk5iSd6Pu+9UwRQVceK1m/+BQMokZ2USq+jM0DPxFDGi/mHG4EnWjM0q/hq2Z461v3hanckEOrycCN4oP0o2S0nub31LLLWtQv1UCTglPRUg5MqHmWqwv0dR6hYw6v59zhc1XUAwAcQZxMALSrBvW39WGe5/vMlZ9oORfBIYYwJNYesjc06NkUCzthFoDNuPFpJsL25g1znJVJ+Wy3sRzNHtF2IWjAr5h3AIgGXC0/4UVog5behbYWb0zkmvFoYwJZ0PhIgKI1WgrJBoNiiuVJ4ynzwi5HpF0z684hXC+ulsl4uh49g3UNK5y/caNqcvCUxDxy4pTIkYxtgFxrC38HwTO+z+zUCOKQrf/5xrD150WtuqrtOE4SY4vLDQu/zQWR1HRs+U3r8XJ943l2VbNolvkIQrDboQH8TY67Nns69XR9f9zfikD3j/budeGlx4sS6mem+3Pdq1vX2FyOryD82RGIbAAAAAElFTkSuQmCC'); background-size: cover; height: 16px; width: 16px}.errado {background-image: url('data:image/png;base64,iVBORw0KGgoAAAANSUhEUgAAABAAAAAQCAYAAAAf8/9hAAAABHNCSVQICAgIfAhkiAAAAAlwSFlzAAALEwAACxMBAJqcGAAAAjNJREFUOI2lk01IVFEYhp9zznUcnUnH/Bk3WhCVFEFZbiwUAxeZlCJFWERBgZsIqRatWhuRi0BtFS1bSGQYlBLISD8EgbWwv0VFxlijThOpd+6ce1o49zrh4KZ3+XHe53u/j+/Af0rkK35ra9ythOgwmG0gDYIPUnC/+uHkm3UBM+3NFZC5KxFt+cCuNiNa67O1T17MrwHMtDdX4DqvpZQ160XOGPPZRdRvGp1cAJA+PeMMe2ZRXrl21mzNEmKzMPqeV5cAXw4f2GtZsgmAso2o60PIjhOr5s5uVN8glEQAKJCq9evRpl0AFkDGsS8HAoUrEecSzN8ZJNrTC1JiDFhdJ4kP3CCSXEDJlamdJfsScMYCcJH1XjdLSkITj/mhLKrOXwBg9nY/G2LjKKVWUxn2+QkMBHPnLVQKK1QMxgAQKQ4hc8wArqTIB2jXnQNqffqR4wSPnSY+1A9AdU8vGcvCjA77gLR2Ez5gydGPIkH2ALilEaxDncQHbxKOjQEQBypPnUPHxpGpXwD8yaRHIHsHYw115TWl4dnSYFC5xvBTKMq0QyAb29aapApQZTRCQMpOO9/TdlXLxFRSArS+ejeXWLSv2VojhSCK65u9nURZMS9rTWJx+WrLxFTST5BdpIjt3zEQDYV7SgIB8imVTpP4vXSr8fnbiwLMPwBPTxt3dhUp1RcuKNjipUhrTWrZ/mijrxx8Nv0g933e32hAxBrqtrpKbTcCI1z3ffPL6U9e11z9Bai+yG1sATfvAAAAAElFTkSuQmCC'); background-size: cover; height: 16px; width: 16px}</style><table><tr><td><div class=\"errado\"/></td><td style=\"text-align:left;\"><b><mark style=\"background-color:#ffff40;padding-left:0px;padding-right:0px\"></mark></b>http://www.google.com.br/index.html\n",
              "</pre></td></tr>\n",
              "<tr><td><div class=\"errado\"/></td><td style=\"text-align:left;\"><b><mark style=\"background-color:#ffff40;padding-left:0px;padding-right:0px\"></mark></b>http://www.terra.com.br/underline_1.html\n",
              "</pre></td></tr>\n",
              "<tr><td><div class=\"errado\"/></td><td style=\"text-align:left;\"><b><mark style=\"background-color:#ffff40;padding-left:0px;padding-right:0px\"></mark></b>http://www.teste-novo.com.br/hiFen-1.html\n",
              "</pre></td></tr><tr><td><div class=\"errado\"/></td><td style=\"text-align:left;\"><b><mark style=\"background-color:#ffff40;padding-left:0px;padding-right:0px\"></mark></b>http://www.google.com/index.html\n",
              "</pre></td></tr>\n",
              "<tr><td><div class=\"errado\"/></td><td style=\"text-align:left;\"><b><mark style=\"background-color:#ffff40;padding-left:0px;padding-right:0px\"></mark></b>http://uol.com.br/teste.html\n",
              "</pre></td></tr>\n",
              "<tr><td><div class=\"errado\"/></td><td style=\"text-align:left;\"><b><mark style=\"background-color:#ffff40;padding-left:0px;padding-right:0px\"></mark></b>http://bol.com.br/nao/podem/existir/barras.html\n",
              "</pre></td></tr>\n",
              "<tr><td><div class=\"errado\"/></td><td style=\"text-align:left;\"><b><mark style=\"background-color:#ffff40;padding-left:0px;padding-right:0px\"></mark></b>https://www.google.com/https/também/nao/pode.html\n",
              "</pre></td></tr>\n",
              "<tr><td><div class=\"errado\"/></td><td style=\"text-align:left;\"><b><mark style=\"background-color:#ffff40;padding-left:0px;padding-right:0px\"></mark></b>http://www.teste_velha.com.br/111-html\n",
              "</pre></td></tr>\n",
              "<tr><td><div class=\"errado\"/></td><td style=\"text-align:left;\"><b><mark style=\"background-color:#ffff40;padding-left:0px;padding-right:0px\"></mark></b>http://www-testevelho.com-br/111.html\n",
              "</pre></td></tr>\n",
              "<tr><td><div class=\"errado\"/></td><td style=\"text-align:left;\"><b><mark style=\"background-color:#ffff40;padding-left:0px;padding-right:0px\"></mark></b>http://www..com-br/1.html\n",
              "</pre></td></tr>\n",
              "<tr><td><div class=\"errado\"/></td><td style=\"text-align:left;\"><b><mark style=\"background-color:#ffff40;padding-left:0px;padding-right:0px\"></mark></b>http://www.com-br/2.html\n",
              "</pre></td></tr>\n",
              "<tr><td><div class=\"errado\"/></td><td style=\"text-align:left;\"><b><mark style=\"background-color:#ffff40;padding-left:0px;padding-right:0px\"></mark></b>http://www...com-br/3.html\n",
              "</pre></td></tr></table>"
            ],
            "text/plain": [
              "<IPython.core.display.HTML object>"
            ]
          },
          "metadata": {
            "tags": []
          }
        }
      ]
    },
    {
      "cell_type": "markdown",
      "metadata": {
        "azdata_cell_guid": "939b1c09-e93c-4fc3-815a-1c18329f6b16",
        "id": "uDR9pqR5tNpB"
      },
      "source": [
        "Duas palavras unidas pelas preposições 'de', 'do', 'da', 'dos' ou 'das'. As palavras somente podem conter letras e elas são separadas por um ou mais espaços."
      ]
    },
    {
      "cell_type": "code",
      "metadata": {
        "azdata_cell_guid": "f7bf3a82-385d-400b-8b21-a937262dd9a1",
        "id": "qVIN3c3WtNpB",
        "outputId": "6015442b-59cf-4b05-ee10-14b73786736a"
      },
      "source": [
        "exercicio(10, r'')"
      ],
      "execution_count": null,
      "outputs": [
        {
          "output_type": "display_data",
          "data": {
            "text/html": [
              "<style>.certo {background-image: url('data:image/png;base64,iVBORw0KGgoAAAANSUhEUgAAABAAAAAQCAYAAAAf8/9hAAAABHNCSVQICAgIfAhkiAAAAAlwSFlzAAALEwAACxMBAJqcGAAAAgBJREFUOI2lkz1oU1EUx3/nvpcmNqWlNIoKFkFsXKrSOCkoDi6iVOwgCEWLiyBaTKuLdhP8ACkoig5iqoM4SDGDq2uLxUHFptWhHQTF1gzlNc27ufc6tHk0NMTBs917zu9/vu6F/zSpd7lvcnC/VeqUCF1Y61Aya8WOf8k8+NRQIDOVTYXGjImnjtdN51y+omXg68HRPxsEMlPZlHaVj4i3o1HJ1rk5iSd6Pu+9UwRQVceK1m/+BQMokZ2USq+jM0DPxFDGi/mHG4EnWjM0q/hq2Z461v3hanckEOrycCN4oP0o2S0nub31LLLWtQv1UCTglPRUg5MqHmWqwv0dR6hYw6v59zhc1XUAwAcQZxMALSrBvW39WGe5/vMlZ9oORfBIYYwJNYesjc06NkUCzthFoDNuPFpJsL25g1znJVJ+Wy3sRzNHtF2IWjAr5h3AIgGXC0/4UVog5behbYWb0zkmvFoYwJZ0PhIgKI1WgrJBoNiiuVJ4ynzwi5HpF0z684hXC+ulsl4uh49g3UNK5y/caNqcvCUxDxy4pTIkYxtgFxrC38HwTO+z+zUCOKQrf/5xrD150WtuqrtOE4SY4vLDQu/zQWR1HRs+U3r8XJ943l2VbNolvkIQrDboQH8TY67Nns69XR9f9zfikD3j/budeGlx4sS6mem+3Pdq1vX2FyOryD82RGIbAAAAAElFTkSuQmCC'); background-size: cover; height: 16px; width: 16px}.errado {background-image: url('data:image/png;base64,iVBORw0KGgoAAAANSUhEUgAAABAAAAAQCAYAAAAf8/9hAAAABHNCSVQICAgIfAhkiAAAAAlwSFlzAAALEwAACxMBAJqcGAAAAjNJREFUOI2lk01IVFEYhp9zznUcnUnH/Bk3WhCVFEFZbiwUAxeZlCJFWERBgZsIqRatWhuRi0BtFS1bSGQYlBLISD8EgbWwv0VFxlijThOpd+6ce1o49zrh4KZ3+XHe53u/j+/Af0rkK35ra9ythOgwmG0gDYIPUnC/+uHkm3UBM+3NFZC5KxFt+cCuNiNa67O1T17MrwHMtDdX4DqvpZQ160XOGPPZRdRvGp1cAJA+PeMMe2ZRXrl21mzNEmKzMPqeV5cAXw4f2GtZsgmAso2o60PIjhOr5s5uVN8glEQAKJCq9evRpl0AFkDGsS8HAoUrEecSzN8ZJNrTC1JiDFhdJ4kP3CCSXEDJlamdJfsScMYCcJH1XjdLSkITj/mhLKrOXwBg9nY/G2LjKKVWUxn2+QkMBHPnLVQKK1QMxgAQKQ4hc8wArqTIB2jXnQNqffqR4wSPnSY+1A9AdU8vGcvCjA77gLR2Ez5gydGPIkH2ALilEaxDncQHbxKOjQEQBypPnUPHxpGpXwD8yaRHIHsHYw115TWl4dnSYFC5xvBTKMq0QyAb29aapApQZTRCQMpOO9/TdlXLxFRSArS+ejeXWLSv2VojhSCK65u9nURZMS9rTWJx+WrLxFTST5BdpIjt3zEQDYV7SgIB8imVTpP4vXSr8fnbiwLMPwBPTxt3dhUp1RcuKNjipUhrTWrZ/mijrxx8Nv0g933e32hAxBrqtrpKbTcCI1z3ffPL6U9e11z9Bai+yG1sATfvAAAAAElFTkSuQmCC'); background-size: cover; height: 16px; width: 16px}</style><table><tr><td><div class=\"errado\"/></td><td style=\"text-align:left;\"><b><mark style=\"background-color:#ffff40;padding-left:0px;padding-right:0px\"></mark></b>Olhos&nbsp;do&nbsp;mundo,&nbsp;\n",
              "</pre></td></tr>\n",
              "<tr><td><div class=\"errado\"/></td><td style=\"text-align:left;\"><b><mark style=\"background-color:#ffff40;padding-left:0px;padding-right:0px\"></mark></b>zelos&nbsp;do&nbsp;marido,&nbsp;\n",
              "</pre></td></tr>\n",
              "<tr><td><div class=\"errado\"/></td><td style=\"text-align:left;\"><b><mark style=\"background-color:#ffff40;padding-left:0px;padding-right:0px\"></mark></b>morte&nbsp;do&nbsp;Viegas,&nbsp;\n",
              "</pre></td></tr>\n",
              "<tr><td><div class=\"errado\"/></td><td style=\"text-align:left;\"><b><mark style=\"background-color:#ffff40;padding-left:0px;padding-right:0px\"></mark></b>uma&nbsp;vertigem&nbsp;de&nbsp;cabriolas\n",
              "</pre></td></tr>\n",
              "<tr><td><div class=\"errado\"/></td><td style=\"text-align:left;\"><b><mark style=\"background-color:#ffff40;padding-left:0px;padding-right:0px\"></mark></b>&nbsp;descendente&nbsp;do&nbsp;cavalo&nbsp;de&nbsp;Aquiles\n",
              "</pre></td></tr>\n",
              "<tr><td><div class=\"errado\"/></td><td style=\"text-align:left;\"><b><mark style=\"background-color:#ffff40;padding-left:0px;padding-right:0px\"></mark></b>a&nbsp;minha&nbsp;teoria&nbsp;das&nbsp;edições&nbsp;humanas\n",
              "</pre></td></tr>\n",
              "<tr><td><div class=\"errado\"/></td><td style=\"text-align:left;\"><b><mark style=\"background-color:#ffff40;padding-left:0px;padding-right:0px\"></mark></b>me&nbsp;pareceu&nbsp;entrar&nbsp;na&nbsp;região&nbsp;dos&nbsp;gelos&nbsp;eternos\n",
              "</pre></td></tr><tr><td><div class=\"errado\"/></td><td style=\"text-align:left;\"><b><mark style=\"background-color:#ffff40;padding-left:0px;padding-right:0px\"></mark></b>Esta&nbsp;idéia,&nbsp;\n",
              "</pre></td></tr>\n",
              "<tr><td><div class=\"errado\"/></td><td style=\"text-align:left;\"><b><mark style=\"background-color:#ffff40;padding-left:0px;padding-right:0px\"></mark></b>rútila&nbsp;e&nbsp;grande,&nbsp;\n",
              "</pre></td></tr>\n",
              "<tr><td><div class=\"errado\"/></td><td style=\"text-align:left;\"><b><mark style=\"background-color:#ffff40;padding-left:0px;padding-right:0px\"></mark></b>trajada&nbsp;ao&nbsp;bizarro,&nbsp;\n",
              "</pre></td></tr>\n",
              "<tr><td><div class=\"errado\"/></td><td style=\"text-align:left;\"><b><mark style=\"background-color:#ffff40;padding-left:0px;padding-right:0px\"></mark></b>como&nbsp;diria&nbsp;o&nbsp;Padre&nbsp;Bernardes,\n",
              "</pre></td></tr>\n",
              "<tr><td><div class=\"errado\"/></td><td style=\"text-align:left;\"><b><mark style=\"background-color:#ffff40;padding-left:0px;padding-right:0px\"></mark></b>e&nbsp;eu&nbsp;deixei-me&nbsp;estar\n",
              "</pre></td></tr>\n",
              "<tr><td><div class=\"errado\"/></td><td style=\"text-align:left;\"><b><mark style=\"background-color:#ffff40;padding-left:0px;padding-right:0px\"></mark></b>com&nbsp;os&nbsp;olhos&nbsp;nela,\n",
              "</pre></td></tr>\n",
              "<tr><td><div class=\"errado\"/></td><td style=\"text-align:left;\"><b><mark style=\"background-color:#ffff40;padding-left:0px;padding-right:0px\"></mark></b>a&nbsp;achar-lhe&nbsp;graça.\n",
              "</pre></td></tr></table>"
            ],
            "text/plain": [
              "<IPython.core.display.HTML object>"
            ]
          },
          "metadata": {
            "tags": []
          }
        }
      ]
    },
    {
      "cell_type": "markdown",
      "metadata": {
        "azdata_cell_guid": "9d91b467-9ae3-495f-be18-3eb1c024a061",
        "id": "pwN1ear5tNpB"
      },
      "source": [
        "Uma palavra de no mínimo 3 letras e com TODAS as letras maiúsculas"
      ]
    },
    {
      "cell_type": "code",
      "metadata": {
        "azdata_cell_guid": "904d494f-9347-44f1-8dd1-6e278e57d255",
        "id": "dXKo0QHrtNpC",
        "outputId": "8a569ed9-7808-4e14-81f3-014290604ef3"
      },
      "source": [
        "exercicio(11, r'')"
      ],
      "execution_count": null,
      "outputs": [
        {
          "output_type": "display_data",
          "data": {
            "text/html": [
              "<style>.certo {background-image: url('data:image/png;base64,iVBORw0KGgoAAAANSUhEUgAAABAAAAAQCAYAAAAf8/9hAAAABHNCSVQICAgIfAhkiAAAAAlwSFlzAAALEwAACxMBAJqcGAAAAgBJREFUOI2lkz1oU1EUx3/nvpcmNqWlNIoKFkFsXKrSOCkoDi6iVOwgCEWLiyBaTKuLdhP8ACkoig5iqoM4SDGDq2uLxUHFptWhHQTF1gzlNc27ufc6tHk0NMTBs917zu9/vu6F/zSpd7lvcnC/VeqUCF1Y61Aya8WOf8k8+NRQIDOVTYXGjImnjtdN51y+omXg68HRPxsEMlPZlHaVj4i3o1HJ1rk5iSd6Pu+9UwRQVceK1m/+BQMokZ2USq+jM0DPxFDGi/mHG4EnWjM0q/hq2Z461v3hanckEOrycCN4oP0o2S0nub31LLLWtQv1UCTglPRUg5MqHmWqwv0dR6hYw6v59zhc1XUAwAcQZxMALSrBvW39WGe5/vMlZ9oORfBIYYwJNYesjc06NkUCzthFoDNuPFpJsL25g1znJVJ+Wy3sRzNHtF2IWjAr5h3AIgGXC0/4UVog5behbYWb0zkmvFoYwJZ0PhIgKI1WgrJBoNiiuVJ4ynzwi5HpF0z684hXC+ulsl4uh49g3UNK5y/caNqcvCUxDxy4pTIkYxtgFxrC38HwTO+z+zUCOKQrf/5xrD150WtuqrtOE4SY4vLDQu/zQWR1HRs+U3r8XJ943l2VbNolvkIQrDboQH8TY67Nns69XR9f9zfikD3j/budeGlx4sS6mem+3Pdq1vX2FyOryD82RGIbAAAAAElFTkSuQmCC'); background-size: cover; height: 16px; width: 16px}.errado {background-image: url('data:image/png;base64,iVBORw0KGgoAAAANSUhEUgAAABAAAAAQCAYAAAAf8/9hAAAABHNCSVQICAgIfAhkiAAAAAlwSFlzAAALEwAACxMBAJqcGAAAAjNJREFUOI2lk01IVFEYhp9zznUcnUnH/Bk3WhCVFEFZbiwUAxeZlCJFWERBgZsIqRatWhuRi0BtFS1bSGQYlBLISD8EgbWwv0VFxlijThOpd+6ce1o49zrh4KZ3+XHe53u/j+/Af0rkK35ra9ythOgwmG0gDYIPUnC/+uHkm3UBM+3NFZC5KxFt+cCuNiNa67O1T17MrwHMtDdX4DqvpZQ160XOGPPZRdRvGp1cAJA+PeMMe2ZRXrl21mzNEmKzMPqeV5cAXw4f2GtZsgmAso2o60PIjhOr5s5uVN8glEQAKJCq9evRpl0AFkDGsS8HAoUrEecSzN8ZJNrTC1JiDFhdJ4kP3CCSXEDJlamdJfsScMYCcJH1XjdLSkITj/mhLKrOXwBg9nY/G2LjKKVWUxn2+QkMBHPnLVQKK1QMxgAQKQ4hc8wArqTIB2jXnQNqffqR4wSPnSY+1A9AdU8vGcvCjA77gLR2Ez5gydGPIkH2ALilEaxDncQHbxKOjQEQBypPnUPHxpGpXwD8yaRHIHsHYw115TWl4dnSYFC5xvBTKMq0QyAb29aapApQZTRCQMpOO9/TdlXLxFRSArS+ejeXWLSv2VojhSCK65u9nURZMS9rTWJx+WrLxFTST5BdpIjt3zEQDYV7SgIB8imVTpP4vXSr8fnbiwLMPwBPTxt3dhUp1RcuKNjipUhrTWrZ/mijrxx8Nv0g933e32hAxBrqtrpKbTcCI1z3ffPL6U9e11z9Bai+yG1sATfvAAAAAElFTkSuQmCC'); background-size: cover; height: 16px; width: 16px}</style><table><tr><td><div class=\"errado\"/></td><td style=\"text-align:left;\"><b><mark style=\"background-color:#ffff40;padding-left:0px;padding-right:0px\"></mark></b>ALBERTO&nbsp;YOUSSEF,&nbsp;brasileiro,&nbsp;casado,&nbsp;filho&nbsp;de&nbsp;Kalim&nbsp;Youssef&nbsp;e&nbsp;Antonieta&nbsp;Youssef\n",
              "</pre></td></tr>\n",
              "<tr><td><div class=\"errado\"/></td><td style=\"text-align:left;\"><b><mark style=\"background-color:#ffff40;padding-left:0px;padding-right:0px\"></mark></b>PAULO&nbsp;ROBERTO&nbsp;COSTA,&nbsp;ex-Diretor&nbsp;de&nbsp;Abastecimento&nbsp;da&nbsp;PETROBRAS\n",
              "</pre></td></tr>\n",
              "<tr><td><div class=\"errado\"/></td><td style=\"text-align:left;\"><b><mark style=\"background-color:#ffff40;padding-left:0px;padding-right:0px\"></mark></b>WALDOMIRO&nbsp;DE&nbsp;OLIVEIRA,&nbsp;conhecido&nbsp;“Bom&nbsp;Velhinho”\n",
              "</pre></td></tr>\n",
              "<tr><td><div class=\"errado\"/></td><td style=\"text-align:left;\"><b><mark style=\"background-color:#ffff40;padding-left:0px;padding-right:0px\"></mark></b>JOSÉ&nbsp;ALDEMÁRIO&nbsp;PINHEIRO&nbsp;FILHO,&nbsp;vulgo&nbsp;“Léo&nbsp;Pinheiro”,\n",
              "</pre></td></tr>\n",
              "<tr><td><div class=\"errado\"/></td><td style=\"text-align:left;\"><b><mark style=\"background-color:#ffff40;padding-left:0px;padding-right:0px\"></mark></b>AGENOR&nbsp;FRANKLIN&nbsp;MAGALHÃES&nbsp;MEDEIROS,&nbsp;brasileiro\n",
              "</pre></td></tr>\n",
              "<tr><td><div class=\"errado\"/></td><td style=\"text-align:left;\"><b><mark style=\"background-color:#ffff40;padding-left:0px;padding-right:0px\"></mark></b>empreiteiras&nbsp;ODEBRECHT\n",
              "</pre></td></tr>\n",
              "<tr><td><div class=\"errado\"/></td><td style=\"text-align:left;\"><b><mark style=\"background-color:#ffff40;padding-left:0px;padding-right:0px\"></mark></b>integrantes&nbsp;do&nbsp;Grupo&nbsp;OAS\n",
              "</pre></td></tr>\n",
              "<tr><td><div class=\"errado\"/></td><td style=\"text-align:left;\"><b><mark style=\"background-color:#ffff40;padding-left:0px;padding-right:0px\"></mark></b>empresa&nbsp;GFD&nbsp;INVESTIMENTOS\n",
              "</pre></td></tr>\n",
              "<tr><td><div class=\"errado\"/></td><td style=\"text-align:left;\"><b><mark style=\"background-color:#ffff40;padding-left:0px;padding-right:0px\"></mark></b>conforme&nbsp;já&nbsp;apurado&nbsp;pelo&nbsp;TCU\n",
              "</pre></td></tr>\n",
              "<tr><td><div class=\"errado\"/></td><td style=\"text-align:left;\"><b><mark style=\"background-color:#ffff40;padding-left:0px;padding-right:0px\"></mark></b>no&nbsp;caso&nbsp;das&nbsp;empresas&nbsp;MO&nbsp;Consultoria,&nbsp;Empreiteira&nbsp;Rigidez&nbsp;e&nbsp;RCI&nbsp;Software\n",
              "</pre></td></tr>\n",
              "<tr><td><div class=\"errado\"/></td><td style=\"text-align:left;\"><b><mark style=\"background-color:#ffff40;padding-left:0px;padding-right:0px\"></mark></b>RELATÓRIO&nbsp;DE&nbsp;TENDÊNCIAs\n",
              "</pre></td></tr>\n",
              "<tr><td><div class=\"errado\"/></td><td style=\"text-align:left;\"><b><mark style=\"background-color:#ffff40;padding-left:0px;padding-right:0px\"></mark></b>três&nbsp;AOS&nbsp;númeROS</pre></td></tr><tr><td><div class=\"errado\"/></td><td style=\"text-align:left;\"><b><mark style=\"background-color:#ffff40;padding-left:0px;padding-right:0px\"></mark></b>Texto&nbsp;aleATOrio\n",
              "</pre></td></tr>\n",
              "<tr><td><div class=\"errado\"/></td><td style=\"text-align:left;\"><b><mark style=\"background-color:#ffff40;padding-left:0px;padding-right:0px\"></mark></b>CoNdUtAs&nbsp;ileGAIS\n",
              "</pre></td></tr>\n",
              "<tr><td><div class=\"errado\"/></td><td style=\"text-align:left;\"><b><mark style=\"background-color:#ffff40;padding-left:0px;padding-right:0px\"></mark></b>rELATÓRIO&nbsp;DE&nbsp;TENDÊNCIAs\n",
              "</pre></td></tr>\n",
              "<tr><td><div class=\"errado\"/></td><td style=\"text-align:left;\"><b><mark style=\"background-color:#ffff40;padding-left:0px;padding-right:0px\"></mark></b>a&nbsp;BE&nbsp;c\n",
              "</pre></td></tr>\n",
              "<tr><td><div class=\"errado\"/></td><td style=\"text-align:left;\"><b><mark style=\"background-color:#ffff40;padding-left:0px;padding-right:0px\"></mark></b>duas&nbsp;DE&nbsp;palavras\n",
              "</pre></td></tr></table>"
            ],
            "text/plain": [
              "<IPython.core.display.HTML object>"
            ]
          },
          "metadata": {
            "tags": []
          }
        }
      ]
    },
    {
      "cell_type": "markdown",
      "metadata": {
        "azdata_cell_guid": "61f855da-cb67-4933-af79-a28abd2195bb",
        "id": "khXboY40tNpC"
      },
      "source": [
        "Duas palavras consecutivas, de no mínimo 2 letras cada, com TODAS as letras maiúsculas"
      ]
    },
    {
      "cell_type": "code",
      "metadata": {
        "azdata_cell_guid": "36d37f06-0d99-4cb5-94b7-7b5f3996abef",
        "id": "G_iS4xpttNpC",
        "outputId": "fe292c0f-5030-4848-a048-673a34889e28"
      },
      "source": [
        "exercicio(12, r'')"
      ],
      "execution_count": null,
      "outputs": [
        {
          "output_type": "display_data",
          "data": {
            "text/html": [
              "<style>.certo {background-image: url('data:image/png;base64,iVBORw0KGgoAAAANSUhEUgAAABAAAAAQCAYAAAAf8/9hAAAABHNCSVQICAgIfAhkiAAAAAlwSFlzAAALEwAACxMBAJqcGAAAAgBJREFUOI2lkz1oU1EUx3/nvpcmNqWlNIoKFkFsXKrSOCkoDi6iVOwgCEWLiyBaTKuLdhP8ACkoig5iqoM4SDGDq2uLxUHFptWhHQTF1gzlNc27ufc6tHk0NMTBs917zu9/vu6F/zSpd7lvcnC/VeqUCF1Y61Aya8WOf8k8+NRQIDOVTYXGjImnjtdN51y+omXg68HRPxsEMlPZlHaVj4i3o1HJ1rk5iSd6Pu+9UwRQVceK1m/+BQMokZ2USq+jM0DPxFDGi/mHG4EnWjM0q/hq2Z461v3hanckEOrycCN4oP0o2S0nub31LLLWtQv1UCTglPRUg5MqHmWqwv0dR6hYw6v59zhc1XUAwAcQZxMALSrBvW39WGe5/vMlZ9oORfBIYYwJNYesjc06NkUCzthFoDNuPFpJsL25g1znJVJ+Wy3sRzNHtF2IWjAr5h3AIgGXC0/4UVog5behbYWb0zkmvFoYwJZ0PhIgKI1WgrJBoNiiuVJ4ynzwi5HpF0z684hXC+ulsl4uh49g3UNK5y/caNqcvCUxDxy4pTIkYxtgFxrC38HwTO+z+zUCOKQrf/5xrD150WtuqrtOE4SY4vLDQu/zQWR1HRs+U3r8XJ943l2VbNolvkIQrDboQH8TY67Nns69XR9f9zfikD3j/budeGlx4sS6mem+3Pdq1vX2FyOryD82RGIbAAAAAElFTkSuQmCC'); background-size: cover; height: 16px; width: 16px}.errado {background-image: url('data:image/png;base64,iVBORw0KGgoAAAANSUhEUgAAABAAAAAQCAYAAAAf8/9hAAAABHNCSVQICAgIfAhkiAAAAAlwSFlzAAALEwAACxMBAJqcGAAAAjNJREFUOI2lk01IVFEYhp9zznUcnUnH/Bk3WhCVFEFZbiwUAxeZlCJFWERBgZsIqRatWhuRi0BtFS1bSGQYlBLISD8EgbWwv0VFxlijThOpd+6ce1o49zrh4KZ3+XHe53u/j+/Af0rkK35ra9ythOgwmG0gDYIPUnC/+uHkm3UBM+3NFZC5KxFt+cCuNiNa67O1T17MrwHMtDdX4DqvpZQ160XOGPPZRdRvGp1cAJA+PeMMe2ZRXrl21mzNEmKzMPqeV5cAXw4f2GtZsgmAso2o60PIjhOr5s5uVN8glEQAKJCq9evRpl0AFkDGsS8HAoUrEecSzN8ZJNrTC1JiDFhdJ4kP3CCSXEDJlamdJfsScMYCcJH1XjdLSkITj/mhLKrOXwBg9nY/G2LjKKVWUxn2+QkMBHPnLVQKK1QMxgAQKQ4hc8wArqTIB2jXnQNqffqR4wSPnSY+1A9AdU8vGcvCjA77gLR2Ez5gydGPIkH2ALilEaxDncQHbxKOjQEQBypPnUPHxpGpXwD8yaRHIHsHYw115TWl4dnSYFC5xvBTKMq0QyAb29aapApQZTRCQMpOO9/TdlXLxFRSArS+ejeXWLSv2VojhSCK65u9nURZMS9rTWJx+WrLxFTST5BdpIjt3zEQDYV7SgIB8imVTpP4vXSr8fnbiwLMPwBPTxt3dhUp1RcuKNjipUhrTWrZ/mijrxx8Nv0g933e32hAxBrqtrpKbTcCI1z3ffPL6U9e11z9Bai+yG1sATfvAAAAAElFTkSuQmCC'); background-size: cover; height: 16px; width: 16px}</style><table><tr><td><div class=\"errado\"/></td><td style=\"text-align:left;\"><b><mark style=\"background-color:#ffff40;padding-left:0px;padding-right:0px\"></mark></b>ALBERTO&nbsp;YOUSSEF,&nbsp;brasileiro,&nbsp;casado,&nbsp;filho&nbsp;de&nbsp;Kalim&nbsp;Youssef&nbsp;e&nbsp;Antonieta&nbsp;Youssef\n",
              "</pre></td></tr>\n",
              "<tr><td><div class=\"errado\"/></td><td style=\"text-align:left;\"><b><mark style=\"background-color:#ffff40;padding-left:0px;padding-right:0px\"></mark></b>PAULO&nbsp;ROBERTO&nbsp;COSTA,&nbsp;ex-Diretor&nbsp;de&nbsp;Abastecimento&nbsp;da&nbsp;PETROBRAS\n",
              "</pre></td></tr>\n",
              "<tr><td><div class=\"errado\"/></td><td style=\"text-align:left;\"><b><mark style=\"background-color:#ffff40;padding-left:0px;padding-right:0px\"></mark></b>WALDOMIRO&nbsp;DE&nbsp;OLIVEIRA,&nbsp;conhecido&nbsp;“Bom&nbsp;Velhinho”\n",
              "</pre></td></tr>\n",
              "<tr><td><div class=\"errado\"/></td><td style=\"text-align:left;\"><b><mark style=\"background-color:#ffff40;padding-left:0px;padding-right:0px\"></mark></b>JOSÉ&nbsp;ALDEMÁRIO&nbsp;PINHEIRO&nbsp;FILHO,&nbsp;vulgo&nbsp;“Léo&nbsp;Pinheiro”,\n",
              "</pre></td></tr>\n",
              "<tr><td><div class=\"errado\"/></td><td style=\"text-align:left;\"><b><mark style=\"background-color:#ffff40;padding-left:0px;padding-right:0px\"></mark></b>AGENOR&nbsp;FRANKLIN&nbsp;MAGALHÃES&nbsp;MEDEIROS,&nbsp;brasileiro\n",
              "</pre></td></tr>\n",
              "<tr><td><div class=\"errado\"/></td><td style=\"text-align:left;\"><b><mark style=\"background-color:#ffff40;padding-left:0px;padding-right:0px\"></mark></b>empresa&nbsp;GFD&nbsp;INVESTIMENTOS\n",
              "</pre></td></tr>\n",
              "<tr><td><div class=\"errado\"/></td><td style=\"text-align:left;\"><b><mark style=\"background-color:#ffff40;padding-left:0px;padding-right:0px\"></mark></b>RELATÓRIO&nbsp;DE&nbsp;TENDÊNCIAs\n",
              "</pre></td></tr>\n",
              "<tr><td><div class=\"errado\"/></td><td style=\"text-align:left;\"><b><mark style=\"background-color:#ffff40;padding-left:0px;padding-right:0px\"></mark></b>VARIOS&nbsp;&nbsp;&nbsp;ESPACOS\n",
              "</pre></td></tr><tr><td><div class=\"errado\"/></td><td style=\"text-align:left;\"><b><mark style=\"background-color:#ffff40;padding-left:0px;padding-right:0px\"></mark></b>empreiteiras&nbsp;ODEBRECHT\n",
              "</pre></td></tr>\n",
              "<tr><td><div class=\"errado\"/></td><td style=\"text-align:left;\"><b><mark style=\"background-color:#ffff40;padding-left:0px;padding-right:0px\"></mark></b>integrantes&nbsp;do&nbsp;Grupo&nbsp;OAS\n",
              "</pre></td></tr>\n",
              "<tr><td><div class=\"errado\"/></td><td style=\"text-align:left;\"><b><mark style=\"background-color:#ffff40;padding-left:0px;padding-right:0px\"></mark></b>conforme&nbsp;já&nbsp;apurado&nbsp;pelo&nbsp;TCU\n",
              "</pre></td></tr>\n",
              "<tr><td><div class=\"errado\"/></td><td style=\"text-align:left;\"><b><mark style=\"background-color:#ffff40;padding-left:0px;padding-right:0px\"></mark></b>no&nbsp;caso&nbsp;das&nbsp;empresas&nbsp;MO&nbsp;Consultoria,&nbsp;Empreiteira&nbsp;Rigidez&nbsp;e&nbsp;RCI&nbsp;Software\n",
              "</pre></td></tr>\n",
              "<tr><td><div class=\"errado\"/></td><td style=\"text-align:left;\"><b><mark style=\"background-color:#ffff40;padding-left:0px;padding-right:0px\"></mark></b>Texto&nbsp;aleATOrio\n",
              "</pre></td></tr>\n",
              "<tr><td><div class=\"errado\"/></td><td style=\"text-align:left;\"><b><mark style=\"background-color:#ffff40;padding-left:0px;padding-right:0px\"></mark></b>CoNdUtAs&nbsp;ileGAIS\n",
              "</pre></td></tr>\n",
              "<tr><td><div class=\"errado\"/></td><td style=\"text-align:left;\"><b><mark style=\"background-color:#ffff40;padding-left:0px;padding-right:0px\"></mark></b>rELATÓRIO&nbsp;DE&nbsp;TENDÊNCIAs\n",
              "</pre></td></tr>\n",
              "<tr><td><div class=\"errado\"/></td><td style=\"text-align:left;\"><b><mark style=\"background-color:#ffff40;padding-left:0px;padding-right:0px\"></mark></b>a&nbsp;BE&nbsp;c\n",
              "</pre></td></tr>\n",
              "<tr><td><div class=\"errado\"/></td><td style=\"text-align:left;\"><b><mark style=\"background-color:#ffff40;padding-left:0px;padding-right:0px\"></mark></b>TESTE&nbsp;A&nbsp;TESTE\n",
              "</pre></td></tr>\n",
              "<tr><td><div class=\"errado\"/></td><td style=\"text-align:left;\"><b><mark style=\"background-color:#ffff40;padding-left:0px;padding-right:0px\"></mark></b>A&nbsp;BE&nbsp;C&nbsp;DE\n",
              "</pre></td></tr>\n",
              "<tr><td><div class=\"errado\"/></td><td style=\"text-align:left;\"><b><mark style=\"background-color:#ffff40;padding-left:0px;padding-right:0px\"></mark></b>duas&nbsp;DE&nbsp;palavras\n",
              "</pre></td></tr>\n",
              "<tr><td><div class=\"errado\"/></td><td style=\"text-align:left;\"><b><mark style=\"background-color:#ffff40;padding-left:0px;padding-right:0px\"></mark></b>três&nbsp;AOS&nbsp;númeROS</pre></td></tr></table>"
            ],
            "text/plain": [
              "<IPython.core.display.HTML object>"
            ]
          },
          "metadata": {
            "tags": []
          }
        }
      ]
    },
    {
      "cell_type": "markdown",
      "metadata": {
        "azdata_cell_guid": "a3d97365-40b5-40af-81fc-ac45b0a579d9",
        "id": "9i8Mz37XtNpC"
      },
      "source": [
        "Duas ou mais palavras consecutivas com todas as letras maiúsculas. Cada palavra pode possuir qualquer quantidade de letras."
      ]
    },
    {
      "cell_type": "code",
      "metadata": {
        "azdata_cell_guid": "55c88d65-ad1b-4b5b-a982-c6548c42d192",
        "id": "pzRWh72ltNpD",
        "outputId": "6cb01ac1-80f1-4fa3-855b-d2e95d0df3cb"
      },
      "source": [
        "exercicio(13, r'')"
      ],
      "execution_count": null,
      "outputs": [
        {
          "output_type": "display_data",
          "data": {
            "text/html": [
              "<style>.certo {background-image: url('data:image/png;base64,iVBORw0KGgoAAAANSUhEUgAAABAAAAAQCAYAAAAf8/9hAAAABHNCSVQICAgIfAhkiAAAAAlwSFlzAAALEwAACxMBAJqcGAAAAgBJREFUOI2lkz1oU1EUx3/nvpcmNqWlNIoKFkFsXKrSOCkoDi6iVOwgCEWLiyBaTKuLdhP8ACkoig5iqoM4SDGDq2uLxUHFptWhHQTF1gzlNc27ufc6tHk0NMTBs917zu9/vu6F/zSpd7lvcnC/VeqUCF1Y61Aya8WOf8k8+NRQIDOVTYXGjImnjtdN51y+omXg68HRPxsEMlPZlHaVj4i3o1HJ1rk5iSd6Pu+9UwRQVceK1m/+BQMokZ2USq+jM0DPxFDGi/mHG4EnWjM0q/hq2Z461v3hanckEOrycCN4oP0o2S0nub31LLLWtQv1UCTglPRUg5MqHmWqwv0dR6hYw6v59zhc1XUAwAcQZxMALSrBvW39WGe5/vMlZ9oORfBIYYwJNYesjc06NkUCzthFoDNuPFpJsL25g1znJVJ+Wy3sRzNHtF2IWjAr5h3AIgGXC0/4UVog5behbYWb0zkmvFoYwJZ0PhIgKI1WgrJBoNiiuVJ4ynzwi5HpF0z684hXC+ulsl4uh49g3UNK5y/caNqcvCUxDxy4pTIkYxtgFxrC38HwTO+z+zUCOKQrf/5xrD150WtuqrtOE4SY4vLDQu/zQWR1HRs+U3r8XJ943l2VbNolvkIQrDboQH8TY67Nns69XR9f9zfikD3j/budeGlx4sS6mem+3Pdq1vX2FyOryD82RGIbAAAAAElFTkSuQmCC'); background-size: cover; height: 16px; width: 16px}.errado {background-image: url('data:image/png;base64,iVBORw0KGgoAAAANSUhEUgAAABAAAAAQCAYAAAAf8/9hAAAABHNCSVQICAgIfAhkiAAAAAlwSFlzAAALEwAACxMBAJqcGAAAAjNJREFUOI2lk01IVFEYhp9zznUcnUnH/Bk3WhCVFEFZbiwUAxeZlCJFWERBgZsIqRatWhuRi0BtFS1bSGQYlBLISD8EgbWwv0VFxlijThOpd+6ce1o49zrh4KZ3+XHe53u/j+/Af0rkK35ra9ythOgwmG0gDYIPUnC/+uHkm3UBM+3NFZC5KxFt+cCuNiNa67O1T17MrwHMtDdX4DqvpZQ160XOGPPZRdRvGp1cAJA+PeMMe2ZRXrl21mzNEmKzMPqeV5cAXw4f2GtZsgmAso2o60PIjhOr5s5uVN8glEQAKJCq9evRpl0AFkDGsS8HAoUrEecSzN8ZJNrTC1JiDFhdJ4kP3CCSXEDJlamdJfsScMYCcJH1XjdLSkITj/mhLKrOXwBg9nY/G2LjKKVWUxn2+QkMBHPnLVQKK1QMxgAQKQ4hc8wArqTIB2jXnQNqffqR4wSPnSY+1A9AdU8vGcvCjA77gLR2Ez5gydGPIkH2ALilEaxDncQHbxKOjQEQBypPnUPHxpGpXwD8yaRHIHsHYw115TWl4dnSYFC5xvBTKMq0QyAb29aapApQZTRCQMpOO9/TdlXLxFRSArS+ejeXWLSv2VojhSCK65u9nURZMS9rTWJx+WrLxFTST5BdpIjt3zEQDYV7SgIB8imVTpP4vXSr8fnbiwLMPwBPTxt3dhUp1RcuKNjipUhrTWrZ/mijrxx8Nv0g933e32hAxBrqtrpKbTcCI1z3ffPL6U9e11z9Bai+yG1sATfvAAAAAElFTkSuQmCC'); background-size: cover; height: 16px; width: 16px}</style><table><tr><td><div class=\"errado\"/></td><td style=\"text-align:left;\"><b><mark style=\"background-color:#ffff40;padding-left:0px;padding-right:0px\"></mark></b>ALBERTO&nbsp;YOUSSEF,&nbsp;brasileiro,&nbsp;casado,&nbsp;filho&nbsp;de&nbsp;Kalim&nbsp;Youssef&nbsp;e&nbsp;Antonieta&nbsp;Youssef\n",
              "</pre></td></tr>\n",
              "<tr><td><div class=\"errado\"/></td><td style=\"text-align:left;\"><b><mark style=\"background-color:#ffff40;padding-left:0px;padding-right:0px\"></mark></b>PAULO&nbsp;ROBERTO&nbsp;COSTA,&nbsp;ex-Diretor&nbsp;de&nbsp;Abastecimento&nbsp;da&nbsp;PETROBRAS\n",
              "</pre></td></tr>\n",
              "<tr><td><div class=\"errado\"/></td><td style=\"text-align:left;\"><b><mark style=\"background-color:#ffff40;padding-left:0px;padding-right:0px\"></mark></b>WALDOMIRO&nbsp;DE&nbsp;OLIVEIRA,&nbsp;conhecido&nbsp;“Bom&nbsp;Velhinho”\n",
              "</pre></td></tr>\n",
              "<tr><td><div class=\"errado\"/></td><td style=\"text-align:left;\"><b><mark style=\"background-color:#ffff40;padding-left:0px;padding-right:0px\"></mark></b>JOSÉ&nbsp;ALDEMÁRIO&nbsp;PINHEIRO&nbsp;FILHO,&nbsp;vulgo&nbsp;“Léo&nbsp;Pinheiro”,\n",
              "</pre></td></tr>\n",
              "<tr><td><div class=\"errado\"/></td><td style=\"text-align:left;\"><b><mark style=\"background-color:#ffff40;padding-left:0px;padding-right:0px\"></mark></b>AGENOR&nbsp;FRANKLIN&nbsp;MAGALHÃES&nbsp;MEDEIROS,&nbsp;brasileiro\n",
              "</pre></td></tr>\n",
              "<tr><td><div class=\"errado\"/></td><td style=\"text-align:left;\"><b><mark style=\"background-color:#ffff40;padding-left:0px;padding-right:0px\"></mark></b>empresa&nbsp;GFD&nbsp;INVESTIMENTOS\n",
              "</pre></td></tr>\n",
              "<tr><td><div class=\"errado\"/></td><td style=\"text-align:left;\"><b><mark style=\"background-color:#ffff40;padding-left:0px;padding-right:0px\"></mark></b>RELATÓRIO&nbsp;DE&nbsp;TENDÊNCIAs\n",
              "</pre></td></tr>\n",
              "<tr><td><div class=\"errado\"/></td><td style=\"text-align:left;\"><b><mark style=\"background-color:#ffff40;padding-left:0px;padding-right:0px\"></mark></b>TESTE&nbsp;A&nbsp;TESTE\n",
              "</pre></td></tr>\n",
              "<tr><td><div class=\"errado\"/></td><td style=\"text-align:left;\"><b><mark style=\"background-color:#ffff40;padding-left:0px;padding-right:0px\"></mark></b>A&nbsp;BE&nbsp;C&nbsp;DE\n",
              "</pre></td></tr>\n",
              "<tr><td><div class=\"errado\"/></td><td style=\"text-align:left;\"><b><mark style=\"background-color:#ffff40;padding-left:0px;padding-right:0px\"></mark></b>VARIOS&nbsp;&nbsp;&nbsp;ESPACOS\n",
              "</pre></td></tr><tr><td><div class=\"errado\"/></td><td style=\"text-align:left;\"><b><mark style=\"background-color:#ffff40;padding-left:0px;padding-right:0px\"></mark></b>empreiteiras&nbsp;ODEBRECHT\n",
              "</pre></td></tr>\n",
              "<tr><td><div class=\"errado\"/></td><td style=\"text-align:left;\"><b><mark style=\"background-color:#ffff40;padding-left:0px;padding-right:0px\"></mark></b>integrantes&nbsp;do&nbsp;Grupo&nbsp;OAS\n",
              "</pre></td></tr>\n",
              "<tr><td><div class=\"errado\"/></td><td style=\"text-align:left;\"><b><mark style=\"background-color:#ffff40;padding-left:0px;padding-right:0px\"></mark></b>conforme&nbsp;já&nbsp;apurado&nbsp;pelo&nbsp;TCU\n",
              "</pre></td></tr>\n",
              "<tr><td><div class=\"errado\"/></td><td style=\"text-align:left;\"><b><mark style=\"background-color:#ffff40;padding-left:0px;padding-right:0px\"></mark></b>no&nbsp;caso&nbsp;das&nbsp;empresas&nbsp;MO&nbsp;Consultoria,&nbsp;Empreiteira&nbsp;Rigidez&nbsp;e&nbsp;RCI&nbsp;Software\n",
              "</pre></td></tr>\n",
              "<tr><td><div class=\"errado\"/></td><td style=\"text-align:left;\"><b><mark style=\"background-color:#ffff40;padding-left:0px;padding-right:0px\"></mark></b>Texto&nbsp;aleATOrio\n",
              "</pre></td></tr>\n",
              "<tr><td><div class=\"errado\"/></td><td style=\"text-align:left;\"><b><mark style=\"background-color:#ffff40;padding-left:0px;padding-right:0px\"></mark></b>CoNdUtAs&nbsp;ileGAIS\n",
              "</pre></td></tr>\n",
              "<tr><td><div class=\"errado\"/></td><td style=\"text-align:left;\"><b><mark style=\"background-color:#ffff40;padding-left:0px;padding-right:0px\"></mark></b>rELATÓRIO&nbsp;DE&nbsp;TENDÊNCIAs\n",
              "</pre></td></tr>\n",
              "<tr><td><div class=\"errado\"/></td><td style=\"text-align:left;\"><b><mark style=\"background-color:#ffff40;padding-left:0px;padding-right:0px\"></mark></b>a&nbsp;BE&nbsp;c\n",
              "</pre></td></tr>\n",
              "<tr><td><div class=\"errado\"/></td><td style=\"text-align:left;\"><b><mark style=\"background-color:#ffff40;padding-left:0px;padding-right:0px\"></mark></b>varios&nbsp;&nbsp;&nbsp;&nbsp;&nbsp;espacos\n",
              "</pre></td></tr>\n",
              "<tr><td><div class=\"errado\"/></td><td style=\"text-align:left;\"><b><mark style=\"background-color:#ffff40;padding-left:0px;padding-right:0px\"></mark></b>duas&nbsp;DE&nbsp;palavras\n",
              "</pre></td></tr>\n",
              "<tr><td><div class=\"errado\"/></td><td style=\"text-align:left;\"><b><mark style=\"background-color:#ffff40;padding-left:0px;padding-right:0px\"></mark></b>três&nbsp;AOS&nbsp;númeROS</pre></td></tr></table>"
            ],
            "text/plain": [
              "<IPython.core.display.HTML object>"
            ]
          },
          "metadata": {
            "tags": []
          }
        }
      ]
    },
    {
      "cell_type": "markdown",
      "metadata": {
        "azdata_cell_guid": "c70e262f-fcb0-4f3e-9dcf-89ceb264804a",
        "id": "3Yw3xUSVtNpD"
      },
      "source": [
        "Uma linha contendo exatamente um endereço [IP](https://en.wikipedia.org/wiki/IP_address). ex.: 127.0.0.1, 192.168.0.254. Um IP é formado por exatamente 4 números separados por pontos. Cada número possui no máximo 3 dígitos."
      ]
    },
    {
      "cell_type": "code",
      "metadata": {
        "azdata_cell_guid": "676d6e01-75d0-4d91-9866-1ebca1aaa5f7",
        "id": "fU0x-WdftNpD",
        "outputId": "3d0ffdaa-fb70-4d47-96bb-20579d8fcb67"
      },
      "source": [
        "exercicio(14, r'')"
      ],
      "execution_count": null,
      "outputs": [
        {
          "output_type": "display_data",
          "data": {
            "text/html": [
              "<style>.certo {background-image: url('data:image/png;base64,iVBORw0KGgoAAAANSUhEUgAAABAAAAAQCAYAAAAf8/9hAAAABHNCSVQICAgIfAhkiAAAAAlwSFlzAAALEwAACxMBAJqcGAAAAgBJREFUOI2lkz1oU1EUx3/nvpcmNqWlNIoKFkFsXKrSOCkoDi6iVOwgCEWLiyBaTKuLdhP8ACkoig5iqoM4SDGDq2uLxUHFptWhHQTF1gzlNc27ufc6tHk0NMTBs917zu9/vu6F/zSpd7lvcnC/VeqUCF1Y61Aya8WOf8k8+NRQIDOVTYXGjImnjtdN51y+omXg68HRPxsEMlPZlHaVj4i3o1HJ1rk5iSd6Pu+9UwRQVceK1m/+BQMokZ2USq+jM0DPxFDGi/mHG4EnWjM0q/hq2Z461v3hanckEOrycCN4oP0o2S0nub31LLLWtQv1UCTglPRUg5MqHmWqwv0dR6hYw6v59zhc1XUAwAcQZxMALSrBvW39WGe5/vMlZ9oORfBIYYwJNYesjc06NkUCzthFoDNuPFpJsL25g1znJVJ+Wy3sRzNHtF2IWjAr5h3AIgGXC0/4UVog5behbYWb0zkmvFoYwJZ0PhIgKI1WgrJBoNiiuVJ4ynzwi5HpF0z684hXC+ulsl4uh49g3UNK5y/caNqcvCUxDxy4pTIkYxtgFxrC38HwTO+z+zUCOKQrf/5xrD150WtuqrtOE4SY4vLDQu/zQWR1HRs+U3r8XJ943l2VbNolvkIQrDboQH8TY67Nns69XR9f9zfikD3j/budeGlx4sS6mem+3Pdq1vX2FyOryD82RGIbAAAAAElFTkSuQmCC'); background-size: cover; height: 16px; width: 16px}.errado {background-image: url('data:image/png;base64,iVBORw0KGgoAAAANSUhEUgAAABAAAAAQCAYAAAAf8/9hAAAABHNCSVQICAgIfAhkiAAAAAlwSFlzAAALEwAACxMBAJqcGAAAAjNJREFUOI2lk01IVFEYhp9zznUcnUnH/Bk3WhCVFEFZbiwUAxeZlCJFWERBgZsIqRatWhuRi0BtFS1bSGQYlBLISD8EgbWwv0VFxlijThOpd+6ce1o49zrh4KZ3+XHe53u/j+/Af0rkK35ra9ythOgwmG0gDYIPUnC/+uHkm3UBM+3NFZC5KxFt+cCuNiNa67O1T17MrwHMtDdX4DqvpZQ160XOGPPZRdRvGp1cAJA+PeMMe2ZRXrl21mzNEmKzMPqeV5cAXw4f2GtZsgmAso2o60PIjhOr5s5uVN8glEQAKJCq9evRpl0AFkDGsS8HAoUrEecSzN8ZJNrTC1JiDFhdJ4kP3CCSXEDJlamdJfsScMYCcJH1XjdLSkITj/mhLKrOXwBg9nY/G2LjKKVWUxn2+QkMBHPnLVQKK1QMxgAQKQ4hc8wArqTIB2jXnQNqffqR4wSPnSY+1A9AdU8vGcvCjA77gLR2Ez5gydGPIkH2ALilEaxDncQHbxKOjQEQBypPnUPHxpGpXwD8yaRHIHsHYw115TWl4dnSYFC5xvBTKMq0QyAb29aapApQZTRCQMpOO9/TdlXLxFRSArS+ejeXWLSv2VojhSCK65u9nURZMS9rTWJx+WrLxFTST5BdpIjt3zEQDYV7SgIB8imVTpP4vXSr8fnbiwLMPwBPTxt3dhUp1RcuKNjipUhrTWrZ/mijrxx8Nv0g933e32hAxBrqtrpKbTcCI1z3ffPL6U9e11z9Bai+yG1sATfvAAAAAElFTkSuQmCC'); background-size: cover; height: 16px; width: 16px}</style><table><tr><td><div class=\"errado\"/></td><td style=\"text-align:left;\"><b><mark style=\"background-color:#ffff40;padding-left:0px;padding-right:0px\"></mark></b>127.0.0.1\n",
              "</pre></td></tr>\n",
              "<tr><td><div class=\"errado\"/></td><td style=\"text-align:left;\"><b><mark style=\"background-color:#ffff40;padding-left:0px;padding-right:0px\"></mark></b>192.168.0.254\n",
              "</pre></td></tr>\n",
              "<tr><td><div class=\"errado\"/></td><td style=\"text-align:left;\"><b><mark style=\"background-color:#ffff40;padding-left:0px;padding-right:0px\"></mark></b>10.11.10.11\n",
              "</pre></td></tr>\n",
              "<tr><td><div class=\"errado\"/></td><td style=\"text-align:left;\"><b><mark style=\"background-color:#ffff40;padding-left:0px;padding-right:0px\"></mark></b>127.127.127.127</pre></td></tr><tr><td><div class=\"errado\"/></td><td style=\"text-align:left;\"><b><mark style=\"background-color:#ffff40;padding-left:0px;padding-right:0px\"></mark></b>9999.0.0.1\n",
              "</pre></td></tr>\n",
              "<tr><td><div class=\"errado\"/></td><td style=\"text-align:left;\"><b><mark style=\"background-color:#ffff40;padding-left:0px;padding-right:0px\"></mark></b>127404041\n",
              "</pre></td></tr>\n",
              "<tr><td><div class=\"errado\"/></td><td style=\"text-align:left;\"><b><mark style=\"background-color:#ffff40;padding-left:0px;padding-right:0px\"></mark></b>a127.0.0.1\n",
              "</pre></td></tr>\n",
              "<tr><td><div class=\"errado\"/></td><td style=\"text-align:left;\"><b><mark style=\"background-color:#ffff40;padding-left:0px;padding-right:0px\"></mark></b>127.a.a.1\n",
              "</pre></td></tr>\n",
              "<tr><td><div class=\"errado\"/></td><td style=\"text-align:left;\"><b><mark style=\"background-color:#ffff40;padding-left:0px;padding-right:0px\"></mark></b>127.0.0.1a\n",
              "</pre></td></tr>\n",
              "<tr><td><div class=\"errado\"/></td><td style=\"text-align:left;\"><b><mark style=\"background-color:#ffff40;padding-left:0px;padding-right:0px\"></mark></b>xxx.yyy.zzz.www\n",
              "</pre></td></tr>\n",
              "<tr><td><div class=\"errado\"/></td><td style=\"text-align:left;\"><b><mark style=\"background-color:#ffff40;padding-left:0px;padding-right:0px\"></mark></b>0.0.0.a\n",
              "</pre></td></tr>\n",
              "<tr><td><div class=\"errado\"/></td><td style=\"text-align:left;\"><b><mark style=\"background-color:#ffff40;padding-left:0px;padding-right:0px\"></mark></b>127.0.0.1.0\n",
              "</pre></td></tr>\n",
              "<tr><td><div class=\"errado\"/></td><td style=\"text-align:left;\"><b><mark style=\"background-color:#ffff40;padding-left:0px;padding-right:0px\"></mark></b>palavra\n",
              "</pre></td></tr>\n",
              "<tr><td><div class=\"errado\"/></td><td style=\"text-align:left;\"><b><mark style=\"background-color:#ffff40;padding-left:0px;padding-right:0px\"></mark></b>0.1.2.\n",
              "</pre></td></tr>\n",
              "<tr><td><div class=\"errado\"/></td><td style=\"text-align:left;\"><b><mark style=\"background-color:#ffff40;padding-left:0px;padding-right:0px\"></mark></b>.0.1.2\n",
              "</pre></td></tr>\n",
              "<tr><td><div class=\"errado\"/></td><td style=\"text-align:left;\"><b><mark style=\"background-color:#ffff40;padding-left:0px;padding-right:0px\"></mark></b>.0.1.2.\n",
              "</pre></td></tr>\n",
              "<tr><td><div class=\"errado\"/></td><td style=\"text-align:left;\"><b><mark style=\"background-color:#ffff40;padding-left:0px;padding-right:0px\"></mark></b>.0.1.2.3.\n",
              "</pre></td></tr>\n",
              "<tr><td><div class=\"errado\"/></td><td style=\"text-align:left;\"><b><mark style=\"background-color:#ffff40;padding-left:0px;padding-right:0px\"></mark></b>.0.1.2.3.4.\n",
              "</pre></td></tr>\n",
              "<tr><td><div class=\"errado\"/></td><td style=\"text-align:left;\"><b><mark style=\"background-color:#ffff40;padding-left:0px;padding-right:0px\"></mark></b>0.1.2.3.4.\n",
              "</pre></td></tr>\n",
              "<tr><td><div class=\"errado\"/></td><td style=\"text-align:left;\"><b><mark style=\"background-color:#ffff40;padding-left:0px;padding-right:0px\"></mark></b>.0.1.2.3.4\n",
              "</pre></td></tr>\n",
              "<tr><td><div class=\"errado\"/></td><td style=\"text-align:left;\"><b><mark style=\"background-color:#ffff40;padding-left:0px;padding-right:0px\"></mark></b>0.1.2.3.4\n",
              "</pre></td></tr>\n",
              "<tr><td><div class=\"errado\"/></td><td style=\"text-align:left;\"><b><mark style=\"background-color:#ffff40;padding-left:0px;padding-right:0px\"></mark></b>a0.1.2.3b\n",
              "</pre></td></tr></table>"
            ],
            "text/plain": [
              "<IPython.core.display.HTML object>"
            ]
          },
          "metadata": {
            "tags": []
          }
        }
      ]
    },
    {
      "cell_type": "markdown",
      "metadata": {
        "azdata_cell_guid": "3f9015bc-0c9a-4d80-a157-03bd67084beb",
        "id": "8CUb9D8QtNpD"
      },
      "source": [
        "Uma linha contendo exatamente um CPF com separador de milhares e hífen."
      ]
    },
    {
      "cell_type": "code",
      "metadata": {
        "azdata_cell_guid": "56beee36-28e8-493b-a8d7-6a859a82efe3",
        "id": "aMLwTIjDtNpD",
        "outputId": "19d194f4-d357-489f-e4ff-76cf74b7b220"
      },
      "source": [
        "exercicio(15, r'')"
      ],
      "execution_count": null,
      "outputs": [
        {
          "output_type": "display_data",
          "data": {
            "text/html": [
              "<style>.certo {background-image: url('data:image/png;base64,iVBORw0KGgoAAAANSUhEUgAAABAAAAAQCAYAAAAf8/9hAAAABHNCSVQICAgIfAhkiAAAAAlwSFlzAAALEwAACxMBAJqcGAAAAgBJREFUOI2lkz1oU1EUx3/nvpcmNqWlNIoKFkFsXKrSOCkoDi6iVOwgCEWLiyBaTKuLdhP8ACkoig5iqoM4SDGDq2uLxUHFptWhHQTF1gzlNc27ufc6tHk0NMTBs917zu9/vu6F/zSpd7lvcnC/VeqUCF1Y61Aya8WOf8k8+NRQIDOVTYXGjImnjtdN51y+omXg68HRPxsEMlPZlHaVj4i3o1HJ1rk5iSd6Pu+9UwRQVceK1m/+BQMokZ2USq+jM0DPxFDGi/mHG4EnWjM0q/hq2Z461v3hanckEOrycCN4oP0o2S0nub31LLLWtQv1UCTglPRUg5MqHmWqwv0dR6hYw6v59zhc1XUAwAcQZxMALSrBvW39WGe5/vMlZ9oORfBIYYwJNYesjc06NkUCzthFoDNuPFpJsL25g1znJVJ+Wy3sRzNHtF2IWjAr5h3AIgGXC0/4UVog5behbYWb0zkmvFoYwJZ0PhIgKI1WgrJBoNiiuVJ4ynzwi5HpF0z684hXC+ulsl4uh49g3UNK5y/caNqcvCUxDxy4pTIkYxtgFxrC38HwTO+z+zUCOKQrf/5xrD150WtuqrtOE4SY4vLDQu/zQWR1HRs+U3r8XJ943l2VbNolvkIQrDboQH8TY67Nns69XR9f9zfikD3j/budeGlx4sS6mem+3Pdq1vX2FyOryD82RGIbAAAAAElFTkSuQmCC'); background-size: cover; height: 16px; width: 16px}.errado {background-image: url('data:image/png;base64,iVBORw0KGgoAAAANSUhEUgAAABAAAAAQCAYAAAAf8/9hAAAABHNCSVQICAgIfAhkiAAAAAlwSFlzAAALEwAACxMBAJqcGAAAAjNJREFUOI2lk01IVFEYhp9zznUcnUnH/Bk3WhCVFEFZbiwUAxeZlCJFWERBgZsIqRatWhuRi0BtFS1bSGQYlBLISD8EgbWwv0VFxlijThOpd+6ce1o49zrh4KZ3+XHe53u/j+/Af0rkK35ra9ythOgwmG0gDYIPUnC/+uHkm3UBM+3NFZC5KxFt+cCuNiNa67O1T17MrwHMtDdX4DqvpZQ160XOGPPZRdRvGp1cAJA+PeMMe2ZRXrl21mzNEmKzMPqeV5cAXw4f2GtZsgmAso2o60PIjhOr5s5uVN8glEQAKJCq9evRpl0AFkDGsS8HAoUrEecSzN8ZJNrTC1JiDFhdJ4kP3CCSXEDJlamdJfsScMYCcJH1XjdLSkITj/mhLKrOXwBg9nY/G2LjKKVWUxn2+QkMBHPnLVQKK1QMxgAQKQ4hc8wArqTIB2jXnQNqffqR4wSPnSY+1A9AdU8vGcvCjA77gLR2Ez5gydGPIkH2ALilEaxDncQHbxKOjQEQBypPnUPHxpGpXwD8yaRHIHsHYw115TWl4dnSYFC5xvBTKMq0QyAb29aapApQZTRCQMpOO9/TdlXLxFRSArS+ejeXWLSv2VojhSCK65u9nURZMS9rTWJx+WrLxFTST5BdpIjt3zEQDYV7SgIB8imVTpP4vXSr8fnbiwLMPwBPTxt3dhUp1RcuKNjipUhrTWrZ/mijrxx8Nv0g933e32hAxBrqtrpKbTcCI1z3ffPL6U9e11z9Bai+yG1sATfvAAAAAElFTkSuQmCC'); background-size: cover; height: 16px; width: 16px}</style><table><tr><td><div class=\"errado\"/></td><td style=\"text-align:left;\"><b><mark style=\"background-color:#ffff40;padding-left:0px;padding-right:0px\"></mark></b>000.000.000-00\n",
              "</pre></td></tr>\n",
              "<tr><td><div class=\"errado\"/></td><td style=\"text-align:left;\"><b><mark style=\"background-color:#ffff40;padding-left:0px;padding-right:0px\"></mark></b>111.111.111-11\n",
              "</pre></td></tr><tr><td><div class=\"errado\"/></td><td style=\"text-align:left;\"><b><mark style=\"background-color:#ffff40;padding-left:0px;padding-right:0px\"></mark></b>0111.111.111-11\n",
              "</pre></td></tr>\n",
              "<tr><td><div class=\"errado\"/></td><td style=\"text-align:left;\"><b><mark style=\"background-color:#ffff40;padding-left:0px;padding-right:0px\"></mark></b>111.111.111-110\n",
              "</pre></td></tr>\n",
              "<tr><td><div class=\"errado\"/></td><td style=\"text-align:left;\"><b><mark style=\"background-color:#ffff40;padding-left:0px;padding-right:0px\"></mark></b>111.0111.0111-11\n",
              "</pre></td></tr>\n",
              "<tr><td><div class=\"errado\"/></td><td style=\"text-align:left;\"><b><mark style=\"background-color:#ffff40;padding-left:0px;padding-right:0px\"></mark></b>11101110111-11\n",
              "</pre></td></tr>\n",
              "<tr><td><div class=\"errado\"/></td><td style=\"text-align:left;\"><b><mark style=\"background-color:#ffff40;padding-left:0px;padding-right:0px\"></mark></b>111.111.111111\n",
              "</pre></td></tr>\n",
              "<tr><td><div class=\"errado\"/></td><td style=\"text-align:left;\"><b><mark style=\"background-color:#ffff40;padding-left:0px;padding-right:0px\"></mark></b>1110110111111\n",
              "</pre></td></tr>\n",
              "<tr><td><div class=\"errado\"/></td><td style=\"text-align:left;\"><b><mark style=\"background-color:#ffff40;padding-left:0px;padding-right:0px\"></mark></b>111011011111\n",
              "</pre></td></tr>\n",
              "<tr><td><div class=\"errado\"/></td><td style=\"text-align:left;\"><b><mark style=\"background-color:#ffff40;padding-left:0px;padding-right:0px\"></mark></b>11101101111\n",
              "</pre></td></tr>\n",
              "<tr><td><div class=\"errado\"/></td><td style=\"text-align:left;\"><b><mark style=\"background-color:#ffff40;padding-left:0px;padding-right:0px\"></mark></b>1110110111\n",
              "</pre></td></tr>\n",
              "<tr><td><div class=\"errado\"/></td><td style=\"text-align:left;\"><b><mark style=\"background-color:#ffff40;padding-left:0px;padding-right:0px\"></mark></b>111011011\n",
              "</pre></td></tr>\n",
              "<tr><td><div class=\"errado\"/></td><td style=\"text-align:left;\"><b><mark style=\"background-color:#ffff40;padding-left:0px;padding-right:0px\"></mark></b>.111011011-11\n",
              "</pre></td></tr>\n",
              "<tr><td><div class=\"errado\"/></td><td style=\"text-align:left;\"><b><mark style=\"background-color:#ffff40;padding-left:0px;padding-right:0px\"></mark></b>..111011011-11\n",
              "</pre></td></tr>\n",
              "<tr><td><div class=\"errado\"/></td><td style=\"text-align:left;\"><b><mark style=\"background-color:#ffff40;padding-left:0px;padding-right:0px\"></mark></b>...111011011-11\n",
              "</pre></td></tr>\n",
              "<tr><td><div class=\"errado\"/></td><td style=\"text-align:left;\"><b><mark style=\"background-color:#ffff40;padding-left:0px;padding-right:0px\"></mark></b>..1.11011011-11\n",
              "</pre></td></tr>\n",
              "<tr><td><div class=\"errado\"/></td><td style=\"text-align:left;\"><b><mark style=\"background-color:#ffff40;padding-left:0px;padding-right:0px\"></mark></b>.1.1.1011011-11\n",
              "</pre></td></tr>\n",
              "<tr><td><div class=\"errado\"/></td><td style=\"text-align:left;\"><b><mark style=\"background-color:#ffff40;padding-left:0px;padding-right:0px\"></mark></b>1.1.1.011011-11</pre></td></tr></table>"
            ],
            "text/plain": [
              "<IPython.core.display.HTML object>"
            ]
          },
          "metadata": {
            "tags": []
          }
        }
      ]
    },
    {
      "cell_type": "markdown",
      "metadata": {
        "azdata_cell_guid": "fd21c8d2-308b-4db7-83fe-6ad9076b6298",
        "id": "qeXYBPaJtNpE"
      },
      "source": [
        "Uma linha contendo exatamente um CPF com separador de milhares opcional e hífen opcional."
      ]
    },
    {
      "cell_type": "code",
      "metadata": {
        "azdata_cell_guid": "42035130-c153-4283-8eb3-2508d256a9b6",
        "id": "37zxOFQ0tNpE",
        "outputId": "a31fe9a5-02bd-4a0b-f363-f1590dc175e9"
      },
      "source": [
        "exercicio(16, r'')"
      ],
      "execution_count": null,
      "outputs": [
        {
          "output_type": "display_data",
          "data": {
            "text/html": [
              "<style>.certo {background-image: url('data:image/png;base64,iVBORw0KGgoAAAANSUhEUgAAABAAAAAQCAYAAAAf8/9hAAAABHNCSVQICAgIfAhkiAAAAAlwSFlzAAALEwAACxMBAJqcGAAAAgBJREFUOI2lkz1oU1EUx3/nvpcmNqWlNIoKFkFsXKrSOCkoDi6iVOwgCEWLiyBaTKuLdhP8ACkoig5iqoM4SDGDq2uLxUHFptWhHQTF1gzlNc27ufc6tHk0NMTBs917zu9/vu6F/zSpd7lvcnC/VeqUCF1Y61Aya8WOf8k8+NRQIDOVTYXGjImnjtdN51y+omXg68HRPxsEMlPZlHaVj4i3o1HJ1rk5iSd6Pu+9UwRQVceK1m/+BQMokZ2USq+jM0DPxFDGi/mHG4EnWjM0q/hq2Z461v3hanckEOrycCN4oP0o2S0nub31LLLWtQv1UCTglPRUg5MqHmWqwv0dR6hYw6v59zhc1XUAwAcQZxMALSrBvW39WGe5/vMlZ9oORfBIYYwJNYesjc06NkUCzthFoDNuPFpJsL25g1znJVJ+Wy3sRzNHtF2IWjAr5h3AIgGXC0/4UVog5behbYWb0zkmvFoYwJZ0PhIgKI1WgrJBoNiiuVJ4ynzwi5HpF0z684hXC+ulsl4uh49g3UNK5y/caNqcvCUxDxy4pTIkYxtgFxrC38HwTO+z+zUCOKQrf/5xrD150WtuqrtOE4SY4vLDQu/zQWR1HRs+U3r8XJ943l2VbNolvkIQrDboQH8TY67Nns69XR9f9zfikD3j/budeGlx4sS6mem+3Pdq1vX2FyOryD82RGIbAAAAAElFTkSuQmCC'); background-size: cover; height: 16px; width: 16px}.errado {background-image: url('data:image/png;base64,iVBORw0KGgoAAAANSUhEUgAAABAAAAAQCAYAAAAf8/9hAAAABHNCSVQICAgIfAhkiAAAAAlwSFlzAAALEwAACxMBAJqcGAAAAjNJREFUOI2lk01IVFEYhp9zznUcnUnH/Bk3WhCVFEFZbiwUAxeZlCJFWERBgZsIqRatWhuRi0BtFS1bSGQYlBLISD8EgbWwv0VFxlijThOpd+6ce1o49zrh4KZ3+XHe53u/j+/Af0rkK35ra9ythOgwmG0gDYIPUnC/+uHkm3UBM+3NFZC5KxFt+cCuNiNa67O1T17MrwHMtDdX4DqvpZQ160XOGPPZRdRvGp1cAJA+PeMMe2ZRXrl21mzNEmKzMPqeV5cAXw4f2GtZsgmAso2o60PIjhOr5s5uVN8glEQAKJCq9evRpl0AFkDGsS8HAoUrEecSzN8ZJNrTC1JiDFhdJ4kP3CCSXEDJlamdJfsScMYCcJH1XjdLSkITj/mhLKrOXwBg9nY/G2LjKKVWUxn2+QkMBHPnLVQKK1QMxgAQKQ4hc8wArqTIB2jXnQNqffqR4wSPnSY+1A9AdU8vGcvCjA77gLR2Ez5gydGPIkH2ALilEaxDncQHbxKOjQEQBypPnUPHxpGpXwD8yaRHIHsHYw115TWl4dnSYFC5xvBTKMq0QyAb29aapApQZTRCQMpOO9/TdlXLxFRSArS+ejeXWLSv2VojhSCK65u9nURZMS9rTWJx+WrLxFTST5BdpIjt3zEQDYV7SgIB8imVTpP4vXSr8fnbiwLMPwBPTxt3dhUp1RcuKNjipUhrTWrZ/mijrxx8Nv0g933e32hAxBrqtrpKbTcCI1z3ffPL6U9e11z9Bai+yG1sATfvAAAAAElFTkSuQmCC'); background-size: cover; height: 16px; width: 16px}</style><table><tr><td><div class=\"errado\"/></td><td style=\"text-align:left;\"><b><mark style=\"background-color:#ffff40;padding-left:0px;padding-right:0px\"></mark></b>000.000.000-00\n",
              "</pre></td></tr>\n",
              "<tr><td><div class=\"errado\"/></td><td style=\"text-align:left;\"><b><mark style=\"background-color:#ffff40;padding-left:0px;padding-right:0px\"></mark></b>111.111.111-11\n",
              "</pre></td></tr>\n",
              "<tr><td><div class=\"errado\"/></td><td style=\"text-align:left;\"><b><mark style=\"background-color:#ffff40;padding-left:0px;padding-right:0px\"></mark></b>111111.111-11\n",
              "</pre></td></tr>\n",
              "<tr><td><div class=\"errado\"/></td><td style=\"text-align:left;\"><b><mark style=\"background-color:#ffff40;padding-left:0px;padding-right:0px\"></mark></b>111.111111-11\n",
              "</pre></td></tr>\n",
              "<tr><td><div class=\"errado\"/></td><td style=\"text-align:left;\"><b><mark style=\"background-color:#ffff40;padding-left:0px;padding-right:0px\"></mark></b>11101101111\n",
              "</pre></td></tr><tr><td><div class=\"errado\"/></td><td style=\"text-align:left;\"><b><mark style=\"background-color:#ffff40;padding-left:0px;padding-right:0px\"></mark></b>0111.111.111-11\n",
              "</pre></td></tr>\n",
              "<tr><td><div class=\"errado\"/></td><td style=\"text-align:left;\"><b><mark style=\"background-color:#ffff40;padding-left:0px;padding-right:0px\"></mark></b>111.111.111-110\n",
              "</pre></td></tr>\n",
              "<tr><td><div class=\"errado\"/></td><td style=\"text-align:left;\"><b><mark style=\"background-color:#ffff40;padding-left:0px;padding-right:0px\"></mark></b>111.0111.0111-11\n",
              "</pre></td></tr>\n",
              "<tr><td><div class=\"errado\"/></td><td style=\"text-align:left;\"><b><mark style=\"background-color:#ffff40;padding-left:0px;padding-right:0px\"></mark></b>11101110111-11\n",
              "</pre></td></tr>\n",
              "<tr><td><div class=\"errado\"/></td><td style=\"text-align:left;\"><b><mark style=\"background-color:#ffff40;padding-left:0px;padding-right:0px\"></mark></b>111.111.111111\n",
              "</pre></td></tr>\n",
              "<tr><td><div class=\"errado\"/></td><td style=\"text-align:left;\"><b><mark style=\"background-color:#ffff40;padding-left:0px;padding-right:0px\"></mark></b>1110110111111\n",
              "</pre></td></tr>\n",
              "<tr><td><div class=\"errado\"/></td><td style=\"text-align:left;\"><b><mark style=\"background-color:#ffff40;padding-left:0px;padding-right:0px\"></mark></b>111011011111\n",
              "</pre></td></tr>\n",
              "<tr><td><div class=\"errado\"/></td><td style=\"text-align:left;\"><b><mark style=\"background-color:#ffff40;padding-left:0px;padding-right:0px\"></mark></b>1110110111\n",
              "</pre></td></tr>\n",
              "<tr><td><div class=\"errado\"/></td><td style=\"text-align:left;\"><b><mark style=\"background-color:#ffff40;padding-left:0px;padding-right:0px\"></mark></b>111011011\n",
              "</pre></td></tr>\n",
              "<tr><td><div class=\"errado\"/></td><td style=\"text-align:left;\"><b><mark style=\"background-color:#ffff40;padding-left:0px;padding-right:0px\"></mark></b>.111011011-11\n",
              "</pre></td></tr>\n",
              "<tr><td><div class=\"errado\"/></td><td style=\"text-align:left;\"><b><mark style=\"background-color:#ffff40;padding-left:0px;padding-right:0px\"></mark></b>..111011011-11\n",
              "</pre></td></tr>\n",
              "<tr><td><div class=\"errado\"/></td><td style=\"text-align:left;\"><b><mark style=\"background-color:#ffff40;padding-left:0px;padding-right:0px\"></mark></b>...111011011-11\n",
              "</pre></td></tr>\n",
              "<tr><td><div class=\"errado\"/></td><td style=\"text-align:left;\"><b><mark style=\"background-color:#ffff40;padding-left:0px;padding-right:0px\"></mark></b>..1.11011011-11\n",
              "</pre></td></tr>\n",
              "<tr><td><div class=\"errado\"/></td><td style=\"text-align:left;\"><b><mark style=\"background-color:#ffff40;padding-left:0px;padding-right:0px\"></mark></b>.1.1.1011011-11\n",
              "</pre></td></tr>\n",
              "<tr><td><div class=\"errado\"/></td><td style=\"text-align:left;\"><b><mark style=\"background-color:#ffff40;padding-left:0px;padding-right:0px\"></mark></b>1.1.1.011011-11</pre></td></tr></table>"
            ],
            "text/plain": [
              "<IPython.core.display.HTML object>"
            ]
          },
          "metadata": {
            "tags": []
          }
        }
      ]
    },
    {
      "cell_type": "markdown",
      "metadata": {
        "azdata_cell_guid": "e3609c01-ae52-44bd-a092-d35714526482",
        "id": "z_9fnLrptNpE"
      },
      "source": [
        "Uma linha contendo exatamente um CNPJ com separador de milhares, barra e hífen."
      ]
    },
    {
      "cell_type": "code",
      "metadata": {
        "azdata_cell_guid": "e3c33cd9-c7ef-455a-94b5-5493c0b9aa8c",
        "id": "PKqvcgG0tNpE",
        "outputId": "25aace32-c336-4321-e903-f29775cf32b6"
      },
      "source": [
        "exercicio(17, r'')"
      ],
      "execution_count": null,
      "outputs": [
        {
          "output_type": "display_data",
          "data": {
            "text/html": [
              "<style>.certo {background-image: url('data:image/png;base64,iVBORw0KGgoAAAANSUhEUgAAABAAAAAQCAYAAAAf8/9hAAAABHNCSVQICAgIfAhkiAAAAAlwSFlzAAALEwAACxMBAJqcGAAAAgBJREFUOI2lkz1oU1EUx3/nvpcmNqWlNIoKFkFsXKrSOCkoDi6iVOwgCEWLiyBaTKuLdhP8ACkoig5iqoM4SDGDq2uLxUHFptWhHQTF1gzlNc27ufc6tHk0NMTBs917zu9/vu6F/zSpd7lvcnC/VeqUCF1Y61Aya8WOf8k8+NRQIDOVTYXGjImnjtdN51y+omXg68HRPxsEMlPZlHaVj4i3o1HJ1rk5iSd6Pu+9UwRQVceK1m/+BQMokZ2USq+jM0DPxFDGi/mHG4EnWjM0q/hq2Z461v3hanckEOrycCN4oP0o2S0nub31LLLWtQv1UCTglPRUg5MqHmWqwv0dR6hYw6v59zhc1XUAwAcQZxMALSrBvW39WGe5/vMlZ9oORfBIYYwJNYesjc06NkUCzthFoDNuPFpJsL25g1znJVJ+Wy3sRzNHtF2IWjAr5h3AIgGXC0/4UVog5behbYWb0zkmvFoYwJZ0PhIgKI1WgrJBoNiiuVJ4ynzwi5HpF0z684hXC+ulsl4uh49g3UNK5y/caNqcvCUxDxy4pTIkYxtgFxrC38HwTO+z+zUCOKQrf/5xrD150WtuqrtOE4SY4vLDQu/zQWR1HRs+U3r8XJ943l2VbNolvkIQrDboQH8TY67Nns69XR9f9zfikD3j/budeGlx4sS6mem+3Pdq1vX2FyOryD82RGIbAAAAAElFTkSuQmCC'); background-size: cover; height: 16px; width: 16px}.errado {background-image: url('data:image/png;base64,iVBORw0KGgoAAAANSUhEUgAAABAAAAAQCAYAAAAf8/9hAAAABHNCSVQICAgIfAhkiAAAAAlwSFlzAAALEwAACxMBAJqcGAAAAjNJREFUOI2lk01IVFEYhp9zznUcnUnH/Bk3WhCVFEFZbiwUAxeZlCJFWERBgZsIqRatWhuRi0BtFS1bSGQYlBLISD8EgbWwv0VFxlijThOpd+6ce1o49zrh4KZ3+XHe53u/j+/Af0rkK35ra9ythOgwmG0gDYIPUnC/+uHkm3UBM+3NFZC5KxFt+cCuNiNa67O1T17MrwHMtDdX4DqvpZQ160XOGPPZRdRvGp1cAJA+PeMMe2ZRXrl21mzNEmKzMPqeV5cAXw4f2GtZsgmAso2o60PIjhOr5s5uVN8glEQAKJCq9evRpl0AFkDGsS8HAoUrEecSzN8ZJNrTC1JiDFhdJ4kP3CCSXEDJlamdJfsScMYCcJH1XjdLSkITj/mhLKrOXwBg9nY/G2LjKKVWUxn2+QkMBHPnLVQKK1QMxgAQKQ4hc8wArqTIB2jXnQNqffqR4wSPnSY+1A9AdU8vGcvCjA77gLR2Ez5gydGPIkH2ALilEaxDncQHbxKOjQEQBypPnUPHxpGpXwD8yaRHIHsHYw115TWl4dnSYFC5xvBTKMq0QyAb29aapApQZTRCQMpOO9/TdlXLxFRSArS+ejeXWLSv2VojhSCK65u9nURZMS9rTWJx+WrLxFTST5BdpIjt3zEQDYV7SgIB8imVTpP4vXSr8fnbiwLMPwBPTxt3dhUp1RcuKNjipUhrTWrZ/mijrxx8Nv0g933e32hAxBrqtrpKbTcCI1z3ffPL6U9e11z9Bai+yG1sATfvAAAAAElFTkSuQmCC'); background-size: cover; height: 16px; width: 16px}</style><table><tr><td><div class=\"errado\"/></td><td style=\"text-align:left;\"><b><mark style=\"background-color:#ffff40;padding-left:0px;padding-right:0px\"></mark></b>00.000.000/0001-00\n",
              "</pre></td></tr><tr><td><div class=\"errado\"/></td><td style=\"text-align:left;\"><b><mark style=\"background-color:#ffff40;padding-left:0px;padding-right:0px\"></mark></b>xx.000.000/0001-xx\n",
              "</pre></td></tr>\n",
              "<tr><td><div class=\"errado\"/></td><td style=\"text-align:left;\"><b><mark style=\"background-color:#ffff40;padding-left:0px;padding-right:0px\"></mark></b>0011001000/0001-00\n",
              "</pre></td></tr>\n",
              "<tr><td><div class=\"errado\"/></td><td style=\"text-align:left;\"><b><mark style=\"background-color:#ffff40;padding-left:0px;padding-right:0px\"></mark></b>00.000.00010001-00\n",
              "</pre></td></tr>\n",
              "<tr><td><div class=\"errado\"/></td><td style=\"text-align:left;\"><b><mark style=\"background-color:#ffff40;padding-left:0px;padding-right:0px\"></mark></b>00.000.000/0001100\n",
              "</pre></td></tr>\n",
              "<tr><td><div class=\"errado\"/></td><td style=\"text-align:left;\"><b><mark style=\"background-color:#ffff40;padding-left:0px;padding-right:0px\"></mark></b>00000.000/0001-00\n",
              "</pre></td></tr>\n",
              "<tr><td><div class=\"errado\"/></td><td style=\"text-align:left;\"><b><mark style=\"background-color:#ffff40;padding-left:0px;padding-right:0px\"></mark></b>00000000/0001-00\n",
              "</pre></td></tr>\n",
              "<tr><td><div class=\"errado\"/></td><td style=\"text-align:left;\"><b><mark style=\"background-color:#ffff40;padding-left:0px;padding-right:0px\"></mark></b>000000000001-00\n",
              "</pre></td></tr>\n",
              "<tr><td><div class=\"errado\"/></td><td style=\"text-align:left;\"><b><mark style=\"background-color:#ffff40;padding-left:0px;padding-right:0px\"></mark></b>00000000000100\n",
              "</pre></td></tr>\n",
              "<tr><td><div class=\"errado\"/></td><td style=\"text-align:left;\"><b><mark style=\"background-color:#ffff40;padding-left:0px;padding-right:0px\"></mark></b>x00000000000100\n",
              "</pre></td></tr>\n",
              "<tr><td><div class=\"errado\"/></td><td style=\"text-align:left;\"><b><mark style=\"background-color:#ffff40;padding-left:0px;padding-right:0px\"></mark></b>00000000000100x\n",
              "</pre></td></tr>\n",
              "<tr><td><div class=\"errado\"/></td><td style=\"text-align:left;\"><b><mark style=\"background-color:#ffff40;padding-left:0px;padding-right:0px\"></mark></b>00x000.000000100\n",
              "</pre></td></tr>\n",
              "<tr><td><div class=\"errado\"/></td><td style=\"text-align:left;\"><b><mark style=\"background-color:#ffff40;padding-left:0px;padding-right:0px\"></mark></b>00x000.0000001-00</pre></td></tr></table>"
            ],
            "text/plain": [
              "<IPython.core.display.HTML object>"
            ]
          },
          "metadata": {
            "tags": []
          }
        }
      ]
    },
    {
      "cell_type": "markdown",
      "metadata": {
        "azdata_cell_guid": "bd9367b2-6add-4870-8282-4baaeba292e7",
        "id": "ZNnhGCGItNpE"
      },
      "source": [
        "Uma linha contendo exatamente um CNPJ com separador de milhares opcional, barra opcional e hífen opcional."
      ]
    },
    {
      "cell_type": "code",
      "metadata": {
        "azdata_cell_guid": "dd04dd12-3ec0-438e-bf98-6d51f6923090",
        "id": "pJ9d5jEUtNpF",
        "outputId": "bb87e72d-fe28-469a-85e7-db316252165e"
      },
      "source": [
        "exercicio(18, r'')"
      ],
      "execution_count": null,
      "outputs": [
        {
          "output_type": "display_data",
          "data": {
            "text/html": [
              "<style>.certo {background-image: url('data:image/png;base64,iVBORw0KGgoAAAANSUhEUgAAABAAAAAQCAYAAAAf8/9hAAAABHNCSVQICAgIfAhkiAAAAAlwSFlzAAALEwAACxMBAJqcGAAAAgBJREFUOI2lkz1oU1EUx3/nvpcmNqWlNIoKFkFsXKrSOCkoDi6iVOwgCEWLiyBaTKuLdhP8ACkoig5iqoM4SDGDq2uLxUHFptWhHQTF1gzlNc27ufc6tHk0NMTBs917zu9/vu6F/zSpd7lvcnC/VeqUCF1Y61Aya8WOf8k8+NRQIDOVTYXGjImnjtdN51y+omXg68HRPxsEMlPZlHaVj4i3o1HJ1rk5iSd6Pu+9UwRQVceK1m/+BQMokZ2USq+jM0DPxFDGi/mHG4EnWjM0q/hq2Z461v3hanckEOrycCN4oP0o2S0nub31LLLWtQv1UCTglPRUg5MqHmWqwv0dR6hYw6v59zhc1XUAwAcQZxMALSrBvW39WGe5/vMlZ9oORfBIYYwJNYesjc06NkUCzthFoDNuPFpJsL25g1znJVJ+Wy3sRzNHtF2IWjAr5h3AIgGXC0/4UVog5behbYWb0zkmvFoYwJZ0PhIgKI1WgrJBoNiiuVJ4ynzwi5HpF0z684hXC+ulsl4uh49g3UNK5y/caNqcvCUxDxy4pTIkYxtgFxrC38HwTO+z+zUCOKQrf/5xrD150WtuqrtOE4SY4vLDQu/zQWR1HRs+U3r8XJ943l2VbNolvkIQrDboQH8TY67Nns69XR9f9zfikD3j/budeGlx4sS6mem+3Pdq1vX2FyOryD82RGIbAAAAAElFTkSuQmCC'); background-size: cover; height: 16px; width: 16px}.errado {background-image: url('data:image/png;base64,iVBORw0KGgoAAAANSUhEUgAAABAAAAAQCAYAAAAf8/9hAAAABHNCSVQICAgIfAhkiAAAAAlwSFlzAAALEwAACxMBAJqcGAAAAjNJREFUOI2lk01IVFEYhp9zznUcnUnH/Bk3WhCVFEFZbiwUAxeZlCJFWERBgZsIqRatWhuRi0BtFS1bSGQYlBLISD8EgbWwv0VFxlijThOpd+6ce1o49zrh4KZ3+XHe53u/j+/Af0rkK35ra9ythOgwmG0gDYIPUnC/+uHkm3UBM+3NFZC5KxFt+cCuNiNa67O1T17MrwHMtDdX4DqvpZQ160XOGPPZRdRvGp1cAJA+PeMMe2ZRXrl21mzNEmKzMPqeV5cAXw4f2GtZsgmAso2o60PIjhOr5s5uVN8glEQAKJCq9evRpl0AFkDGsS8HAoUrEecSzN8ZJNrTC1JiDFhdJ4kP3CCSXEDJlamdJfsScMYCcJH1XjdLSkITj/mhLKrOXwBg9nY/G2LjKKVWUxn2+QkMBHPnLVQKK1QMxgAQKQ4hc8wArqTIB2jXnQNqffqR4wSPnSY+1A9AdU8vGcvCjA77gLR2Ez5gydGPIkH2ALilEaxDncQHbxKOjQEQBypPnUPHxpGpXwD8yaRHIHsHYw115TWl4dnSYFC5xvBTKMq0QyAb29aapApQZTRCQMpOO9/TdlXLxFRSArS+ejeXWLSv2VojhSCK65u9nURZMS9rTWJx+WrLxFTST5BdpIjt3zEQDYV7SgIB8imVTpP4vXSr8fnbiwLMPwBPTxt3dhUp1RcuKNjipUhrTWrZ/mijrxx8Nv0g933e32hAxBrqtrpKbTcCI1z3ffPL6U9e11z9Bai+yG1sATfvAAAAAElFTkSuQmCC'); background-size: cover; height: 16px; width: 16px}</style><table><tr><td><div class=\"errado\"/></td><td style=\"text-align:left;\"><b><mark style=\"background-color:#ffff40;padding-left:0px;padding-right:0px\"></mark></b>00.000.000/0001-00\n",
              "</pre></td></tr>\n",
              "<tr><td><div class=\"errado\"/></td><td style=\"text-align:left;\"><b><mark style=\"background-color:#ffff40;padding-left:0px;padding-right:0px\"></mark></b>00000.000/0001-00\n",
              "</pre></td></tr>\n",
              "<tr><td><div class=\"errado\"/></td><td style=\"text-align:left;\"><b><mark style=\"background-color:#ffff40;padding-left:0px;padding-right:0px\"></mark></b>00000000/0001-00\n",
              "</pre></td></tr>\n",
              "<tr><td><div class=\"errado\"/></td><td style=\"text-align:left;\"><b><mark style=\"background-color:#ffff40;padding-left:0px;padding-right:0px\"></mark></b>000000000001-00\n",
              "</pre></td></tr>\n",
              "<tr><td><div class=\"errado\"/></td><td style=\"text-align:left;\"><b><mark style=\"background-color:#ffff40;padding-left:0px;padding-right:0px\"></mark></b>00000000000100\n",
              "</pre></td></tr><tr><td><div class=\"errado\"/></td><td style=\"text-align:left;\"><b><mark style=\"background-color:#ffff40;padding-left:0px;padding-right:0px\"></mark></b>xx.000.000/0001-xx\n",
              "</pre></td></tr>\n",
              "<tr><td><div class=\"errado\"/></td><td style=\"text-align:left;\"><b><mark style=\"background-color:#ffff40;padding-left:0px;padding-right:0px\"></mark></b>0011001000/0001-00\n",
              "</pre></td></tr>\n",
              "<tr><td><div class=\"errado\"/></td><td style=\"text-align:left;\"><b><mark style=\"background-color:#ffff40;padding-left:0px;padding-right:0px\"></mark></b>00.000.00010001-00\n",
              "</pre></td></tr>\n",
              "<tr><td><div class=\"errado\"/></td><td style=\"text-align:left;\"><b><mark style=\"background-color:#ffff40;padding-left:0px;padding-right:0px\"></mark></b>00.000.000/0001100\n",
              "</pre></td></tr>\n",
              "<tr><td><div class=\"errado\"/></td><td style=\"text-align:left;\"><b><mark style=\"background-color:#ffff40;padding-left:0px;padding-right:0px\"></mark></b>x00000000000100\n",
              "</pre></td></tr>\n",
              "<tr><td><div class=\"errado\"/></td><td style=\"text-align:left;\"><b><mark style=\"background-color:#ffff40;padding-left:0px;padding-right:0px\"></mark></b>00000000000100x\n",
              "</pre></td></tr>\n",
              "<tr><td><div class=\"errado\"/></td><td style=\"text-align:left;\"><b><mark style=\"background-color:#ffff40;padding-left:0px;padding-right:0px\"></mark></b>00x000.000000100\n",
              "</pre></td></tr>\n",
              "<tr><td><div class=\"errado\"/></td><td style=\"text-align:left;\"><b><mark style=\"background-color:#ffff40;padding-left:0px;padding-right:0px\"></mark></b>00x000.0000001-00</pre></td></tr></table>"
            ],
            "text/plain": [
              "<IPython.core.display.HTML object>"
            ]
          },
          "metadata": {
            "tags": []
          }
        }
      ]
    },
    {
      "cell_type": "markdown",
      "metadata": {
        "azdata_cell_guid": "a0c6958b-aa8a-45cf-8ef9-fbb020039a11",
        "id": "-5cvif0StNpF"
      },
      "source": [
        "Uma linha contendo exatamente um CEP com separador de milhares e hífen"
      ]
    },
    {
      "cell_type": "code",
      "metadata": {
        "azdata_cell_guid": "541768d1-4c21-4a8a-aade-97f2e66fff3d",
        "id": "AuPpjOXctNpF",
        "outputId": "a86674a5-6a6a-4cf9-f7f9-f15a9e85c0a0"
      },
      "source": [
        "exercicio(19, r'')"
      ],
      "execution_count": null,
      "outputs": [
        {
          "output_type": "display_data",
          "data": {
            "text/html": [
              "<style>.certo {background-image: url('data:image/png;base64,iVBORw0KGgoAAAANSUhEUgAAABAAAAAQCAYAAAAf8/9hAAAABHNCSVQICAgIfAhkiAAAAAlwSFlzAAALEwAACxMBAJqcGAAAAgBJREFUOI2lkz1oU1EUx3/nvpcmNqWlNIoKFkFsXKrSOCkoDi6iVOwgCEWLiyBaTKuLdhP8ACkoig5iqoM4SDGDq2uLxUHFptWhHQTF1gzlNc27ufc6tHk0NMTBs917zu9/vu6F/zSpd7lvcnC/VeqUCF1Y61Aya8WOf8k8+NRQIDOVTYXGjImnjtdN51y+omXg68HRPxsEMlPZlHaVj4i3o1HJ1rk5iSd6Pu+9UwRQVceK1m/+BQMokZ2USq+jM0DPxFDGi/mHG4EnWjM0q/hq2Z461v3hanckEOrycCN4oP0o2S0nub31LLLWtQv1UCTglPRUg5MqHmWqwv0dR6hYw6v59zhc1XUAwAcQZxMALSrBvW39WGe5/vMlZ9oORfBIYYwJNYesjc06NkUCzthFoDNuPFpJsL25g1znJVJ+Wy3sRzNHtF2IWjAr5h3AIgGXC0/4UVog5behbYWb0zkmvFoYwJZ0PhIgKI1WgrJBoNiiuVJ4ynzwi5HpF0z684hXC+ulsl4uh49g3UNK5y/caNqcvCUxDxy4pTIkYxtgFxrC38HwTO+z+zUCOKQrf/5xrD150WtuqrtOE4SY4vLDQu/zQWR1HRs+U3r8XJ943l2VbNolvkIQrDboQH8TY67Nns69XR9f9zfikD3j/budeGlx4sS6mem+3Pdq1vX2FyOryD82RGIbAAAAAElFTkSuQmCC'); background-size: cover; height: 16px; width: 16px}.errado {background-image: url('data:image/png;base64,iVBORw0KGgoAAAANSUhEUgAAABAAAAAQCAYAAAAf8/9hAAAABHNCSVQICAgIfAhkiAAAAAlwSFlzAAALEwAACxMBAJqcGAAAAjNJREFUOI2lk01IVFEYhp9zznUcnUnH/Bk3WhCVFEFZbiwUAxeZlCJFWERBgZsIqRatWhuRi0BtFS1bSGQYlBLISD8EgbWwv0VFxlijThOpd+6ce1o49zrh4KZ3+XHe53u/j+/Af0rkK35ra9ythOgwmG0gDYIPUnC/+uHkm3UBM+3NFZC5KxFt+cCuNiNa67O1T17MrwHMtDdX4DqvpZQ160XOGPPZRdRvGp1cAJA+PeMMe2ZRXrl21mzNEmKzMPqeV5cAXw4f2GtZsgmAso2o60PIjhOr5s5uVN8glEQAKJCq9evRpl0AFkDGsS8HAoUrEecSzN8ZJNrTC1JiDFhdJ4kP3CCSXEDJlamdJfsScMYCcJH1XjdLSkITj/mhLKrOXwBg9nY/G2LjKKVWUxn2+QkMBHPnLVQKK1QMxgAQKQ4hc8wArqTIB2jXnQNqffqR4wSPnSY+1A9AdU8vGcvCjA77gLR2Ez5gydGPIkH2ALilEaxDncQHbxKOjQEQBypPnUPHxpGpXwD8yaRHIHsHYw115TWl4dnSYFC5xvBTKMq0QyAb29aapApQZTRCQMpOO9/TdlXLxFRSArS+ejeXWLSv2VojhSCK65u9nURZMS9rTWJx+WrLxFTST5BdpIjt3zEQDYV7SgIB8imVTpP4vXSr8fnbiwLMPwBPTxt3dhUp1RcuKNjipUhrTWrZ/mijrxx8Nv0g933e32hAxBrqtrpKbTcCI1z3ffPL6U9e11z9Bai+yG1sATfvAAAAAElFTkSuQmCC'); background-size: cover; height: 16px; width: 16px}</style><table><tr><td><div class=\"errado\"/></td><td style=\"text-align:left;\"><b><mark style=\"background-color:#ffff40;padding-left:0px;padding-right:0px\"></mark></b>70.000-000\n",
              "</pre></td></tr><tr><td><div class=\"errado\"/></td><td style=\"text-align:left;\"><b><mark style=\"background-color:#ffff40;padding-left:0px;padding-right:0px\"></mark></b>7a.aaa-aaa\n",
              "</pre></td></tr>\n",
              "<tr><td><div class=\"errado\"/></td><td style=\"text-align:left;\"><b><mark style=\"background-color:#ffff40;padding-left:0px;padding-right:0px\"></mark></b>7000000000\n",
              "</pre></td></tr>\n",
              "<tr><td><div class=\"errado\"/></td><td style=\"text-align:left;\"><b><mark style=\"background-color:#ffff40;padding-left:0px;padding-right:0px\"></mark></b>70000-000\n",
              "</pre></td></tr>\n",
              "<tr><td><div class=\"errado\"/></td><td style=\"text-align:left;\"><b><mark style=\"background-color:#ffff40;padding-left:0px;padding-right:0px\"></mark></b>700000000\n",
              "</pre></td></tr>\n",
              "<tr><td><div class=\"errado\"/></td><td style=\"text-align:left;\"><b><mark style=\"background-color:#ffff40;padding-left:0px;padding-right:0px\"></mark></b>70000000\n",
              "</pre></td></tr>\n",
              "<tr><td><div class=\"errado\"/></td><td style=\"text-align:left;\"><b><mark style=\"background-color:#ffff40;padding-left:0px;padding-right:0px\"></mark></b>7000000\n",
              "</pre></td></tr>\n",
              "<tr><td><div class=\"errado\"/></td><td style=\"text-align:left;\"><b><mark style=\"background-color:#ffff40;padding-left:0px;padding-right:0px\"></mark></b>700000\n",
              "</pre></td></tr>\n",
              "<tr><td><div class=\"errado\"/></td><td style=\"text-align:left;\"><b><mark style=\"background-color:#ffff40;padding-left:0px;padding-right:0px\"></mark></b>70000\n",
              "</pre></td></tr>\n",
              "<tr><td><div class=\"errado\"/></td><td style=\"text-align:left;\"><b><mark style=\"background-color:#ffff40;padding-left:0px;padding-right:0px\"></mark></b>7000\n",
              "</pre></td></tr>\n",
              "<tr><td><div class=\"errado\"/></td><td style=\"text-align:left;\"><b><mark style=\"background-color:#ffff40;padding-left:0px;padding-right:0px\"></mark></b>70000aaa\n",
              "</pre></td></tr>\n",
              "<tr><td><div class=\"errado\"/></td><td style=\"text-align:left;\"><b><mark style=\"background-color:#ffff40;padding-left:0px;padding-right:0px\"></mark></b>aaa70000</pre></td></tr></table>"
            ],
            "text/plain": [
              "<IPython.core.display.HTML object>"
            ]
          },
          "metadata": {
            "tags": []
          }
        }
      ]
    },
    {
      "cell_type": "markdown",
      "metadata": {
        "azdata_cell_guid": "262f8816-9925-4aee-8ae7-dcb168ca3cf9",
        "id": "ZBpmJXWltNpF"
      },
      "source": [
        "Uma linha contendo exatamente um CEP com separador de milhares opcional e hífen opcional"
      ]
    },
    {
      "cell_type": "code",
      "metadata": {
        "azdata_cell_guid": "698d6615-a805-41e0-b195-15eb1903b430",
        "id": "4VSoofXRtNpF",
        "outputId": "c787fa43-3b6e-40e8-f3e1-57cad2d84e85"
      },
      "source": [
        "exercicio(20, r'')"
      ],
      "execution_count": null,
      "outputs": [
        {
          "output_type": "display_data",
          "data": {
            "text/html": [
              "<style>.certo {background-image: url('data:image/png;base64,iVBORw0KGgoAAAANSUhEUgAAABAAAAAQCAYAAAAf8/9hAAAABHNCSVQICAgIfAhkiAAAAAlwSFlzAAALEwAACxMBAJqcGAAAAgBJREFUOI2lkz1oU1EUx3/nvpcmNqWlNIoKFkFsXKrSOCkoDi6iVOwgCEWLiyBaTKuLdhP8ACkoig5iqoM4SDGDq2uLxUHFptWhHQTF1gzlNc27ufc6tHk0NMTBs917zu9/vu6F/zSpd7lvcnC/VeqUCF1Y61Aya8WOf8k8+NRQIDOVTYXGjImnjtdN51y+omXg68HRPxsEMlPZlHaVj4i3o1HJ1rk5iSd6Pu+9UwRQVceK1m/+BQMokZ2USq+jM0DPxFDGi/mHG4EnWjM0q/hq2Z461v3hanckEOrycCN4oP0o2S0nub31LLLWtQv1UCTglPRUg5MqHmWqwv0dR6hYw6v59zhc1XUAwAcQZxMALSrBvW39WGe5/vMlZ9oORfBIYYwJNYesjc06NkUCzthFoDNuPFpJsL25g1znJVJ+Wy3sRzNHtF2IWjAr5h3AIgGXC0/4UVog5behbYWb0zkmvFoYwJZ0PhIgKI1WgrJBoNiiuVJ4ynzwi5HpF0z684hXC+ulsl4uh49g3UNK5y/caNqcvCUxDxy4pTIkYxtgFxrC38HwTO+z+zUCOKQrf/5xrD150WtuqrtOE4SY4vLDQu/zQWR1HRs+U3r8XJ943l2VbNolvkIQrDboQH8TY67Nns69XR9f9zfikD3j/budeGlx4sS6mem+3Pdq1vX2FyOryD82RGIbAAAAAElFTkSuQmCC'); background-size: cover; height: 16px; width: 16px}.errado {background-image: url('data:image/png;base64,iVBORw0KGgoAAAANSUhEUgAAABAAAAAQCAYAAAAf8/9hAAAABHNCSVQICAgIfAhkiAAAAAlwSFlzAAALEwAACxMBAJqcGAAAAjNJREFUOI2lk01IVFEYhp9zznUcnUnH/Bk3WhCVFEFZbiwUAxeZlCJFWERBgZsIqRatWhuRi0BtFS1bSGQYlBLISD8EgbWwv0VFxlijThOpd+6ce1o49zrh4KZ3+XHe53u/j+/Af0rkK35ra9ythOgwmG0gDYIPUnC/+uHkm3UBM+3NFZC5KxFt+cCuNiNa67O1T17MrwHMtDdX4DqvpZQ160XOGPPZRdRvGp1cAJA+PeMMe2ZRXrl21mzNEmKzMPqeV5cAXw4f2GtZsgmAso2o60PIjhOr5s5uVN8glEQAKJCq9evRpl0AFkDGsS8HAoUrEecSzN8ZJNrTC1JiDFhdJ4kP3CCSXEDJlamdJfsScMYCcJH1XjdLSkITj/mhLKrOXwBg9nY/G2LjKKVWUxn2+QkMBHPnLVQKK1QMxgAQKQ4hc8wArqTIB2jXnQNqffqR4wSPnSY+1A9AdU8vGcvCjA77gLR2Ez5gydGPIkH2ALilEaxDncQHbxKOjQEQBypPnUPHxpGpXwD8yaRHIHsHYw115TWl4dnSYFC5xvBTKMq0QyAb29aapApQZTRCQMpOO9/TdlXLxFRSArS+ejeXWLSv2VojhSCK65u9nURZMS9rTWJx+WrLxFTST5BdpIjt3zEQDYV7SgIB8imVTpP4vXSr8fnbiwLMPwBPTxt3dhUp1RcuKNjipUhrTWrZ/mijrxx8Nv0g933e32hAxBrqtrpKbTcCI1z3ffPL6U9e11z9Bai+yG1sATfvAAAAAElFTkSuQmCC'); background-size: cover; height: 16px; width: 16px}</style><table><tr><td><div class=\"errado\"/></td><td style=\"text-align:left;\"><b><mark style=\"background-color:#ffff40;padding-left:0px;padding-right:0px\"></mark></b>70.000-000\n",
              "</pre></td></tr>\n",
              "<tr><td><div class=\"errado\"/></td><td style=\"text-align:left;\"><b><mark style=\"background-color:#ffff40;padding-left:0px;padding-right:0px\"></mark></b>70000-000\n",
              "</pre></td></tr>\n",
              "<tr><td><div class=\"errado\"/></td><td style=\"text-align:left;\"><b><mark style=\"background-color:#ffff40;padding-left:0px;padding-right:0px\"></mark></b>70000000\n",
              "</pre></td></tr><tr><td><div class=\"errado\"/></td><td style=\"text-align:left;\"><b><mark style=\"background-color:#ffff40;padding-left:0px;padding-right:0px\"></mark></b>7a.aaa-aaa\n",
              "</pre></td></tr>\n",
              "<tr><td><div class=\"errado\"/></td><td style=\"text-align:left;\"><b><mark style=\"background-color:#ffff40;padding-left:0px;padding-right:0px\"></mark></b>7000000000\n",
              "</pre></td></tr>\n",
              "<tr><td><div class=\"errado\"/></td><td style=\"text-align:left;\"><b><mark style=\"background-color:#ffff40;padding-left:0px;padding-right:0px\"></mark></b>700000000\n",
              "</pre></td></tr>\n",
              "<tr><td><div class=\"errado\"/></td><td style=\"text-align:left;\"><b><mark style=\"background-color:#ffff40;padding-left:0px;padding-right:0px\"></mark></b>7000000\n",
              "</pre></td></tr>\n",
              "<tr><td><div class=\"errado\"/></td><td style=\"text-align:left;\"><b><mark style=\"background-color:#ffff40;padding-left:0px;padding-right:0px\"></mark></b>700000\n",
              "</pre></td></tr>\n",
              "<tr><td><div class=\"errado\"/></td><td style=\"text-align:left;\"><b><mark style=\"background-color:#ffff40;padding-left:0px;padding-right:0px\"></mark></b>70000\n",
              "</pre></td></tr>\n",
              "<tr><td><div class=\"errado\"/></td><td style=\"text-align:left;\"><b><mark style=\"background-color:#ffff40;padding-left:0px;padding-right:0px\"></mark></b>7000\n",
              "</pre></td></tr>\n",
              "<tr><td><div class=\"errado\"/></td><td style=\"text-align:left;\"><b><mark style=\"background-color:#ffff40;padding-left:0px;padding-right:0px\"></mark></b>70000aaa\n",
              "</pre></td></tr>\n",
              "<tr><td><div class=\"errado\"/></td><td style=\"text-align:left;\"><b><mark style=\"background-color:#ffff40;padding-left:0px;padding-right:0px\"></mark></b>aaa70000</pre></td></tr></table>"
            ],
            "text/plain": [
              "<IPython.core.display.HTML object>"
            ]
          },
          "metadata": {
            "tags": []
          }
        }
      ]
    },
    {
      "cell_type": "markdown",
      "metadata": {
        "azdata_cell_guid": "2461a0a2-24fc-4df5-8be8-e60b4c8cd46b",
        "id": "YmxyYoIitNpF"
      },
      "source": [
        "Uma linha contendo exatamente um telefone no formato (xx)xxxx-xxxx."
      ]
    },
    {
      "cell_type": "code",
      "metadata": {
        "azdata_cell_guid": "945c6146-7d03-4e71-af38-bd20e43739ee",
        "id": "KjJ2DDTNtNpG",
        "outputId": "d2d59ac4-dd7e-4600-dcaf-c2c7ece44fb8"
      },
      "source": [
        "exercicio(21, r'')"
      ],
      "execution_count": null,
      "outputs": [
        {
          "output_type": "display_data",
          "data": {
            "text/html": [
              "<style>.certo {background-image: url('data:image/png;base64,iVBORw0KGgoAAAANSUhEUgAAABAAAAAQCAYAAAAf8/9hAAAABHNCSVQICAgIfAhkiAAAAAlwSFlzAAALEwAACxMBAJqcGAAAAgBJREFUOI2lkz1oU1EUx3/nvpcmNqWlNIoKFkFsXKrSOCkoDi6iVOwgCEWLiyBaTKuLdhP8ACkoig5iqoM4SDGDq2uLxUHFptWhHQTF1gzlNc27ufc6tHk0NMTBs917zu9/vu6F/zSpd7lvcnC/VeqUCF1Y61Aya8WOf8k8+NRQIDOVTYXGjImnjtdN51y+omXg68HRPxsEMlPZlHaVj4i3o1HJ1rk5iSd6Pu+9UwRQVceK1m/+BQMokZ2USq+jM0DPxFDGi/mHG4EnWjM0q/hq2Z461v3hanckEOrycCN4oP0o2S0nub31LLLWtQv1UCTglPRUg5MqHmWqwv0dR6hYw6v59zhc1XUAwAcQZxMALSrBvW39WGe5/vMlZ9oORfBIYYwJNYesjc06NkUCzthFoDNuPFpJsL25g1znJVJ+Wy3sRzNHtF2IWjAr5h3AIgGXC0/4UVog5behbYWb0zkmvFoYwJZ0PhIgKI1WgrJBoNiiuVJ4ynzwi5HpF0z684hXC+ulsl4uh49g3UNK5y/caNqcvCUxDxy4pTIkYxtgFxrC38HwTO+z+zUCOKQrf/5xrD150WtuqrtOE4SY4vLDQu/zQWR1HRs+U3r8XJ943l2VbNolvkIQrDboQH8TY67Nns69XR9f9zfikD3j/budeGlx4sS6mem+3Pdq1vX2FyOryD82RGIbAAAAAElFTkSuQmCC'); background-size: cover; height: 16px; width: 16px}.errado {background-image: url('data:image/png;base64,iVBORw0KGgoAAAANSUhEUgAAABAAAAAQCAYAAAAf8/9hAAAABHNCSVQICAgIfAhkiAAAAAlwSFlzAAALEwAACxMBAJqcGAAAAjNJREFUOI2lk01IVFEYhp9zznUcnUnH/Bk3WhCVFEFZbiwUAxeZlCJFWERBgZsIqRatWhuRi0BtFS1bSGQYlBLISD8EgbWwv0VFxlijThOpd+6ce1o49zrh4KZ3+XHe53u/j+/Af0rkK35ra9ythOgwmG0gDYIPUnC/+uHkm3UBM+3NFZC5KxFt+cCuNiNa67O1T17MrwHMtDdX4DqvpZQ160XOGPPZRdRvGp1cAJA+PeMMe2ZRXrl21mzNEmKzMPqeV5cAXw4f2GtZsgmAso2o60PIjhOr5s5uVN8glEQAKJCq9evRpl0AFkDGsS8HAoUrEecSzN8ZJNrTC1JiDFhdJ4kP3CCSXEDJlamdJfsScMYCcJH1XjdLSkITj/mhLKrOXwBg9nY/G2LjKKVWUxn2+QkMBHPnLVQKK1QMxgAQKQ4hc8wArqTIB2jXnQNqffqR4wSPnSY+1A9AdU8vGcvCjA77gLR2Ez5gydGPIkH2ALilEaxDncQHbxKOjQEQBypPnUPHxpGpXwD8yaRHIHsHYw115TWl4dnSYFC5xvBTKMq0QyAb29aapApQZTRCQMpOO9/TdlXLxFRSArS+ejeXWLSv2VojhSCK65u9nURZMS9rTWJx+WrLxFTST5BdpIjt3zEQDYV7SgIB8imVTpP4vXSr8fnbiwLMPwBPTxt3dhUp1RcuKNjipUhrTWrZ/mijrxx8Nv0g933e32hAxBrqtrpKbTcCI1z3ffPL6U9e11z9Bai+yG1sATfvAAAAAElFTkSuQmCC'); background-size: cover; height: 16px; width: 16px}</style><table><tr><td><div class=\"errado\"/></td><td style=\"text-align:left;\"><b><mark style=\"background-color:#ffff40;padding-left:0px;padding-right:0px\"></mark></b>(61)3316-0000\n",
              "</pre></td></tr><tr><td><div class=\"errado\"/></td><td style=\"text-align:left;\"><b><mark style=\"background-color:#ffff40;padding-left:0px;padding-right:0px\"></mark></b>3316-0000\n",
              "</pre></td></tr>\n",
              "<tr><td><div class=\"errado\"/></td><td style=\"text-align:left;\"><b><mark style=\"background-color:#ffff40;padding-left:0px;padding-right:0px\"></mark></b>x61x3316x0000\n",
              "</pre></td></tr>\n",
              "<tr><td><div class=\"errado\"/></td><td style=\"text-align:left;\"><b><mark style=\"background-color:#ffff40;padding-left:0px;padding-right:0px\"></mark></b>(61)3316x0000\n",
              "</pre></td></tr>\n",
              "<tr><td><div class=\"errado\"/></td><td style=\"text-align:left;\"><b><mark style=\"background-color:#ffff40;padding-left:0px;padding-right:0px\"></mark></b>((61)3316-00006\n",
              "</pre></td></tr>\n",
              "<tr><td><div class=\"errado\"/></td><td style=\"text-align:left;\"><b><mark style=\"background-color:#ffff40;padding-left:0px;padding-right:0px\"></mark></b>77(61)3316x000077\n",
              "</pre></td></tr>\n",
              "<tr><td><div class=\"errado\"/></td><td style=\"text-align:left;\"><b><mark style=\"background-color:#ffff40;padding-left:0px;padding-right:0px\"></mark></b>(77)(61)3316-00007</pre></td></tr></table>"
            ],
            "text/plain": [
              "<IPython.core.display.HTML object>"
            ]
          },
          "metadata": {
            "tags": []
          }
        }
      ]
    },
    {
      "cell_type": "markdown",
      "metadata": {
        "azdata_cell_guid": "4e611973-d21b-40d9-aabb-b2a30f797144",
        "id": "UeYGOfh7tNpG"
      },
      "source": [
        "Uma linha contendo exatamente um telefone no formato (xx)xxxx-xxxx ou xxxx-xxxx (sem DDD)."
      ]
    },
    {
      "cell_type": "code",
      "metadata": {
        "azdata_cell_guid": "2573e1d5-0ae9-476a-8418-6e51c8aa24e6",
        "id": "QMqsb3lPtNpG",
        "outputId": "3c34fc03-f40a-4238-e123-20151413a8f8"
      },
      "source": [
        "exercicio(22, r'')"
      ],
      "execution_count": null,
      "outputs": [
        {
          "output_type": "display_data",
          "data": {
            "text/html": [
              "<style>.certo {background-image: url('data:image/png;base64,iVBORw0KGgoAAAANSUhEUgAAABAAAAAQCAYAAAAf8/9hAAAABHNCSVQICAgIfAhkiAAAAAlwSFlzAAALEwAACxMBAJqcGAAAAgBJREFUOI2lkz1oU1EUx3/nvpcmNqWlNIoKFkFsXKrSOCkoDi6iVOwgCEWLiyBaTKuLdhP8ACkoig5iqoM4SDGDq2uLxUHFptWhHQTF1gzlNc27ufc6tHk0NMTBs917zu9/vu6F/zSpd7lvcnC/VeqUCF1Y61Aya8WOf8k8+NRQIDOVTYXGjImnjtdN51y+omXg68HRPxsEMlPZlHaVj4i3o1HJ1rk5iSd6Pu+9UwRQVceK1m/+BQMokZ2USq+jM0DPxFDGi/mHG4EnWjM0q/hq2Z461v3hanckEOrycCN4oP0o2S0nub31LLLWtQv1UCTglPRUg5MqHmWqwv0dR6hYw6v59zhc1XUAwAcQZxMALSrBvW39WGe5/vMlZ9oORfBIYYwJNYesjc06NkUCzthFoDNuPFpJsL25g1znJVJ+Wy3sRzNHtF2IWjAr5h3AIgGXC0/4UVog5behbYWb0zkmvFoYwJZ0PhIgKI1WgrJBoNiiuVJ4ynzwi5HpF0z684hXC+ulsl4uh49g3UNK5y/caNqcvCUxDxy4pTIkYxtgFxrC38HwTO+z+zUCOKQrf/5xrD150WtuqrtOE4SY4vLDQu/zQWR1HRs+U3r8XJ943l2VbNolvkIQrDboQH8TY67Nns69XR9f9zfikD3j/budeGlx4sS6mem+3Pdq1vX2FyOryD82RGIbAAAAAElFTkSuQmCC'); background-size: cover; height: 16px; width: 16px}.errado {background-image: url('data:image/png;base64,iVBORw0KGgoAAAANSUhEUgAAABAAAAAQCAYAAAAf8/9hAAAABHNCSVQICAgIfAhkiAAAAAlwSFlzAAALEwAACxMBAJqcGAAAAjNJREFUOI2lk01IVFEYhp9zznUcnUnH/Bk3WhCVFEFZbiwUAxeZlCJFWERBgZsIqRatWhuRi0BtFS1bSGQYlBLISD8EgbWwv0VFxlijThOpd+6ce1o49zrh4KZ3+XHe53u/j+/Af0rkK35ra9ythOgwmG0gDYIPUnC/+uHkm3UBM+3NFZC5KxFt+cCuNiNa67O1T17MrwHMtDdX4DqvpZQ160XOGPPZRdRvGp1cAJA+PeMMe2ZRXrl21mzNEmKzMPqeV5cAXw4f2GtZsgmAso2o60PIjhOr5s5uVN8glEQAKJCq9evRpl0AFkDGsS8HAoUrEecSzN8ZJNrTC1JiDFhdJ4kP3CCSXEDJlamdJfsScMYCcJH1XjdLSkITj/mhLKrOXwBg9nY/G2LjKKVWUxn2+QkMBHPnLVQKK1QMxgAQKQ4hc8wArqTIB2jXnQNqffqR4wSPnSY+1A9AdU8vGcvCjA77gLR2Ez5gydGPIkH2ALilEaxDncQHbxKOjQEQBypPnUPHxpGpXwD8yaRHIHsHYw115TWl4dnSYFC5xvBTKMq0QyAb29aapApQZTRCQMpOO9/TdlXLxFRSArS+ejeXWLSv2VojhSCK65u9nURZMS9rTWJx+WrLxFTST5BdpIjt3zEQDYV7SgIB8imVTpP4vXSr8fnbiwLMPwBPTxt3dhUp1RcuKNjipUhrTWrZ/mijrxx8Nv0g933e32hAxBrqtrpKbTcCI1z3ffPL6U9e11z9Bai+yG1sATfvAAAAAElFTkSuQmCC'); background-size: cover; height: 16px; width: 16px}</style><table><tr><td><div class=\"errado\"/></td><td style=\"text-align:left;\"><b><mark style=\"background-color:#ffff40;padding-left:0px;padding-right:0px\"></mark></b>(61)3316-0000\n",
              "</pre></td></tr>\n",
              "<tr><td><div class=\"errado\"/></td><td style=\"text-align:left;\"><b><mark style=\"background-color:#ffff40;padding-left:0px;padding-right:0px\"></mark></b>3316-0000\n",
              "</pre></td></tr><tr><td><div class=\"errado\"/></td><td style=\"text-align:left;\"><b><mark style=\"background-color:#ffff40;padding-left:0px;padding-right:0px\"></mark></b>x61x3316x0000\n",
              "</pre></td></tr>\n",
              "<tr><td><div class=\"errado\"/></td><td style=\"text-align:left;\"><b><mark style=\"background-color:#ffff40;padding-left:0px;padding-right:0px\"></mark></b>(61)3316x0000\n",
              "</pre></td></tr>\n",
              "<tr><td><div class=\"errado\"/></td><td style=\"text-align:left;\"><b><mark style=\"background-color:#ffff40;padding-left:0px;padding-right:0px\"></mark></b>((61)3316-00006\n",
              "</pre></td></tr>\n",
              "<tr><td><div class=\"errado\"/></td><td style=\"text-align:left;\"><b><mark style=\"background-color:#ffff40;padding-left:0px;padding-right:0px\"></mark></b>77(61)3316x000077\n",
              "</pre></td></tr>\n",
              "<tr><td><div class=\"errado\"/></td><td style=\"text-align:left;\"><b><mark style=\"background-color:#ffff40;padding-left:0px;padding-right:0px\"></mark></b>(77)(61)3316-00007</pre></td></tr></table>"
            ],
            "text/plain": [
              "<IPython.core.display.HTML object>"
            ]
          },
          "metadata": {
            "tags": []
          }
        }
      ]
    },
    {
      "cell_type": "markdown",
      "metadata": {
        "id": "s38Zh8I4t7UM"
      },
      "source": [
        "# JSON\n",
        "\n",
        "Usando a API do Banco Central, descrita em https://www.bcb.gov.br/conteudo/dadosabertos/BCBDepin/gnastportal-dados-abertostaxas-de-cambio---todos-os-boletins-diarios.pdf, escreva uma função que apresente ao usuário as moedas disponíveis para cotação, peça a ele que escolha uma ou mais, peça que o usuário escolha uma data inicial e uma data final, obtenha as cotações para as moedas selecionadas no período, armazene num dataframe e ao final salve o dataframe no disco usando o Pickle."
      ]
    },
    {
      "cell_type": "markdown",
      "metadata": {
        "id": "pxYd-2uq9LUv"
      },
      "source": [
        "# HTML, JSON e REGEX\n",
        "\n",
        "Crie um extrator de contratos a partir da seção 3 do Diário Oficial da União, obtendo as informações da página (link e texto) e por meio de expressões regulares extraia o nome do contratante, CNPJ e nome do contratado. Coloque o resultado num dataframe e salve em disco com o Pickle."
      ]
    }
  ]
}