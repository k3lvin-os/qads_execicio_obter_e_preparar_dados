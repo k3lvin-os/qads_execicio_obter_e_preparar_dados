{
  "nbformat": 4,
  "nbformat_minor": 0,
  "metadata": {
    "kernelspec": {
      "name": "python3",
      "display_name": "Python 3"
    },
    "language_info": {
      "name": "python",
      "version": "3.6.6",
      "mimetype": "text/x-python",
      "codemirror_mode": {
        "name": "ipython",
        "version": 3
      },
      "pygments_lexer": "ipython3",
      "nbconvert_exporter": "python",
      "file_extension": ".py"
    },
    "colab": {
      "name": "QADS Obtendo e Preparando de Dados - exercícios.ipynb",
      "provenance": []
    }
  },
  "cells": [
    {
      "cell_type": "markdown",
      "metadata": {
        "azdata_cell_guid": "f1681fb2-a9a5-4082-8ec0-323114bdfb17",
        "id": "cikvwonftNot"
      },
      "source": [
        "![](https://www.qads.com.br/img/QADS.png)\n",
        "\n",
        "#  Exercícios do módulo de Obtenção e Preparação de Dados\n",
        "\n",
        "Remis Balaniuk, PhD"
      ]
    },
    {
      "cell_type": "markdown",
      "metadata": {
        "azdata_cell_guid": "aedefbba-8a02-4bdb-af5f-e4179b490167",
        "id": "1aEGijL6sF0Z"
      },
      "source": [
        "# Flat files\n",
        "\n",
        "Obtenha os dados abertos das [viagens realizadas a serviço no Portal daTransparência](!http://www.portaltransparencia.gov.br/download-de-dados/viagens), processe as colunas normalizando atributos textuais e convertendo os demais para os tipos corretos e ao final salve o(s) dataframe(s) em disco usando o Pickle."
      ]
    },
    {
      "cell_type": "markdown",
      "metadata": {
        "azdata_cell_guid": "c3af58d0-fc30-4f61-95fb-5adcb826746e",
        "id": "W944tXGutNox"
      },
      "source": [
        "# Expressões regulares\n",
        "\n",
        "Escreva as expressões regulares solicitadas. Cada exercício possui um conjunto de testes que deve ser completamente validado pela expressão regular. Cada teste possui registros onde expera-se um *match* da expressão regular, enquanto outros registros não devem apresentar nenhum *match*. Faça o exercício para que todos os registros do teste fiquem com a marca de correto (em verde). Para os exercícios, não utilize expressões regulares com mais de 80 caracteres.\n",
        "\n"
      ]
    },
    {
      "cell_type": "markdown",
      "metadata": {
        "id": "YpuAgDHU3aOU"
      },
      "source": [
        "Para esse exercício você precisará baixar o arquivo zipado \"exerciciosRegex\" disponibilizado na pasta QADS em (https://drive.google.com/drive/folders/1sUeC2VYx93ZXi3tKCJarUTVvq_7C2ECI?usp=sharing), descompactar esse arquivo e copiar todo o conteúdo em uma pasta do seu Google drive (contém um diretório chamado \"exercicios\" e um arquivo chamado re_jupyter.py). Em seguida você deve montar seu Google Drive aqui no Colab e acessar a pasta onde copiou esse conteúdo ."
      ]
    },
    {
      "cell_type": "code",
      "metadata": {
        "colab": {
          "base_uri": "https://localhost:8080/"
        },
        "id": "mg4YE6jT23RA",
        "outputId": "76394c7b-2f0c-481e-ca29-7973633df9d5"
      },
      "source": [
        "from google.colab import drive\n",
        "drive.mount('/content/drive')"
      ],
      "execution_count": 2,
      "outputs": [
        {
          "output_type": "stream",
          "text": [
            "Mounted at /content/drive\n"
          ],
          "name": "stdout"
        }
      ]
    },
    {
      "cell_type": "code",
      "metadata": {
        "colab": {
          "base_uri": "https://localhost:8080/"
        },
        "id": "sELj0UKy3J-M",
        "outputId": "d393843b-6aa7-4078-efae-dc0f3516dba5"
      },
      "source": [
        "%cd /content/drive/MyDrive/'Academia QADS'/'Obtendo e Preparando dados'/exerciciosRegex/"
      ],
      "execution_count": 3,
      "outputs": [
        {
          "output_type": "stream",
          "text": [
            "/content/drive/MyDrive/Academia QADS/Obtendo e Preparando dados/exerciciosRegex\n"
          ],
          "name": "stdout"
        }
      ]
    },
    {
      "cell_type": "code",
      "metadata": {
        "colab": {
          "base_uri": "https://localhost:8080/"
        },
        "id": "81creo-n6Sjo",
        "outputId": "e8fa46e2-ce0a-439d-d8ff-d577ffb5b3ca"
      },
      "source": [
        "%ls"
      ],
      "execution_count": 4,
      "outputs": [
        {
          "output_type": "stream",
          "text": [
            "\u001b[0m\u001b[01;34mexercicios\u001b[0m/  \u001b[01;34m__pycache__\u001b[0m/  re_jupyter.py\n"
          ],
          "name": "stdout"
        }
      ]
    },
    {
      "cell_type": "code",
      "metadata": {
        "azdata_cell_guid": "62a07945-3b1c-49f6-858f-fadea69a1de1",
        "id": "46yzP36ptNoz"
      },
      "source": [
        "import imp\n",
        "import re_jupyter\n",
        "imp.reload(re_jupyter)\n",
        "\n",
        "from re_jupyter import exercicio"
      ],
      "execution_count": 5,
      "outputs": []
    },
    {
      "cell_type": "markdown",
      "metadata": {
        "azdata_cell_guid": "962cae2c-8e07-4d92-8bcd-4e20a6c5f87a",
        "id": "xzhgHcBKtNo0"
      },
      "source": [
        "Uma letra `a` imediatamente seguida por uma ou mais letras `b`"
      ]
    },
    {
      "cell_type": "code",
      "metadata": {
        "scrolled": false,
        "azdata_cell_guid": "80721b75-4967-4676-a9f5-592f65e869d4",
        "id": "P7QVttcRtNo1",
        "colab": {
          "base_uri": "https://localhost:8080/",
          "height": 271
        },
        "outputId": "4da4a5e3-7370-469d-8a3a-4908e04b219c"
      },
      "source": [
        "exercicio(1, r'(ab+)')"
      ],
      "execution_count": 6,
      "outputs": [
        {
          "output_type": "display_data",
          "data": {
            "text/html": [
              "<style>.certo {background-image: url('data:image/png;base64,iVBORw0KGgoAAAANSUhEUgAAABAAAAAQCAYAAAAf8/9hAAAABHNCSVQICAgIfAhkiAAAAAlwSFlzAAALEwAACxMBAJqcGAAAAgBJREFUOI2lkz1oU1EUx3/nvpcmNqWlNIoKFkFsXKrSOCkoDi6iVOwgCEWLiyBaTKuLdhP8ACkoig5iqoM4SDGDq2uLxUHFptWhHQTF1gzlNc27ufc6tHk0NMTBs917zu9/vu6F/zSpd7lvcnC/VeqUCF1Y61Aya8WOf8k8+NRQIDOVTYXGjImnjtdN51y+omXg68HRPxsEMlPZlHaVj4i3o1HJ1rk5iSd6Pu+9UwRQVceK1m/+BQMokZ2USq+jM0DPxFDGi/mHG4EnWjM0q/hq2Z461v3hanckEOrycCN4oP0o2S0nub31LLLWtQv1UCTglPRUg5MqHmWqwv0dR6hYw6v59zhc1XUAwAcQZxMALSrBvW39WGe5/vMlZ9oORfBIYYwJNYesjc06NkUCzthFoDNuPFpJsL25g1znJVJ+Wy3sRzNHtF2IWjAr5h3AIgGXC0/4UVog5behbYWb0zkmvFoYwJZ0PhIgKI1WgrJBoNiiuVJ4ynzwi5HpF0z684hXC+ulsl4uh49g3UNK5y/caNqcvCUxDxy4pTIkYxtgFxrC38HwTO+z+zUCOKQrf/5xrD150WtuqrtOE4SY4vLDQu/zQWR1HRs+U3r8XJ943l2VbNolvkIQrDboQH8TY67Nns69XR9f9zfikD3j/budeGlx4sS6mem+3Pdq1vX2FyOryD82RGIbAAAAAElFTkSuQmCC'); background-size: cover; height: 16px; width: 16px}.errado {background-image: url('data:image/png;base64,iVBORw0KGgoAAAANSUhEUgAAABAAAAAQCAYAAAAf8/9hAAAABHNCSVQICAgIfAhkiAAAAAlwSFlzAAALEwAACxMBAJqcGAAAAjNJREFUOI2lk01IVFEYhp9zznUcnUnH/Bk3WhCVFEFZbiwUAxeZlCJFWERBgZsIqRatWhuRi0BtFS1bSGQYlBLISD8EgbWwv0VFxlijThOpd+6ce1o49zrh4KZ3+XHe53u/j+/Af0rkK35ra9ythOgwmG0gDYIPUnC/+uHkm3UBM+3NFZC5KxFt+cCuNiNa67O1T17MrwHMtDdX4DqvpZQ160XOGPPZRdRvGp1cAJA+PeMMe2ZRXrl21mzNEmKzMPqeV5cAXw4f2GtZsgmAso2o60PIjhOr5s5uVN8glEQAKJCq9evRpl0AFkDGsS8HAoUrEecSzN8ZJNrTC1JiDFhdJ4kP3CCSXEDJlamdJfsScMYCcJH1XjdLSkITj/mhLKrOXwBg9nY/G2LjKKVWUxn2+QkMBHPnLVQKK1QMxgAQKQ4hc8wArqTIB2jXnQNqffqR4wSPnSY+1A9AdU8vGcvCjA77gLR2Ez5gydGPIkH2ALilEaxDncQHbxKOjQEQBypPnUPHxpGpXwD8yaRHIHsHYw115TWl4dnSYFC5xvBTKMq0QyAb29aapApQZTRCQMpOO9/TdlXLxFRSArS+ejeXWLSv2VojhSCK65u9nURZMS9rTWJx+WrLxFTST5BdpIjt3zEQDYV7SgIB8imVTpP4vXSr8fnbiwLMPwBPTxt3dhUp1RcuKNjipUhrTWrZ/mijrxx8Nv0g933e32hAxBrqtrpKbTcCI1z3ffPL6U9e11z9Bai+yG1sATfvAAAAAElFTkSuQmCC'); background-size: cover; height: 16px; width: 16px}</style><table><tr><td><div class=\"certo\"/></td><td style=\"text-align:left;\"><b><mark style=\"background-color:#ffff40;padding-left:0px;padding-right:0px\">ab</mark></b>\n",
              "</pre></td></tr>\n",
              "<tr><td><div class=\"certo\"/></td><td style=\"text-align:left;\"><b><mark style=\"background-color:#ffff40;padding-left:0px;padding-right:0px\">abb</mark></b>\n",
              "</pre></td></tr>\n",
              "<tr><td><div class=\"certo\"/></td><td style=\"text-align:left;\"><b><mark style=\"background-color:#ffff40;padding-left:0px;padding-right:0px\">abbbbbbbbb</mark></b>\n",
              "</pre></td></tr>\n",
              "<tr><td><div class=\"certo\"/></td><td style=\"text-align:left;\">cbaa<b><mark style=\"background-color:#ffff40;padding-left:0px;padding-right:0px\">abb</mark></b>\n",
              "</pre></td></tr>\n",
              "<tr><td><div class=\"certo\"/></td><td style=\"text-align:left;\"><b><mark style=\"background-color:#ffff40;padding-left:0px;padding-right:0px\">ab</mark></b>a\n",
              "</pre></td></tr><tr><td><div class=\"certo\"/></td><td style=\"text-align:left;\"><div style=\"color:#808080\">a\n",
              "&#9;(sem ocorrências)</div></td></tr>\n",
              "<tr><td><div class=\"certo\"/></td><td style=\"text-align:left;\"><div style=\"color:#808080\">baa\n",
              "&#9;(sem ocorrências)</div></td></tr>\n",
              "<tr><td><div class=\"certo\"/></td><td style=\"text-align:left;\"><div style=\"color:#808080\">ba\n",
              "&#9;(sem ocorrências)</div></td></tr>\n",
              "<tr><td><div class=\"certo\"/></td><td style=\"text-align:left;\"><div style=\"color:#808080\">cba\n",
              "&#9;(sem ocorrências)</div></td></tr>\n",
              "<tr><td><div class=\"certo\"/></td><td style=\"text-align:left;\"><div style=\"color:#808080\">cbaaa\n",
              "&#9;(sem ocorrências)</div></td></tr>\n",
              "<tr><td><div class=\"certo\"/></td><td style=\"text-align:left;\"><div style=\"color:#808080\">ba\n",
              "&#9;(sem ocorrências)</div></td></tr>\n",
              "<tr><td><div class=\"certo\"/></td><td style=\"text-align:left;\"><div style=\"color:#808080\">baa\n",
              "&#9;(sem ocorrências)</div></td></tr></table>"
            ],
            "text/plain": [
              "<IPython.core.display.HTML object>"
            ]
          },
          "metadata": {
            "tags": []
          }
        }
      ]
    },
    {
      "cell_type": "markdown",
      "metadata": {
        "azdata_cell_guid": "8204861f-77af-4f39-a0e3-570bf2adc45a",
        "id": "AYAOP402tNo3"
      },
      "source": [
        "Uma palavra de 6 letras que inicia com a letra `z`"
      ]
    },
    {
      "cell_type": "code",
      "metadata": {
        "azdata_cell_guid": "a1bff8fb-b4bb-4482-9245-726ef89dad7f",
        "id": "GCvOMKTxtNo4",
        "colab": {
          "base_uri": "https://localhost:8080/",
          "height": 376
        },
        "outputId": "64f7e6ce-453a-4736-ac1d-635ca7ae71a1"
      },
      "source": [
        "exercicio(2, r'\\bz\\w{5}\\b')"
      ],
      "execution_count": 7,
      "outputs": [
        {
          "output_type": "display_data",
          "data": {
            "text/html": [
              "<style>.certo {background-image: url('data:image/png;base64,iVBORw0KGgoAAAANSUhEUgAAABAAAAAQCAYAAAAf8/9hAAAABHNCSVQICAgIfAhkiAAAAAlwSFlzAAALEwAACxMBAJqcGAAAAgBJREFUOI2lkz1oU1EUx3/nvpcmNqWlNIoKFkFsXKrSOCkoDi6iVOwgCEWLiyBaTKuLdhP8ACkoig5iqoM4SDGDq2uLxUHFptWhHQTF1gzlNc27ufc6tHk0NMTBs917zu9/vu6F/zSpd7lvcnC/VeqUCF1Y61Aya8WOf8k8+NRQIDOVTYXGjImnjtdN51y+omXg68HRPxsEMlPZlHaVj4i3o1HJ1rk5iSd6Pu+9UwRQVceK1m/+BQMokZ2USq+jM0DPxFDGi/mHG4EnWjM0q/hq2Z461v3hanckEOrycCN4oP0o2S0nub31LLLWtQv1UCTglPRUg5MqHmWqwv0dR6hYw6v59zhc1XUAwAcQZxMALSrBvW39WGe5/vMlZ9oORfBIYYwJNYesjc06NkUCzthFoDNuPFpJsL25g1znJVJ+Wy3sRzNHtF2IWjAr5h3AIgGXC0/4UVog5behbYWb0zkmvFoYwJZ0PhIgKI1WgrJBoNiiuVJ4ynzwi5HpF0z684hXC+ulsl4uh49g3UNK5y/caNqcvCUxDxy4pTIkYxtgFxrC38HwTO+z+zUCOKQrf/5xrD150WtuqrtOE4SY4vLDQu/zQWR1HRs+U3r8XJ943l2VbNolvkIQrDboQH8TY67Nns69XR9f9zfikD3j/budeGlx4sS6mem+3Pdq1vX2FyOryD82RGIbAAAAAElFTkSuQmCC'); background-size: cover; height: 16px; width: 16px}.errado {background-image: url('data:image/png;base64,iVBORw0KGgoAAAANSUhEUgAAABAAAAAQCAYAAAAf8/9hAAAABHNCSVQICAgIfAhkiAAAAAlwSFlzAAALEwAACxMBAJqcGAAAAjNJREFUOI2lk01IVFEYhp9zznUcnUnH/Bk3WhCVFEFZbiwUAxeZlCJFWERBgZsIqRatWhuRi0BtFS1bSGQYlBLISD8EgbWwv0VFxlijThOpd+6ce1o49zrh4KZ3+XHe53u/j+/Af0rkK35ra9ythOgwmG0gDYIPUnC/+uHkm3UBM+3NFZC5KxFt+cCuNiNa67O1T17MrwHMtDdX4DqvpZQ160XOGPPZRdRvGp1cAJA+PeMMe2ZRXrl21mzNEmKzMPqeV5cAXw4f2GtZsgmAso2o60PIjhOr5s5uVN8glEQAKJCq9evRpl0AFkDGsS8HAoUrEecSzN8ZJNrTC1JiDFhdJ4kP3CCSXEDJlamdJfsScMYCcJH1XjdLSkITj/mhLKrOXwBg9nY/G2LjKKVWUxn2+QkMBHPnLVQKK1QMxgAQKQ4hc8wArqTIB2jXnQNqffqR4wSPnSY+1A9AdU8vGcvCjA77gLR2Ez5gydGPIkH2ALilEaxDncQHbxKOjQEQBypPnUPHxpGpXwD8yaRHIHsHYw115TWl4dnSYFC5xvBTKMq0QyAb29aapApQZTRCQMpOO9/TdlXLxFRSArS+ejeXWLSv2VojhSCK65u9nURZMS9rTWJx+WrLxFTST5BdpIjt3zEQDYV7SgIB8imVTpP4vXSr8fnbiwLMPwBPTxt3dhUp1RcuKNjipUhrTWrZ/mijrxx8Nv0g933e32hAxBrqtrpKbTcCI1z3ffPL6U9e11z9Bai+yG1sATfvAAAAAElFTkSuQmCC'); background-size: cover; height: 16px; width: 16px}</style><table><tr><td><div class=\"certo\"/></td><td style=\"text-align:left;\"><b><mark style=\"background-color:#ffff40;padding-left:0px;padding-right:0px\">zangas</mark></b>\n",
              "</pre></td></tr>\n",
              "<tr><td><div class=\"certo\"/></td><td style=\"text-align:left;\"><b><mark style=\"background-color:#ffff40;padding-left:0px;padding-right:0px\">zangas</mark></b>&nbsp;espaço\n",
              "</pre></td></tr>\n",
              "<tr><td><div class=\"certo\"/></td><td style=\"text-align:left;\"><b><mark style=\"background-color:#ffff40;padding-left:0px;padding-right:0px\">zéfiro</mark></b>\n",
              "</pre></td></tr>\n",
              "<tr><td><div class=\"certo\"/></td><td style=\"text-align:left;\">segundo&nbsp;<b><mark style=\"background-color:#ffff40;padding-left:0px;padding-right:0px\">zéfiro</mark></b>&nbsp;\n",
              "</pre></td></tr><tr><td><div class=\"certo\"/></td><td style=\"text-align:left;\"><div style=\"color:#808080\">zelo\n",
              "&#9;(sem ocorrências)</div></td></tr>\n",
              "<tr><td><div class=\"certo\"/></td><td style=\"text-align:left;\"><div style=\"color:#808080\">zelos\n",
              "&#9;(sem ocorrências)</div></td></tr>\n",
              "<tr><td><div class=\"certo\"/></td><td style=\"text-align:left;\"><div style=\"color:#808080\">zangada\n",
              "&#9;(sem ocorrências)</div></td></tr>\n",
              "<tr><td><div class=\"certo\"/></td><td style=\"text-align:left;\"><div style=\"color:#808080\">zangados\n",
              "&#9;(sem ocorrências)</div></td></tr>\n",
              "<tr><td><div class=\"certo\"/></td><td style=\"text-align:left;\"><div style=\"color:#808080\">azul\n",
              "&#9;(sem ocorrências)</div></td></tr>\n",
              "<tr><td><div class=\"certo\"/></td><td style=\"text-align:left;\"><div style=\"color:#808080\">aziago\n",
              "&#9;(sem ocorrências)</div></td></tr>\n",
              "<tr><td><div class=\"certo\"/></td><td style=\"text-align:left;\"><div style=\"color:#808080\">azougue\n",
              "&#9;(sem ocorrências)</div></td></tr>\n",
              "<tr><td><div class=\"certo\"/></td><td style=\"text-align:left;\"><div style=\"color:#808080\">faziam\n",
              "&#9;(sem ocorrências)</div></td></tr>\n",
              "<tr><td><div class=\"certo\"/></td><td style=\"text-align:left;\"><div style=\"color:#808080\">fazendas\n",
              "&#9;(sem ocorrências)</div></td></tr>\n",
              "<tr><td><div class=\"certo\"/></td><td style=\"text-align:left;\"><div style=\"color:#808080\">talvez\n",
              "&#9;(sem ocorrências)</div></td></tr>\n",
              "<tr><td><div class=\"certo\"/></td><td style=\"text-align:left;\"><div style=\"color:#808080\">robustez\n",
              "&#9;(sem ocorrências)</div></td></tr>\n",
              "<tr><td><div class=\"certo\"/></td><td style=\"text-align:left;\"><div style=\"color:#808080\">chafariz\n",
              "&#9;(sem ocorrências)</div></td></tr>\n",
              "<tr><td><div class=\"certo\"/></td><td style=\"text-align:left;\"><div style=\"color:#808080\">luz\n",
              "&#9;(sem ocorrências)</div></td></tr></table>"
            ],
            "text/plain": [
              "<IPython.core.display.HTML object>"
            ]
          },
          "metadata": {
            "tags": []
          }
        }
      ]
    },
    {
      "cell_type": "markdown",
      "metadata": {
        "azdata_cell_guid": "435592a8-1eae-4f5a-bcc7-67e76051778b",
        "id": "QXQhZII9tNo5"
      },
      "source": [
        "Uma palavra com 8 a 10 letras que termine com a letra 'z'"
      ]
    },
    {
      "cell_type": "code",
      "metadata": {
        "scrolled": false,
        "azdata_cell_guid": "efca1822-8e30-4d56-bc9f-f8dabab1ed69",
        "id": "VFHka0zBtNo6",
        "colab": {
          "base_uri": "https://localhost:8080/",
          "height": 334
        },
        "outputId": "63ebd13f-f0e8-44c5-e85f-0548eefeebee"
      },
      "source": [
        "exercicio(3, r'\\b\\w{7,9}z\\b')"
      ],
      "execution_count": 8,
      "outputs": [
        {
          "output_type": "display_data",
          "data": {
            "text/html": [
              "<style>.certo {background-image: url('data:image/png;base64,iVBORw0KGgoAAAANSUhEUgAAABAAAAAQCAYAAAAf8/9hAAAABHNCSVQICAgIfAhkiAAAAAlwSFlzAAALEwAACxMBAJqcGAAAAgBJREFUOI2lkz1oU1EUx3/nvpcmNqWlNIoKFkFsXKrSOCkoDi6iVOwgCEWLiyBaTKuLdhP8ACkoig5iqoM4SDGDq2uLxUHFptWhHQTF1gzlNc27ufc6tHk0NMTBs917zu9/vu6F/zSpd7lvcnC/VeqUCF1Y61Aya8WOf8k8+NRQIDOVTYXGjImnjtdN51y+omXg68HRPxsEMlPZlHaVj4i3o1HJ1rk5iSd6Pu+9UwRQVceK1m/+BQMokZ2USq+jM0DPxFDGi/mHG4EnWjM0q/hq2Z461v3hanckEOrycCN4oP0o2S0nub31LLLWtQv1UCTglPRUg5MqHmWqwv0dR6hYw6v59zhc1XUAwAcQZxMALSrBvW39WGe5/vMlZ9oORfBIYYwJNYesjc06NkUCzthFoDNuPFpJsL25g1znJVJ+Wy3sRzNHtF2IWjAr5h3AIgGXC0/4UVog5behbYWb0zkmvFoYwJZ0PhIgKI1WgrJBoNiiuVJ4ynzwi5HpF0z684hXC+ulsl4uh49g3UNK5y/caNqcvCUxDxy4pTIkYxtgFxrC38HwTO+z+zUCOKQrf/5xrD150WtuqrtOE4SY4vLDQu/zQWR1HRs+U3r8XJ943l2VbNolvkIQrDboQH8TY67Nns69XR9f9zfikD3j/budeGlx4sS6mem+3Pdq1vX2FyOryD82RGIbAAAAAElFTkSuQmCC'); background-size: cover; height: 16px; width: 16px}.errado {background-image: url('data:image/png;base64,iVBORw0KGgoAAAANSUhEUgAAABAAAAAQCAYAAAAf8/9hAAAABHNCSVQICAgIfAhkiAAAAAlwSFlzAAALEwAACxMBAJqcGAAAAjNJREFUOI2lk01IVFEYhp9zznUcnUnH/Bk3WhCVFEFZbiwUAxeZlCJFWERBgZsIqRatWhuRi0BtFS1bSGQYlBLISD8EgbWwv0VFxlijThOpd+6ce1o49zrh4KZ3+XHe53u/j+/Af0rkK35ra9ythOgwmG0gDYIPUnC/+uHkm3UBM+3NFZC5KxFt+cCuNiNa67O1T17MrwHMtDdX4DqvpZQ160XOGPPZRdRvGp1cAJA+PeMMe2ZRXrl21mzNEmKzMPqeV5cAXw4f2GtZsgmAso2o60PIjhOr5s5uVN8glEQAKJCq9evRpl0AFkDGsS8HAoUrEecSzN8ZJNrTC1JiDFhdJ4kP3CCSXEDJlamdJfsScMYCcJH1XjdLSkITj/mhLKrOXwBg9nY/G2LjKKVWUxn2+QkMBHPnLVQKK1QMxgAQKQ4hc8wArqTIB2jXnQNqffqR4wSPnSY+1A9AdU8vGcvCjA77gLR2Ez5gydGPIkH2ALilEaxDncQHbxKOjQEQBypPnUPHxpGpXwD8yaRHIHsHYw115TWl4dnSYFC5xvBTKMq0QyAb29aapApQZTRCQMpOO9/TdlXLxFRSArS+ejeXWLSv2VojhSCK65u9nURZMS9rTWJx+WrLxFTST5BdpIjt3zEQDYV7SgIB8imVTpP4vXSr8fnbiwLMPwBPTxt3dhUp1RcuKNjipUhrTWrZ/mijrxx8Nv0g933e32hAxBrqtrpKbTcCI1z3ffPL6U9e11z9Bai+yG1sATfvAAAAAElFTkSuQmCC'); background-size: cover; height: 16px; width: 16px}</style><table><tr><td><div class=\"certo\"/></td><td style=\"text-align:left;\"><b><mark style=\"background-color:#ffff40;padding-left:0px;padding-right:0px\">robustez</mark></b>\n",
              "</pre></td></tr>\n",
              "<tr><td><div class=\"certo\"/></td><td style=\"text-align:left;\">espaço&nbsp;<b><mark style=\"background-color:#ffff40;padding-left:0px;padding-right:0px\">robustez</mark></b>\n",
              "</pre></td></tr>\n",
              "<tr><td><div class=\"certo\"/></td><td style=\"text-align:left;\"><b><mark style=\"background-color:#ffff40;padding-left:0px;padding-right:0px\">chafariz</mark></b>\n",
              "</pre></td></tr>\n",
              "<tr><td><div class=\"certo\"/></td><td style=\"text-align:left;\">antes&nbsp;<b><mark style=\"background-color:#ffff40;padding-left:0px;padding-right:0px\">chafariz</mark></b>&nbsp;depois\n",
              "</pre></td></tr>\n",
              "<tr><td><div class=\"certo\"/></td><td style=\"text-align:left;\"><b><mark style=\"background-color:#ffff40;padding-left:0px;padding-right:0px\">vetustez</mark></b>\n",
              "</pre></td></tr>\n",
              "<tr><td><div class=\"certo\"/></td><td style=\"text-align:left;\"><b><mark style=\"background-color:#ffff40;padding-left:0px;padding-right:0px\">placidez</mark></b>\n",
              "</pre></td></tr>\n",
              "<tr><td><div class=\"certo\"/></td><td style=\"text-align:left;\"><b><mark style=\"background-color:#ffff40;padding-left:0px;padding-right:0px\">insensatez</mark></b>\n",
              "</pre></td></tr>\n",
              "<tr><td><div class=\"certo\"/></td><td style=\"text-align:left;\"><b><mark style=\"background-color:#ffff40;padding-left:0px;padding-right:0px\">gravidez</mark></b>\n",
              "</pre></td></tr>\n",
              "<tr><td><div class=\"certo\"/></td><td style=\"text-align:left;\"><b><mark style=\"background-color:#ffff40;padding-left:0px;padding-right:0px\">invalidez</mark></b>\n",
              "</pre></td></tr><tr><td><div class=\"certo\"/></td><td style=\"text-align:left;\"><div style=\"color:#808080\">luz\n",
              "&#9;(sem ocorrências)</div></td></tr>\n",
              "<tr><td><div class=\"certo\"/></td><td style=\"text-align:left;\"><div style=\"color:#808080\">talvez\n",
              "&#9;(sem ocorrências)</div></td></tr>\n",
              "<tr><td><div class=\"certo\"/></td><td style=\"text-align:left;\"><div style=\"color:#808080\">antestalvezjunto\n",
              "&#9;(sem ocorrências)</div></td></tr>\n",
              "<tr><td><div class=\"certo\"/></td><td style=\"text-align:left;\"><div style=\"color:#808080\">robustezjunto\n",
              "&#9;(sem ocorrências)</div></td></tr>\n",
              "<tr><td><div class=\"certo\"/></td><td style=\"text-align:left;\"><div style=\"color:#808080\">antesrobustez\n",
              "&#9;(sem ocorrências)</div></td></tr>\n",
              "<tr><td><div class=\"certo\"/></td><td style=\"text-align:left;\"><div style=\"color:#808080\">antesrobustezjunto\n",
              "&#9;(sem ocorrências)</div></td></tr></table>"
            ],
            "text/plain": [
              "<IPython.core.display.HTML object>"
            ]
          },
          "metadata": {
            "tags": []
          }
        }
      ]
    },
    {
      "cell_type": "markdown",
      "metadata": {
        "azdata_cell_guid": "e7491b58-ce32-4ab6-8d3b-efd997b64d16",
        "id": "WCwhJqb5tNo8"
      },
      "source": [
        "3 dígitos consecutivos"
      ]
    },
    {
      "cell_type": "code",
      "metadata": {
        "azdata_cell_guid": "9392b7b3-1cce-4e79-8591-25d53f5fcf90",
        "id": "TOf0S1N8tNo9",
        "colab": {
          "base_uri": "https://localhost:8080/",
          "height": 313
        },
        "outputId": "0c876071-8760-41ec-c6aa-432892f2e71f"
      },
      "source": [
        "exercicio(4, r'\\d{3}')"
      ],
      "execution_count": 9,
      "outputs": [
        {
          "output_type": "display_data",
          "data": {
            "text/html": [
              "<style>.certo {background-image: url('data:image/png;base64,iVBORw0KGgoAAAANSUhEUgAAABAAAAAQCAYAAAAf8/9hAAAABHNCSVQICAgIfAhkiAAAAAlwSFlzAAALEwAACxMBAJqcGAAAAgBJREFUOI2lkz1oU1EUx3/nvpcmNqWlNIoKFkFsXKrSOCkoDi6iVOwgCEWLiyBaTKuLdhP8ACkoig5iqoM4SDGDq2uLxUHFptWhHQTF1gzlNc27ufc6tHk0NMTBs917zu9/vu6F/zSpd7lvcnC/VeqUCF1Y61Aya8WOf8k8+NRQIDOVTYXGjImnjtdN51y+omXg68HRPxsEMlPZlHaVj4i3o1HJ1rk5iSd6Pu+9UwRQVceK1m/+BQMokZ2USq+jM0DPxFDGi/mHG4EnWjM0q/hq2Z461v3hanckEOrycCN4oP0o2S0nub31LLLWtQv1UCTglPRUg5MqHmWqwv0dR6hYw6v59zhc1XUAwAcQZxMALSrBvW39WGe5/vMlZ9oORfBIYYwJNYesjc06NkUCzthFoDNuPFpJsL25g1znJVJ+Wy3sRzNHtF2IWjAr5h3AIgGXC0/4UVog5behbYWb0zkmvFoYwJZ0PhIgKI1WgrJBoNiiuVJ4ynzwi5HpF0z684hXC+ulsl4uh49g3UNK5y/caNqcvCUxDxy4pTIkYxtgFxrC38HwTO+z+zUCOKQrf/5xrD150WtuqrtOE4SY4vLDQu/zQWR1HRs+U3r8XJ943l2VbNolvkIQrDboQH8TY67Nns69XR9f9zfikD3j/budeGlx4sS6mem+3Pdq1vX2FyOryD82RGIbAAAAAElFTkSuQmCC'); background-size: cover; height: 16px; width: 16px}.errado {background-image: url('data:image/png;base64,iVBORw0KGgoAAAANSUhEUgAAABAAAAAQCAYAAAAf8/9hAAAABHNCSVQICAgIfAhkiAAAAAlwSFlzAAALEwAACxMBAJqcGAAAAjNJREFUOI2lk01IVFEYhp9zznUcnUnH/Bk3WhCVFEFZbiwUAxeZlCJFWERBgZsIqRatWhuRi0BtFS1bSGQYlBLISD8EgbWwv0VFxlijThOpd+6ce1o49zrh4KZ3+XHe53u/j+/Af0rkK35ra9ythOgwmG0gDYIPUnC/+uHkm3UBM+3NFZC5KxFt+cCuNiNa67O1T17MrwHMtDdX4DqvpZQ160XOGPPZRdRvGp1cAJA+PeMMe2ZRXrl21mzNEmKzMPqeV5cAXw4f2GtZsgmAso2o60PIjhOr5s5uVN8glEQAKJCq9evRpl0AFkDGsS8HAoUrEecSzN8ZJNrTC1JiDFhdJ4kP3CCSXEDJlamdJfsScMYCcJH1XjdLSkITj/mhLKrOXwBg9nY/G2LjKKVWUxn2+QkMBHPnLVQKK1QMxgAQKQ4hc8wArqTIB2jXnQNqffqR4wSPnSY+1A9AdU8vGcvCjA77gLR2Ez5gydGPIkH2ALilEaxDncQHbxKOjQEQBypPnUPHxpGpXwD8yaRHIHsHYw115TWl4dnSYFC5xvBTKMq0QyAb29aapApQZTRCQMpOO9/TdlXLxFRSArS+ejeXWLSv2VojhSCK65u9nURZMS9rTWJx+WrLxFTST5BdpIjt3zEQDYV7SgIB8imVTpP4vXSr8fnbiwLMPwBPTxt3dhUp1RcuKNjipUhrTWrZ/mijrxx8Nv0g933e32hAxBrqtrpKbTcCI1z3ffPL6U9e11z9Bai+yG1sATfvAAAAAElFTkSuQmCC'); background-size: cover; height: 16px; width: 16px}</style><table><tr><td><div class=\"certo\"/></td><td style=\"text-align:left;\"><b><mark style=\"background-color:#ffff40;padding-left:0px;padding-right:0px\">040</mark></b>&nbsp;inicia&nbsp;com&nbsp;zero\n",
              "</pre></td></tr>\n",
              "<tr><td><div class=\"certo\"/></td><td style=\"text-align:left;\"><b><mark style=\"background-color:#ffff40;padding-left:0px;padding-right:0px\">056</mark></b>&nbsp;de&nbsp;novo\n",
              "</pre></td></tr>\n",
              "<tr><td><div class=\"certo\"/></td><td style=\"text-align:left;\"><b><mark style=\"background-color:#ffff40;padding-left:0px;padding-right:0px\">100</mark></b>&nbsp;cem\n",
              "</pre></td></tr>\n",
              "<tr><td><div class=\"certo\"/></td><td style=\"text-align:left;\"><b><mark style=\"background-color:#ffff40;padding-left:0px;padding-right:0px\">789</mark></b>&nbsp;789&nbsp;789\n",
              "</pre></td></tr>\n",
              "<tr><td><div class=\"certo\"/></td><td style=\"text-align:left;\"><b><mark style=\"background-color:#ffff40;padding-left:0px;padding-right:0px\">010</mark></b>1&nbsp;binário\n",
              "</pre></td></tr>\n",
              "<tr><td><div class=\"certo\"/></td><td style=\"text-align:left;\"><b><mark style=\"background-color:#ffff40;padding-left:0px;padding-right:0px\">000</mark></b>x&nbsp;termina&nbsp;em&nbsp;x\n",
              "</pre></td></tr>\n",
              "<tr><td><div class=\"certo\"/></td><td style=\"text-align:left;\">ano&nbsp;de&nbsp;<b><mark style=\"background-color:#ffff40;padding-left:0px;padding-right:0px\">198</mark></b>4\n",
              "</pre></td></tr>\n",
              "<tr><td><div class=\"certo\"/></td><td style=\"text-align:left;\">data&nbsp;01/01/<b><mark style=\"background-color:#ffff40;padding-left:0px;padding-right:0px\">201</mark></b>8\n",
              "</pre></td></tr><tr><td><div class=\"certo\"/></td><td style=\"text-align:left;\"><div style=\"color:#808080\">zero&nbsp;0\n",
              "&#9;(sem ocorrências)</div></td></tr>\n",
              "<tr><td><div class=\"certo\"/></td><td style=\"text-align:left;\"><div style=\"color:#808080\">dígito&nbsp;1\n",
              "&#9;(sem ocorrências)</div></td></tr>\n",
              "<tr><td><div class=\"certo\"/></td><td style=\"text-align:left;\"><div style=\"color:#808080\">vinte&nbsp;20\n",
              "&#9;(sem ocorrências)</div></td></tr>\n",
              "<tr><td><div class=\"certo\"/></td><td style=\"text-align:left;\"><div style=\"color:#808080\">inicia&nbsp;com&nbsp;zero&nbsp;03\n",
              "&#9;(sem ocorrências)</div></td></tr>\n",
              "<tr><td><div class=\"certo\"/></td><td style=\"text-align:left;\"><div style=\"color:#808080\">03&nbsp;também&nbsp;tem&nbsp;zero\n",
              "&#9;(sem ocorrências)</div></td></tr>\n",
              "<tr><td><div class=\"certo\"/></td><td style=\"text-align:left;\"><div style=\"color:#808080\">sem&nbsp;dígitos\n",
              "&#9;(sem ocorrências)</div></td></tr></table>"
            ],
            "text/plain": [
              "<IPython.core.display.HTML object>"
            ]
          },
          "metadata": {
            "tags": []
          }
        }
      ]
    },
    {
      "cell_type": "markdown",
      "metadata": {
        "azdata_cell_guid": "ba65471c-37ad-47ce-9a9e-9a450484c255",
        "id": "HDHt7Rj2tNo9"
      },
      "source": [
        "Um número inteiro com 2, 3 ou 4 dígitos, sendo que o primeiro dígito não pode ser zero"
      ]
    },
    {
      "cell_type": "code",
      "metadata": {
        "azdata_cell_guid": "eba2a1e4-d3c0-426f-829b-63083efa1f30",
        "id": "i6If-wq-tNo-",
        "colab": {
          "base_uri": "https://localhost:8080/",
          "height": 334
        },
        "outputId": "b7e7ee21-e680-4982-8253-1c10dd125609"
      },
      "source": [
        "exercicio(5, r'\\b[1-9]\\d{1,3}\\b')"
      ],
      "execution_count": 120,
      "outputs": [
        {
          "output_type": "display_data",
          "data": {
            "text/html": [
              "<style>.certo {background-image: url('data:image/png;base64,iVBORw0KGgoAAAANSUhEUgAAABAAAAAQCAYAAAAf8/9hAAAABHNCSVQICAgIfAhkiAAAAAlwSFlzAAALEwAACxMBAJqcGAAAAgBJREFUOI2lkz1oU1EUx3/nvpcmNqWlNIoKFkFsXKrSOCkoDi6iVOwgCEWLiyBaTKuLdhP8ACkoig5iqoM4SDGDq2uLxUHFptWhHQTF1gzlNc27ufc6tHk0NMTBs917zu9/vu6F/zSpd7lvcnC/VeqUCF1Y61Aya8WOf8k8+NRQIDOVTYXGjImnjtdN51y+omXg68HRPxsEMlPZlHaVj4i3o1HJ1rk5iSd6Pu+9UwRQVceK1m/+BQMokZ2USq+jM0DPxFDGi/mHG4EnWjM0q/hq2Z461v3hanckEOrycCN4oP0o2S0nub31LLLWtQv1UCTglPRUg5MqHmWqwv0dR6hYw6v59zhc1XUAwAcQZxMALSrBvW39WGe5/vMlZ9oORfBIYYwJNYesjc06NkUCzthFoDNuPFpJsL25g1znJVJ+Wy3sRzNHtF2IWjAr5h3AIgGXC0/4UVog5behbYWb0zkmvFoYwJZ0PhIgKI1WgrJBoNiiuVJ4ynzwi5HpF0z684hXC+ulsl4uh49g3UNK5y/caNqcvCUxDxy4pTIkYxtgFxrC38HwTO+z+zUCOKQrf/5xrD150WtuqrtOE4SY4vLDQu/zQWR1HRs+U3r8XJ943l2VbNolvkIQrDboQH8TY67Nns69XR9f9zfikD3j/budeGlx4sS6mem+3Pdq1vX2FyOryD82RGIbAAAAAElFTkSuQmCC'); background-size: cover; height: 16px; width: 16px}.errado {background-image: url('data:image/png;base64,iVBORw0KGgoAAAANSUhEUgAAABAAAAAQCAYAAAAf8/9hAAAABHNCSVQICAgIfAhkiAAAAAlwSFlzAAALEwAACxMBAJqcGAAAAjNJREFUOI2lk01IVFEYhp9zznUcnUnH/Bk3WhCVFEFZbiwUAxeZlCJFWERBgZsIqRatWhuRi0BtFS1bSGQYlBLISD8EgbWwv0VFxlijThOpd+6ce1o49zrh4KZ3+XHe53u/j+/Af0rkK35ra9ythOgwmG0gDYIPUnC/+uHkm3UBM+3NFZC5KxFt+cCuNiNa67O1T17MrwHMtDdX4DqvpZQ160XOGPPZRdRvGp1cAJA+PeMMe2ZRXrl21mzNEmKzMPqeV5cAXw4f2GtZsgmAso2o60PIjhOr5s5uVN8glEQAKJCq9evRpl0AFkDGsS8HAoUrEecSzN8ZJNrTC1JiDFhdJ4kP3CCSXEDJlamdJfsScMYCcJH1XjdLSkITj/mhLKrOXwBg9nY/G2LjKKVWUxn2+QkMBHPnLVQKK1QMxgAQKQ4hc8wArqTIB2jXnQNqffqR4wSPnSY+1A9AdU8vGcvCjA77gLR2Ez5gydGPIkH2ALilEaxDncQHbxKOjQEQBypPnUPHxpGpXwD8yaRHIHsHYw115TWl4dnSYFC5xvBTKMq0QyAb29aapApQZTRCQMpOO9/TdlXLxFRSArS+ejeXWLSv2VojhSCK65u9nURZMS9rTWJx+WrLxFTST5BdpIjt3zEQDYV7SgIB8imVTpP4vXSr8fnbiwLMPwBPTxt3dhUp1RcuKNjipUhrTWrZ/mijrxx8Nv0g933e32hAxBrqtrpKbTcCI1z3ffPL6U9e11z9Bai+yG1sATfvAAAAAElFTkSuQmCC'); background-size: cover; height: 16px; width: 16px}</style><table><tr><td><div class=\"certo\"/></td><td style=\"text-align:left;\">vinte&nbsp;<b><mark style=\"background-color:#ffff40;padding-left:0px;padding-right:0px\">20</mark></b>\n",
              "</pre></td></tr>\n",
              "<tr><td><div class=\"certo\"/></td><td style=\"text-align:left;\"><b><mark style=\"background-color:#ffff40;padding-left:0px;padding-right:0px\">100</mark></b>&nbsp;cem\n",
              "</pre></td></tr>\n",
              "<tr><td><div class=\"certo\"/></td><td style=\"text-align:left;\"><b><mark style=\"background-color:#ffff40;padding-left:0px;padding-right:0px\">789</mark></b>&nbsp;789&nbsp;789\n",
              "</pre></td></tr>\n",
              "<tr><td><div class=\"certo\"/></td><td style=\"text-align:left;\">ano&nbsp;de&nbsp;<b><mark style=\"background-color:#ffff40;padding-left:0px;padding-right:0px\">1984</mark></b>\n",
              "</pre></td></tr>\n",
              "<tr><td><div class=\"certo\"/></td><td style=\"text-align:left;\">data&nbsp;01/01/<b><mark style=\"background-color:#ffff40;padding-left:0px;padding-right:0px\">2018</mark></b>\n",
              "</pre></td></tr><tr><td><div class=\"certo\"/></td><td style=\"text-align:left;\"><div style=\"color:#808080\">zero&nbsp;0\n",
              "&#9;(sem ocorrências)</div></td></tr>\n",
              "<tr><td><div class=\"certo\"/></td><td style=\"text-align:left;\"><div style=\"color:#808080\">dígito&nbsp;1\n",
              "&#9;(sem ocorrências)</div></td></tr>\n",
              "<tr><td><div class=\"certo\"/></td><td style=\"text-align:left;\"><div style=\"color:#808080\">inicia&nbsp;com&nbsp;zero&nbsp;03\n",
              "&#9;(sem ocorrências)</div></td></tr>\n",
              "<tr><td><div class=\"certo\"/></td><td style=\"text-align:left;\"><div style=\"color:#808080\">03&nbsp;também&nbsp;tem&nbsp;zero\n",
              "&#9;(sem ocorrências)</div></td></tr>\n",
              "<tr><td><div class=\"certo\"/></td><td style=\"text-align:left;\"><div style=\"color:#808080\">040&nbsp;inicia&nbsp;com&nbsp;zero\n",
              "&#9;(sem ocorrências)</div></td></tr>\n",
              "<tr><td><div class=\"certo\"/></td><td style=\"text-align:left;\"><div style=\"color:#808080\">056&nbsp;de&nbsp;novo\n",
              "&#9;(sem ocorrências)</div></td></tr>\n",
              "<tr><td><div class=\"certo\"/></td><td style=\"text-align:left;\"><div style=\"color:#808080\">0101&nbsp;binário\n",
              "&#9;(sem ocorrências)</div></td></tr>\n",
              "<tr><td><div class=\"certo\"/></td><td style=\"text-align:left;\"><div style=\"color:#808080\">000x&nbsp;termina&nbsp;em&nbsp;x\n",
              "&#9;(sem ocorrências)</div></td></tr>\n",
              "<tr><td><div class=\"certo\"/></td><td style=\"text-align:left;\"><div style=\"color:#808080\">isso&nbsp;não&nbsp;é&nbsp;um&nbsp;número&nbsp;válido&nbsp;1000abc\n",
              "&#9;(sem ocorrências)</div></td></tr>\n",
              "<tr><td><div class=\"certo\"/></td><td style=\"text-align:left;\"><div style=\"color:#808080\">y1000&nbsp;isso&nbsp;também&nbsp;não&nbsp;é&nbsp;um&nbsp;número&nbsp;válido\n",
              "&#9;(sem ocorrências)</div></td></tr></table>"
            ],
            "text/plain": [
              "<IPython.core.display.HTML object>"
            ]
          },
          "metadata": {
            "tags": []
          }
        }
      ]
    },
    {
      "cell_type": "markdown",
      "metadata": {
        "azdata_cell_guid": "488b7d49-fd37-4e2a-a8f9-c6284e9699fa",
        "id": "s2a1M17etNo-"
      },
      "source": [
        "Uma palavra que inicie com um dígito e termine com um letra"
      ]
    },
    {
      "cell_type": "code",
      "metadata": {
        "azdata_cell_guid": "d1ca60b6-8917-40ad-8119-6136f01385fb",
        "id": "zckPX48qtNo_",
        "colab": {
          "base_uri": "https://localhost:8080/",
          "height": 250
        },
        "outputId": "077ac542-0ebb-41db-d02d-1f0a2abc3945"
      },
      "source": [
        "exercicio(6, r'\\d+.*?\\w')"
      ],
      "execution_count": 204,
      "outputs": [
        {
          "output_type": "display_data",
          "data": {
            "text/html": [
              "<style>.certo {background-image: url('data:image/png;base64,iVBORw0KGgoAAAANSUhEUgAAABAAAAAQCAYAAAAf8/9hAAAABHNCSVQICAgIfAhkiAAAAAlwSFlzAAALEwAACxMBAJqcGAAAAgBJREFUOI2lkz1oU1EUx3/nvpcmNqWlNIoKFkFsXKrSOCkoDi6iVOwgCEWLiyBaTKuLdhP8ACkoig5iqoM4SDGDq2uLxUHFptWhHQTF1gzlNc27ufc6tHk0NMTBs917zu9/vu6F/zSpd7lvcnC/VeqUCF1Y61Aya8WOf8k8+NRQIDOVTYXGjImnjtdN51y+omXg68HRPxsEMlPZlHaVj4i3o1HJ1rk5iSd6Pu+9UwRQVceK1m/+BQMokZ2USq+jM0DPxFDGi/mHG4EnWjM0q/hq2Z461v3hanckEOrycCN4oP0o2S0nub31LLLWtQv1UCTglPRUg5MqHmWqwv0dR6hYw6v59zhc1XUAwAcQZxMALSrBvW39WGe5/vMlZ9oORfBIYYwJNYesjc06NkUCzthFoDNuPFpJsL25g1znJVJ+Wy3sRzNHtF2IWjAr5h3AIgGXC0/4UVog5behbYWb0zkmvFoYwJZ0PhIgKI1WgrJBoNiiuVJ4ynzwi5HpF0z684hXC+ulsl4uh49g3UNK5y/caNqcvCUxDxy4pTIkYxtgFxrC38HwTO+z+zUCOKQrf/5xrD150WtuqrtOE4SY4vLDQu/zQWR1HRs+U3r8XJ943l2VbNolvkIQrDboQH8TY67Nns69XR9f9zfikD3j/budeGlx4sS6mem+3Pdq1vX2FyOryD82RGIbAAAAAElFTkSuQmCC'); background-size: cover; height: 16px; width: 16px}.errado {background-image: url('data:image/png;base64,iVBORw0KGgoAAAANSUhEUgAAABAAAAAQCAYAAAAf8/9hAAAABHNCSVQICAgIfAhkiAAAAAlwSFlzAAALEwAACxMBAJqcGAAAAjNJREFUOI2lk01IVFEYhp9zznUcnUnH/Bk3WhCVFEFZbiwUAxeZlCJFWERBgZsIqRatWhuRi0BtFS1bSGQYlBLISD8EgbWwv0VFxlijThOpd+6ce1o49zrh4KZ3+XHe53u/j+/Af0rkK35ra9ythOgwmG0gDYIPUnC/+uHkm3UBM+3NFZC5KxFt+cCuNiNa67O1T17MrwHMtDdX4DqvpZQ160XOGPPZRdRvGp1cAJA+PeMMe2ZRXrl21mzNEmKzMPqeV5cAXw4f2GtZsgmAso2o60PIjhOr5s5uVN8glEQAKJCq9evRpl0AFkDGsS8HAoUrEecSzN8ZJNrTC1JiDFhdJ4kP3CCSXEDJlamdJfsScMYCcJH1XjdLSkITj/mhLKrOXwBg9nY/G2LjKKVWUxn2+QkMBHPnLVQKK1QMxgAQKQ4hc8wArqTIB2jXnQNqffqR4wSPnSY+1A9AdU8vGcvCjA77gLR2Ez5gydGPIkH2ALilEaxDncQHbxKOjQEQBypPnUPHxpGpXwD8yaRHIHsHYw115TWl4dnSYFC5xvBTKMq0QyAb29aapApQZTRCQMpOO9/TdlXLxFRSArS+ejeXWLSv2VojhSCK65u9nURZMS9rTWJx+WrLxFTST5BdpIjt3zEQDYV7SgIB8imVTpP4vXSr8fnbiwLMPwBPTxt3dhUp1RcuKNjipUhrTWrZ/mijrxx8Nv0g933e32hAxBrqtrpKbTcCI1z3ffPL6U9e11z9Bai+yG1sATfvAAAAAElFTkSuQmCC'); background-size: cover; height: 16px; width: 16px}</style><table><tr><td><div class=\"certo\"/></td><td style=\"text-align:left;\">parágrafo&nbsp;<b><mark style=\"background-color:#ffff40;padding-left:0px;padding-right:0px\">11b</mark></b>\n",
              "</pre></td></tr>\n",
              "<tr><td><div class=\"certo\"/></td><td style=\"text-align:left;\"><b><mark style=\"background-color:#ffff40;padding-left:0px;padding-right:0px\">1111111b</mark></b>\n",
              "</pre></td></tr>\n",
              "<tr><td><div class=\"errado\"/></td><td style=\"text-align:left;\"><b><mark style=\"background-color:#ffff40;padding-left:0px;padding-right:0px\">1b</mark></b>bbbbbb\n",
              "</pre></td></tr>\n",
              "<tr><td><div class=\"errado\"/></td><td style=\"text-align:left;\"><b><mark style=\"background-color:#ffff40;padding-left:0px;padding-right:0px\">1b</mark></b>1b1b1b\n",
              "</pre></td></tr><tr><td><div class=\"errado\"/></td><td style=\"text-align:left;\">teste&nbsp;<b><mark style=\"background-color:#ffff40;padding-left:0px;padding-right:0px\">1a</mark></b>\n",
              "</pre></td></tr>\n",
              "<tr><td><div class=\"errado\"/></td><td style=\"text-align:left;\">dígitos&nbsp;<b><mark style=\"background-color:#ffff40;padding-left:0px;padding-right:0px\">113&nbsp;t</mark></b>otal\n",
              "</pre></td></tr>\n",
              "<tr><td><div class=\"errado\"/></td><td style=\"text-align:left;\">soma&nbsp;quando&nbsp;<b><mark style=\"background-color:#ffff40;padding-left:0px;padding-right:0px\">3a</mark></b>\n",
              "</pre></td></tr>\n",
              "<tr><td><div class=\"errado\"/></td><td style=\"text-align:left;\">bb<b><mark style=\"background-color:#ffff40;padding-left:0px;padding-right:0px\">1b</mark></b>bbbb11b\n",
              "</pre></td></tr>\n",
              "<tr><td><div class=\"errado\"/></td><td style=\"text-align:left;\">b<b><mark style=\"background-color:#ffff40;padding-left:0px;padding-right:0px\">1b</mark></b>1b1b1\n",
              "</pre></td></tr>\n",
              "<tr><td><div class=\"errado\"/></td><td style=\"text-align:left;\"><b><mark style=\"background-color:#ffff40;padding-left:0px;padding-right:0px\">111</mark></b>\n",
              "</pre></td></tr>\n",
              "<tr><td><div class=\"errado\"/></td><td style=\"text-align:left;\"><b><mark style=\"background-color:#ffff40;padding-left:0px;padding-right:0px\">1a</mark></b>1\n",
              "</pre></td></tr></table>"
            ],
            "text/plain": [
              "<IPython.core.display.HTML object>"
            ]
          },
          "metadata": {
            "tags": []
          }
        }
      ]
    },
    {
      "cell_type": "markdown",
      "metadata": {
        "azdata_cell_guid": "d17783a3-2e7a-46cc-a0e3-5f270dc357ac",
        "id": "RsPzCKYstNo_"
      },
      "source": [
        "Uma palavra seguida de um espaço seguido de um sequência de um ou mais dígitos"
      ]
    },
    {
      "cell_type": "code",
      "metadata": {
        "azdata_cell_guid": "6c0119f2-2859-481c-b9ab-90f99c4239f0",
        "id": "VvDPJofttNo_",
        "colab": {
          "base_uri": "https://localhost:8080/",
          "height": 166
        },
        "outputId": "ad7ead75-2d00-41ef-ea13-bda57d6626e0"
      },
      "source": [
        "exercicio(7, r'\\w+\\s\\d+')"
      ],
      "execution_count": 12,
      "outputs": [
        {
          "output_type": "display_data",
          "data": {
            "text/html": [
              "<style>.certo {background-image: url('data:image/png;base64,iVBORw0KGgoAAAANSUhEUgAAABAAAAAQCAYAAAAf8/9hAAAABHNCSVQICAgIfAhkiAAAAAlwSFlzAAALEwAACxMBAJqcGAAAAgBJREFUOI2lkz1oU1EUx3/nvpcmNqWlNIoKFkFsXKrSOCkoDi6iVOwgCEWLiyBaTKuLdhP8ACkoig5iqoM4SDGDq2uLxUHFptWhHQTF1gzlNc27ufc6tHk0NMTBs917zu9/vu6F/zSpd7lvcnC/VeqUCF1Y61Aya8WOf8k8+NRQIDOVTYXGjImnjtdN51y+omXg68HRPxsEMlPZlHaVj4i3o1HJ1rk5iSd6Pu+9UwRQVceK1m/+BQMokZ2USq+jM0DPxFDGi/mHG4EnWjM0q/hq2Z461v3hanckEOrycCN4oP0o2S0nub31LLLWtQv1UCTglPRUg5MqHmWqwv0dR6hYw6v59zhc1XUAwAcQZxMALSrBvW39WGe5/vMlZ9oORfBIYYwJNYesjc06NkUCzthFoDNuPFpJsL25g1znJVJ+Wy3sRzNHtF2IWjAr5h3AIgGXC0/4UVog5behbYWb0zkmvFoYwJZ0PhIgKI1WgrJBoNiiuVJ4ynzwi5HpF0z684hXC+ulsl4uh49g3UNK5y/caNqcvCUxDxy4pTIkYxtgFxrC38HwTO+z+zUCOKQrf/5xrD150WtuqrtOE4SY4vLDQu/zQWR1HRs+U3r8XJ943l2VbNolvkIQrDboQH8TY67Nns69XR9f9zfikD3j/budeGlx4sS6mem+3Pdq1vX2FyOryD82RGIbAAAAAElFTkSuQmCC'); background-size: cover; height: 16px; width: 16px}.errado {background-image: url('data:image/png;base64,iVBORw0KGgoAAAANSUhEUgAAABAAAAAQCAYAAAAf8/9hAAAABHNCSVQICAgIfAhkiAAAAAlwSFlzAAALEwAACxMBAJqcGAAAAjNJREFUOI2lk01IVFEYhp9zznUcnUnH/Bk3WhCVFEFZbiwUAxeZlCJFWERBgZsIqRatWhuRi0BtFS1bSGQYlBLISD8EgbWwv0VFxlijThOpd+6ce1o49zrh4KZ3+XHe53u/j+/Af0rkK35ra9ythOgwmG0gDYIPUnC/+uHkm3UBM+3NFZC5KxFt+cCuNiNa67O1T17MrwHMtDdX4DqvpZQ160XOGPPZRdRvGp1cAJA+PeMMe2ZRXrl21mzNEmKzMPqeV5cAXw4f2GtZsgmAso2o60PIjhOr5s5uVN8glEQAKJCq9evRpl0AFkDGsS8HAoUrEecSzN8ZJNrTC1JiDFhdJ4kP3CCSXEDJlamdJfsScMYCcJH1XjdLSkITj/mhLKrOXwBg9nY/G2LjKKVWUxn2+QkMBHPnLVQKK1QMxgAQKQ4hc8wArqTIB2jXnQNqffqR4wSPnSY+1A9AdU8vGcvCjA77gLR2Ez5gydGPIkH2ALilEaxDncQHbxKOjQEQBypPnUPHxpGpXwD8yaRHIHsHYw115TWl4dnSYFC5xvBTKMq0QyAb29aapApQZTRCQMpOO9/TdlXLxFRSArS+ejeXWLSv2VojhSCK65u9nURZMS9rTWJx+WrLxFTST5BdpIjt3zEQDYV7SgIB8imVTpP4vXSr8fnbiwLMPwBPTxt3dhUp1RcuKNjipUhrTWrZ/mijrxx8Nv0g933e32hAxBrqtrpKbTcCI1z3ffPL6U9e11z9Bai+yG1sATfvAAAAAElFTkSuQmCC'); background-size: cover; height: 16px; width: 16px}</style><table><tr><td><div class=\"certo\"/></td><td style=\"text-align:left;\"><b><mark style=\"background-color:#ffff40;padding-left:0px;padding-right:0px\">teste&nbsp;1234</mark></b>\n",
              "</pre></td></tr>\n",
              "<tr><td><div class=\"certo\"/></td><td style=\"text-align:left;\"><b><mark style=\"background-color:#ffff40;padding-left:0px;padding-right:0px\">parágrafo&nbsp;12345</mark></b>\n",
              "</pre></td></tr>\n",
              "<tr><td><div class=\"certo\"/></td><td style=\"text-align:left;\"><b><mark style=\"background-color:#ffff40;padding-left:0px;padding-right:0px\">letra&nbsp;1</mark></b>\n",
              "</pre></td></tr>\n",
              "<tr><td><div class=\"certo\"/></td><td style=\"text-align:left;\">a&nbsp;<b><mark style=\"background-color:#ffff40;padding-left:0px;padding-right:0px\">b&nbsp;1</mark></b>&nbsp;c\n",
              "</pre></td></tr>\n",
              "<tr><td><div class=\"certo\"/></td><td style=\"text-align:left;\"><b><mark style=\"background-color:#ffff40;padding-left:0px;padding-right:0px\">cc&nbsp;11</mark></b>&nbsp;a\n",
              "</pre></td></tr>\n",
              "<tr><td><div class=\"certo\"/></td><td style=\"text-align:left;\"><b><mark style=\"background-color:#ffff40;padding-left:0px;padding-right:0px\">1&nbsp;1</mark></b>\n",
              "</pre></td></tr><tr><td><div class=\"certo\"/></td><td style=\"text-align:left;\"><div style=\"color:#808080\">dois&nbsp;espaços&nbsp;não&nbsp;pode&nbsp;&nbsp;2\n",
              "&#9;(sem ocorrências)</div></td></tr></table>"
            ],
            "text/plain": [
              "<IPython.core.display.HTML object>"
            ]
          },
          "metadata": {
            "tags": []
          }
        }
      ]
    },
    {
      "cell_type": "markdown",
      "metadata": {
        "azdata_cell_guid": "1140f3bf-4518-4752-8ded-db6a7a09cc99",
        "id": "YOs6DR1EtNo_"
      },
      "source": [
        "Um dia da semana: segunda-feira, terça-feira, quarta-feira, quinta-feira, sexta-feira. Adicionalmente, permita a escrita dos dias da semana com espaço no lugar do hífen ou com as palavras unidas (ex.: quartafeira e quinta feira)."
      ]
    },
    {
      "cell_type": "code",
      "metadata": {
        "azdata_cell_guid": "99b42ff2-b7c2-48ac-b515-cf139c17f73a",
        "id": "MgRoc_iTtNpA",
        "colab": {
          "base_uri": "https://localhost:8080/",
          "height": 313
        },
        "outputId": "d41fc0a8-45d2-4b83-9a7e-7f3356742345"
      },
      "source": [
        "exercicio(8, r'segunda[-\\s]?feira|\\bterça[-\\s]?feira|quarta[-\\s]?feira|quinta[-\\s]?feira|^sexta[-\\s]?feira')"
      ],
      "execution_count": 13,
      "outputs": [
        {
          "output_type": "display_data",
          "data": {
            "text/html": [
              "<style>.certo {background-image: url('data:image/png;base64,iVBORw0KGgoAAAANSUhEUgAAABAAAAAQCAYAAAAf8/9hAAAABHNCSVQICAgIfAhkiAAAAAlwSFlzAAALEwAACxMBAJqcGAAAAgBJREFUOI2lkz1oU1EUx3/nvpcmNqWlNIoKFkFsXKrSOCkoDi6iVOwgCEWLiyBaTKuLdhP8ACkoig5iqoM4SDGDq2uLxUHFptWhHQTF1gzlNc27ufc6tHk0NMTBs917zu9/vu6F/zSpd7lvcnC/VeqUCF1Y61Aya8WOf8k8+NRQIDOVTYXGjImnjtdN51y+omXg68HRPxsEMlPZlHaVj4i3o1HJ1rk5iSd6Pu+9UwRQVceK1m/+BQMokZ2USq+jM0DPxFDGi/mHG4EnWjM0q/hq2Z461v3hanckEOrycCN4oP0o2S0nub31LLLWtQv1UCTglPRUg5MqHmWqwv0dR6hYw6v59zhc1XUAwAcQZxMALSrBvW39WGe5/vMlZ9oORfBIYYwJNYesjc06NkUCzthFoDNuPFpJsL25g1znJVJ+Wy3sRzNHtF2IWjAr5h3AIgGXC0/4UVog5behbYWb0zkmvFoYwJZ0PhIgKI1WgrJBoNiiuVJ4ynzwi5HpF0z684hXC+ulsl4uh49g3UNK5y/caNqcvCUxDxy4pTIkYxtgFxrC38HwTO+z+zUCOKQrf/5xrD150WtuqrtOE4SY4vLDQu/zQWR1HRs+U3r8XJ943l2VbNolvkIQrDboQH8TY67Nns69XR9f9zfikD3j/budeGlx4sS6mem+3Pdq1vX2FyOryD82RGIbAAAAAElFTkSuQmCC'); background-size: cover; height: 16px; width: 16px}.errado {background-image: url('data:image/png;base64,iVBORw0KGgoAAAANSUhEUgAAABAAAAAQCAYAAAAf8/9hAAAABHNCSVQICAgIfAhkiAAAAAlwSFlzAAALEwAACxMBAJqcGAAAAjNJREFUOI2lk01IVFEYhp9zznUcnUnH/Bk3WhCVFEFZbiwUAxeZlCJFWERBgZsIqRatWhuRi0BtFS1bSGQYlBLISD8EgbWwv0VFxlijThOpd+6ce1o49zrh4KZ3+XHe53u/j+/Af0rkK35ra9ythOgwmG0gDYIPUnC/+uHkm3UBM+3NFZC5KxFt+cCuNiNa67O1T17MrwHMtDdX4DqvpZQ160XOGPPZRdRvGp1cAJA+PeMMe2ZRXrl21mzNEmKzMPqeV5cAXw4f2GtZsgmAso2o60PIjhOr5s5uVN8glEQAKJCq9evRpl0AFkDGsS8HAoUrEecSzN8ZJNrTC1JiDFhdJ4kP3CCSXEDJlamdJfsScMYCcJH1XjdLSkITj/mhLKrOXwBg9nY/G2LjKKVWUxn2+QkMBHPnLVQKK1QMxgAQKQ4hc8wArqTIB2jXnQNqffqR4wSPnSY+1A9AdU8vGcvCjA77gLR2Ez5gydGPIkH2ALilEaxDncQHbxKOjQEQBypPnUPHxpGpXwD8yaRHIHsHYw115TWl4dnSYFC5xvBTKMq0QyAb29aapApQZTRCQMpOO9/TdlXLxFRSArS+ejeXWLSv2VojhSCK65u9nURZMS9rTWJx+WrLxFTST5BdpIjt3zEQDYV7SgIB8imVTpP4vXSr8fnbiwLMPwBPTxt3dhUp1RcuKNjipUhrTWrZ/mijrxx8Nv0g933e32hAxBrqtrpKbTcCI1z3ffPL6U9e11z9Bai+yG1sATfvAAAAAElFTkSuQmCC'); background-size: cover; height: 16px; width: 16px}</style><table><tr><td><div class=\"certo\"/></td><td style=\"text-align:left;\">hoje&nbsp;é&nbsp;<b><mark style=\"background-color:#ffff40;padding-left:0px;padding-right:0px\">segunda-feira</mark></b>\n",
              "</pre></td></tr>\n",
              "<tr><td><div class=\"certo\"/></td><td style=\"text-align:left;\">amanhã&nbsp;será&nbsp;<b><mark style=\"background-color:#ffff40;padding-left:0px;padding-right:0px\">terça&nbsp;feira</mark></b>\n",
              "</pre></td></tr>\n",
              "<tr><td><div class=\"certo\"/></td><td style=\"text-align:left;\"><b><mark style=\"background-color:#ffff40;padding-left:0px;padding-right:0px\">quartafeira</mark></b>&nbsp;já&nbsp;passou\n",
              "</pre></td></tr>\n",
              "<tr><td><div class=\"certo\"/></td><td style=\"text-align:left;\"><b><mark style=\"background-color:#ffff40;padding-left:0px;padding-right:0px\">quinta-feira</mark></b>&nbsp;foi&nbsp;dia&nbsp;3\n",
              "</pre></td></tr>\n",
              "<tr><td><div class=\"certo\"/></td><td style=\"text-align:left;\"><b><mark style=\"background-color:#ffff40;padding-left:0px;padding-right:0px\">sextafeira</mark></b>&nbsp;\n",
              "</pre></td></tr><tr><td><div class=\"certo\"/></td><td style=\"text-align:left;\"><div style=\"color:#808080\">sábado&nbsp;feriado\n",
              "&#9;(sem ocorrências)</div></td></tr>\n",
              "<tr><td><div class=\"certo\"/></td><td style=\"text-align:left;\"><div style=\"color:#808080\">domingo&nbsp;feriado\n",
              "&#9;(sem ocorrências)</div></td></tr>\n",
              "<tr><td><div class=\"certo\"/></td><td style=\"text-align:left;\"><div style=\"color:#808080\">2a&nbsp;feira&nbsp;internacional\n",
              "&#9;(sem ocorrências)</div></td></tr>\n",
              "<tr><td><div class=\"certo\"/></td><td style=\"text-align:left;\"><div style=\"color:#808080\">sexta_feira\n",
              "&#9;(sem ocorrências)</div></td></tr>\n",
              "<tr><td><div class=\"certo\"/></td><td style=\"text-align:left;\"><div style=\"color:#808080\">quinta.feira\n",
              "&#9;(sem ocorrências)</div></td></tr>\n",
              "<tr><td><div class=\"certo\"/></td><td style=\"text-align:left;\"><div style=\"color:#808080\">domingues\n",
              "&#9;(sem ocorrências)</div></td></tr>\n",
              "<tr><td><div class=\"certo\"/></td><td style=\"text-align:left;\"><div style=\"color:#808080\">asextafeira\n",
              "&#9;(sem ocorrências)</div></td></tr>\n",
              "<tr><td><div class=\"certo\"/></td><td style=\"text-align:left;\"><div style=\"color:#808080\">abterça-feira\n",
              "&#9;(sem ocorrências)</div></td></tr>\n",
              "<tr><td><div class=\"certo\"/></td><td style=\"text-align:left;\"><div style=\"color:#808080\">terças-feiras&nbsp;não&nbsp;vale&nbsp;plural\n",
              "&#9;(sem ocorrências)</div></td></tr></table>"
            ],
            "text/plain": [
              "<IPython.core.display.HTML object>"
            ]
          },
          "metadata": {
            "tags": []
          }
        }
      ]
    },
    {
      "cell_type": "markdown",
      "metadata": {
        "azdata_cell_guid": "52e8e6f2-50de-440e-8723-a963ae97254d",
        "id": "YOPvIVYNtNpA"
      },
      "source": [
        "Uma URL no formato: http://www.&lt;dominio&gt;.com.br/&lt;arquivo&gt;.html. O &lt;arquivo&gt; e o &lt;domínio&gt; somente podem contar letras de a a z (minúscula ou maiúsculas), dígitos e os sinais _ e -."
      ]
    },
    {
      "cell_type": "code",
      "metadata": {
        "azdata_cell_guid": "26b3b1d7-61bb-4712-9763-24390b2a1172",
        "id": "q6ZfiQ5otNpA",
        "colab": {
          "base_uri": "https://localhost:8080/",
          "height": 271
        },
        "outputId": "c8095243-7906-49ab-c2ac-91bafca041d0"
      },
      "source": [
        "exercicio(9, r'http://www\\.[\\w\\d_-]+.com\\.br/[\\w\\d_-]+\\.html')"
      ],
      "execution_count": 14,
      "outputs": [
        {
          "output_type": "display_data",
          "data": {
            "text/html": [
              "<style>.certo {background-image: url('data:image/png;base64,iVBORw0KGgoAAAANSUhEUgAAABAAAAAQCAYAAAAf8/9hAAAABHNCSVQICAgIfAhkiAAAAAlwSFlzAAALEwAACxMBAJqcGAAAAgBJREFUOI2lkz1oU1EUx3/nvpcmNqWlNIoKFkFsXKrSOCkoDi6iVOwgCEWLiyBaTKuLdhP8ACkoig5iqoM4SDGDq2uLxUHFptWhHQTF1gzlNc27ufc6tHk0NMTBs917zu9/vu6F/zSpd7lvcnC/VeqUCF1Y61Aya8WOf8k8+NRQIDOVTYXGjImnjtdN51y+omXg68HRPxsEMlPZlHaVj4i3o1HJ1rk5iSd6Pu+9UwRQVceK1m/+BQMokZ2USq+jM0DPxFDGi/mHG4EnWjM0q/hq2Z461v3hanckEOrycCN4oP0o2S0nub31LLLWtQv1UCTglPRUg5MqHmWqwv0dR6hYw6v59zhc1XUAwAcQZxMALSrBvW39WGe5/vMlZ9oORfBIYYwJNYesjc06NkUCzthFoDNuPFpJsL25g1znJVJ+Wy3sRzNHtF2IWjAr5h3AIgGXC0/4UVog5behbYWb0zkmvFoYwJZ0PhIgKI1WgrJBoNiiuVJ4ynzwi5HpF0z684hXC+ulsl4uh49g3UNK5y/caNqcvCUxDxy4pTIkYxtgFxrC38HwTO+z+zUCOKQrf/5xrD150WtuqrtOE4SY4vLDQu/zQWR1HRs+U3r8XJ943l2VbNolvkIQrDboQH8TY67Nns69XR9f9zfikD3j/budeGlx4sS6mem+3Pdq1vX2FyOryD82RGIbAAAAAElFTkSuQmCC'); background-size: cover; height: 16px; width: 16px}.errado {background-image: url('data:image/png;base64,iVBORw0KGgoAAAANSUhEUgAAABAAAAAQCAYAAAAf8/9hAAAABHNCSVQICAgIfAhkiAAAAAlwSFlzAAALEwAACxMBAJqcGAAAAjNJREFUOI2lk01IVFEYhp9zznUcnUnH/Bk3WhCVFEFZbiwUAxeZlCJFWERBgZsIqRatWhuRi0BtFS1bSGQYlBLISD8EgbWwv0VFxlijThOpd+6ce1o49zrh4KZ3+XHe53u/j+/Af0rkK35ra9ythOgwmG0gDYIPUnC/+uHkm3UBM+3NFZC5KxFt+cCuNiNa67O1T17MrwHMtDdX4DqvpZQ160XOGPPZRdRvGp1cAJA+PeMMe2ZRXrl21mzNEmKzMPqeV5cAXw4f2GtZsgmAso2o60PIjhOr5s5uVN8glEQAKJCq9evRpl0AFkDGsS8HAoUrEecSzN8ZJNrTC1JiDFhdJ4kP3CCSXEDJlamdJfsScMYCcJH1XjdLSkITj/mhLKrOXwBg9nY/G2LjKKVWUxn2+QkMBHPnLVQKK1QMxgAQKQ4hc8wArqTIB2jXnQNqffqR4wSPnSY+1A9AdU8vGcvCjA77gLR2Ez5gydGPIkH2ALilEaxDncQHbxKOjQEQBypPnUPHxpGpXwD8yaRHIHsHYw115TWl4dnSYFC5xvBTKMq0QyAb29aapApQZTRCQMpOO9/TdlXLxFRSArS+ejeXWLSv2VojhSCK65u9nURZMS9rTWJx+WrLxFTST5BdpIjt3zEQDYV7SgIB8imVTpP4vXSr8fnbiwLMPwBPTxt3dhUp1RcuKNjipUhrTWrZ/mijrxx8Nv0g933e32hAxBrqtrpKbTcCI1z3ffPL6U9e11z9Bai+yG1sATfvAAAAAElFTkSuQmCC'); background-size: cover; height: 16px; width: 16px}</style><table><tr><td><div class=\"certo\"/></td><td style=\"text-align:left;\"><b><mark style=\"background-color:#ffff40;padding-left:0px;padding-right:0px\">http://www.google.com.br/index.html</mark></b>\n",
              "</pre></td></tr>\n",
              "<tr><td><div class=\"certo\"/></td><td style=\"text-align:left;\"><b><mark style=\"background-color:#ffff40;padding-left:0px;padding-right:0px\">http://www.terra.com.br/underline_1.html</mark></b>\n",
              "</pre></td></tr>\n",
              "<tr><td><div class=\"certo\"/></td><td style=\"text-align:left;\"><b><mark style=\"background-color:#ffff40;padding-left:0px;padding-right:0px\">http://www.teste-novo.com.br/hiFen-1.html</mark></b>\n",
              "</pre></td></tr><tr><td><div class=\"certo\"/></td><td style=\"text-align:left;\"><div style=\"color:#808080\">http://www.google.com/index.html\n",
              "&#9;(sem ocorrências)</div></td></tr>\n",
              "<tr><td><div class=\"certo\"/></td><td style=\"text-align:left;\"><div style=\"color:#808080\">http://uol.com.br/teste.html\n",
              "&#9;(sem ocorrências)</div></td></tr>\n",
              "<tr><td><div class=\"certo\"/></td><td style=\"text-align:left;\"><div style=\"color:#808080\">http://bol.com.br/nao/podem/existir/barras.html\n",
              "&#9;(sem ocorrências)</div></td></tr>\n",
              "<tr><td><div class=\"certo\"/></td><td style=\"text-align:left;\"><div style=\"color:#808080\">https://www.google.com/https/também/nao/pode.html\n",
              "&#9;(sem ocorrências)</div></td></tr>\n",
              "<tr><td><div class=\"certo\"/></td><td style=\"text-align:left;\"><div style=\"color:#808080\">http://www.teste_velha.com.br/111-html\n",
              "&#9;(sem ocorrências)</div></td></tr>\n",
              "<tr><td><div class=\"certo\"/></td><td style=\"text-align:left;\"><div style=\"color:#808080\">http://www-testevelho.com-br/111.html\n",
              "&#9;(sem ocorrências)</div></td></tr>\n",
              "<tr><td><div class=\"certo\"/></td><td style=\"text-align:left;\"><div style=\"color:#808080\">http://www..com-br/1.html\n",
              "&#9;(sem ocorrências)</div></td></tr>\n",
              "<tr><td><div class=\"certo\"/></td><td style=\"text-align:left;\"><div style=\"color:#808080\">http://www.com-br/2.html\n",
              "&#9;(sem ocorrências)</div></td></tr>\n",
              "<tr><td><div class=\"certo\"/></td><td style=\"text-align:left;\"><div style=\"color:#808080\">http://www...com-br/3.html\n",
              "&#9;(sem ocorrências)</div></td></tr></table>"
            ],
            "text/plain": [
              "<IPython.core.display.HTML object>"
            ]
          },
          "metadata": {
            "tags": []
          }
        }
      ]
    },
    {
      "cell_type": "markdown",
      "metadata": {
        "azdata_cell_guid": "939b1c09-e93c-4fc3-815a-1c18329f6b16",
        "id": "uDR9pqR5tNpB"
      },
      "source": [
        "Duas palavras unidas pelas preposições 'de', 'do', 'da', 'dos' ou 'das'. As palavras somente podem conter letras e elas são separadas por um ou mais espaços."
      ]
    },
    {
      "cell_type": "code",
      "metadata": {
        "azdata_cell_guid": "f7bf3a82-385d-400b-8b21-a937262dd9a1",
        "id": "qVIN3c3WtNpB",
        "colab": {
          "base_uri": "https://localhost:8080/",
          "height": 313
        },
        "outputId": "ab93037b-81e7-4015-f07a-c9cecf599fd0"
      },
      "source": [
        "exercicio(10, r'\\w+\\s+d[eoa]s?\\s+\\w+')"
      ],
      "execution_count": 15,
      "outputs": [
        {
          "output_type": "display_data",
          "data": {
            "text/html": [
              "<style>.certo {background-image: url('data:image/png;base64,iVBORw0KGgoAAAANSUhEUgAAABAAAAAQCAYAAAAf8/9hAAAABHNCSVQICAgIfAhkiAAAAAlwSFlzAAALEwAACxMBAJqcGAAAAgBJREFUOI2lkz1oU1EUx3/nvpcmNqWlNIoKFkFsXKrSOCkoDi6iVOwgCEWLiyBaTKuLdhP8ACkoig5iqoM4SDGDq2uLxUHFptWhHQTF1gzlNc27ufc6tHk0NMTBs917zu9/vu6F/zSpd7lvcnC/VeqUCF1Y61Aya8WOf8k8+NRQIDOVTYXGjImnjtdN51y+omXg68HRPxsEMlPZlHaVj4i3o1HJ1rk5iSd6Pu+9UwRQVceK1m/+BQMokZ2USq+jM0DPxFDGi/mHG4EnWjM0q/hq2Z461v3hanckEOrycCN4oP0o2S0nub31LLLWtQv1UCTglPRUg5MqHmWqwv0dR6hYw6v59zhc1XUAwAcQZxMALSrBvW39WGe5/vMlZ9oORfBIYYwJNYesjc06NkUCzthFoDNuPFpJsL25g1znJVJ+Wy3sRzNHtF2IWjAr5h3AIgGXC0/4UVog5behbYWb0zkmvFoYwJZ0PhIgKI1WgrJBoNiiuVJ4ynzwi5HpF0z684hXC+ulsl4uh49g3UNK5y/caNqcvCUxDxy4pTIkYxtgFxrC38HwTO+z+zUCOKQrf/5xrD150WtuqrtOE4SY4vLDQu/zQWR1HRs+U3r8XJ943l2VbNolvkIQrDboQH8TY67Nns69XR9f9zfikD3j/budeGlx4sS6mem+3Pdq1vX2FyOryD82RGIbAAAAAElFTkSuQmCC'); background-size: cover; height: 16px; width: 16px}.errado {background-image: url('data:image/png;base64,iVBORw0KGgoAAAANSUhEUgAAABAAAAAQCAYAAAAf8/9hAAAABHNCSVQICAgIfAhkiAAAAAlwSFlzAAALEwAACxMBAJqcGAAAAjNJREFUOI2lk01IVFEYhp9zznUcnUnH/Bk3WhCVFEFZbiwUAxeZlCJFWERBgZsIqRatWhuRi0BtFS1bSGQYlBLISD8EgbWwv0VFxlijThOpd+6ce1o49zrh4KZ3+XHe53u/j+/Af0rkK35ra9ythOgwmG0gDYIPUnC/+uHkm3UBM+3NFZC5KxFt+cCuNiNa67O1T17MrwHMtDdX4DqvpZQ160XOGPPZRdRvGp1cAJA+PeMMe2ZRXrl21mzNEmKzMPqeV5cAXw4f2GtZsgmAso2o60PIjhOr5s5uVN8glEQAKJCq9evRpl0AFkDGsS8HAoUrEecSzN8ZJNrTC1JiDFhdJ4kP3CCSXEDJlamdJfsScMYCcJH1XjdLSkITj/mhLKrOXwBg9nY/G2LjKKVWUxn2+QkMBHPnLVQKK1QMxgAQKQ4hc8wArqTIB2jXnQNqffqR4wSPnSY+1A9AdU8vGcvCjA77gLR2Ez5gydGPIkH2ALilEaxDncQHbxKOjQEQBypPnUPHxpGpXwD8yaRHIHsHYw115TWl4dnSYFC5xvBTKMq0QyAb29aapApQZTRCQMpOO9/TdlXLxFRSArS+ejeXWLSv2VojhSCK65u9nURZMS9rTWJx+WrLxFTST5BdpIjt3zEQDYV7SgIB8imVTpP4vXSr8fnbiwLMPwBPTxt3dhUp1RcuKNjipUhrTWrZ/mijrxx8Nv0g933e32hAxBrqtrpKbTcCI1z3ffPL6U9e11z9Bai+yG1sATfvAAAAAElFTkSuQmCC'); background-size: cover; height: 16px; width: 16px}</style><table><tr><td><div class=\"certo\"/></td><td style=\"text-align:left;\"><b><mark style=\"background-color:#ffff40;padding-left:0px;padding-right:0px\">Olhos&nbsp;do&nbsp;mundo</mark></b>,&nbsp;\n",
              "</pre></td></tr>\n",
              "<tr><td><div class=\"certo\"/></td><td style=\"text-align:left;\"><b><mark style=\"background-color:#ffff40;padding-left:0px;padding-right:0px\">zelos&nbsp;do&nbsp;marido</mark></b>,&nbsp;\n",
              "</pre></td></tr>\n",
              "<tr><td><div class=\"certo\"/></td><td style=\"text-align:left;\"><b><mark style=\"background-color:#ffff40;padding-left:0px;padding-right:0px\">morte&nbsp;do&nbsp;Viegas</mark></b>,&nbsp;\n",
              "</pre></td></tr>\n",
              "<tr><td><div class=\"certo\"/></td><td style=\"text-align:left;\">uma&nbsp;<b><mark style=\"background-color:#ffff40;padding-left:0px;padding-right:0px\">vertigem&nbsp;de&nbsp;cabriolas</mark></b>\n",
              "</pre></td></tr>\n",
              "<tr><td><div class=\"certo\"/></td><td style=\"text-align:left;\">&nbsp;<b><mark style=\"background-color:#ffff40;padding-left:0px;padding-right:0px\">descendente&nbsp;do&nbsp;cavalo</mark></b>&nbsp;de&nbsp;Aquiles\n",
              "</pre></td></tr>\n",
              "<tr><td><div class=\"certo\"/></td><td style=\"text-align:left;\">a&nbsp;minha&nbsp;<b><mark style=\"background-color:#ffff40;padding-left:0px;padding-right:0px\">teoria&nbsp;das&nbsp;edições</mark></b>&nbsp;humanas\n",
              "</pre></td></tr>\n",
              "<tr><td><div class=\"certo\"/></td><td style=\"text-align:left;\">me&nbsp;pareceu&nbsp;entrar&nbsp;na&nbsp;<b><mark style=\"background-color:#ffff40;padding-left:0px;padding-right:0px\">região&nbsp;dos&nbsp;gelos</mark></b>&nbsp;eternos\n",
              "</pre></td></tr><tr><td><div class=\"certo\"/></td><td style=\"text-align:left;\"><div style=\"color:#808080\">Esta&nbsp;idéia,&nbsp;\n",
              "&#9;(sem ocorrências)</div></td></tr>\n",
              "<tr><td><div class=\"certo\"/></td><td style=\"text-align:left;\"><div style=\"color:#808080\">rútila&nbsp;e&nbsp;grande,&nbsp;\n",
              "&#9;(sem ocorrências)</div></td></tr>\n",
              "<tr><td><div class=\"certo\"/></td><td style=\"text-align:left;\"><div style=\"color:#808080\">trajada&nbsp;ao&nbsp;bizarro,&nbsp;\n",
              "&#9;(sem ocorrências)</div></td></tr>\n",
              "<tr><td><div class=\"certo\"/></td><td style=\"text-align:left;\"><div style=\"color:#808080\">como&nbsp;diria&nbsp;o&nbsp;Padre&nbsp;Bernardes,\n",
              "&#9;(sem ocorrências)</div></td></tr>\n",
              "<tr><td><div class=\"certo\"/></td><td style=\"text-align:left;\"><div style=\"color:#808080\">e&nbsp;eu&nbsp;deixei-me&nbsp;estar\n",
              "&#9;(sem ocorrências)</div></td></tr>\n",
              "<tr><td><div class=\"certo\"/></td><td style=\"text-align:left;\"><div style=\"color:#808080\">com&nbsp;os&nbsp;olhos&nbsp;nela,\n",
              "&#9;(sem ocorrências)</div></td></tr>\n",
              "<tr><td><div class=\"certo\"/></td><td style=\"text-align:left;\"><div style=\"color:#808080\">a&nbsp;achar-lhe&nbsp;graça.\n",
              "&#9;(sem ocorrências)</div></td></tr></table>"
            ],
            "text/plain": [
              "<IPython.core.display.HTML object>"
            ]
          },
          "metadata": {
            "tags": []
          }
        }
      ]
    },
    {
      "cell_type": "markdown",
      "metadata": {
        "azdata_cell_guid": "9d91b467-9ae3-495f-be18-3eb1c024a061",
        "id": "pwN1ear5tNpB"
      },
      "source": [
        "Uma palavra de no mínimo 3 letras e com TODAS as letras maiúsculas"
      ]
    },
    {
      "cell_type": "code",
      "metadata": {
        "azdata_cell_guid": "904d494f-9347-44f1-8dd1-6e278e57d255",
        "id": "dXKo0QHrtNpC",
        "colab": {
          "base_uri": "https://localhost:8080/",
          "height": 376
        },
        "outputId": "2f11a664-505d-4d02-f830-3902567f9b57"
      },
      "source": [
        "exercicio(11, r'\\b[A-ZÓÉ]{3,}\\b')"
      ],
      "execution_count": 17,
      "outputs": [
        {
          "output_type": "display_data",
          "data": {
            "text/html": [
              "<style>.certo {background-image: url('data:image/png;base64,iVBORw0KGgoAAAANSUhEUgAAABAAAAAQCAYAAAAf8/9hAAAABHNCSVQICAgIfAhkiAAAAAlwSFlzAAALEwAACxMBAJqcGAAAAgBJREFUOI2lkz1oU1EUx3/nvpcmNqWlNIoKFkFsXKrSOCkoDi6iVOwgCEWLiyBaTKuLdhP8ACkoig5iqoM4SDGDq2uLxUHFptWhHQTF1gzlNc27ufc6tHk0NMTBs917zu9/vu6F/zSpd7lvcnC/VeqUCF1Y61Aya8WOf8k8+NRQIDOVTYXGjImnjtdN51y+omXg68HRPxsEMlPZlHaVj4i3o1HJ1rk5iSd6Pu+9UwRQVceK1m/+BQMokZ2USq+jM0DPxFDGi/mHG4EnWjM0q/hq2Z461v3hanckEOrycCN4oP0o2S0nub31LLLWtQv1UCTglPRUg5MqHmWqwv0dR6hYw6v59zhc1XUAwAcQZxMALSrBvW39WGe5/vMlZ9oORfBIYYwJNYesjc06NkUCzthFoDNuPFpJsL25g1znJVJ+Wy3sRzNHtF2IWjAr5h3AIgGXC0/4UVog5behbYWb0zkmvFoYwJZ0PhIgKI1WgrJBoNiiuVJ4ynzwi5HpF0z684hXC+ulsl4uh49g3UNK5y/caNqcvCUxDxy4pTIkYxtgFxrC38HwTO+z+zUCOKQrf/5xrD150WtuqrtOE4SY4vLDQu/zQWR1HRs+U3r8XJ943l2VbNolvkIQrDboQH8TY67Nns69XR9f9zfikD3j/budeGlx4sS6mem+3Pdq1vX2FyOryD82RGIbAAAAAElFTkSuQmCC'); background-size: cover; height: 16px; width: 16px}.errado {background-image: url('data:image/png;base64,iVBORw0KGgoAAAANSUhEUgAAABAAAAAQCAYAAAAf8/9hAAAABHNCSVQICAgIfAhkiAAAAAlwSFlzAAALEwAACxMBAJqcGAAAAjNJREFUOI2lk01IVFEYhp9zznUcnUnH/Bk3WhCVFEFZbiwUAxeZlCJFWERBgZsIqRatWhuRi0BtFS1bSGQYlBLISD8EgbWwv0VFxlijThOpd+6ce1o49zrh4KZ3+XHe53u/j+/Af0rkK35ra9ythOgwmG0gDYIPUnC/+uHkm3UBM+3NFZC5KxFt+cCuNiNa67O1T17MrwHMtDdX4DqvpZQ160XOGPPZRdRvGp1cAJA+PeMMe2ZRXrl21mzNEmKzMPqeV5cAXw4f2GtZsgmAso2o60PIjhOr5s5uVN8glEQAKJCq9evRpl0AFkDGsS8HAoUrEecSzN8ZJNrTC1JiDFhdJ4kP3CCSXEDJlamdJfsScMYCcJH1XjdLSkITj/mhLKrOXwBg9nY/G2LjKKVWUxn2+QkMBHPnLVQKK1QMxgAQKQ4hc8wArqTIB2jXnQNqffqR4wSPnSY+1A9AdU8vGcvCjA77gLR2Ez5gydGPIkH2ALilEaxDncQHbxKOjQEQBypPnUPHxpGpXwD8yaRHIHsHYw115TWl4dnSYFC5xvBTKMq0QyAb29aapApQZTRCQMpOO9/TdlXLxFRSArS+ejeXWLSv2VojhSCK65u9nURZMS9rTWJx+WrLxFTST5BdpIjt3zEQDYV7SgIB8imVTpP4vXSr8fnbiwLMPwBPTxt3dhUp1RcuKNjipUhrTWrZ/mijrxx8Nv0g933e32hAxBrqtrpKbTcCI1z3ffPL6U9e11z9Bai+yG1sATfvAAAAAElFTkSuQmCC'); background-size: cover; height: 16px; width: 16px}</style><table><tr><td><div class=\"certo\"/></td><td style=\"text-align:left;\"><b><mark style=\"background-color:#ffff40;padding-left:0px;padding-right:0px\">ALBERTO</mark></b>&nbsp;YOUSSEF,&nbsp;brasileiro,&nbsp;casado,&nbsp;filho&nbsp;de&nbsp;Kalim&nbsp;Youssef&nbsp;e&nbsp;Antonieta&nbsp;Youssef\n",
              "</pre></td></tr>\n",
              "<tr><td><div class=\"certo\"/></td><td style=\"text-align:left;\"><b><mark style=\"background-color:#ffff40;padding-left:0px;padding-right:0px\">PAULO</mark></b>&nbsp;ROBERTO&nbsp;COSTA,&nbsp;ex-Diretor&nbsp;de&nbsp;Abastecimento&nbsp;da&nbsp;PETROBRAS\n",
              "</pre></td></tr>\n",
              "<tr><td><div class=\"certo\"/></td><td style=\"text-align:left;\"><b><mark style=\"background-color:#ffff40;padding-left:0px;padding-right:0px\">WALDOMIRO</mark></b>&nbsp;DE&nbsp;OLIVEIRA,&nbsp;conhecido&nbsp;“Bom&nbsp;Velhinho”\n",
              "</pre></td></tr>\n",
              "<tr><td><div class=\"certo\"/></td><td style=\"text-align:left;\"><b><mark style=\"background-color:#ffff40;padding-left:0px;padding-right:0px\">JOSÉ</mark></b>&nbsp;ALDEMÁRIO&nbsp;PINHEIRO&nbsp;FILHO,&nbsp;vulgo&nbsp;“Léo&nbsp;Pinheiro”,\n",
              "</pre></td></tr>\n",
              "<tr><td><div class=\"certo\"/></td><td style=\"text-align:left;\"><b><mark style=\"background-color:#ffff40;padding-left:0px;padding-right:0px\">AGENOR</mark></b>&nbsp;FRANKLIN&nbsp;MAGALHÃES&nbsp;MEDEIROS,&nbsp;brasileiro\n",
              "</pre></td></tr>\n",
              "<tr><td><div class=\"certo\"/></td><td style=\"text-align:left;\">empreiteiras&nbsp;<b><mark style=\"background-color:#ffff40;padding-left:0px;padding-right:0px\">ODEBRECHT</mark></b>\n",
              "</pre></td></tr>\n",
              "<tr><td><div class=\"certo\"/></td><td style=\"text-align:left;\">integrantes&nbsp;do&nbsp;Grupo&nbsp;<b><mark style=\"background-color:#ffff40;padding-left:0px;padding-right:0px\">OAS</mark></b>\n",
              "</pre></td></tr>\n",
              "<tr><td><div class=\"certo\"/></td><td style=\"text-align:left;\">empresa&nbsp;<b><mark style=\"background-color:#ffff40;padding-left:0px;padding-right:0px\">GFD</mark></b>&nbsp;INVESTIMENTOS\n",
              "</pre></td></tr>\n",
              "<tr><td><div class=\"certo\"/></td><td style=\"text-align:left;\">conforme&nbsp;já&nbsp;apurado&nbsp;pelo&nbsp;<b><mark style=\"background-color:#ffff40;padding-left:0px;padding-right:0px\">TCU</mark></b>\n",
              "</pre></td></tr>\n",
              "<tr><td><div class=\"certo\"/></td><td style=\"text-align:left;\">no&nbsp;caso&nbsp;das&nbsp;empresas&nbsp;MO&nbsp;Consultoria,&nbsp;Empreiteira&nbsp;Rigidez&nbsp;e&nbsp;<b><mark style=\"background-color:#ffff40;padding-left:0px;padding-right:0px\">RCI</mark></b>&nbsp;Software\n",
              "</pre></td></tr>\n",
              "<tr><td><div class=\"certo\"/></td><td style=\"text-align:left;\"><b><mark style=\"background-color:#ffff40;padding-left:0px;padding-right:0px\">RELATÓRIO</mark></b>&nbsp;DE&nbsp;TENDÊNCIAs\n",
              "</pre></td></tr>\n",
              "<tr><td><div class=\"certo\"/></td><td style=\"text-align:left;\">três&nbsp;<b><mark style=\"background-color:#ffff40;padding-left:0px;padding-right:0px\">AOS</mark></b>&nbsp;númeROS</pre></td></tr><tr><td><div class=\"certo\"/></td><td style=\"text-align:left;\"><div style=\"color:#808080\">Texto&nbsp;aleATOrio\n",
              "&#9;(sem ocorrências)</div></td></tr>\n",
              "<tr><td><div class=\"certo\"/></td><td style=\"text-align:left;\"><div style=\"color:#808080\">CoNdUtAs&nbsp;ileGAIS\n",
              "&#9;(sem ocorrências)</div></td></tr>\n",
              "<tr><td><div class=\"certo\"/></td><td style=\"text-align:left;\"><div style=\"color:#808080\">rELATÓRIO&nbsp;DE&nbsp;TENDÊNCIAs\n",
              "&#9;(sem ocorrências)</div></td></tr>\n",
              "<tr><td><div class=\"certo\"/></td><td style=\"text-align:left;\"><div style=\"color:#808080\">a&nbsp;BE&nbsp;c\n",
              "&#9;(sem ocorrências)</div></td></tr>\n",
              "<tr><td><div class=\"certo\"/></td><td style=\"text-align:left;\"><div style=\"color:#808080\">duas&nbsp;DE&nbsp;palavras\n",
              "&#9;(sem ocorrências)</div></td></tr></table>"
            ],
            "text/plain": [
              "<IPython.core.display.HTML object>"
            ]
          },
          "metadata": {
            "tags": []
          }
        }
      ]
    },
    {
      "cell_type": "markdown",
      "metadata": {
        "azdata_cell_guid": "61f855da-cb67-4933-af79-a28abd2195bb",
        "id": "khXboY40tNpC"
      },
      "source": [
        "Duas palavras consecutivas, de no mínimo 2 letras cada, com TODAS as letras maiúsculas"
      ]
    },
    {
      "cell_type": "code",
      "metadata": {
        "azdata_cell_guid": "36d37f06-0d99-4cb5-94b7-7b5f3996abef",
        "id": "G_iS4xpttNpC",
        "colab": {
          "base_uri": "https://localhost:8080/",
          "height": 439
        },
        "outputId": "c0538189-87b6-4a5d-c6da-093f1b662e8e"
      },
      "source": [
        "exercicio(12, r'\\b[A-ZÁÓÉÊ]{2,}\\s+[A-ZÁÓÉÊ]{2,}\\b')"
      ],
      "execution_count": 92,
      "outputs": [
        {
          "output_type": "display_data",
          "data": {
            "text/html": [
              "<style>.certo {background-image: url('data:image/png;base64,iVBORw0KGgoAAAANSUhEUgAAABAAAAAQCAYAAAAf8/9hAAAABHNCSVQICAgIfAhkiAAAAAlwSFlzAAALEwAACxMBAJqcGAAAAgBJREFUOI2lkz1oU1EUx3/nvpcmNqWlNIoKFkFsXKrSOCkoDi6iVOwgCEWLiyBaTKuLdhP8ACkoig5iqoM4SDGDq2uLxUHFptWhHQTF1gzlNc27ufc6tHk0NMTBs917zu9/vu6F/zSpd7lvcnC/VeqUCF1Y61Aya8WOf8k8+NRQIDOVTYXGjImnjtdN51y+omXg68HRPxsEMlPZlHaVj4i3o1HJ1rk5iSd6Pu+9UwRQVceK1m/+BQMokZ2USq+jM0DPxFDGi/mHG4EnWjM0q/hq2Z461v3hanckEOrycCN4oP0o2S0nub31LLLWtQv1UCTglPRUg5MqHmWqwv0dR6hYw6v59zhc1XUAwAcQZxMALSrBvW39WGe5/vMlZ9oORfBIYYwJNYesjc06NkUCzthFoDNuPFpJsL25g1znJVJ+Wy3sRzNHtF2IWjAr5h3AIgGXC0/4UVog5behbYWb0zkmvFoYwJZ0PhIgKI1WgrJBoNiiuVJ4ynzwi5HpF0z684hXC+ulsl4uh49g3UNK5y/caNqcvCUxDxy4pTIkYxtgFxrC38HwTO+z+zUCOKQrf/5xrD150WtuqrtOE4SY4vLDQu/zQWR1HRs+U3r8XJ943l2VbNolvkIQrDboQH8TY67Nns69XR9f9zfikD3j/budeGlx4sS6mem+3Pdq1vX2FyOryD82RGIbAAAAAElFTkSuQmCC'); background-size: cover; height: 16px; width: 16px}.errado {background-image: url('data:image/png;base64,iVBORw0KGgoAAAANSUhEUgAAABAAAAAQCAYAAAAf8/9hAAAABHNCSVQICAgIfAhkiAAAAAlwSFlzAAALEwAACxMBAJqcGAAAAjNJREFUOI2lk01IVFEYhp9zznUcnUnH/Bk3WhCVFEFZbiwUAxeZlCJFWERBgZsIqRatWhuRi0BtFS1bSGQYlBLISD8EgbWwv0VFxlijThOpd+6ce1o49zrh4KZ3+XHe53u/j+/Af0rkK35ra9ythOgwmG0gDYIPUnC/+uHkm3UBM+3NFZC5KxFt+cCuNiNa67O1T17MrwHMtDdX4DqvpZQ160XOGPPZRdRvGp1cAJA+PeMMe2ZRXrl21mzNEmKzMPqeV5cAXw4f2GtZsgmAso2o60PIjhOr5s5uVN8glEQAKJCq9evRpl0AFkDGsS8HAoUrEecSzN8ZJNrTC1JiDFhdJ4kP3CCSXEDJlamdJfsScMYCcJH1XjdLSkITj/mhLKrOXwBg9nY/G2LjKKVWUxn2+QkMBHPnLVQKK1QMxgAQKQ4hc8wArqTIB2jXnQNqffqR4wSPnSY+1A9AdU8vGcvCjA77gLR2Ez5gydGPIkH2ALilEaxDncQHbxKOjQEQBypPnUPHxpGpXwD8yaRHIHsHYw115TWl4dnSYFC5xvBTKMq0QyAb29aapApQZTRCQMpOO9/TdlXLxFRSArS+ejeXWLSv2VojhSCK65u9nURZMS9rTWJx+WrLxFTST5BdpIjt3zEQDYV7SgIB8imVTpP4vXSr8fnbiwLMPwBPTxt3dhUp1RcuKNjipUhrTWrZ/mijrxx8Nv0g933e32hAxBrqtrpKbTcCI1z3ffPL6U9e11z9Bai+yG1sATfvAAAAAElFTkSuQmCC'); background-size: cover; height: 16px; width: 16px}</style><table><tr><td><div class=\"certo\"/></td><td style=\"text-align:left;\"><b><mark style=\"background-color:#ffff40;padding-left:0px;padding-right:0px\">ALBERTO&nbsp;YOUSSEF</mark></b>,&nbsp;brasileiro,&nbsp;casado,&nbsp;filho&nbsp;de&nbsp;Kalim&nbsp;Youssef&nbsp;e&nbsp;Antonieta&nbsp;Youssef\n",
              "</pre></td></tr>\n",
              "<tr><td><div class=\"certo\"/></td><td style=\"text-align:left;\"><b><mark style=\"background-color:#ffff40;padding-left:0px;padding-right:0px\">PAULO&nbsp;ROBERTO</mark></b>&nbsp;COSTA,&nbsp;ex-Diretor&nbsp;de&nbsp;Abastecimento&nbsp;da&nbsp;PETROBRAS\n",
              "</pre></td></tr>\n",
              "<tr><td><div class=\"certo\"/></td><td style=\"text-align:left;\"><b><mark style=\"background-color:#ffff40;padding-left:0px;padding-right:0px\">WALDOMIRO&nbsp;DE</mark></b>&nbsp;OLIVEIRA,&nbsp;conhecido&nbsp;“Bom&nbsp;Velhinho”\n",
              "</pre></td></tr>\n",
              "<tr><td><div class=\"certo\"/></td><td style=\"text-align:left;\"><b><mark style=\"background-color:#ffff40;padding-left:0px;padding-right:0px\">JOSÉ&nbsp;ALDEMÁRIO</mark></b>&nbsp;PINHEIRO&nbsp;FILHO,&nbsp;vulgo&nbsp;“Léo&nbsp;Pinheiro”,\n",
              "</pre></td></tr>\n",
              "<tr><td><div class=\"certo\"/></td><td style=\"text-align:left;\"><b><mark style=\"background-color:#ffff40;padding-left:0px;padding-right:0px\">AGENOR&nbsp;FRANKLIN</mark></b>&nbsp;MAGALHÃES&nbsp;MEDEIROS,&nbsp;brasileiro\n",
              "</pre></td></tr>\n",
              "<tr><td><div class=\"certo\"/></td><td style=\"text-align:left;\">empresa&nbsp;<b><mark style=\"background-color:#ffff40;padding-left:0px;padding-right:0px\">GFD&nbsp;INVESTIMENTOS</mark></b>\n",
              "</pre></td></tr>\n",
              "<tr><td><div class=\"certo\"/></td><td style=\"text-align:left;\"><b><mark style=\"background-color:#ffff40;padding-left:0px;padding-right:0px\">RELATÓRIO&nbsp;DE</mark></b>&nbsp;TENDÊNCIAs\n",
              "</pre></td></tr>\n",
              "<tr><td><div class=\"certo\"/></td><td style=\"text-align:left;\"><b><mark style=\"background-color:#ffff40;padding-left:0px;padding-right:0px\">VARIOS&nbsp;&nbsp;&nbsp;ESPACOS</mark></b>\n",
              "</pre></td></tr><tr><td><div class=\"certo\"/></td><td style=\"text-align:left;\"><div style=\"color:#808080\">empreiteiras&nbsp;ODEBRECHT\n",
              "&#9;(sem ocorrências)</div></td></tr>\n",
              "<tr><td><div class=\"certo\"/></td><td style=\"text-align:left;\"><div style=\"color:#808080\">integrantes&nbsp;do&nbsp;Grupo&nbsp;OAS\n",
              "&#9;(sem ocorrências)</div></td></tr>\n",
              "<tr><td><div class=\"certo\"/></td><td style=\"text-align:left;\"><div style=\"color:#808080\">conforme&nbsp;já&nbsp;apurado&nbsp;pelo&nbsp;TCU\n",
              "&#9;(sem ocorrências)</div></td></tr>\n",
              "<tr><td><div class=\"certo\"/></td><td style=\"text-align:left;\"><div style=\"color:#808080\">no&nbsp;caso&nbsp;das&nbsp;empresas&nbsp;MO&nbsp;Consultoria,&nbsp;Empreiteira&nbsp;Rigidez&nbsp;e&nbsp;RCI&nbsp;Software\n",
              "&#9;(sem ocorrências)</div></td></tr>\n",
              "<tr><td><div class=\"certo\"/></td><td style=\"text-align:left;\"><div style=\"color:#808080\">Texto&nbsp;aleATOrio\n",
              "&#9;(sem ocorrências)</div></td></tr>\n",
              "<tr><td><div class=\"certo\"/></td><td style=\"text-align:left;\"><div style=\"color:#808080\">CoNdUtAs&nbsp;ileGAIS\n",
              "&#9;(sem ocorrências)</div></td></tr>\n",
              "<tr><td><div class=\"certo\"/></td><td style=\"text-align:left;\"><div style=\"color:#808080\">rELATÓRIO&nbsp;DE&nbsp;TENDÊNCIAs\n",
              "&#9;(sem ocorrências)</div></td></tr>\n",
              "<tr><td><div class=\"certo\"/></td><td style=\"text-align:left;\"><div style=\"color:#808080\">a&nbsp;BE&nbsp;c\n",
              "&#9;(sem ocorrências)</div></td></tr>\n",
              "<tr><td><div class=\"certo\"/></td><td style=\"text-align:left;\"><div style=\"color:#808080\">TESTE&nbsp;A&nbsp;TESTE\n",
              "&#9;(sem ocorrências)</div></td></tr>\n",
              "<tr><td><div class=\"certo\"/></td><td style=\"text-align:left;\"><div style=\"color:#808080\">A&nbsp;BE&nbsp;C&nbsp;DE\n",
              "&#9;(sem ocorrências)</div></td></tr>\n",
              "<tr><td><div class=\"certo\"/></td><td style=\"text-align:left;\"><div style=\"color:#808080\">duas&nbsp;DE&nbsp;palavras\n",
              "&#9;(sem ocorrências)</div></td></tr>\n",
              "<tr><td><div class=\"certo\"/></td><td style=\"text-align:left;\"><div style=\"color:#808080\">três&nbsp;AOS&nbsp;númeROS&#9;(sem ocorrências)</div></td></tr></table>"
            ],
            "text/plain": [
              "<IPython.core.display.HTML object>"
            ]
          },
          "metadata": {
            "tags": []
          }
        }
      ]
    },
    {
      "cell_type": "markdown",
      "metadata": {
        "azdata_cell_guid": "a3d97365-40b5-40af-81fc-ac45b0a579d9",
        "id": "9i8Mz37XtNpC"
      },
      "source": [
        "Duas ou mais palavras consecutivas com todas as letras maiúsculas. Cada palavra pode possuir qualquer quantidade de letras."
      ]
    },
    {
      "cell_type": "code",
      "metadata": {
        "azdata_cell_guid": "55c88d65-ad1b-4b5b-a982-c6548c42d192",
        "id": "pzRWh72ltNpD",
        "colab": {
          "base_uri": "https://localhost:8080/",
          "height": 460
        },
        "outputId": "dcc32bea-cf8f-4316-962b-c54b896bd262"
      },
      "source": [
        "exercicio(13, r'\\b[A-ZÓÉ]+\\s+[A-ZÁ]+\\b(\\s[A-ZÃÊ]+)?(\\s[A-Z]+)?\\b')"
      ],
      "execution_count": 185,
      "outputs": [
        {
          "output_type": "display_data",
          "data": {
            "text/html": [
              "<style>.certo {background-image: url('data:image/png;base64,iVBORw0KGgoAAAANSUhEUgAAABAAAAAQCAYAAAAf8/9hAAAABHNCSVQICAgIfAhkiAAAAAlwSFlzAAALEwAACxMBAJqcGAAAAgBJREFUOI2lkz1oU1EUx3/nvpcmNqWlNIoKFkFsXKrSOCkoDi6iVOwgCEWLiyBaTKuLdhP8ACkoig5iqoM4SDGDq2uLxUHFptWhHQTF1gzlNc27ufc6tHk0NMTBs917zu9/vu6F/zSpd7lvcnC/VeqUCF1Y61Aya8WOf8k8+NRQIDOVTYXGjImnjtdN51y+omXg68HRPxsEMlPZlHaVj4i3o1HJ1rk5iSd6Pu+9UwRQVceK1m/+BQMokZ2USq+jM0DPxFDGi/mHG4EnWjM0q/hq2Z461v3hanckEOrycCN4oP0o2S0nub31LLLWtQv1UCTglPRUg5MqHmWqwv0dR6hYw6v59zhc1XUAwAcQZxMALSrBvW39WGe5/vMlZ9oORfBIYYwJNYesjc06NkUCzthFoDNuPFpJsL25g1znJVJ+Wy3sRzNHtF2IWjAr5h3AIgGXC0/4UVog5behbYWb0zkmvFoYwJZ0PhIgKI1WgrJBoNiiuVJ4ynzwi5HpF0z684hXC+ulsl4uh49g3UNK5y/caNqcvCUxDxy4pTIkYxtgFxrC38HwTO+z+zUCOKQrf/5xrD150WtuqrtOE4SY4vLDQu/zQWR1HRs+U3r8XJ943l2VbNolvkIQrDboQH8TY67Nns69XR9f9zfikD3j/budeGlx4sS6mem+3Pdq1vX2FyOryD82RGIbAAAAAElFTkSuQmCC'); background-size: cover; height: 16px; width: 16px}.errado {background-image: url('data:image/png;base64,iVBORw0KGgoAAAANSUhEUgAAABAAAAAQCAYAAAAf8/9hAAAABHNCSVQICAgIfAhkiAAAAAlwSFlzAAALEwAACxMBAJqcGAAAAjNJREFUOI2lk01IVFEYhp9zznUcnUnH/Bk3WhCVFEFZbiwUAxeZlCJFWERBgZsIqRatWhuRi0BtFS1bSGQYlBLISD8EgbWwv0VFxlijThOpd+6ce1o49zrh4KZ3+XHe53u/j+/Af0rkK35ra9ythOgwmG0gDYIPUnC/+uHkm3UBM+3NFZC5KxFt+cCuNiNa67O1T17MrwHMtDdX4DqvpZQ160XOGPPZRdRvGp1cAJA+PeMMe2ZRXrl21mzNEmKzMPqeV5cAXw4f2GtZsgmAso2o60PIjhOr5s5uVN8glEQAKJCq9evRpl0AFkDGsS8HAoUrEecSzN8ZJNrTC1JiDFhdJ4kP3CCSXEDJlamdJfsScMYCcJH1XjdLSkITj/mhLKrOXwBg9nY/G2LjKKVWUxn2+QkMBHPnLVQKK1QMxgAQKQ4hc8wArqTIB2jXnQNqffqR4wSPnSY+1A9AdU8vGcvCjA77gLR2Ez5gydGPIkH2ALilEaxDncQHbxKOjQEQBypPnUPHxpGpXwD8yaRHIHsHYw115TWl4dnSYFC5xvBTKMq0QyAb29aapApQZTRCQMpOO9/TdlXLxFRSArS+ejeXWLSv2VojhSCK65u9nURZMS9rTWJx+WrLxFTST5BdpIjt3zEQDYV7SgIB8imVTpP4vXSr8fnbiwLMPwBPTxt3dhUp1RcuKNjipUhrTWrZ/mijrxx8Nv0g933e32hAxBrqtrpKbTcCI1z3ffPL6U9e11z9Bai+yG1sATfvAAAAAElFTkSuQmCC'); background-size: cover; height: 16px; width: 16px}</style><table><tr><td><div class=\"certo\"/></td><td style=\"text-align:left;\"><b><mark style=\"background-color:#ffff40;padding-left:0px;padding-right:0px\">ALBERTO&nbsp;YOUSSEF</mark></b>,&nbsp;brasileiro,&nbsp;casado,&nbsp;filho&nbsp;de&nbsp;Kalim&nbsp;Youssef&nbsp;e&nbsp;Antonieta&nbsp;Youssef\n",
              "</pre></td></tr>\n",
              "<tr><td><div class=\"certo\"/></td><td style=\"text-align:left;\"><b><mark style=\"background-color:#ffff40;padding-left:0px;padding-right:0px\">PAULO&nbsp;ROBERTO&nbsp;COSTA</mark></b>,&nbsp;ex-Diretor&nbsp;de&nbsp;Abastecimento&nbsp;da&nbsp;PETROBRAS\n",
              "</pre></td></tr>\n",
              "<tr><td><div class=\"certo\"/></td><td style=\"text-align:left;\"><b><mark style=\"background-color:#ffff40;padding-left:0px;padding-right:0px\">WALDOMIRO&nbsp;DE&nbsp;OLIVEIRA</mark></b>,&nbsp;conhecido&nbsp;“Bom&nbsp;Velhinho”\n",
              "</pre></td></tr>\n",
              "<tr><td><div class=\"certo\"/></td><td style=\"text-align:left;\"><b><mark style=\"background-color:#ffff40;padding-left:0px;padding-right:0px\">JOSÉ&nbsp;ALDEMÁRIO&nbsp;PINHEIRO&nbsp;FILHO</mark></b>,&nbsp;vulgo&nbsp;“Léo&nbsp;Pinheiro”,\n",
              "</pre></td></tr>\n",
              "<tr><td><div class=\"certo\"/></td><td style=\"text-align:left;\"><b><mark style=\"background-color:#ffff40;padding-left:0px;padding-right:0px\">AGENOR&nbsp;FRANKLIN&nbsp;MAGALHÃES&nbsp;MEDEIROS</mark></b>,&nbsp;brasileiro\n",
              "</pre></td></tr>\n",
              "<tr><td><div class=\"certo\"/></td><td style=\"text-align:left;\">empresa&nbsp;<b><mark style=\"background-color:#ffff40;padding-left:0px;padding-right:0px\">GFD&nbsp;INVESTIMENTOS</mark></b>\n",
              "</pre></td></tr>\n",
              "<tr><td><div class=\"certo\"/></td><td style=\"text-align:left;\"><b><mark style=\"background-color:#ffff40;padding-left:0px;padding-right:0px\">RELATÓRIO&nbsp;DE</mark></b>&nbsp;TENDÊNCIAs\n",
              "</pre></td></tr>\n",
              "<tr><td><div class=\"certo\"/></td><td style=\"text-align:left;\"><b><mark style=\"background-color:#ffff40;padding-left:0px;padding-right:0px\">TESTE&nbsp;A&nbsp;TESTE</mark></b>\n",
              "</pre></td></tr>\n",
              "<tr><td><div class=\"certo\"/></td><td style=\"text-align:left;\"><b><mark style=\"background-color:#ffff40;padding-left:0px;padding-right:0px\">A&nbsp;BE&nbsp;C&nbsp;DE</mark></b>\n",
              "</pre></td></tr>\n",
              "<tr><td><div class=\"certo\"/></td><td style=\"text-align:left;\"><b><mark style=\"background-color:#ffff40;padding-left:0px;padding-right:0px\">VARIOS&nbsp;&nbsp;&nbsp;ESPACOS</mark></b>\n",
              "</pre></td></tr><tr><td><div class=\"certo\"/></td><td style=\"text-align:left;\"><div style=\"color:#808080\">empreiteiras&nbsp;ODEBRECHT\n",
              "&#9;(sem ocorrências)</div></td></tr>\n",
              "<tr><td><div class=\"certo\"/></td><td style=\"text-align:left;\"><div style=\"color:#808080\">integrantes&nbsp;do&nbsp;Grupo&nbsp;OAS\n",
              "&#9;(sem ocorrências)</div></td></tr>\n",
              "<tr><td><div class=\"certo\"/></td><td style=\"text-align:left;\"><div style=\"color:#808080\">conforme&nbsp;já&nbsp;apurado&nbsp;pelo&nbsp;TCU\n",
              "&#9;(sem ocorrências)</div></td></tr>\n",
              "<tr><td><div class=\"certo\"/></td><td style=\"text-align:left;\"><div style=\"color:#808080\">no&nbsp;caso&nbsp;das&nbsp;empresas&nbsp;MO&nbsp;Consultoria,&nbsp;Empreiteira&nbsp;Rigidez&nbsp;e&nbsp;RCI&nbsp;Software\n",
              "&#9;(sem ocorrências)</div></td></tr>\n",
              "<tr><td><div class=\"certo\"/></td><td style=\"text-align:left;\"><div style=\"color:#808080\">Texto&nbsp;aleATOrio\n",
              "&#9;(sem ocorrências)</div></td></tr>\n",
              "<tr><td><div class=\"certo\"/></td><td style=\"text-align:left;\"><div style=\"color:#808080\">CoNdUtAs&nbsp;ileGAIS\n",
              "&#9;(sem ocorrências)</div></td></tr>\n",
              "<tr><td><div class=\"certo\"/></td><td style=\"text-align:left;\"><div style=\"color:#808080\">rELATÓRIO&nbsp;DE&nbsp;TENDÊNCIAs\n",
              "&#9;(sem ocorrências)</div></td></tr>\n",
              "<tr><td><div class=\"certo\"/></td><td style=\"text-align:left;\"><div style=\"color:#808080\">a&nbsp;BE&nbsp;c\n",
              "&#9;(sem ocorrências)</div></td></tr>\n",
              "<tr><td><div class=\"certo\"/></td><td style=\"text-align:left;\"><div style=\"color:#808080\">varios&nbsp;&nbsp;&nbsp;&nbsp;&nbsp;espacos\n",
              "&#9;(sem ocorrências)</div></td></tr>\n",
              "<tr><td><div class=\"certo\"/></td><td style=\"text-align:left;\"><div style=\"color:#808080\">duas&nbsp;DE&nbsp;palavras\n",
              "&#9;(sem ocorrências)</div></td></tr>\n",
              "<tr><td><div class=\"certo\"/></td><td style=\"text-align:left;\"><div style=\"color:#808080\">três&nbsp;AOS&nbsp;númeROS&#9;(sem ocorrências)</div></td></tr></table>"
            ],
            "text/plain": [
              "<IPython.core.display.HTML object>"
            ]
          },
          "metadata": {
            "tags": []
          }
        }
      ]
    },
    {
      "cell_type": "markdown",
      "metadata": {
        "azdata_cell_guid": "c70e262f-fcb0-4f3e-9dcf-89ceb264804a",
        "id": "3Yw3xUSVtNpD"
      },
      "source": [
        "Uma linha contendo exatamente um endereço [IP](https://en.wikipedia.org/wiki/IP_address). ex.: 127.0.0.1, 192.168.0.254. Um IP é formado por exatamente 4 números separados por pontos. Cada número possui no máximo 3 dígitos."
      ]
    },
    {
      "cell_type": "code",
      "metadata": {
        "azdata_cell_guid": "676d6e01-75d0-4d91-9866-1ebca1aaa5f7",
        "id": "fU0x-WdftNpD",
        "colab": {
          "base_uri": "https://localhost:8080/",
          "height": 481
        },
        "outputId": "8afdbc83-42b4-4fa7-9b01-6cd741828b63"
      },
      "source": [
        "exercicio(14, r'^\\d{1,3}\\.\\d{1,3}\\.\\d{1,3}\\.\\d{1,3}$')"
      ],
      "execution_count": 65,
      "outputs": [
        {
          "output_type": "display_data",
          "data": {
            "text/html": [
              "<style>.certo {background-image: url('data:image/png;base64,iVBORw0KGgoAAAANSUhEUgAAABAAAAAQCAYAAAAf8/9hAAAABHNCSVQICAgIfAhkiAAAAAlwSFlzAAALEwAACxMBAJqcGAAAAgBJREFUOI2lkz1oU1EUx3/nvpcmNqWlNIoKFkFsXKrSOCkoDi6iVOwgCEWLiyBaTKuLdhP8ACkoig5iqoM4SDGDq2uLxUHFptWhHQTF1gzlNc27ufc6tHk0NMTBs917zu9/vu6F/zSpd7lvcnC/VeqUCF1Y61Aya8WOf8k8+NRQIDOVTYXGjImnjtdN51y+omXg68HRPxsEMlPZlHaVj4i3o1HJ1rk5iSd6Pu+9UwRQVceK1m/+BQMokZ2USq+jM0DPxFDGi/mHG4EnWjM0q/hq2Z461v3hanckEOrycCN4oP0o2S0nub31LLLWtQv1UCTglPRUg5MqHmWqwv0dR6hYw6v59zhc1XUAwAcQZxMALSrBvW39WGe5/vMlZ9oORfBIYYwJNYesjc06NkUCzthFoDNuPFpJsL25g1znJVJ+Wy3sRzNHtF2IWjAr5h3AIgGXC0/4UVog5behbYWb0zkmvFoYwJZ0PhIgKI1WgrJBoNiiuVJ4ynzwi5HpF0z684hXC+ulsl4uh49g3UNK5y/caNqcvCUxDxy4pTIkYxtgFxrC38HwTO+z+zUCOKQrf/5xrD150WtuqrtOE4SY4vLDQu/zQWR1HRs+U3r8XJ943l2VbNolvkIQrDboQH8TY67Nns69XR9f9zfikD3j/budeGlx4sS6mem+3Pdq1vX2FyOryD82RGIbAAAAAElFTkSuQmCC'); background-size: cover; height: 16px; width: 16px}.errado {background-image: url('data:image/png;base64,iVBORw0KGgoAAAANSUhEUgAAABAAAAAQCAYAAAAf8/9hAAAABHNCSVQICAgIfAhkiAAAAAlwSFlzAAALEwAACxMBAJqcGAAAAjNJREFUOI2lk01IVFEYhp9zznUcnUnH/Bk3WhCVFEFZbiwUAxeZlCJFWERBgZsIqRatWhuRi0BtFS1bSGQYlBLISD8EgbWwv0VFxlijThOpd+6ce1o49zrh4KZ3+XHe53u/j+/Af0rkK35ra9ythOgwmG0gDYIPUnC/+uHkm3UBM+3NFZC5KxFt+cCuNiNa67O1T17MrwHMtDdX4DqvpZQ160XOGPPZRdRvGp1cAJA+PeMMe2ZRXrl21mzNEmKzMPqeV5cAXw4f2GtZsgmAso2o60PIjhOr5s5uVN8glEQAKJCq9evRpl0AFkDGsS8HAoUrEecSzN8ZJNrTC1JiDFhdJ4kP3CCSXEDJlamdJfsScMYCcJH1XjdLSkITj/mhLKrOXwBg9nY/G2LjKKVWUxn2+QkMBHPnLVQKK1QMxgAQKQ4hc8wArqTIB2jXnQNqffqR4wSPnSY+1A9AdU8vGcvCjA77gLR2Ez5gydGPIkH2ALilEaxDncQHbxKOjQEQBypPnUPHxpGpXwD8yaRHIHsHYw115TWl4dnSYFC5xvBTKMq0QyAb29aapApQZTRCQMpOO9/TdlXLxFRSArS+ejeXWLSv2VojhSCK65u9nURZMS9rTWJx+WrLxFTST5BdpIjt3zEQDYV7SgIB8imVTpP4vXSr8fnbiwLMPwBPTxt3dhUp1RcuKNjipUhrTWrZ/mijrxx8Nv0g933e32hAxBrqtrpKbTcCI1z3ffPL6U9e11z9Bai+yG1sATfvAAAAAElFTkSuQmCC'); background-size: cover; height: 16px; width: 16px}</style><table><tr><td><div class=\"certo\"/></td><td style=\"text-align:left;\"><b><mark style=\"background-color:#ffff40;padding-left:0px;padding-right:0px\">127.0.0.1</mark></b>\n",
              "</pre></td></tr>\n",
              "<tr><td><div class=\"certo\"/></td><td style=\"text-align:left;\"><b><mark style=\"background-color:#ffff40;padding-left:0px;padding-right:0px\">192.168.0.254</mark></b>\n",
              "</pre></td></tr>\n",
              "<tr><td><div class=\"certo\"/></td><td style=\"text-align:left;\"><b><mark style=\"background-color:#ffff40;padding-left:0px;padding-right:0px\">10.11.10.11</mark></b>\n",
              "</pre></td></tr>\n",
              "<tr><td><div class=\"certo\"/></td><td style=\"text-align:left;\"><b><mark style=\"background-color:#ffff40;padding-left:0px;padding-right:0px\">127.127.127.127</mark></b></pre></td></tr><tr><td><div class=\"certo\"/></td><td style=\"text-align:left;\"><div style=\"color:#808080\">9999.0.0.1\n",
              "&#9;(sem ocorrências)</div></td></tr>\n",
              "<tr><td><div class=\"certo\"/></td><td style=\"text-align:left;\"><div style=\"color:#808080\">127404041\n",
              "&#9;(sem ocorrências)</div></td></tr>\n",
              "<tr><td><div class=\"certo\"/></td><td style=\"text-align:left;\"><div style=\"color:#808080\">a127.0.0.1\n",
              "&#9;(sem ocorrências)</div></td></tr>\n",
              "<tr><td><div class=\"certo\"/></td><td style=\"text-align:left;\"><div style=\"color:#808080\">127.a.a.1\n",
              "&#9;(sem ocorrências)</div></td></tr>\n",
              "<tr><td><div class=\"certo\"/></td><td style=\"text-align:left;\"><div style=\"color:#808080\">127.0.0.1a\n",
              "&#9;(sem ocorrências)</div></td></tr>\n",
              "<tr><td><div class=\"certo\"/></td><td style=\"text-align:left;\"><div style=\"color:#808080\">xxx.yyy.zzz.www\n",
              "&#9;(sem ocorrências)</div></td></tr>\n",
              "<tr><td><div class=\"certo\"/></td><td style=\"text-align:left;\"><div style=\"color:#808080\">0.0.0.a\n",
              "&#9;(sem ocorrências)</div></td></tr>\n",
              "<tr><td><div class=\"certo\"/></td><td style=\"text-align:left;\"><div style=\"color:#808080\">127.0.0.1.0\n",
              "&#9;(sem ocorrências)</div></td></tr>\n",
              "<tr><td><div class=\"certo\"/></td><td style=\"text-align:left;\"><div style=\"color:#808080\">palavra\n",
              "&#9;(sem ocorrências)</div></td></tr>\n",
              "<tr><td><div class=\"certo\"/></td><td style=\"text-align:left;\"><div style=\"color:#808080\">0.1.2.\n",
              "&#9;(sem ocorrências)</div></td></tr>\n",
              "<tr><td><div class=\"certo\"/></td><td style=\"text-align:left;\"><div style=\"color:#808080\">.0.1.2\n",
              "&#9;(sem ocorrências)</div></td></tr>\n",
              "<tr><td><div class=\"certo\"/></td><td style=\"text-align:left;\"><div style=\"color:#808080\">.0.1.2.\n",
              "&#9;(sem ocorrências)</div></td></tr>\n",
              "<tr><td><div class=\"certo\"/></td><td style=\"text-align:left;\"><div style=\"color:#808080\">.0.1.2.3.\n",
              "&#9;(sem ocorrências)</div></td></tr>\n",
              "<tr><td><div class=\"certo\"/></td><td style=\"text-align:left;\"><div style=\"color:#808080\">.0.1.2.3.4.\n",
              "&#9;(sem ocorrências)</div></td></tr>\n",
              "<tr><td><div class=\"certo\"/></td><td style=\"text-align:left;\"><div style=\"color:#808080\">0.1.2.3.4.\n",
              "&#9;(sem ocorrências)</div></td></tr>\n",
              "<tr><td><div class=\"certo\"/></td><td style=\"text-align:left;\"><div style=\"color:#808080\">.0.1.2.3.4\n",
              "&#9;(sem ocorrências)</div></td></tr>\n",
              "<tr><td><div class=\"certo\"/></td><td style=\"text-align:left;\"><div style=\"color:#808080\">0.1.2.3.4\n",
              "&#9;(sem ocorrências)</div></td></tr>\n",
              "<tr><td><div class=\"certo\"/></td><td style=\"text-align:left;\"><div style=\"color:#808080\">a0.1.2.3b\n",
              "&#9;(sem ocorrências)</div></td></tr></table>"
            ],
            "text/plain": [
              "<IPython.core.display.HTML object>"
            ]
          },
          "metadata": {
            "tags": []
          }
        }
      ]
    },
    {
      "cell_type": "markdown",
      "metadata": {
        "azdata_cell_guid": "3f9015bc-0c9a-4d80-a157-03bd67084beb",
        "id": "8CUb9D8QtNpD"
      },
      "source": [
        "Uma linha contendo exatamente um CPF com separador de milhares e hífen."
      ]
    },
    {
      "cell_type": "code",
      "metadata": {
        "azdata_cell_guid": "56beee36-28e8-493b-a8d7-6a859a82efe3",
        "id": "aMLwTIjDtNpD",
        "colab": {
          "base_uri": "https://localhost:8080/",
          "height": 397
        },
        "outputId": "2a458631-ed8b-4dac-d17e-6dbbcd04897c"
      },
      "source": [
        "exercicio(15, r'^\\d{3}\\.\\d{3}\\.\\d{3}\\-\\d{2}$')"
      ],
      "execution_count": 69,
      "outputs": [
        {
          "output_type": "display_data",
          "data": {
            "text/html": [
              "<style>.certo {background-image: url('data:image/png;base64,iVBORw0KGgoAAAANSUhEUgAAABAAAAAQCAYAAAAf8/9hAAAABHNCSVQICAgIfAhkiAAAAAlwSFlzAAALEwAACxMBAJqcGAAAAgBJREFUOI2lkz1oU1EUx3/nvpcmNqWlNIoKFkFsXKrSOCkoDi6iVOwgCEWLiyBaTKuLdhP8ACkoig5iqoM4SDGDq2uLxUHFptWhHQTF1gzlNc27ufc6tHk0NMTBs917zu9/vu6F/zSpd7lvcnC/VeqUCF1Y61Aya8WOf8k8+NRQIDOVTYXGjImnjtdN51y+omXg68HRPxsEMlPZlHaVj4i3o1HJ1rk5iSd6Pu+9UwRQVceK1m/+BQMokZ2USq+jM0DPxFDGi/mHG4EnWjM0q/hq2Z461v3hanckEOrycCN4oP0o2S0nub31LLLWtQv1UCTglPRUg5MqHmWqwv0dR6hYw6v59zhc1XUAwAcQZxMALSrBvW39WGe5/vMlZ9oORfBIYYwJNYesjc06NkUCzthFoDNuPFpJsL25g1znJVJ+Wy3sRzNHtF2IWjAr5h3AIgGXC0/4UVog5behbYWb0zkmvFoYwJZ0PhIgKI1WgrJBoNiiuVJ4ynzwi5HpF0z684hXC+ulsl4uh49g3UNK5y/caNqcvCUxDxy4pTIkYxtgFxrC38HwTO+z+zUCOKQrf/5xrD150WtuqrtOE4SY4vLDQu/zQWR1HRs+U3r8XJ943l2VbNolvkIQrDboQH8TY67Nns69XR9f9zfikD3j/budeGlx4sS6mem+3Pdq1vX2FyOryD82RGIbAAAAAElFTkSuQmCC'); background-size: cover; height: 16px; width: 16px}.errado {background-image: url('data:image/png;base64,iVBORw0KGgoAAAANSUhEUgAAABAAAAAQCAYAAAAf8/9hAAAABHNCSVQICAgIfAhkiAAAAAlwSFlzAAALEwAACxMBAJqcGAAAAjNJREFUOI2lk01IVFEYhp9zznUcnUnH/Bk3WhCVFEFZbiwUAxeZlCJFWERBgZsIqRatWhuRi0BtFS1bSGQYlBLISD8EgbWwv0VFxlijThOpd+6ce1o49zrh4KZ3+XHe53u/j+/Af0rkK35ra9ythOgwmG0gDYIPUnC/+uHkm3UBM+3NFZC5KxFt+cCuNiNa67O1T17MrwHMtDdX4DqvpZQ160XOGPPZRdRvGp1cAJA+PeMMe2ZRXrl21mzNEmKzMPqeV5cAXw4f2GtZsgmAso2o60PIjhOr5s5uVN8glEQAKJCq9evRpl0AFkDGsS8HAoUrEecSzN8ZJNrTC1JiDFhdJ4kP3CCSXEDJlamdJfsScMYCcJH1XjdLSkITj/mhLKrOXwBg9nY/G2LjKKVWUxn2+QkMBHPnLVQKK1QMxgAQKQ4hc8wArqTIB2jXnQNqffqR4wSPnSY+1A9AdU8vGcvCjA77gLR2Ez5gydGPIkH2ALilEaxDncQHbxKOjQEQBypPnUPHxpGpXwD8yaRHIHsHYw115TWl4dnSYFC5xvBTKMq0QyAb29aapApQZTRCQMpOO9/TdlXLxFRSArS+ejeXWLSv2VojhSCK65u9nURZMS9rTWJx+WrLxFTST5BdpIjt3zEQDYV7SgIB8imVTpP4vXSr8fnbiwLMPwBPTxt3dhUp1RcuKNjipUhrTWrZ/mijrxx8Nv0g933e32hAxBrqtrpKbTcCI1z3ffPL6U9e11z9Bai+yG1sATfvAAAAAElFTkSuQmCC'); background-size: cover; height: 16px; width: 16px}</style><table><tr><td><div class=\"certo\"/></td><td style=\"text-align:left;\"><b><mark style=\"background-color:#ffff40;padding-left:0px;padding-right:0px\">000.000.000-00</mark></b>\n",
              "</pre></td></tr>\n",
              "<tr><td><div class=\"certo\"/></td><td style=\"text-align:left;\"><b><mark style=\"background-color:#ffff40;padding-left:0px;padding-right:0px\">111.111.111-11</mark></b>\n",
              "</pre></td></tr><tr><td><div class=\"certo\"/></td><td style=\"text-align:left;\"><div style=\"color:#808080\">0111.111.111-11\n",
              "&#9;(sem ocorrências)</div></td></tr>\n",
              "<tr><td><div class=\"certo\"/></td><td style=\"text-align:left;\"><div style=\"color:#808080\">111.111.111-110\n",
              "&#9;(sem ocorrências)</div></td></tr>\n",
              "<tr><td><div class=\"certo\"/></td><td style=\"text-align:left;\"><div style=\"color:#808080\">111.0111.0111-11\n",
              "&#9;(sem ocorrências)</div></td></tr>\n",
              "<tr><td><div class=\"certo\"/></td><td style=\"text-align:left;\"><div style=\"color:#808080\">11101110111-11\n",
              "&#9;(sem ocorrências)</div></td></tr>\n",
              "<tr><td><div class=\"certo\"/></td><td style=\"text-align:left;\"><div style=\"color:#808080\">111.111.111111\n",
              "&#9;(sem ocorrências)</div></td></tr>\n",
              "<tr><td><div class=\"certo\"/></td><td style=\"text-align:left;\"><div style=\"color:#808080\">1110110111111\n",
              "&#9;(sem ocorrências)</div></td></tr>\n",
              "<tr><td><div class=\"certo\"/></td><td style=\"text-align:left;\"><div style=\"color:#808080\">111011011111\n",
              "&#9;(sem ocorrências)</div></td></tr>\n",
              "<tr><td><div class=\"certo\"/></td><td style=\"text-align:left;\"><div style=\"color:#808080\">11101101111\n",
              "&#9;(sem ocorrências)</div></td></tr>\n",
              "<tr><td><div class=\"certo\"/></td><td style=\"text-align:left;\"><div style=\"color:#808080\">1110110111\n",
              "&#9;(sem ocorrências)</div></td></tr>\n",
              "<tr><td><div class=\"certo\"/></td><td style=\"text-align:left;\"><div style=\"color:#808080\">111011011\n",
              "&#9;(sem ocorrências)</div></td></tr>\n",
              "<tr><td><div class=\"certo\"/></td><td style=\"text-align:left;\"><div style=\"color:#808080\">.111011011-11\n",
              "&#9;(sem ocorrências)</div></td></tr>\n",
              "<tr><td><div class=\"certo\"/></td><td style=\"text-align:left;\"><div style=\"color:#808080\">..111011011-11\n",
              "&#9;(sem ocorrências)</div></td></tr>\n",
              "<tr><td><div class=\"certo\"/></td><td style=\"text-align:left;\"><div style=\"color:#808080\">...111011011-11\n",
              "&#9;(sem ocorrências)</div></td></tr>\n",
              "<tr><td><div class=\"certo\"/></td><td style=\"text-align:left;\"><div style=\"color:#808080\">..1.11011011-11\n",
              "&#9;(sem ocorrências)</div></td></tr>\n",
              "<tr><td><div class=\"certo\"/></td><td style=\"text-align:left;\"><div style=\"color:#808080\">.1.1.1011011-11\n",
              "&#9;(sem ocorrências)</div></td></tr>\n",
              "<tr><td><div class=\"certo\"/></td><td style=\"text-align:left;\"><div style=\"color:#808080\">1.1.1.011011-11&#9;(sem ocorrências)</div></td></tr></table>"
            ],
            "text/plain": [
              "<IPython.core.display.HTML object>"
            ]
          },
          "metadata": {
            "tags": []
          }
        }
      ]
    },
    {
      "cell_type": "markdown",
      "metadata": {
        "azdata_cell_guid": "fd21c8d2-308b-4db7-83fe-6ad9076b6298",
        "id": "qeXYBPaJtNpE"
      },
      "source": [
        "Uma linha contendo exatamente um CPF com separador de milhares opcional e hífen opcional."
      ]
    },
    {
      "cell_type": "code",
      "metadata": {
        "azdata_cell_guid": "42035130-c153-4283-8eb3-2508d256a9b6",
        "id": "37zxOFQ0tNpE",
        "colab": {
          "base_uri": "https://localhost:8080/",
          "height": 439
        },
        "outputId": "9ce5ec19-778a-4ae3-d495-9748c940298f"
      },
      "source": [
        "exercicio(16, r'^\\d{3}\\.?\\d{3}\\.?\\d{3}\\-?\\d{2}$')"
      ],
      "execution_count": 70,
      "outputs": [
        {
          "output_type": "display_data",
          "data": {
            "text/html": [
              "<style>.certo {background-image: url('data:image/png;base64,iVBORw0KGgoAAAANSUhEUgAAABAAAAAQCAYAAAAf8/9hAAAABHNCSVQICAgIfAhkiAAAAAlwSFlzAAALEwAACxMBAJqcGAAAAgBJREFUOI2lkz1oU1EUx3/nvpcmNqWlNIoKFkFsXKrSOCkoDi6iVOwgCEWLiyBaTKuLdhP8ACkoig5iqoM4SDGDq2uLxUHFptWhHQTF1gzlNc27ufc6tHk0NMTBs917zu9/vu6F/zSpd7lvcnC/VeqUCF1Y61Aya8WOf8k8+NRQIDOVTYXGjImnjtdN51y+omXg68HRPxsEMlPZlHaVj4i3o1HJ1rk5iSd6Pu+9UwRQVceK1m/+BQMokZ2USq+jM0DPxFDGi/mHG4EnWjM0q/hq2Z461v3hanckEOrycCN4oP0o2S0nub31LLLWtQv1UCTglPRUg5MqHmWqwv0dR6hYw6v59zhc1XUAwAcQZxMALSrBvW39WGe5/vMlZ9oORfBIYYwJNYesjc06NkUCzthFoDNuPFpJsL25g1znJVJ+Wy3sRzNHtF2IWjAr5h3AIgGXC0/4UVog5behbYWb0zkmvFoYwJZ0PhIgKI1WgrJBoNiiuVJ4ynzwi5HpF0z684hXC+ulsl4uh49g3UNK5y/caNqcvCUxDxy4pTIkYxtgFxrC38HwTO+z+zUCOKQrf/5xrD150WtuqrtOE4SY4vLDQu/zQWR1HRs+U3r8XJ943l2VbNolvkIQrDboQH8TY67Nns69XR9f9zfikD3j/budeGlx4sS6mem+3Pdq1vX2FyOryD82RGIbAAAAAElFTkSuQmCC'); background-size: cover; height: 16px; width: 16px}.errado {background-image: url('data:image/png;base64,iVBORw0KGgoAAAANSUhEUgAAABAAAAAQCAYAAAAf8/9hAAAABHNCSVQICAgIfAhkiAAAAAlwSFlzAAALEwAACxMBAJqcGAAAAjNJREFUOI2lk01IVFEYhp9zznUcnUnH/Bk3WhCVFEFZbiwUAxeZlCJFWERBgZsIqRatWhuRi0BtFS1bSGQYlBLISD8EgbWwv0VFxlijThOpd+6ce1o49zrh4KZ3+XHe53u/j+/Af0rkK35ra9ythOgwmG0gDYIPUnC/+uHkm3UBM+3NFZC5KxFt+cCuNiNa67O1T17MrwHMtDdX4DqvpZQ160XOGPPZRdRvGp1cAJA+PeMMe2ZRXrl21mzNEmKzMPqeV5cAXw4f2GtZsgmAso2o60PIjhOr5s5uVN8glEQAKJCq9evRpl0AFkDGsS8HAoUrEecSzN8ZJNrTC1JiDFhdJ4kP3CCSXEDJlamdJfsScMYCcJH1XjdLSkITj/mhLKrOXwBg9nY/G2LjKKVWUxn2+QkMBHPnLVQKK1QMxgAQKQ4hc8wArqTIB2jXnQNqffqR4wSPnSY+1A9AdU8vGcvCjA77gLR2Ez5gydGPIkH2ALilEaxDncQHbxKOjQEQBypPnUPHxpGpXwD8yaRHIHsHYw115TWl4dnSYFC5xvBTKMq0QyAb29aapApQZTRCQMpOO9/TdlXLxFRSArS+ejeXWLSv2VojhSCK65u9nURZMS9rTWJx+WrLxFTST5BdpIjt3zEQDYV7SgIB8imVTpP4vXSr8fnbiwLMPwBPTxt3dhUp1RcuKNjipUhrTWrZ/mijrxx8Nv0g933e32hAxBrqtrpKbTcCI1z3ffPL6U9e11z9Bai+yG1sATfvAAAAAElFTkSuQmCC'); background-size: cover; height: 16px; width: 16px}</style><table><tr><td><div class=\"certo\"/></td><td style=\"text-align:left;\"><b><mark style=\"background-color:#ffff40;padding-left:0px;padding-right:0px\">000.000.000-00</mark></b>\n",
              "</pre></td></tr>\n",
              "<tr><td><div class=\"certo\"/></td><td style=\"text-align:left;\"><b><mark style=\"background-color:#ffff40;padding-left:0px;padding-right:0px\">111.111.111-11</mark></b>\n",
              "</pre></td></tr>\n",
              "<tr><td><div class=\"certo\"/></td><td style=\"text-align:left;\"><b><mark style=\"background-color:#ffff40;padding-left:0px;padding-right:0px\">111111.111-11</mark></b>\n",
              "</pre></td></tr>\n",
              "<tr><td><div class=\"certo\"/></td><td style=\"text-align:left;\"><b><mark style=\"background-color:#ffff40;padding-left:0px;padding-right:0px\">111.111111-11</mark></b>\n",
              "</pre></td></tr>\n",
              "<tr><td><div class=\"certo\"/></td><td style=\"text-align:left;\"><b><mark style=\"background-color:#ffff40;padding-left:0px;padding-right:0px\">11101101111</mark></b>\n",
              "</pre></td></tr><tr><td><div class=\"certo\"/></td><td style=\"text-align:left;\"><div style=\"color:#808080\">0111.111.111-11\n",
              "&#9;(sem ocorrências)</div></td></tr>\n",
              "<tr><td><div class=\"certo\"/></td><td style=\"text-align:left;\"><div style=\"color:#808080\">111.111.111-110\n",
              "&#9;(sem ocorrências)</div></td></tr>\n",
              "<tr><td><div class=\"certo\"/></td><td style=\"text-align:left;\"><div style=\"color:#808080\">111.0111.0111-11\n",
              "&#9;(sem ocorrências)</div></td></tr>\n",
              "<tr><td><div class=\"certo\"/></td><td style=\"text-align:left;\"><div style=\"color:#808080\">11101110111-11\n",
              "&#9;(sem ocorrências)</div></td></tr>\n",
              "<tr><td><div class=\"certo\"/></td><td style=\"text-align:left;\"><div style=\"color:#808080\">111.111.111111\n",
              "&#9;(sem ocorrências)</div></td></tr>\n",
              "<tr><td><div class=\"certo\"/></td><td style=\"text-align:left;\"><div style=\"color:#808080\">1110110111111\n",
              "&#9;(sem ocorrências)</div></td></tr>\n",
              "<tr><td><div class=\"certo\"/></td><td style=\"text-align:left;\"><div style=\"color:#808080\">111011011111\n",
              "&#9;(sem ocorrências)</div></td></tr>\n",
              "<tr><td><div class=\"certo\"/></td><td style=\"text-align:left;\"><div style=\"color:#808080\">1110110111\n",
              "&#9;(sem ocorrências)</div></td></tr>\n",
              "<tr><td><div class=\"certo\"/></td><td style=\"text-align:left;\"><div style=\"color:#808080\">111011011\n",
              "&#9;(sem ocorrências)</div></td></tr>\n",
              "<tr><td><div class=\"certo\"/></td><td style=\"text-align:left;\"><div style=\"color:#808080\">.111011011-11\n",
              "&#9;(sem ocorrências)</div></td></tr>\n",
              "<tr><td><div class=\"certo\"/></td><td style=\"text-align:left;\"><div style=\"color:#808080\">..111011011-11\n",
              "&#9;(sem ocorrências)</div></td></tr>\n",
              "<tr><td><div class=\"certo\"/></td><td style=\"text-align:left;\"><div style=\"color:#808080\">...111011011-11\n",
              "&#9;(sem ocorrências)</div></td></tr>\n",
              "<tr><td><div class=\"certo\"/></td><td style=\"text-align:left;\"><div style=\"color:#808080\">..1.11011011-11\n",
              "&#9;(sem ocorrências)</div></td></tr>\n",
              "<tr><td><div class=\"certo\"/></td><td style=\"text-align:left;\"><div style=\"color:#808080\">.1.1.1011011-11\n",
              "&#9;(sem ocorrências)</div></td></tr>\n",
              "<tr><td><div class=\"certo\"/></td><td style=\"text-align:left;\"><div style=\"color:#808080\">1.1.1.011011-11&#9;(sem ocorrências)</div></td></tr></table>"
            ],
            "text/plain": [
              "<IPython.core.display.HTML object>"
            ]
          },
          "metadata": {
            "tags": []
          }
        }
      ]
    },
    {
      "cell_type": "markdown",
      "metadata": {
        "azdata_cell_guid": "e3609c01-ae52-44bd-a092-d35714526482",
        "id": "z_9fnLrptNpE"
      },
      "source": [
        "Uma linha contendo exatamente um CNPJ com separador de milhares, barra e hífen."
      ]
    },
    {
      "cell_type": "code",
      "metadata": {
        "azdata_cell_guid": "e3c33cd9-c7ef-455a-94b5-5493c0b9aa8c",
        "id": "PKqvcgG0tNpE",
        "colab": {
          "base_uri": "https://localhost:8080/",
          "height": 292
        },
        "outputId": "aece5052-6873-49d5-eb9e-614ba44f3de8"
      },
      "source": [
        "exercicio(17, r'^\\d{2}\\.\\d{3}\\.\\d{3}\\/\\d{4}\\-\\d{2}$')"
      ],
      "execution_count": 72,
      "outputs": [
        {
          "output_type": "display_data",
          "data": {
            "text/html": [
              "<style>.certo {background-image: url('data:image/png;base64,iVBORw0KGgoAAAANSUhEUgAAABAAAAAQCAYAAAAf8/9hAAAABHNCSVQICAgIfAhkiAAAAAlwSFlzAAALEwAACxMBAJqcGAAAAgBJREFUOI2lkz1oU1EUx3/nvpcmNqWlNIoKFkFsXKrSOCkoDi6iVOwgCEWLiyBaTKuLdhP8ACkoig5iqoM4SDGDq2uLxUHFptWhHQTF1gzlNc27ufc6tHk0NMTBs917zu9/vu6F/zSpd7lvcnC/VeqUCF1Y61Aya8WOf8k8+NRQIDOVTYXGjImnjtdN51y+omXg68HRPxsEMlPZlHaVj4i3o1HJ1rk5iSd6Pu+9UwRQVceK1m/+BQMokZ2USq+jM0DPxFDGi/mHG4EnWjM0q/hq2Z461v3hanckEOrycCN4oP0o2S0nub31LLLWtQv1UCTglPRUg5MqHmWqwv0dR6hYw6v59zhc1XUAwAcQZxMALSrBvW39WGe5/vMlZ9oORfBIYYwJNYesjc06NkUCzthFoDNuPFpJsL25g1znJVJ+Wy3sRzNHtF2IWjAr5h3AIgGXC0/4UVog5behbYWb0zkmvFoYwJZ0PhIgKI1WgrJBoNiiuVJ4ynzwi5HpF0z684hXC+ulsl4uh49g3UNK5y/caNqcvCUxDxy4pTIkYxtgFxrC38HwTO+z+zUCOKQrf/5xrD150WtuqrtOE4SY4vLDQu/zQWR1HRs+U3r8XJ943l2VbNolvkIQrDboQH8TY67Nns69XR9f9zfikD3j/budeGlx4sS6mem+3Pdq1vX2FyOryD82RGIbAAAAAElFTkSuQmCC'); background-size: cover; height: 16px; width: 16px}.errado {background-image: url('data:image/png;base64,iVBORw0KGgoAAAANSUhEUgAAABAAAAAQCAYAAAAf8/9hAAAABHNCSVQICAgIfAhkiAAAAAlwSFlzAAALEwAACxMBAJqcGAAAAjNJREFUOI2lk01IVFEYhp9zznUcnUnH/Bk3WhCVFEFZbiwUAxeZlCJFWERBgZsIqRatWhuRi0BtFS1bSGQYlBLISD8EgbWwv0VFxlijThOpd+6ce1o49zrh4KZ3+XHe53u/j+/Af0rkK35ra9ythOgwmG0gDYIPUnC/+uHkm3UBM+3NFZC5KxFt+cCuNiNa67O1T17MrwHMtDdX4DqvpZQ160XOGPPZRdRvGp1cAJA+PeMMe2ZRXrl21mzNEmKzMPqeV5cAXw4f2GtZsgmAso2o60PIjhOr5s5uVN8glEQAKJCq9evRpl0AFkDGsS8HAoUrEecSzN8ZJNrTC1JiDFhdJ4kP3CCSXEDJlamdJfsScMYCcJH1XjdLSkITj/mhLKrOXwBg9nY/G2LjKKVWUxn2+QkMBHPnLVQKK1QMxgAQKQ4hc8wArqTIB2jXnQNqffqR4wSPnSY+1A9AdU8vGcvCjA77gLR2Ez5gydGPIkH2ALilEaxDncQHbxKOjQEQBypPnUPHxpGpXwD8yaRHIHsHYw115TWl4dnSYFC5xvBTKMq0QyAb29aapApQZTRCQMpOO9/TdlXLxFRSArS+ejeXWLSv2VojhSCK65u9nURZMS9rTWJx+WrLxFTST5BdpIjt3zEQDYV7SgIB8imVTpP4vXSr8fnbiwLMPwBPTxt3dhUp1RcuKNjipUhrTWrZ/mijrxx8Nv0g933e32hAxBrqtrpKbTcCI1z3ffPL6U9e11z9Bai+yG1sATfvAAAAAElFTkSuQmCC'); background-size: cover; height: 16px; width: 16px}</style><table><tr><td><div class=\"certo\"/></td><td style=\"text-align:left;\"><b><mark style=\"background-color:#ffff40;padding-left:0px;padding-right:0px\">00.000.000/0001-00</mark></b>\n",
              "</pre></td></tr><tr><td><div class=\"certo\"/></td><td style=\"text-align:left;\"><div style=\"color:#808080\">xx.000.000/0001-xx\n",
              "&#9;(sem ocorrências)</div></td></tr>\n",
              "<tr><td><div class=\"certo\"/></td><td style=\"text-align:left;\"><div style=\"color:#808080\">0011001000/0001-00\n",
              "&#9;(sem ocorrências)</div></td></tr>\n",
              "<tr><td><div class=\"certo\"/></td><td style=\"text-align:left;\"><div style=\"color:#808080\">00.000.00010001-00\n",
              "&#9;(sem ocorrências)</div></td></tr>\n",
              "<tr><td><div class=\"certo\"/></td><td style=\"text-align:left;\"><div style=\"color:#808080\">00.000.000/0001100\n",
              "&#9;(sem ocorrências)</div></td></tr>\n",
              "<tr><td><div class=\"certo\"/></td><td style=\"text-align:left;\"><div style=\"color:#808080\">00000.000/0001-00\n",
              "&#9;(sem ocorrências)</div></td></tr>\n",
              "<tr><td><div class=\"certo\"/></td><td style=\"text-align:left;\"><div style=\"color:#808080\">00000000/0001-00\n",
              "&#9;(sem ocorrências)</div></td></tr>\n",
              "<tr><td><div class=\"certo\"/></td><td style=\"text-align:left;\"><div style=\"color:#808080\">000000000001-00\n",
              "&#9;(sem ocorrências)</div></td></tr>\n",
              "<tr><td><div class=\"certo\"/></td><td style=\"text-align:left;\"><div style=\"color:#808080\">00000000000100\n",
              "&#9;(sem ocorrências)</div></td></tr>\n",
              "<tr><td><div class=\"certo\"/></td><td style=\"text-align:left;\"><div style=\"color:#808080\">x00000000000100\n",
              "&#9;(sem ocorrências)</div></td></tr>\n",
              "<tr><td><div class=\"certo\"/></td><td style=\"text-align:left;\"><div style=\"color:#808080\">00000000000100x\n",
              "&#9;(sem ocorrências)</div></td></tr>\n",
              "<tr><td><div class=\"certo\"/></td><td style=\"text-align:left;\"><div style=\"color:#808080\">00x000.000000100\n",
              "&#9;(sem ocorrências)</div></td></tr>\n",
              "<tr><td><div class=\"certo\"/></td><td style=\"text-align:left;\"><div style=\"color:#808080\">00x000.0000001-00&#9;(sem ocorrências)</div></td></tr></table>"
            ],
            "text/plain": [
              "<IPython.core.display.HTML object>"
            ]
          },
          "metadata": {
            "tags": []
          }
        }
      ]
    },
    {
      "cell_type": "markdown",
      "metadata": {
        "azdata_cell_guid": "bd9367b2-6add-4870-8282-4baaeba292e7",
        "id": "ZNnhGCGItNpE"
      },
      "source": [
        "Uma linha contendo exatamente um CNPJ com separador de milhares opcional, barra opcional e hífen opcional."
      ]
    },
    {
      "cell_type": "code",
      "metadata": {
        "azdata_cell_guid": "dd04dd12-3ec0-438e-bf98-6d51f6923090",
        "id": "pJ9d5jEUtNpF",
        "colab": {
          "base_uri": "https://localhost:8080/",
          "height": 292
        },
        "outputId": "8c1e578d-cb76-460c-efa1-474d56be53ab"
      },
      "source": [
        "exercicio(18, r'^\\d{2}\\.?\\d{3}\\.?\\d{3}\\/?\\d{4}\\-?\\d{2}$')"
      ],
      "execution_count": 73,
      "outputs": [
        {
          "output_type": "display_data",
          "data": {
            "text/html": [
              "<style>.certo {background-image: url('data:image/png;base64,iVBORw0KGgoAAAANSUhEUgAAABAAAAAQCAYAAAAf8/9hAAAABHNCSVQICAgIfAhkiAAAAAlwSFlzAAALEwAACxMBAJqcGAAAAgBJREFUOI2lkz1oU1EUx3/nvpcmNqWlNIoKFkFsXKrSOCkoDi6iVOwgCEWLiyBaTKuLdhP8ACkoig5iqoM4SDGDq2uLxUHFptWhHQTF1gzlNc27ufc6tHk0NMTBs917zu9/vu6F/zSpd7lvcnC/VeqUCF1Y61Aya8WOf8k8+NRQIDOVTYXGjImnjtdN51y+omXg68HRPxsEMlPZlHaVj4i3o1HJ1rk5iSd6Pu+9UwRQVceK1m/+BQMokZ2USq+jM0DPxFDGi/mHG4EnWjM0q/hq2Z461v3hanckEOrycCN4oP0o2S0nub31LLLWtQv1UCTglPRUg5MqHmWqwv0dR6hYw6v59zhc1XUAwAcQZxMALSrBvW39WGe5/vMlZ9oORfBIYYwJNYesjc06NkUCzthFoDNuPFpJsL25g1znJVJ+Wy3sRzNHtF2IWjAr5h3AIgGXC0/4UVog5behbYWb0zkmvFoYwJZ0PhIgKI1WgrJBoNiiuVJ4ynzwi5HpF0z684hXC+ulsl4uh49g3UNK5y/caNqcvCUxDxy4pTIkYxtgFxrC38HwTO+z+zUCOKQrf/5xrD150WtuqrtOE4SY4vLDQu/zQWR1HRs+U3r8XJ943l2VbNolvkIQrDboQH8TY67Nns69XR9f9zfikD3j/budeGlx4sS6mem+3Pdq1vX2FyOryD82RGIbAAAAAElFTkSuQmCC'); background-size: cover; height: 16px; width: 16px}.errado {background-image: url('data:image/png;base64,iVBORw0KGgoAAAANSUhEUgAAABAAAAAQCAYAAAAf8/9hAAAABHNCSVQICAgIfAhkiAAAAAlwSFlzAAALEwAACxMBAJqcGAAAAjNJREFUOI2lk01IVFEYhp9zznUcnUnH/Bk3WhCVFEFZbiwUAxeZlCJFWERBgZsIqRatWhuRi0BtFS1bSGQYlBLISD8EgbWwv0VFxlijThOpd+6ce1o49zrh4KZ3+XHe53u/j+/Af0rkK35ra9ythOgwmG0gDYIPUnC/+uHkm3UBM+3NFZC5KxFt+cCuNiNa67O1T17MrwHMtDdX4DqvpZQ160XOGPPZRdRvGp1cAJA+PeMMe2ZRXrl21mzNEmKzMPqeV5cAXw4f2GtZsgmAso2o60PIjhOr5s5uVN8glEQAKJCq9evRpl0AFkDGsS8HAoUrEecSzN8ZJNrTC1JiDFhdJ4kP3CCSXEDJlamdJfsScMYCcJH1XjdLSkITj/mhLKrOXwBg9nY/G2LjKKVWUxn2+QkMBHPnLVQKK1QMxgAQKQ4hc8wArqTIB2jXnQNqffqR4wSPnSY+1A9AdU8vGcvCjA77gLR2Ez5gydGPIkH2ALilEaxDncQHbxKOjQEQBypPnUPHxpGpXwD8yaRHIHsHYw115TWl4dnSYFC5xvBTKMq0QyAb29aapApQZTRCQMpOO9/TdlXLxFRSArS+ejeXWLSv2VojhSCK65u9nURZMS9rTWJx+WrLxFTST5BdpIjt3zEQDYV7SgIB8imVTpP4vXSr8fnbiwLMPwBPTxt3dhUp1RcuKNjipUhrTWrZ/mijrxx8Nv0g933e32hAxBrqtrpKbTcCI1z3ffPL6U9e11z9Bai+yG1sATfvAAAAAElFTkSuQmCC'); background-size: cover; height: 16px; width: 16px}</style><table><tr><td><div class=\"certo\"/></td><td style=\"text-align:left;\"><b><mark style=\"background-color:#ffff40;padding-left:0px;padding-right:0px\">00.000.000/0001-00</mark></b>\n",
              "</pre></td></tr>\n",
              "<tr><td><div class=\"certo\"/></td><td style=\"text-align:left;\"><b><mark style=\"background-color:#ffff40;padding-left:0px;padding-right:0px\">00000.000/0001-00</mark></b>\n",
              "</pre></td></tr>\n",
              "<tr><td><div class=\"certo\"/></td><td style=\"text-align:left;\"><b><mark style=\"background-color:#ffff40;padding-left:0px;padding-right:0px\">00000000/0001-00</mark></b>\n",
              "</pre></td></tr>\n",
              "<tr><td><div class=\"certo\"/></td><td style=\"text-align:left;\"><b><mark style=\"background-color:#ffff40;padding-left:0px;padding-right:0px\">000000000001-00</mark></b>\n",
              "</pre></td></tr>\n",
              "<tr><td><div class=\"certo\"/></td><td style=\"text-align:left;\"><b><mark style=\"background-color:#ffff40;padding-left:0px;padding-right:0px\">00000000000100</mark></b>\n",
              "</pre></td></tr><tr><td><div class=\"certo\"/></td><td style=\"text-align:left;\"><div style=\"color:#808080\">xx.000.000/0001-xx\n",
              "&#9;(sem ocorrências)</div></td></tr>\n",
              "<tr><td><div class=\"certo\"/></td><td style=\"text-align:left;\"><div style=\"color:#808080\">0011001000/0001-00\n",
              "&#9;(sem ocorrências)</div></td></tr>\n",
              "<tr><td><div class=\"certo\"/></td><td style=\"text-align:left;\"><div style=\"color:#808080\">00.000.00010001-00\n",
              "&#9;(sem ocorrências)</div></td></tr>\n",
              "<tr><td><div class=\"certo\"/></td><td style=\"text-align:left;\"><div style=\"color:#808080\">00.000.000/0001100\n",
              "&#9;(sem ocorrências)</div></td></tr>\n",
              "<tr><td><div class=\"certo\"/></td><td style=\"text-align:left;\"><div style=\"color:#808080\">x00000000000100\n",
              "&#9;(sem ocorrências)</div></td></tr>\n",
              "<tr><td><div class=\"certo\"/></td><td style=\"text-align:left;\"><div style=\"color:#808080\">00000000000100x\n",
              "&#9;(sem ocorrências)</div></td></tr>\n",
              "<tr><td><div class=\"certo\"/></td><td style=\"text-align:left;\"><div style=\"color:#808080\">00x000.000000100\n",
              "&#9;(sem ocorrências)</div></td></tr>\n",
              "<tr><td><div class=\"certo\"/></td><td style=\"text-align:left;\"><div style=\"color:#808080\">00x000.0000001-00&#9;(sem ocorrências)</div></td></tr></table>"
            ],
            "text/plain": [
              "<IPython.core.display.HTML object>"
            ]
          },
          "metadata": {
            "tags": []
          }
        }
      ]
    },
    {
      "cell_type": "markdown",
      "metadata": {
        "azdata_cell_guid": "a0c6958b-aa8a-45cf-8ef9-fbb020039a11",
        "id": "-5cvif0StNpF"
      },
      "source": [
        "Uma linha contendo exatamente um CEP com separador de milhares e hífen"
      ]
    },
    {
      "cell_type": "code",
      "metadata": {
        "azdata_cell_guid": "541768d1-4c21-4a8a-aade-97f2e66fff3d",
        "id": "AuPpjOXctNpF",
        "colab": {
          "base_uri": "https://localhost:8080/",
          "height": 271
        },
        "outputId": "b58789c8-1ac9-4eed-e642-1a299b191ece"
      },
      "source": [
        "exercicio(19, r'^\\d{2}\\.\\d{3}\\-\\d{3}')"
      ],
      "execution_count": 84,
      "outputs": [
        {
          "output_type": "display_data",
          "data": {
            "text/html": [
              "<style>.certo {background-image: url('data:image/png;base64,iVBORw0KGgoAAAANSUhEUgAAABAAAAAQCAYAAAAf8/9hAAAABHNCSVQICAgIfAhkiAAAAAlwSFlzAAALEwAACxMBAJqcGAAAAgBJREFUOI2lkz1oU1EUx3/nvpcmNqWlNIoKFkFsXKrSOCkoDi6iVOwgCEWLiyBaTKuLdhP8ACkoig5iqoM4SDGDq2uLxUHFptWhHQTF1gzlNc27ufc6tHk0NMTBs917zu9/vu6F/zSpd7lvcnC/VeqUCF1Y61Aya8WOf8k8+NRQIDOVTYXGjImnjtdN51y+omXg68HRPxsEMlPZlHaVj4i3o1HJ1rk5iSd6Pu+9UwRQVceK1m/+BQMokZ2USq+jM0DPxFDGi/mHG4EnWjM0q/hq2Z461v3hanckEOrycCN4oP0o2S0nub31LLLWtQv1UCTglPRUg5MqHmWqwv0dR6hYw6v59zhc1XUAwAcQZxMALSrBvW39WGe5/vMlZ9oORfBIYYwJNYesjc06NkUCzthFoDNuPFpJsL25g1znJVJ+Wy3sRzNHtF2IWjAr5h3AIgGXC0/4UVog5behbYWb0zkmvFoYwJZ0PhIgKI1WgrJBoNiiuVJ4ynzwi5HpF0z684hXC+ulsl4uh49g3UNK5y/caNqcvCUxDxy4pTIkYxtgFxrC38HwTO+z+zUCOKQrf/5xrD150WtuqrtOE4SY4vLDQu/zQWR1HRs+U3r8XJ943l2VbNolvkIQrDboQH8TY67Nns69XR9f9zfikD3j/budeGlx4sS6mem+3Pdq1vX2FyOryD82RGIbAAAAAElFTkSuQmCC'); background-size: cover; height: 16px; width: 16px}.errado {background-image: url('data:image/png;base64,iVBORw0KGgoAAAANSUhEUgAAABAAAAAQCAYAAAAf8/9hAAAABHNCSVQICAgIfAhkiAAAAAlwSFlzAAALEwAACxMBAJqcGAAAAjNJREFUOI2lk01IVFEYhp9zznUcnUnH/Bk3WhCVFEFZbiwUAxeZlCJFWERBgZsIqRatWhuRi0BtFS1bSGQYlBLISD8EgbWwv0VFxlijThOpd+6ce1o49zrh4KZ3+XHe53u/j+/Af0rkK35ra9ythOgwmG0gDYIPUnC/+uHkm3UBM+3NFZC5KxFt+cCuNiNa67O1T17MrwHMtDdX4DqvpZQ160XOGPPZRdRvGp1cAJA+PeMMe2ZRXrl21mzNEmKzMPqeV5cAXw4f2GtZsgmAso2o60PIjhOr5s5uVN8glEQAKJCq9evRpl0AFkDGsS8HAoUrEecSzN8ZJNrTC1JiDFhdJ4kP3CCSXEDJlamdJfsScMYCcJH1XjdLSkITj/mhLKrOXwBg9nY/G2LjKKVWUxn2+QkMBHPnLVQKK1QMxgAQKQ4hc8wArqTIB2jXnQNqffqR4wSPnSY+1A9AdU8vGcvCjA77gLR2Ez5gydGPIkH2ALilEaxDncQHbxKOjQEQBypPnUPHxpGpXwD8yaRHIHsHYw115TWl4dnSYFC5xvBTKMq0QyAb29aapApQZTRCQMpOO9/TdlXLxFRSArS+ejeXWLSv2VojhSCK65u9nURZMS9rTWJx+WrLxFTST5BdpIjt3zEQDYV7SgIB8imVTpP4vXSr8fnbiwLMPwBPTxt3dhUp1RcuKNjipUhrTWrZ/mijrxx8Nv0g933e32hAxBrqtrpKbTcCI1z3ffPL6U9e11z9Bai+yG1sATfvAAAAAElFTkSuQmCC'); background-size: cover; height: 16px; width: 16px}</style><table><tr><td><div class=\"certo\"/></td><td style=\"text-align:left;\"><b><mark style=\"background-color:#ffff40;padding-left:0px;padding-right:0px\">70.000-000</mark></b>\n",
              "</pre></td></tr><tr><td><div class=\"certo\"/></td><td style=\"text-align:left;\"><div style=\"color:#808080\">7a.aaa-aaa\n",
              "&#9;(sem ocorrências)</div></td></tr>\n",
              "<tr><td><div class=\"certo\"/></td><td style=\"text-align:left;\"><div style=\"color:#808080\">7000000000\n",
              "&#9;(sem ocorrências)</div></td></tr>\n",
              "<tr><td><div class=\"certo\"/></td><td style=\"text-align:left;\"><div style=\"color:#808080\">70000-000\n",
              "&#9;(sem ocorrências)</div></td></tr>\n",
              "<tr><td><div class=\"certo\"/></td><td style=\"text-align:left;\"><div style=\"color:#808080\">700000000\n",
              "&#9;(sem ocorrências)</div></td></tr>\n",
              "<tr><td><div class=\"certo\"/></td><td style=\"text-align:left;\"><div style=\"color:#808080\">70000000\n",
              "&#9;(sem ocorrências)</div></td></tr>\n",
              "<tr><td><div class=\"certo\"/></td><td style=\"text-align:left;\"><div style=\"color:#808080\">7000000\n",
              "&#9;(sem ocorrências)</div></td></tr>\n",
              "<tr><td><div class=\"certo\"/></td><td style=\"text-align:left;\"><div style=\"color:#808080\">700000\n",
              "&#9;(sem ocorrências)</div></td></tr>\n",
              "<tr><td><div class=\"certo\"/></td><td style=\"text-align:left;\"><div style=\"color:#808080\">70000\n",
              "&#9;(sem ocorrências)</div></td></tr>\n",
              "<tr><td><div class=\"certo\"/></td><td style=\"text-align:left;\"><div style=\"color:#808080\">7000\n",
              "&#9;(sem ocorrências)</div></td></tr>\n",
              "<tr><td><div class=\"certo\"/></td><td style=\"text-align:left;\"><div style=\"color:#808080\">70000aaa\n",
              "&#9;(sem ocorrências)</div></td></tr>\n",
              "<tr><td><div class=\"certo\"/></td><td style=\"text-align:left;\"><div style=\"color:#808080\">aaa70000&#9;(sem ocorrências)</div></td></tr></table>"
            ],
            "text/plain": [
              "<IPython.core.display.HTML object>"
            ]
          },
          "metadata": {
            "tags": []
          }
        }
      ]
    },
    {
      "cell_type": "markdown",
      "metadata": {
        "azdata_cell_guid": "262f8816-9925-4aee-8ae7-dcb168ca3cf9",
        "id": "ZBpmJXWltNpF"
      },
      "source": [
        "Uma linha contendo exatamente um CEP com separador de milhares opcional e hífen opcional"
      ]
    },
    {
      "cell_type": "code",
      "metadata": {
        "azdata_cell_guid": "698d6615-a805-41e0-b195-15eb1903b430",
        "id": "4VSoofXRtNpF",
        "colab": {
          "base_uri": "https://localhost:8080/",
          "height": 271
        },
        "outputId": "eb37e029-1e25-4838-e31e-9682b4663f02"
      },
      "source": [
        "exercicio(20, r'^\\d{2}\\.?\\d{3}\\-?\\d{3}$')"
      ],
      "execution_count": 83,
      "outputs": [
        {
          "output_type": "display_data",
          "data": {
            "text/html": [
              "<style>.certo {background-image: url('data:image/png;base64,iVBORw0KGgoAAAANSUhEUgAAABAAAAAQCAYAAAAf8/9hAAAABHNCSVQICAgIfAhkiAAAAAlwSFlzAAALEwAACxMBAJqcGAAAAgBJREFUOI2lkz1oU1EUx3/nvpcmNqWlNIoKFkFsXKrSOCkoDi6iVOwgCEWLiyBaTKuLdhP8ACkoig5iqoM4SDGDq2uLxUHFptWhHQTF1gzlNc27ufc6tHk0NMTBs917zu9/vu6F/zSpd7lvcnC/VeqUCF1Y61Aya8WOf8k8+NRQIDOVTYXGjImnjtdN51y+omXg68HRPxsEMlPZlHaVj4i3o1HJ1rk5iSd6Pu+9UwRQVceK1m/+BQMokZ2USq+jM0DPxFDGi/mHG4EnWjM0q/hq2Z461v3hanckEOrycCN4oP0o2S0nub31LLLWtQv1UCTglPRUg5MqHmWqwv0dR6hYw6v59zhc1XUAwAcQZxMALSrBvW39WGe5/vMlZ9oORfBIYYwJNYesjc06NkUCzthFoDNuPFpJsL25g1znJVJ+Wy3sRzNHtF2IWjAr5h3AIgGXC0/4UVog5behbYWb0zkmvFoYwJZ0PhIgKI1WgrJBoNiiuVJ4ynzwi5HpF0z684hXC+ulsl4uh49g3UNK5y/caNqcvCUxDxy4pTIkYxtgFxrC38HwTO+z+zUCOKQrf/5xrD150WtuqrtOE4SY4vLDQu/zQWR1HRs+U3r8XJ943l2VbNolvkIQrDboQH8TY67Nns69XR9f9zfikD3j/budeGlx4sS6mem+3Pdq1vX2FyOryD82RGIbAAAAAElFTkSuQmCC'); background-size: cover; height: 16px; width: 16px}.errado {background-image: url('data:image/png;base64,iVBORw0KGgoAAAANSUhEUgAAABAAAAAQCAYAAAAf8/9hAAAABHNCSVQICAgIfAhkiAAAAAlwSFlzAAALEwAACxMBAJqcGAAAAjNJREFUOI2lk01IVFEYhp9zznUcnUnH/Bk3WhCVFEFZbiwUAxeZlCJFWERBgZsIqRatWhuRi0BtFS1bSGQYlBLISD8EgbWwv0VFxlijThOpd+6ce1o49zrh4KZ3+XHe53u/j+/Af0rkK35ra9ythOgwmG0gDYIPUnC/+uHkm3UBM+3NFZC5KxFt+cCuNiNa67O1T17MrwHMtDdX4DqvpZQ160XOGPPZRdRvGp1cAJA+PeMMe2ZRXrl21mzNEmKzMPqeV5cAXw4f2GtZsgmAso2o60PIjhOr5s5uVN8glEQAKJCq9evRpl0AFkDGsS8HAoUrEecSzN8ZJNrTC1JiDFhdJ4kP3CCSXEDJlamdJfsScMYCcJH1XjdLSkITj/mhLKrOXwBg9nY/G2LjKKVWUxn2+QkMBHPnLVQKK1QMxgAQKQ4hc8wArqTIB2jXnQNqffqR4wSPnSY+1A9AdU8vGcvCjA77gLR2Ez5gydGPIkH2ALilEaxDncQHbxKOjQEQBypPnUPHxpGpXwD8yaRHIHsHYw115TWl4dnSYFC5xvBTKMq0QyAb29aapApQZTRCQMpOO9/TdlXLxFRSArS+ejeXWLSv2VojhSCK65u9nURZMS9rTWJx+WrLxFTST5BdpIjt3zEQDYV7SgIB8imVTpP4vXSr8fnbiwLMPwBPTxt3dhUp1RcuKNjipUhrTWrZ/mijrxx8Nv0g933e32hAxBrqtrpKbTcCI1z3ffPL6U9e11z9Bai+yG1sATfvAAAAAElFTkSuQmCC'); background-size: cover; height: 16px; width: 16px}</style><table><tr><td><div class=\"certo\"/></td><td style=\"text-align:left;\"><b><mark style=\"background-color:#ffff40;padding-left:0px;padding-right:0px\">70.000-000</mark></b>\n",
              "</pre></td></tr>\n",
              "<tr><td><div class=\"certo\"/></td><td style=\"text-align:left;\"><b><mark style=\"background-color:#ffff40;padding-left:0px;padding-right:0px\">70000-000</mark></b>\n",
              "</pre></td></tr>\n",
              "<tr><td><div class=\"certo\"/></td><td style=\"text-align:left;\"><b><mark style=\"background-color:#ffff40;padding-left:0px;padding-right:0px\">70000000</mark></b>\n",
              "</pre></td></tr><tr><td><div class=\"certo\"/></td><td style=\"text-align:left;\"><div style=\"color:#808080\">7a.aaa-aaa\n",
              "&#9;(sem ocorrências)</div></td></tr>\n",
              "<tr><td><div class=\"certo\"/></td><td style=\"text-align:left;\"><div style=\"color:#808080\">7000000000\n",
              "&#9;(sem ocorrências)</div></td></tr>\n",
              "<tr><td><div class=\"certo\"/></td><td style=\"text-align:left;\"><div style=\"color:#808080\">700000000\n",
              "&#9;(sem ocorrências)</div></td></tr>\n",
              "<tr><td><div class=\"certo\"/></td><td style=\"text-align:left;\"><div style=\"color:#808080\">7000000\n",
              "&#9;(sem ocorrências)</div></td></tr>\n",
              "<tr><td><div class=\"certo\"/></td><td style=\"text-align:left;\"><div style=\"color:#808080\">700000\n",
              "&#9;(sem ocorrências)</div></td></tr>\n",
              "<tr><td><div class=\"certo\"/></td><td style=\"text-align:left;\"><div style=\"color:#808080\">70000\n",
              "&#9;(sem ocorrências)</div></td></tr>\n",
              "<tr><td><div class=\"certo\"/></td><td style=\"text-align:left;\"><div style=\"color:#808080\">7000\n",
              "&#9;(sem ocorrências)</div></td></tr>\n",
              "<tr><td><div class=\"certo\"/></td><td style=\"text-align:left;\"><div style=\"color:#808080\">70000aaa\n",
              "&#9;(sem ocorrências)</div></td></tr>\n",
              "<tr><td><div class=\"certo\"/></td><td style=\"text-align:left;\"><div style=\"color:#808080\">aaa70000&#9;(sem ocorrências)</div></td></tr></table>"
            ],
            "text/plain": [
              "<IPython.core.display.HTML object>"
            ]
          },
          "metadata": {
            "tags": []
          }
        }
      ]
    },
    {
      "cell_type": "markdown",
      "metadata": {
        "azdata_cell_guid": "2461a0a2-24fc-4df5-8be8-e60b4c8cd46b",
        "id": "YmxyYoIitNpF"
      },
      "source": [
        "Uma linha contendo exatamente um telefone no formato (xx)xxxx-xxxx."
      ]
    },
    {
      "cell_type": "code",
      "metadata": {
        "azdata_cell_guid": "945c6146-7d03-4e71-af38-bd20e43739ee",
        "id": "KjJ2DDTNtNpG",
        "colab": {
          "base_uri": "https://localhost:8080/",
          "height": 166
        },
        "outputId": "a520891f-5a17-4feb-e070-12cea7d16c09"
      },
      "source": [
        "exercicio(21, r'^\\(\\d{2}\\)\\d{4}\\-\\d{4}$')"
      ],
      "execution_count": 79,
      "outputs": [
        {
          "output_type": "display_data",
          "data": {
            "text/html": [
              "<style>.certo {background-image: url('data:image/png;base64,iVBORw0KGgoAAAANSUhEUgAAABAAAAAQCAYAAAAf8/9hAAAABHNCSVQICAgIfAhkiAAAAAlwSFlzAAALEwAACxMBAJqcGAAAAgBJREFUOI2lkz1oU1EUx3/nvpcmNqWlNIoKFkFsXKrSOCkoDi6iVOwgCEWLiyBaTKuLdhP8ACkoig5iqoM4SDGDq2uLxUHFptWhHQTF1gzlNc27ufc6tHk0NMTBs917zu9/vu6F/zSpd7lvcnC/VeqUCF1Y61Aya8WOf8k8+NRQIDOVTYXGjImnjtdN51y+omXg68HRPxsEMlPZlHaVj4i3o1HJ1rk5iSd6Pu+9UwRQVceK1m/+BQMokZ2USq+jM0DPxFDGi/mHG4EnWjM0q/hq2Z461v3hanckEOrycCN4oP0o2S0nub31LLLWtQv1UCTglPRUg5MqHmWqwv0dR6hYw6v59zhc1XUAwAcQZxMALSrBvW39WGe5/vMlZ9oORfBIYYwJNYesjc06NkUCzthFoDNuPFpJsL25g1znJVJ+Wy3sRzNHtF2IWjAr5h3AIgGXC0/4UVog5behbYWb0zkmvFoYwJZ0PhIgKI1WgrJBoNiiuVJ4ynzwi5HpF0z684hXC+ulsl4uh49g3UNK5y/caNqcvCUxDxy4pTIkYxtgFxrC38HwTO+z+zUCOKQrf/5xrD150WtuqrtOE4SY4vLDQu/zQWR1HRs+U3r8XJ943l2VbNolvkIQrDboQH8TY67Nns69XR9f9zfikD3j/budeGlx4sS6mem+3Pdq1vX2FyOryD82RGIbAAAAAElFTkSuQmCC'); background-size: cover; height: 16px; width: 16px}.errado {background-image: url('data:image/png;base64,iVBORw0KGgoAAAANSUhEUgAAABAAAAAQCAYAAAAf8/9hAAAABHNCSVQICAgIfAhkiAAAAAlwSFlzAAALEwAACxMBAJqcGAAAAjNJREFUOI2lk01IVFEYhp9zznUcnUnH/Bk3WhCVFEFZbiwUAxeZlCJFWERBgZsIqRatWhuRi0BtFS1bSGQYlBLISD8EgbWwv0VFxlijThOpd+6ce1o49zrh4KZ3+XHe53u/j+/Af0rkK35ra9ythOgwmG0gDYIPUnC/+uHkm3UBM+3NFZC5KxFt+cCuNiNa67O1T17MrwHMtDdX4DqvpZQ160XOGPPZRdRvGp1cAJA+PeMMe2ZRXrl21mzNEmKzMPqeV5cAXw4f2GtZsgmAso2o60PIjhOr5s5uVN8glEQAKJCq9evRpl0AFkDGsS8HAoUrEecSzN8ZJNrTC1JiDFhdJ4kP3CCSXEDJlamdJfsScMYCcJH1XjdLSkITj/mhLKrOXwBg9nY/G2LjKKVWUxn2+QkMBHPnLVQKK1QMxgAQKQ4hc8wArqTIB2jXnQNqffqR4wSPnSY+1A9AdU8vGcvCjA77gLR2Ez5gydGPIkH2ALilEaxDncQHbxKOjQEQBypPnUPHxpGpXwD8yaRHIHsHYw115TWl4dnSYFC5xvBTKMq0QyAb29aapApQZTRCQMpOO9/TdlXLxFRSArS+ejeXWLSv2VojhSCK65u9nURZMS9rTWJx+WrLxFTST5BdpIjt3zEQDYV7SgIB8imVTpP4vXSr8fnbiwLMPwBPTxt3dhUp1RcuKNjipUhrTWrZ/mijrxx8Nv0g933e32hAxBrqtrpKbTcCI1z3ffPL6U9e11z9Bai+yG1sATfvAAAAAElFTkSuQmCC'); background-size: cover; height: 16px; width: 16px}</style><table><tr><td><div class=\"certo\"/></td><td style=\"text-align:left;\"><b><mark style=\"background-color:#ffff40;padding-left:0px;padding-right:0px\">(61)3316-0000</mark></b>\n",
              "</pre></td></tr><tr><td><div class=\"certo\"/></td><td style=\"text-align:left;\"><div style=\"color:#808080\">3316-0000\n",
              "&#9;(sem ocorrências)</div></td></tr>\n",
              "<tr><td><div class=\"certo\"/></td><td style=\"text-align:left;\"><div style=\"color:#808080\">x61x3316x0000\n",
              "&#9;(sem ocorrências)</div></td></tr>\n",
              "<tr><td><div class=\"certo\"/></td><td style=\"text-align:left;\"><div style=\"color:#808080\">(61)3316x0000\n",
              "&#9;(sem ocorrências)</div></td></tr>\n",
              "<tr><td><div class=\"certo\"/></td><td style=\"text-align:left;\"><div style=\"color:#808080\">((61)3316-00006\n",
              "&#9;(sem ocorrências)</div></td></tr>\n",
              "<tr><td><div class=\"certo\"/></td><td style=\"text-align:left;\"><div style=\"color:#808080\">77(61)3316x000077\n",
              "&#9;(sem ocorrências)</div></td></tr>\n",
              "<tr><td><div class=\"certo\"/></td><td style=\"text-align:left;\"><div style=\"color:#808080\">(77)(61)3316-00007&#9;(sem ocorrências)</div></td></tr></table>"
            ],
            "text/plain": [
              "<IPython.core.display.HTML object>"
            ]
          },
          "metadata": {
            "tags": []
          }
        }
      ]
    },
    {
      "cell_type": "markdown",
      "metadata": {
        "azdata_cell_guid": "4e611973-d21b-40d9-aabb-b2a30f797144",
        "id": "UeYGOfh7tNpG"
      },
      "source": [
        "Uma linha contendo exatamente um telefone no formato (xx)xxxx-xxxx ou xxxx-xxxx (sem DDD)."
      ]
    },
    {
      "cell_type": "code",
      "metadata": {
        "azdata_cell_guid": "2573e1d5-0ae9-476a-8418-6e51c8aa24e6",
        "id": "QMqsb3lPtNpG",
        "colab": {
          "base_uri": "https://localhost:8080/",
          "height": 166
        },
        "outputId": "2b55c8d1-b820-4bff-a611-a1c85d2d1553"
      },
      "source": [
        "exercicio(22, r'^\\(\\d{2}\\)\\d{4}\\-\\d{4}|^\\d{4}\\-\\d{4}')"
      ],
      "execution_count": 96,
      "outputs": [
        {
          "output_type": "display_data",
          "data": {
            "text/html": [
              "<style>.certo {background-image: url('data:image/png;base64,iVBORw0KGgoAAAANSUhEUgAAABAAAAAQCAYAAAAf8/9hAAAABHNCSVQICAgIfAhkiAAAAAlwSFlzAAALEwAACxMBAJqcGAAAAgBJREFUOI2lkz1oU1EUx3/nvpcmNqWlNIoKFkFsXKrSOCkoDi6iVOwgCEWLiyBaTKuLdhP8ACkoig5iqoM4SDGDq2uLxUHFptWhHQTF1gzlNc27ufc6tHk0NMTBs917zu9/vu6F/zSpd7lvcnC/VeqUCF1Y61Aya8WOf8k8+NRQIDOVTYXGjImnjtdN51y+omXg68HRPxsEMlPZlHaVj4i3o1HJ1rk5iSd6Pu+9UwRQVceK1m/+BQMokZ2USq+jM0DPxFDGi/mHG4EnWjM0q/hq2Z461v3hanckEOrycCN4oP0o2S0nub31LLLWtQv1UCTglPRUg5MqHmWqwv0dR6hYw6v59zhc1XUAwAcQZxMALSrBvW39WGe5/vMlZ9oORfBIYYwJNYesjc06NkUCzthFoDNuPFpJsL25g1znJVJ+Wy3sRzNHtF2IWjAr5h3AIgGXC0/4UVog5behbYWb0zkmvFoYwJZ0PhIgKI1WgrJBoNiiuVJ4ynzwi5HpF0z684hXC+ulsl4uh49g3UNK5y/caNqcvCUxDxy4pTIkYxtgFxrC38HwTO+z+zUCOKQrf/5xrD150WtuqrtOE4SY4vLDQu/zQWR1HRs+U3r8XJ943l2VbNolvkIQrDboQH8TY67Nns69XR9f9zfikD3j/budeGlx4sS6mem+3Pdq1vX2FyOryD82RGIbAAAAAElFTkSuQmCC'); background-size: cover; height: 16px; width: 16px}.errado {background-image: url('data:image/png;base64,iVBORw0KGgoAAAANSUhEUgAAABAAAAAQCAYAAAAf8/9hAAAABHNCSVQICAgIfAhkiAAAAAlwSFlzAAALEwAACxMBAJqcGAAAAjNJREFUOI2lk01IVFEYhp9zznUcnUnH/Bk3WhCVFEFZbiwUAxeZlCJFWERBgZsIqRatWhuRi0BtFS1bSGQYlBLISD8EgbWwv0VFxlijThOpd+6ce1o49zrh4KZ3+XHe53u/j+/Af0rkK35ra9ythOgwmG0gDYIPUnC/+uHkm3UBM+3NFZC5KxFt+cCuNiNa67O1T17MrwHMtDdX4DqvpZQ160XOGPPZRdRvGp1cAJA+PeMMe2ZRXrl21mzNEmKzMPqeV5cAXw4f2GtZsgmAso2o60PIjhOr5s5uVN8glEQAKJCq9evRpl0AFkDGsS8HAoUrEecSzN8ZJNrTC1JiDFhdJ4kP3CCSXEDJlamdJfsScMYCcJH1XjdLSkITj/mhLKrOXwBg9nY/G2LjKKVWUxn2+QkMBHPnLVQKK1QMxgAQKQ4hc8wArqTIB2jXnQNqffqR4wSPnSY+1A9AdU8vGcvCjA77gLR2Ez5gydGPIkH2ALilEaxDncQHbxKOjQEQBypPnUPHxpGpXwD8yaRHIHsHYw115TWl4dnSYFC5xvBTKMq0QyAb29aapApQZTRCQMpOO9/TdlXLxFRSArS+ejeXWLSv2VojhSCK65u9nURZMS9rTWJx+WrLxFTST5BdpIjt3zEQDYV7SgIB8imVTpP4vXSr8fnbiwLMPwBPTxt3dhUp1RcuKNjipUhrTWrZ/mijrxx8Nv0g933e32hAxBrqtrpKbTcCI1z3ffPL6U9e11z9Bai+yG1sATfvAAAAAElFTkSuQmCC'); background-size: cover; height: 16px; width: 16px}</style><table><tr><td><div class=\"certo\"/></td><td style=\"text-align:left;\"><b><mark style=\"background-color:#ffff40;padding-left:0px;padding-right:0px\">(61)3316-0000</mark></b>\n",
              "</pre></td></tr>\n",
              "<tr><td><div class=\"certo\"/></td><td style=\"text-align:left;\"><b><mark style=\"background-color:#ffff40;padding-left:0px;padding-right:0px\">3316-0000</mark></b>\n",
              "</pre></td></tr><tr><td><div class=\"certo\"/></td><td style=\"text-align:left;\"><div style=\"color:#808080\">x61x3316x0000\n",
              "&#9;(sem ocorrências)</div></td></tr>\n",
              "<tr><td><div class=\"certo\"/></td><td style=\"text-align:left;\"><div style=\"color:#808080\">(61)3316x0000\n",
              "&#9;(sem ocorrências)</div></td></tr>\n",
              "<tr><td><div class=\"certo\"/></td><td style=\"text-align:left;\"><div style=\"color:#808080\">((61)3316-00006\n",
              "&#9;(sem ocorrências)</div></td></tr>\n",
              "<tr><td><div class=\"certo\"/></td><td style=\"text-align:left;\"><div style=\"color:#808080\">77(61)3316x000077\n",
              "&#9;(sem ocorrências)</div></td></tr>\n",
              "<tr><td><div class=\"certo\"/></td><td style=\"text-align:left;\"><div style=\"color:#808080\">(77)(61)3316-00007&#9;(sem ocorrências)</div></td></tr></table>"
            ],
            "text/plain": [
              "<IPython.core.display.HTML object>"
            ]
          },
          "metadata": {
            "tags": []
          }
        }
      ]
    },
    {
      "cell_type": "markdown",
      "metadata": {
        "id": "s38Zh8I4t7UM"
      },
      "source": [
        "# JSON\n",
        "\n",
        "Usando a API do Banco Central, descrita em https://www.bcb.gov.br/conteudo/dadosabertos/BCBDepin/gnastportal-dados-abertostaxas-de-cambio---todos-os-boletins-diarios.pdf, escreva uma função que apresente ao usuário as moedas disponíveis para cotação, peça a ele que escolha uma ou mais, peça que o usuário escolha uma data inicial e uma data final, obtenha as cotações para as moedas selecionadas no período, armazene num dataframe e ao final salve o dataframe no disco usando o Pickle."
      ]
    },
    {
      "cell_type": "markdown",
      "metadata": {
        "id": "pxYd-2uq9LUv"
      },
      "source": [
        "# HTML, JSON e REGEX\n",
        "\n",
        "Crie um extrator de contratos a partir da seção 3 do Diário Oficial da União, obtendo as informações da página (link e texto) e por meio de expressões regulares extraia o nome do contratante, CNPJ e nome do contratado. Coloque o resultado num dataframe e salve em disco com o Pickle."
      ]
    }
  ]
}